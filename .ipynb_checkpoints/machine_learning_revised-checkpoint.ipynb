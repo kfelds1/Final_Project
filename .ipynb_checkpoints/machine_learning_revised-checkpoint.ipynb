{
 "cells": [
  {
   "cell_type": "markdown",
   "metadata": {
    "id": "w1gOBOgVloBj"
   },
   "source": [
    "# Graduation Rates among postsecondary education students in the U.S: \n",
    "\n",
    "We are interested in learning about what exactly affects an undergraduate student’s likelihood to complete college. Particularly, we are observing a student’s financial aid,  received to discover whether or not these variables have a significant impact on graduation rates. The goal is to use our data analysis skills to determine the extent that these factors affect the percentage of students who graduate within 100% of normal time for that specific institution.\n",
    "\n",
    "For this machine learning model, use Linear Regression as a baseline, and test the training data against the x variables."
   ]
  },
  {
   "cell_type": "code",
   "execution_count": 1,
   "metadata": {
    "id": "UtlgMY-QloBq"
   },
   "outputs": [],
   "source": [
    "import warnings\n",
    "warnings.filterwarnings('ignore')"
   ]
  },
  {
   "cell_type": "code",
   "execution_count": 2,
   "metadata": {
    "colab": {
     "base_uri": "https://localhost:8080/",
     "height": 34
    },
    "id": "7Rjpq1sAloBu",
    "outputId": "877d2ad7-7243-4b28-b8a5-2adcec061f82"
   },
   "outputs": [
    {
     "data": {
      "text/plain": [
       "<Figure size 5000x480 with 0 Axes>"
      ]
     },
     "metadata": {},
     "output_type": "display_data"
    }
   ],
   "source": [
    "# Importing libraries\n",
    "import pandas as pd \n",
    "import numpy as np\n",
    "import seaborn as sns\n",
    "from sklearn.linear_model import LinearRegression\n",
    "#from sklearn import linear_model\n",
    "from sklearn.model_selection import train_test_split\n",
    "from sklearn.metrics import balanced_accuracy_score\n",
    "from sklearn.preprocessing import MinMaxScaler\n",
    "from sklearn.preprocessing import StandardScaler,OneHotEncoder\n",
    "from sklearn.metrics import confusion_matrix\n",
    "\n",
    "import matplotlib.pyplot as plt\n",
    "\n",
    "plt.figure().set_figwidth(50)"
   ]
  },
  {
   "cell_type": "code",
   "execution_count": 3,
   "metadata": {
    "colab": {
     "base_uri": "https://localhost:8080/",
     "height": 577
    },
    "id": "p3yvuMRYloBw",
    "outputId": "8eb384a9-832f-40e3-bc54-ae13af1a8907"
   },
   "outputs": [
    {
     "data": {
      "text/html": [
       "<div>\n",
       "<style scoped>\n",
       "    .dataframe tbody tr th:only-of-type {\n",
       "        vertical-align: middle;\n",
       "    }\n",
       "\n",
       "    .dataframe tbody tr th {\n",
       "        vertical-align: top;\n",
       "    }\n",
       "\n",
       "    .dataframe thead th {\n",
       "        text-align: right;\n",
       "    }\n",
       "</style>\n",
       "<table border=\"1\" class=\"dataframe\">\n",
       "  <thead>\n",
       "    <tr style=\"text-align: right;\">\n",
       "      <th></th>\n",
       "      <th>index</th>\n",
       "      <th>unitid</th>\n",
       "      <th>chronname</th>\n",
       "      <th>city</th>\n",
       "      <th>state</th>\n",
       "      <th>level</th>\n",
       "      <th>control</th>\n",
       "      <th>basic</th>\n",
       "      <th>hbcu</th>\n",
       "      <th>flagship</th>\n",
       "      <th>...</th>\n",
       "      <th>vsa_grad_after6_transfer</th>\n",
       "      <th>vsa_grad_elsewhere_after6_transfer</th>\n",
       "      <th>vsa_enroll_after6_transfer</th>\n",
       "      <th>vsa_enroll_elsewhere_after6_transfer</th>\n",
       "      <th>similar</th>\n",
       "      <th>state_sector_ct</th>\n",
       "      <th>carnegie_ct</th>\n",
       "      <th>counted_pct</th>\n",
       "      <th>nicknames</th>\n",
       "      <th>cohort_size</th>\n",
       "    </tr>\n",
       "  </thead>\n",
       "  <tbody>\n",
       "    <tr>\n",
       "      <th>0</th>\n",
       "      <td>0</td>\n",
       "      <td>100654</td>\n",
       "      <td>Alabama A&amp;M University</td>\n",
       "      <td>Normal</td>\n",
       "      <td>Alabama</td>\n",
       "      <td>4-year</td>\n",
       "      <td>Public</td>\n",
       "      <td>Masters Colleges and Universities--larger prog...</td>\n",
       "      <td>X</td>\n",
       "      <td>NaN</td>\n",
       "      <td>...</td>\n",
       "      <td>36.4</td>\n",
       "      <td>5.6</td>\n",
       "      <td>17.2</td>\n",
       "      <td>11.1</td>\n",
       "      <td>232937|100724|405997|113607|139533|144005|2285...</td>\n",
       "      <td>13</td>\n",
       "      <td>386</td>\n",
       "      <td>99.7|07</td>\n",
       "      <td>NaN</td>\n",
       "      <td>882.0</td>\n",
       "    </tr>\n",
       "    <tr>\n",
       "      <th>1</th>\n",
       "      <td>1</td>\n",
       "      <td>100663</td>\n",
       "      <td>University of Alabama at Birmingham</td>\n",
       "      <td>Birmingham</td>\n",
       "      <td>Alabama</td>\n",
       "      <td>4-year</td>\n",
       "      <td>Public</td>\n",
       "      <td>Research Universities--very high research acti...</td>\n",
       "      <td>NaN</td>\n",
       "      <td>NaN</td>\n",
       "      <td>...</td>\n",
       "      <td>NaN</td>\n",
       "      <td>NaN</td>\n",
       "      <td>NaN</td>\n",
       "      <td>NaN</td>\n",
       "      <td>196060|180461|201885|145600|209542|236939|1268...</td>\n",
       "      <td>13</td>\n",
       "      <td>106</td>\n",
       "      <td>56.0|07</td>\n",
       "      <td>UAB</td>\n",
       "      <td>1376.0</td>\n",
       "    </tr>\n",
       "    <tr>\n",
       "      <th>2</th>\n",
       "      <td>2</td>\n",
       "      <td>100690</td>\n",
       "      <td>Amridge University</td>\n",
       "      <td>Montgomery</td>\n",
       "      <td>Alabama</td>\n",
       "      <td>4-year</td>\n",
       "      <td>Private not-for-profit</td>\n",
       "      <td>Baccalaureate Colleges--Arts &amp; Sciences</td>\n",
       "      <td>NaN</td>\n",
       "      <td>NaN</td>\n",
       "      <td>...</td>\n",
       "      <td>NaN</td>\n",
       "      <td>NaN</td>\n",
       "      <td>NaN</td>\n",
       "      <td>NaN</td>\n",
       "      <td>217925|441511|205124|247825|197647|221856|1353...</td>\n",
       "      <td>16</td>\n",
       "      <td>252</td>\n",
       "      <td>100.0|07</td>\n",
       "      <td>NaN</td>\n",
       "      <td>3.0</td>\n",
       "    </tr>\n",
       "    <tr>\n",
       "      <th>3</th>\n",
       "      <td>3</td>\n",
       "      <td>100706</td>\n",
       "      <td>University of Alabama at Huntsville</td>\n",
       "      <td>Huntsville</td>\n",
       "      <td>Alabama</td>\n",
       "      <td>4-year</td>\n",
       "      <td>Public</td>\n",
       "      <td>Research Universities--very high research acti...</td>\n",
       "      <td>NaN</td>\n",
       "      <td>NaN</td>\n",
       "      <td>...</td>\n",
       "      <td>0.0</td>\n",
       "      <td>0.0</td>\n",
       "      <td>0.0</td>\n",
       "      <td>0.0</td>\n",
       "      <td>232186|133881|196103|196413|207388|171128|1900...</td>\n",
       "      <td>13</td>\n",
       "      <td>106</td>\n",
       "      <td>43.1|07</td>\n",
       "      <td>UAH</td>\n",
       "      <td>759.0</td>\n",
       "    </tr>\n",
       "    <tr>\n",
       "      <th>4</th>\n",
       "      <td>4</td>\n",
       "      <td>100724</td>\n",
       "      <td>Alabama State University</td>\n",
       "      <td>Montgomery</td>\n",
       "      <td>Alabama</td>\n",
       "      <td>4-year</td>\n",
       "      <td>Public</td>\n",
       "      <td>Masters Colleges and Universities--larger prog...</td>\n",
       "      <td>X</td>\n",
       "      <td>NaN</td>\n",
       "      <td>...</td>\n",
       "      <td>NaN</td>\n",
       "      <td>NaN</td>\n",
       "      <td>NaN</td>\n",
       "      <td>NaN</td>\n",
       "      <td>100654|232937|242617|243197|144005|241739|2354...</td>\n",
       "      <td>13</td>\n",
       "      <td>386</td>\n",
       "      <td>88.0|07</td>\n",
       "      <td>ASU</td>\n",
       "      <td>1351.0</td>\n",
       "    </tr>\n",
       "  </tbody>\n",
       "</table>\n",
       "<p>5 rows × 63 columns</p>\n",
       "</div>"
      ],
      "text/plain": [
       "   index  unitid                            chronname        city    state  \\\n",
       "0      0  100654               Alabama A&M University      Normal  Alabama   \n",
       "1      1  100663  University of Alabama at Birmingham  Birmingham  Alabama   \n",
       "2      2  100690                   Amridge University  Montgomery  Alabama   \n",
       "3      3  100706  University of Alabama at Huntsville  Huntsville  Alabama   \n",
       "4      4  100724             Alabama State University  Montgomery  Alabama   \n",
       "\n",
       "    level                 control  \\\n",
       "0  4-year                  Public   \n",
       "1  4-year                  Public   \n",
       "2  4-year  Private not-for-profit   \n",
       "3  4-year                  Public   \n",
       "4  4-year                  Public   \n",
       "\n",
       "                                               basic hbcu flagship  ...  \\\n",
       "0  Masters Colleges and Universities--larger prog...    X      NaN  ...   \n",
       "1  Research Universities--very high research acti...  NaN      NaN  ...   \n",
       "2            Baccalaureate Colleges--Arts & Sciences  NaN      NaN  ...   \n",
       "3  Research Universities--very high research acti...  NaN      NaN  ...   \n",
       "4  Masters Colleges and Universities--larger prog...    X      NaN  ...   \n",
       "\n",
       "   vsa_grad_after6_transfer  vsa_grad_elsewhere_after6_transfer  \\\n",
       "0                      36.4                                 5.6   \n",
       "1                       NaN                                 NaN   \n",
       "2                       NaN                                 NaN   \n",
       "3                       0.0                                 0.0   \n",
       "4                       NaN                                 NaN   \n",
       "\n",
       "  vsa_enroll_after6_transfer  vsa_enroll_elsewhere_after6_transfer  \\\n",
       "0                       17.2                                  11.1   \n",
       "1                        NaN                                   NaN   \n",
       "2                        NaN                                   NaN   \n",
       "3                        0.0                                   0.0   \n",
       "4                        NaN                                   NaN   \n",
       "\n",
       "                                             similar  state_sector_ct  \\\n",
       "0  232937|100724|405997|113607|139533|144005|2285...               13   \n",
       "1  196060|180461|201885|145600|209542|236939|1268...               13   \n",
       "2  217925|441511|205124|247825|197647|221856|1353...               16   \n",
       "3  232186|133881|196103|196413|207388|171128|1900...               13   \n",
       "4  100654|232937|242617|243197|144005|241739|2354...               13   \n",
       "\n",
       "   carnegie_ct  counted_pct  nicknames  cohort_size  \n",
       "0          386      99.7|07        NaN        882.0  \n",
       "1          106      56.0|07        UAB       1376.0  \n",
       "2          252     100.0|07        NaN          3.0  \n",
       "3          106      43.1|07        UAH        759.0  \n",
       "4          386      88.0|07        ASU       1351.0  \n",
       "\n",
       "[5 rows x 63 columns]"
      ]
     },
     "execution_count": 3,
     "metadata": {},
     "output_type": "execute_result"
    }
   ],
   "source": [
    "data_1 = pd.read_csv(\"cc_institution_details.csv\")\n",
    "\n",
    "data_1.head()"
   ]
  },
  {
   "cell_type": "code",
   "execution_count": 4,
   "metadata": {
    "colab": {
     "base_uri": "https://localhost:8080/"
    },
    "id": "mX7jiMz9loBx",
    "outputId": "98ef6338-3bf0-4c6e-b7d1-b7222bc50579"
   },
   "outputs": [
    {
     "data": {
      "text/plain": [
       "Index(['index', 'unitid', 'chronname', 'city', 'state', 'level', 'control',\n",
       "       'basic', 'hbcu', 'flagship', 'long_x', 'lat_y', 'site', 'student_count',\n",
       "       'awards_per_value', 'awards_per_state_value', 'awards_per_natl_value',\n",
       "       'exp_award_value', 'exp_award_state_value', 'exp_award_natl_value',\n",
       "       'exp_award_percentile', 'ft_pct', 'fte_value', 'fte_percentile',\n",
       "       'med_sat_value', 'med_sat_percentile', 'aid_value', 'aid_percentile',\n",
       "       'endow_value', 'endow_percentile', 'grad_100_value',\n",
       "       'grad_100_percentile', 'grad_150_value', 'grad_150_percentile',\n",
       "       'pell_value', 'pell_percentile', 'retain_value', 'retain_percentile',\n",
       "       'ft_fac_value', 'ft_fac_percentile', 'vsa_year',\n",
       "       'vsa_grad_after4_first', 'vsa_grad_elsewhere_after4_first',\n",
       "       'vsa_enroll_after4_first', 'vsa_enroll_elsewhere_after4_first',\n",
       "       'vsa_grad_after6_first', 'vsa_grad_elsewhere_after6_first',\n",
       "       'vsa_enroll_after6_first', 'vsa_enroll_elsewhere_after6_first',\n",
       "       'vsa_grad_after4_transfer', 'vsa_grad_elsewhere_after4_transfer',\n",
       "       'vsa_enroll_after4_transfer', 'vsa_enroll_elsewhere_after4_transfer',\n",
       "       'vsa_grad_after6_transfer', 'vsa_grad_elsewhere_after6_transfer',\n",
       "       'vsa_enroll_after6_transfer', 'vsa_enroll_elsewhere_after6_transfer',\n",
       "       'similar', 'state_sector_ct', 'carnegie_ct', 'counted_pct', 'nicknames',\n",
       "       'cohort_size'],\n",
       "      dtype='object')"
      ]
     },
     "execution_count": 4,
     "metadata": {},
     "output_type": "execute_result"
    }
   ],
   "source": [
    "data_1.columns"
   ]
  },
  {
   "cell_type": "code",
   "execution_count": 5,
   "metadata": {
    "id": "L5X9SMLYET_V"
   },
   "outputs": [],
   "source": [
    "data_2 = pd.read_csv(\"cc_institution_grads.csv\")"
   ]
  },
  {
   "cell_type": "code",
   "execution_count": 6,
   "metadata": {
    "colab": {
     "base_uri": "https://localhost:8080/",
     "height": 206
    },
    "id": "UIETPRcBEUPD",
    "outputId": "fbfad510-bb60-46c1-c070-df0ee0b756c7"
   },
   "outputs": [
    {
     "data": {
      "text/html": [
       "<div>\n",
       "<style scoped>\n",
       "    .dataframe tbody tr th:only-of-type {\n",
       "        vertical-align: middle;\n",
       "    }\n",
       "\n",
       "    .dataframe tbody tr th {\n",
       "        vertical-align: top;\n",
       "    }\n",
       "\n",
       "    .dataframe thead th {\n",
       "        text-align: right;\n",
       "    }\n",
       "</style>\n",
       "<table border=\"1\" class=\"dataframe\">\n",
       "  <thead>\n",
       "    <tr style=\"text-align: right;\">\n",
       "      <th></th>\n",
       "      <th>index</th>\n",
       "      <th>unitid</th>\n",
       "      <th>year</th>\n",
       "      <th>gender</th>\n",
       "      <th>race</th>\n",
       "      <th>cohort</th>\n",
       "      <th>grad_cohort</th>\n",
       "      <th>grad_100</th>\n",
       "      <th>grad_150</th>\n",
       "      <th>grad_100_rate</th>\n",
       "      <th>grad_150_rate</th>\n",
       "    </tr>\n",
       "  </thead>\n",
       "  <tbody>\n",
       "    <tr>\n",
       "      <th>0</th>\n",
       "      <td>0</td>\n",
       "      <td>100760</td>\n",
       "      <td>2011</td>\n",
       "      <td>B</td>\n",
       "      <td>X</td>\n",
       "      <td>2y all</td>\n",
       "      <td>446.0</td>\n",
       "      <td>73.0</td>\n",
       "      <td>105.0</td>\n",
       "      <td>16.4</td>\n",
       "      <td>23.5</td>\n",
       "    </tr>\n",
       "    <tr>\n",
       "      <th>1</th>\n",
       "      <td>1</td>\n",
       "      <td>100760</td>\n",
       "      <td>2011</td>\n",
       "      <td>M</td>\n",
       "      <td>X</td>\n",
       "      <td>2y all</td>\n",
       "      <td>185.0</td>\n",
       "      <td>NaN</td>\n",
       "      <td>40.0</td>\n",
       "      <td>NaN</td>\n",
       "      <td>21.6</td>\n",
       "    </tr>\n",
       "    <tr>\n",
       "      <th>2</th>\n",
       "      <td>2</td>\n",
       "      <td>100760</td>\n",
       "      <td>2011</td>\n",
       "      <td>F</td>\n",
       "      <td>X</td>\n",
       "      <td>2y all</td>\n",
       "      <td>261.0</td>\n",
       "      <td>NaN</td>\n",
       "      <td>65.0</td>\n",
       "      <td>NaN</td>\n",
       "      <td>24.9</td>\n",
       "    </tr>\n",
       "    <tr>\n",
       "      <th>3</th>\n",
       "      <td>3</td>\n",
       "      <td>100760</td>\n",
       "      <td>2011</td>\n",
       "      <td>B</td>\n",
       "      <td>W</td>\n",
       "      <td>2y all</td>\n",
       "      <td>348.0</td>\n",
       "      <td>NaN</td>\n",
       "      <td>86.0</td>\n",
       "      <td>NaN</td>\n",
       "      <td>24.7</td>\n",
       "    </tr>\n",
       "    <tr>\n",
       "      <th>4</th>\n",
       "      <td>4</td>\n",
       "      <td>100760</td>\n",
       "      <td>2011</td>\n",
       "      <td>M</td>\n",
       "      <td>W</td>\n",
       "      <td>2y all</td>\n",
       "      <td>162.0</td>\n",
       "      <td>NaN</td>\n",
       "      <td>35.0</td>\n",
       "      <td>NaN</td>\n",
       "      <td>21.6</td>\n",
       "    </tr>\n",
       "  </tbody>\n",
       "</table>\n",
       "</div>"
      ],
      "text/plain": [
       "   index  unitid  year gender race  cohort  grad_cohort  grad_100  grad_150  \\\n",
       "0      0  100760  2011      B    X  2y all        446.0      73.0     105.0   \n",
       "1      1  100760  2011      M    X  2y all        185.0       NaN      40.0   \n",
       "2      2  100760  2011      F    X  2y all        261.0       NaN      65.0   \n",
       "3      3  100760  2011      B    W  2y all        348.0       NaN      86.0   \n",
       "4      4  100760  2011      M    W  2y all        162.0       NaN      35.0   \n",
       "\n",
       "   grad_100_rate  grad_150_rate  \n",
       "0           16.4           23.5  \n",
       "1            NaN           21.6  \n",
       "2            NaN           24.9  \n",
       "3            NaN           24.7  \n",
       "4            NaN           21.6  "
      ]
     },
     "execution_count": 6,
     "metadata": {},
     "output_type": "execute_result"
    }
   ],
   "source": [
    "data_2.head()"
   ]
  },
  {
   "cell_type": "code",
   "execution_count": 7,
   "metadata": {
    "colab": {
     "base_uri": "https://localhost:8080/"
    },
    "id": "4ti9FePQEUTC",
    "outputId": "9d3f2433-4d84-40cd-ecda-51e0fb5479a4"
   },
   "outputs": [
    {
     "data": {
      "text/plain": [
       "(1302102, 11)"
      ]
     },
     "execution_count": 7,
     "metadata": {},
     "output_type": "execute_result"
    }
   ],
   "source": [
    "data_2.shape"
   ]
  },
  {
   "cell_type": "code",
   "execution_count": 8,
   "metadata": {
    "colab": {
     "base_uri": "https://localhost:8080/",
     "height": 424
    },
    "id": "K3rtswxVEUXI",
    "outputId": "ff1c810a-37d5-47e7-f585-bedaa0244bd9"
   },
   "outputs": [
    {
     "data": {
      "text/html": [
       "<div>\n",
       "<style scoped>\n",
       "    .dataframe tbody tr th:only-of-type {\n",
       "        vertical-align: middle;\n",
       "    }\n",
       "\n",
       "    .dataframe tbody tr th {\n",
       "        vertical-align: top;\n",
       "    }\n",
       "\n",
       "    .dataframe thead th {\n",
       "        text-align: right;\n",
       "    }\n",
       "</style>\n",
       "<table border=\"1\" class=\"dataframe\">\n",
       "  <thead>\n",
       "    <tr style=\"text-align: right;\">\n",
       "      <th></th>\n",
       "      <th>unitid</th>\n",
       "      <th>gender</th>\n",
       "      <th>race</th>\n",
       "    </tr>\n",
       "  </thead>\n",
       "  <tbody>\n",
       "    <tr>\n",
       "      <th>0</th>\n",
       "      <td>100760</td>\n",
       "      <td>B</td>\n",
       "      <td>X</td>\n",
       "    </tr>\n",
       "    <tr>\n",
       "      <th>1</th>\n",
       "      <td>100760</td>\n",
       "      <td>M</td>\n",
       "      <td>X</td>\n",
       "    </tr>\n",
       "    <tr>\n",
       "      <th>2</th>\n",
       "      <td>100760</td>\n",
       "      <td>F</td>\n",
       "      <td>X</td>\n",
       "    </tr>\n",
       "    <tr>\n",
       "      <th>3</th>\n",
       "      <td>100760</td>\n",
       "      <td>B</td>\n",
       "      <td>W</td>\n",
       "    </tr>\n",
       "    <tr>\n",
       "      <th>4</th>\n",
       "      <td>100760</td>\n",
       "      <td>M</td>\n",
       "      <td>W</td>\n",
       "    </tr>\n",
       "    <tr>\n",
       "      <th>...</th>\n",
       "      <td>...</td>\n",
       "      <td>...</td>\n",
       "      <td>...</td>\n",
       "    </tr>\n",
       "    <tr>\n",
       "      <th>1302097</th>\n",
       "      <td>168591</td>\n",
       "      <td>F</td>\n",
       "      <td>Ai</td>\n",
       "    </tr>\n",
       "    <tr>\n",
       "      <th>1302098</th>\n",
       "      <td>168740</td>\n",
       "      <td>F</td>\n",
       "      <td>Ai</td>\n",
       "    </tr>\n",
       "    <tr>\n",
       "      <th>1302099</th>\n",
       "      <td>169716</td>\n",
       "      <td>F</td>\n",
       "      <td>Ai</td>\n",
       "    </tr>\n",
       "    <tr>\n",
       "      <th>1302100</th>\n",
       "      <td>170082</td>\n",
       "      <td>F</td>\n",
       "      <td>Ai</td>\n",
       "    </tr>\n",
       "    <tr>\n",
       "      <th>1302101</th>\n",
       "      <td>170091</td>\n",
       "      <td>F</td>\n",
       "      <td>Ai</td>\n",
       "    </tr>\n",
       "  </tbody>\n",
       "</table>\n",
       "<p>1302102 rows × 3 columns</p>\n",
       "</div>"
      ],
      "text/plain": [
       "         unitid gender race\n",
       "0        100760      B    X\n",
       "1        100760      M    X\n",
       "2        100760      F    X\n",
       "3        100760      B    W\n",
       "4        100760      M    W\n",
       "...         ...    ...  ...\n",
       "1302097  168591      F   Ai\n",
       "1302098  168740      F   Ai\n",
       "1302099  169716      F   Ai\n",
       "1302100  170082      F   Ai\n",
       "1302101  170091      F   Ai\n",
       "\n",
       "[1302102 rows x 3 columns]"
      ]
     },
     "execution_count": 8,
     "metadata": {},
     "output_type": "execute_result"
    }
   ],
   "source": [
    "# Select the needed column which are gender and race column\n",
    "columns = ['unitid', 'gender', 'race']\n",
    "data_2 = data_2[columns]\n",
    "\n",
    "data_2"
   ]
  },
  {
   "cell_type": "code",
   "execution_count": 9,
   "metadata": {
    "id": "yUWIRRdZ86sz"
   },
   "outputs": [],
   "source": [
    "# Now, let's drop anywhere gender equals \"B\" and race equals \"X\"."
   ]
  },
  {
   "cell_type": "code",
   "execution_count": 10,
   "metadata": {
    "colab": {
     "base_uri": "https://localhost:8080/"
    },
    "id": "YFwg9qaN86s0",
    "outputId": "4b0f85c8-fef9-4186-9851-51c3e82cb891"
   },
   "outputs": [
    {
     "data": {
      "text/plain": [
       "(578712, 3)"
      ]
     },
     "execution_count": 10,
     "metadata": {},
     "output_type": "execute_result"
    }
   ],
   "source": [
    "# Search where gender = 'B' or race = 'X'\n",
    "gender_race = data_2[(data_2['gender'] == 'B') | (data_2['race'] == 'X')]\n",
    "gender_race.shape"
   ]
  },
  {
   "cell_type": "code",
   "execution_count": 11,
   "metadata": {
    "id": "V5ShHTyc86s0"
   },
   "outputs": [],
   "source": [
    "# There are 578,712 occurences where gender appears as both Female and Male due to error in data entry and where race appears as all race, X."
   ]
  },
  {
   "cell_type": "code",
   "execution_count": 12,
   "metadata": {
    "id": "neVnQzEx86s0"
   },
   "outputs": [],
   "source": [
    "# Drop occurences\n",
    "data_2 = data_2.drop(gender_race.index)"
   ]
  },
  {
   "cell_type": "code",
   "execution_count": 13,
   "metadata": {
    "colab": {
     "base_uri": "https://localhost:8080/"
    },
    "id": "2OIxAhHi86s0",
    "outputId": "3b283753-0c65-4ae5-fa17-b4817ec3e6f8"
   },
   "outputs": [
    {
     "data": {
      "text/plain": [
       "(723390, 3)"
      ]
     },
     "execution_count": 13,
     "metadata": {},
     "output_type": "execute_result"
    }
   ],
   "source": [
    "# Check the shape of data_2\n",
    "data_2.shape"
   ]
  },
  {
   "cell_type": "code",
   "execution_count": 14,
   "metadata": {
    "colab": {
     "base_uri": "https://localhost:8080/"
    },
    "id": "n8P6RN3d86s0",
    "outputId": "848df057-b362-4dd7-e817-bf856fbf247f"
   },
   "outputs": [
    {
     "data": {
      "text/plain": [
       "unitid    0\n",
       "gender    0\n",
       "race      0\n",
       "dtype: int64"
      ]
     },
     "execution_count": 14,
     "metadata": {},
     "output_type": "execute_result"
    }
   ],
   "source": [
    "# Confirm if all the occurence where gender = B is gone and where race = X is no more in the dataset\n",
    "\n",
    "# Query the dataframe where gender equals B\n",
    "data_2[data_2['gender'] == 'B'].count()"
   ]
  },
  {
   "cell_type": "code",
   "execution_count": 15,
   "metadata": {
    "colab": {
     "base_uri": "https://localhost:8080/"
    },
    "id": "RIaOThs286s1",
    "outputId": "b1dd5b83-0704-498f-f166-bddf9961cccb"
   },
   "outputs": [
    {
     "data": {
      "text/plain": [
       "unitid    0\n",
       "gender    0\n",
       "race      0\n",
       "dtype: int64"
      ]
     },
     "execution_count": 15,
     "metadata": {},
     "output_type": "execute_result"
    }
   ],
   "source": [
    "# Query the dataframe where race equals X\n",
    "data_2[data_2['race'] == 'X'].count()"
   ]
  },
  {
   "cell_type": "code",
   "execution_count": 16,
   "metadata": {
    "id": "JltfccvQ86s1"
   },
   "outputs": [],
   "source": [
    "# we have confirmed that no existence where gender appears to be both and race appears to be all in the dataset. We can now proceed to combining the datasets."
   ]
  },
  {
   "cell_type": "markdown",
   "metadata": {
    "id": "bJDrUOWk7ECg"
   },
   "source": [
    "### Combine the Dataset"
   ]
  },
  {
   "cell_type": "code",
   "execution_count": 17,
   "metadata": {
    "id": "C-CNqruSEUeC"
   },
   "outputs": [],
   "source": [
    "# Combining the two dataframe (data_1 and data_2)\n",
    "\n",
    "# Taking the intersection of the two dataframes\n",
    "\n",
    "df = data_1.merge(data_2, on = 'unitid', how = 'inner')"
   ]
  },
  {
   "cell_type": "code",
   "execution_count": 18,
   "metadata": {
    "colab": {
     "base_uri": "https://localhost:8080/",
     "height": 734
    },
    "id": "wqujleuN9Y2l",
    "outputId": "9cfecdc6-f12b-45ef-bce7-c130dfc2875a"
   },
   "outputs": [
    {
     "data": {
      "text/html": [
       "<div>\n",
       "<style scoped>\n",
       "    .dataframe tbody tr th:only-of-type {\n",
       "        vertical-align: middle;\n",
       "    }\n",
       "\n",
       "    .dataframe tbody tr th {\n",
       "        vertical-align: top;\n",
       "    }\n",
       "\n",
       "    .dataframe thead th {\n",
       "        text-align: right;\n",
       "    }\n",
       "</style>\n",
       "<table border=\"1\" class=\"dataframe\">\n",
       "  <thead>\n",
       "    <tr style=\"text-align: right;\">\n",
       "      <th></th>\n",
       "      <th>index</th>\n",
       "      <th>unitid</th>\n",
       "      <th>chronname</th>\n",
       "      <th>city</th>\n",
       "      <th>state</th>\n",
       "      <th>level</th>\n",
       "      <th>control</th>\n",
       "      <th>basic</th>\n",
       "      <th>hbcu</th>\n",
       "      <th>flagship</th>\n",
       "      <th>...</th>\n",
       "      <th>vsa_enroll_after6_transfer</th>\n",
       "      <th>vsa_enroll_elsewhere_after6_transfer</th>\n",
       "      <th>similar</th>\n",
       "      <th>state_sector_ct</th>\n",
       "      <th>carnegie_ct</th>\n",
       "      <th>counted_pct</th>\n",
       "      <th>nicknames</th>\n",
       "      <th>cohort_size</th>\n",
       "      <th>gender</th>\n",
       "      <th>race</th>\n",
       "    </tr>\n",
       "  </thead>\n",
       "  <tbody>\n",
       "    <tr>\n",
       "      <th>0</th>\n",
       "      <td>0</td>\n",
       "      <td>100654</td>\n",
       "      <td>Alabama A&amp;M University</td>\n",
       "      <td>Normal</td>\n",
       "      <td>Alabama</td>\n",
       "      <td>4-year</td>\n",
       "      <td>Public</td>\n",
       "      <td>Masters Colleges and Universities--larger prog...</td>\n",
       "      <td>X</td>\n",
       "      <td>NaN</td>\n",
       "      <td>...</td>\n",
       "      <td>17.2</td>\n",
       "      <td>11.1</td>\n",
       "      <td>232937|100724|405997|113607|139533|144005|2285...</td>\n",
       "      <td>13</td>\n",
       "      <td>386</td>\n",
       "      <td>99.7|07</td>\n",
       "      <td>NaN</td>\n",
       "      <td>882.0</td>\n",
       "      <td>M</td>\n",
       "      <td>W</td>\n",
       "    </tr>\n",
       "    <tr>\n",
       "      <th>1</th>\n",
       "      <td>0</td>\n",
       "      <td>100654</td>\n",
       "      <td>Alabama A&amp;M University</td>\n",
       "      <td>Normal</td>\n",
       "      <td>Alabama</td>\n",
       "      <td>4-year</td>\n",
       "      <td>Public</td>\n",
       "      <td>Masters Colleges and Universities--larger prog...</td>\n",
       "      <td>X</td>\n",
       "      <td>NaN</td>\n",
       "      <td>...</td>\n",
       "      <td>17.2</td>\n",
       "      <td>11.1</td>\n",
       "      <td>232937|100724|405997|113607|139533|144005|2285...</td>\n",
       "      <td>13</td>\n",
       "      <td>386</td>\n",
       "      <td>99.7|07</td>\n",
       "      <td>NaN</td>\n",
       "      <td>882.0</td>\n",
       "      <td>F</td>\n",
       "      <td>W</td>\n",
       "    </tr>\n",
       "    <tr>\n",
       "      <th>2</th>\n",
       "      <td>0</td>\n",
       "      <td>100654</td>\n",
       "      <td>Alabama A&amp;M University</td>\n",
       "      <td>Normal</td>\n",
       "      <td>Alabama</td>\n",
       "      <td>4-year</td>\n",
       "      <td>Public</td>\n",
       "      <td>Masters Colleges and Universities--larger prog...</td>\n",
       "      <td>X</td>\n",
       "      <td>NaN</td>\n",
       "      <td>...</td>\n",
       "      <td>17.2</td>\n",
       "      <td>11.1</td>\n",
       "      <td>232937|100724|405997|113607|139533|144005|2285...</td>\n",
       "      <td>13</td>\n",
       "      <td>386</td>\n",
       "      <td>99.7|07</td>\n",
       "      <td>NaN</td>\n",
       "      <td>882.0</td>\n",
       "      <td>M</td>\n",
       "      <td>B</td>\n",
       "    </tr>\n",
       "    <tr>\n",
       "      <th>3</th>\n",
       "      <td>0</td>\n",
       "      <td>100654</td>\n",
       "      <td>Alabama A&amp;M University</td>\n",
       "      <td>Normal</td>\n",
       "      <td>Alabama</td>\n",
       "      <td>4-year</td>\n",
       "      <td>Public</td>\n",
       "      <td>Masters Colleges and Universities--larger prog...</td>\n",
       "      <td>X</td>\n",
       "      <td>NaN</td>\n",
       "      <td>...</td>\n",
       "      <td>17.2</td>\n",
       "      <td>11.1</td>\n",
       "      <td>232937|100724|405997|113607|139533|144005|2285...</td>\n",
       "      <td>13</td>\n",
       "      <td>386</td>\n",
       "      <td>99.7|07</td>\n",
       "      <td>NaN</td>\n",
       "      <td>882.0</td>\n",
       "      <td>F</td>\n",
       "      <td>B</td>\n",
       "    </tr>\n",
       "    <tr>\n",
       "      <th>4</th>\n",
       "      <td>0</td>\n",
       "      <td>100654</td>\n",
       "      <td>Alabama A&amp;M University</td>\n",
       "      <td>Normal</td>\n",
       "      <td>Alabama</td>\n",
       "      <td>4-year</td>\n",
       "      <td>Public</td>\n",
       "      <td>Masters Colleges and Universities--larger prog...</td>\n",
       "      <td>X</td>\n",
       "      <td>NaN</td>\n",
       "      <td>...</td>\n",
       "      <td>17.2</td>\n",
       "      <td>11.1</td>\n",
       "      <td>232937|100724|405997|113607|139533|144005|2285...</td>\n",
       "      <td>13</td>\n",
       "      <td>386</td>\n",
       "      <td>99.7|07</td>\n",
       "      <td>NaN</td>\n",
       "      <td>882.0</td>\n",
       "      <td>M</td>\n",
       "      <td>H</td>\n",
       "    </tr>\n",
       "  </tbody>\n",
       "</table>\n",
       "<p>5 rows × 65 columns</p>\n",
       "</div>"
      ],
      "text/plain": [
       "   index  unitid               chronname    city    state   level control  \\\n",
       "0      0  100654  Alabama A&M University  Normal  Alabama  4-year  Public   \n",
       "1      0  100654  Alabama A&M University  Normal  Alabama  4-year  Public   \n",
       "2      0  100654  Alabama A&M University  Normal  Alabama  4-year  Public   \n",
       "3      0  100654  Alabama A&M University  Normal  Alabama  4-year  Public   \n",
       "4      0  100654  Alabama A&M University  Normal  Alabama  4-year  Public   \n",
       "\n",
       "                                               basic hbcu flagship  ...  \\\n",
       "0  Masters Colleges and Universities--larger prog...    X      NaN  ...   \n",
       "1  Masters Colleges and Universities--larger prog...    X      NaN  ...   \n",
       "2  Masters Colleges and Universities--larger prog...    X      NaN  ...   \n",
       "3  Masters Colleges and Universities--larger prog...    X      NaN  ...   \n",
       "4  Masters Colleges and Universities--larger prog...    X      NaN  ...   \n",
       "\n",
       "   vsa_enroll_after6_transfer  vsa_enroll_elsewhere_after6_transfer  \\\n",
       "0                        17.2                                  11.1   \n",
       "1                        17.2                                  11.1   \n",
       "2                        17.2                                  11.1   \n",
       "3                        17.2                                  11.1   \n",
       "4                        17.2                                  11.1   \n",
       "\n",
       "                                             similar  state_sector_ct  \\\n",
       "0  232937|100724|405997|113607|139533|144005|2285...               13   \n",
       "1  232937|100724|405997|113607|139533|144005|2285...               13   \n",
       "2  232937|100724|405997|113607|139533|144005|2285...               13   \n",
       "3  232937|100724|405997|113607|139533|144005|2285...               13   \n",
       "4  232937|100724|405997|113607|139533|144005|2285...               13   \n",
       "\n",
       "   carnegie_ct  counted_pct  nicknames  cohort_size  gender  race  \n",
       "0          386      99.7|07        NaN        882.0       M     W  \n",
       "1          386      99.7|07        NaN        882.0       F     W  \n",
       "2          386      99.7|07        NaN        882.0       M     B  \n",
       "3          386      99.7|07        NaN        882.0       F     B  \n",
       "4          386      99.7|07        NaN        882.0       M     H  \n",
       "\n",
       "[5 rows x 65 columns]"
      ]
     },
     "execution_count": 18,
     "metadata": {},
     "output_type": "execute_result"
    }
   ],
   "source": [
    "# Display the first 5 rows of the dataset\n",
    "df.head()"
   ]
  },
  {
   "cell_type": "markdown",
   "metadata": {
    "id": "q2SXnTRP-cBA"
   },
   "source": [
    "Now, we need to decide what columns you want to exclude...\n",
    "\n",
    "For example I dont think city or state will have an effect on the graduation rate. So we could exclude city, state, long and lat. \n",
    "Essentially anything related to location \n",
    "\n",
    "Columns we want to consider: school type, gender, race, funding, Cohort size or student count e.t.c. So we will drop unnecessary columns."
   ]
  },
  {
   "cell_type": "code",
   "execution_count": 19,
   "metadata": {
    "id": "JGh2yXxOloBy"
   },
   "outputs": [],
   "source": [
    "df = df[[\n",
    "        'index', \n",
    "        'level', \n",
    "        'control',\n",
    "         'gender', \n",
    "         'race',\n",
    "        'student_count',\n",
    "        'awards_per_value', \n",
    "        'awards_per_state_value', \n",
    "        'awards_per_natl_value',\n",
    "        'exp_award_value', \n",
    "        'exp_award_state_value', \n",
    "        'exp_award_natl_value',\n",
    "        'exp_award_percentile',  \n",
    "        'aid_value', \n",
    "        'aid_percentile',\n",
    "        'med_sat_value',\n",
    "        'grad_100_value',\n",
    "        'grad_100_percentile', \n",
    "        'grad_150_value', \n",
    "        'grad_150_percentile',\n",
    "        'pell_value', \n",
    "        'pell_percentile', \n",
    "        'retain_value', \n",
    "        'retain_percentile',\n",
    "        'cohort_size']]"
   ]
  },
  {
   "cell_type": "code",
   "execution_count": 20,
   "metadata": {
    "colab": {
     "base_uri": "https://localhost:8080/",
     "height": 300
    },
    "id": "hapdGTgDloBz",
    "outputId": "5d18ec6d-1a9b-41b5-a13e-b3901f97c677"
   },
   "outputs": [
    {
     "data": {
      "text/html": [
       "<div>\n",
       "<style scoped>\n",
       "    .dataframe tbody tr th:only-of-type {\n",
       "        vertical-align: middle;\n",
       "    }\n",
       "\n",
       "    .dataframe tbody tr th {\n",
       "        vertical-align: top;\n",
       "    }\n",
       "\n",
       "    .dataframe thead th {\n",
       "        text-align: right;\n",
       "    }\n",
       "</style>\n",
       "<table border=\"1\" class=\"dataframe\">\n",
       "  <thead>\n",
       "    <tr style=\"text-align: right;\">\n",
       "      <th></th>\n",
       "      <th>index</th>\n",
       "      <th>level</th>\n",
       "      <th>control</th>\n",
       "      <th>gender</th>\n",
       "      <th>race</th>\n",
       "      <th>student_count</th>\n",
       "      <th>awards_per_value</th>\n",
       "      <th>awards_per_state_value</th>\n",
       "      <th>awards_per_natl_value</th>\n",
       "      <th>exp_award_value</th>\n",
       "      <th>...</th>\n",
       "      <th>med_sat_value</th>\n",
       "      <th>grad_100_value</th>\n",
       "      <th>grad_100_percentile</th>\n",
       "      <th>grad_150_value</th>\n",
       "      <th>grad_150_percentile</th>\n",
       "      <th>pell_value</th>\n",
       "      <th>pell_percentile</th>\n",
       "      <th>retain_value</th>\n",
       "      <th>retain_percentile</th>\n",
       "      <th>cohort_size</th>\n",
       "    </tr>\n",
       "  </thead>\n",
       "  <tbody>\n",
       "    <tr>\n",
       "      <th>0</th>\n",
       "      <td>0</td>\n",
       "      <td>4-year</td>\n",
       "      <td>Public</td>\n",
       "      <td>M</td>\n",
       "      <td>W</td>\n",
       "      <td>4051</td>\n",
       "      <td>14.2</td>\n",
       "      <td>18.8</td>\n",
       "      <td>21.5</td>\n",
       "      <td>105331</td>\n",
       "      <td>...</td>\n",
       "      <td>823.0</td>\n",
       "      <td>10.0</td>\n",
       "      <td>15.0</td>\n",
       "      <td>29.1</td>\n",
       "      <td>14.0</td>\n",
       "      <td>71.2</td>\n",
       "      <td>98.0</td>\n",
       "      <td>63.1</td>\n",
       "      <td>17.0</td>\n",
       "      <td>882.0</td>\n",
       "    </tr>\n",
       "    <tr>\n",
       "      <th>1</th>\n",
       "      <td>0</td>\n",
       "      <td>4-year</td>\n",
       "      <td>Public</td>\n",
       "      <td>F</td>\n",
       "      <td>W</td>\n",
       "      <td>4051</td>\n",
       "      <td>14.2</td>\n",
       "      <td>18.8</td>\n",
       "      <td>21.5</td>\n",
       "      <td>105331</td>\n",
       "      <td>...</td>\n",
       "      <td>823.0</td>\n",
       "      <td>10.0</td>\n",
       "      <td>15.0</td>\n",
       "      <td>29.1</td>\n",
       "      <td>14.0</td>\n",
       "      <td>71.2</td>\n",
       "      <td>98.0</td>\n",
       "      <td>63.1</td>\n",
       "      <td>17.0</td>\n",
       "      <td>882.0</td>\n",
       "    </tr>\n",
       "    <tr>\n",
       "      <th>2</th>\n",
       "      <td>0</td>\n",
       "      <td>4-year</td>\n",
       "      <td>Public</td>\n",
       "      <td>M</td>\n",
       "      <td>B</td>\n",
       "      <td>4051</td>\n",
       "      <td>14.2</td>\n",
       "      <td>18.8</td>\n",
       "      <td>21.5</td>\n",
       "      <td>105331</td>\n",
       "      <td>...</td>\n",
       "      <td>823.0</td>\n",
       "      <td>10.0</td>\n",
       "      <td>15.0</td>\n",
       "      <td>29.1</td>\n",
       "      <td>14.0</td>\n",
       "      <td>71.2</td>\n",
       "      <td>98.0</td>\n",
       "      <td>63.1</td>\n",
       "      <td>17.0</td>\n",
       "      <td>882.0</td>\n",
       "    </tr>\n",
       "    <tr>\n",
       "      <th>3</th>\n",
       "      <td>0</td>\n",
       "      <td>4-year</td>\n",
       "      <td>Public</td>\n",
       "      <td>F</td>\n",
       "      <td>B</td>\n",
       "      <td>4051</td>\n",
       "      <td>14.2</td>\n",
       "      <td>18.8</td>\n",
       "      <td>21.5</td>\n",
       "      <td>105331</td>\n",
       "      <td>...</td>\n",
       "      <td>823.0</td>\n",
       "      <td>10.0</td>\n",
       "      <td>15.0</td>\n",
       "      <td>29.1</td>\n",
       "      <td>14.0</td>\n",
       "      <td>71.2</td>\n",
       "      <td>98.0</td>\n",
       "      <td>63.1</td>\n",
       "      <td>17.0</td>\n",
       "      <td>882.0</td>\n",
       "    </tr>\n",
       "    <tr>\n",
       "      <th>4</th>\n",
       "      <td>0</td>\n",
       "      <td>4-year</td>\n",
       "      <td>Public</td>\n",
       "      <td>M</td>\n",
       "      <td>H</td>\n",
       "      <td>4051</td>\n",
       "      <td>14.2</td>\n",
       "      <td>18.8</td>\n",
       "      <td>21.5</td>\n",
       "      <td>105331</td>\n",
       "      <td>...</td>\n",
       "      <td>823.0</td>\n",
       "      <td>10.0</td>\n",
       "      <td>15.0</td>\n",
       "      <td>29.1</td>\n",
       "      <td>14.0</td>\n",
       "      <td>71.2</td>\n",
       "      <td>98.0</td>\n",
       "      <td>63.1</td>\n",
       "      <td>17.0</td>\n",
       "      <td>882.0</td>\n",
       "    </tr>\n",
       "  </tbody>\n",
       "</table>\n",
       "<p>5 rows × 25 columns</p>\n",
       "</div>"
      ],
      "text/plain": [
       "   index   level control gender race  student_count  awards_per_value  \\\n",
       "0      0  4-year  Public      M    W           4051              14.2   \n",
       "1      0  4-year  Public      F    W           4051              14.2   \n",
       "2      0  4-year  Public      M    B           4051              14.2   \n",
       "3      0  4-year  Public      F    B           4051              14.2   \n",
       "4      0  4-year  Public      M    H           4051              14.2   \n",
       "\n",
       "   awards_per_state_value  awards_per_natl_value  exp_award_value  ...  \\\n",
       "0                    18.8                   21.5           105331  ...   \n",
       "1                    18.8                   21.5           105331  ...   \n",
       "2                    18.8                   21.5           105331  ...   \n",
       "3                    18.8                   21.5           105331  ...   \n",
       "4                    18.8                   21.5           105331  ...   \n",
       "\n",
       "   med_sat_value  grad_100_value  grad_100_percentile  grad_150_value  \\\n",
       "0          823.0            10.0                 15.0            29.1   \n",
       "1          823.0            10.0                 15.0            29.1   \n",
       "2          823.0            10.0                 15.0            29.1   \n",
       "3          823.0            10.0                 15.0            29.1   \n",
       "4          823.0            10.0                 15.0            29.1   \n",
       "\n",
       "   grad_150_percentile  pell_value  pell_percentile  retain_value  \\\n",
       "0                 14.0        71.2             98.0          63.1   \n",
       "1                 14.0        71.2             98.0          63.1   \n",
       "2                 14.0        71.2             98.0          63.1   \n",
       "3                 14.0        71.2             98.0          63.1   \n",
       "4                 14.0        71.2             98.0          63.1   \n",
       "\n",
       "   retain_percentile  cohort_size  \n",
       "0               17.0        882.0  \n",
       "1               17.0        882.0  \n",
       "2               17.0        882.0  \n",
       "3               17.0        882.0  \n",
       "4               17.0        882.0  \n",
       "\n",
       "[5 rows x 25 columns]"
      ]
     },
     "execution_count": 20,
     "metadata": {},
     "output_type": "execute_result"
    }
   ],
   "source": [
    "df.head()"
   ]
  },
  {
   "cell_type": "code",
   "execution_count": 21,
   "metadata": {
    "colab": {
     "base_uri": "https://localhost:8080/"
    },
    "id": "brClEOGyloBz",
    "outputId": "8b06d716-40e9-4122-b6c9-e3ef3fa02c83"
   },
   "outputs": [
    {
     "name": "stdout",
     "output_type": "stream",
     "text": [
      "<class 'pandas.core.frame.DataFrame'>\n",
      "Int64Index: 699720 entries, 0 to 699719\n",
      "Data columns (total 25 columns):\n",
      " #   Column                  Non-Null Count   Dtype  \n",
      "---  ------                  --------------   -----  \n",
      " 0   index                   699720 non-null  int64  \n",
      " 1   level                   699720 non-null  object \n",
      " 2   control                 699720 non-null  object \n",
      " 3   gender                  699720 non-null  object \n",
      " 4   race                    699720 non-null  object \n",
      " 5   student_count           699720 non-null  int64  \n",
      " 6   awards_per_value        699720 non-null  float64\n",
      " 7   awards_per_state_value  699720 non-null  float64\n",
      " 8   awards_per_natl_value   699720 non-null  float64\n",
      " 9   exp_award_value         699720 non-null  int64  \n",
      " 10  exp_award_state_value   699720 non-null  int64  \n",
      " 11  exp_award_natl_value    699720 non-null  int64  \n",
      " 12  exp_award_percentile    699720 non-null  int64  \n",
      " 13  aid_value               699600 non-null  float64\n",
      " 14  aid_percentile          699600 non-null  float64\n",
      " 15  med_sat_value           315720 non-null  float64\n",
      " 16  grad_100_value          644700 non-null  float64\n",
      " 17  grad_100_percentile     644700 non-null  float64\n",
      " 18  grad_150_value          644700 non-null  float64\n",
      " 19  grad_150_percentile     644700 non-null  float64\n",
      " 20  pell_value              699600 non-null  float64\n",
      " 21  pell_percentile         699600 non-null  float64\n",
      " 22  retain_value            648900 non-null  float64\n",
      " 23  retain_percentile       648900 non-null  float64\n",
      " 24  cohort_size             644700 non-null  float64\n",
      "dtypes: float64(15), int64(6), object(4)\n",
      "memory usage: 138.8+ MB\n"
     ]
    }
   ],
   "source": [
    "df.info()"
   ]
  },
  {
   "cell_type": "code",
   "execution_count": 22,
   "metadata": {
    "colab": {
     "base_uri": "https://localhost:8080/"
    },
    "id": "ds-xqr62loB1",
    "outputId": "9b0b54b9-a725-4f6e-dd8e-d00a9c0e1196"
   },
   "outputs": [
    {
     "data": {
      "text/plain": [
       "index                          0\n",
       "level                          0\n",
       "control                        0\n",
       "gender                         0\n",
       "race                           0\n",
       "student_count                  0\n",
       "awards_per_value               0\n",
       "awards_per_state_value         0\n",
       "awards_per_natl_value          0\n",
       "exp_award_value                0\n",
       "exp_award_state_value          0\n",
       "exp_award_natl_value           0\n",
       "exp_award_percentile           0\n",
       "aid_value                    120\n",
       "aid_percentile               120\n",
       "med_sat_value             384000\n",
       "grad_100_value             55020\n",
       "grad_100_percentile        55020\n",
       "grad_150_value             55020\n",
       "grad_150_percentile        55020\n",
       "pell_value                   120\n",
       "pell_percentile              120\n",
       "retain_value               50820\n",
       "retain_percentile          50820\n",
       "cohort_size                55020\n",
       "dtype: int64"
      ]
     },
     "execution_count": 22,
     "metadata": {},
     "output_type": "execute_result"
    }
   ],
   "source": [
    "#Getting the total number of nan values\n",
    "df.isnull().sum(axis = 0)\n"
   ]
  },
  {
   "cell_type": "markdown",
   "metadata": {
    "id": "SzUamcweEesl"
   },
   "source": [
    "From the information above, med_sat_value has alot of missing values. To avoid introducing bias in our model, it is best to drop this column."
   ]
  },
  {
   "cell_type": "code",
   "execution_count": 23,
   "metadata": {
    "colab": {
     "base_uri": "https://localhost:8080/",
     "height": 300
    },
    "id": "xMrJt3hsloB2",
    "outputId": "a47fb90d-4b24-4060-e4d5-3ccb3ceb1301"
   },
   "outputs": [
    {
     "data": {
      "text/html": [
       "<div>\n",
       "<style scoped>\n",
       "    .dataframe tbody tr th:only-of-type {\n",
       "        vertical-align: middle;\n",
       "    }\n",
       "\n",
       "    .dataframe tbody tr th {\n",
       "        vertical-align: top;\n",
       "    }\n",
       "\n",
       "    .dataframe thead th {\n",
       "        text-align: right;\n",
       "    }\n",
       "</style>\n",
       "<table border=\"1\" class=\"dataframe\">\n",
       "  <thead>\n",
       "    <tr style=\"text-align: right;\">\n",
       "      <th></th>\n",
       "      <th>index</th>\n",
       "      <th>level</th>\n",
       "      <th>control</th>\n",
       "      <th>gender</th>\n",
       "      <th>race</th>\n",
       "      <th>student_count</th>\n",
       "      <th>awards_per_value</th>\n",
       "      <th>awards_per_state_value</th>\n",
       "      <th>awards_per_natl_value</th>\n",
       "      <th>exp_award_value</th>\n",
       "      <th>...</th>\n",
       "      <th>med_sat_value</th>\n",
       "      <th>grad_100_value</th>\n",
       "      <th>grad_100_percentile</th>\n",
       "      <th>grad_150_value</th>\n",
       "      <th>grad_150_percentile</th>\n",
       "      <th>pell_value</th>\n",
       "      <th>pell_percentile</th>\n",
       "      <th>retain_value</th>\n",
       "      <th>retain_percentile</th>\n",
       "      <th>cohort_size</th>\n",
       "    </tr>\n",
       "  </thead>\n",
       "  <tbody>\n",
       "    <tr>\n",
       "      <th>0</th>\n",
       "      <td>0</td>\n",
       "      <td>4-year</td>\n",
       "      <td>Public</td>\n",
       "      <td>M</td>\n",
       "      <td>W</td>\n",
       "      <td>4051</td>\n",
       "      <td>14.2</td>\n",
       "      <td>18.8</td>\n",
       "      <td>21.5</td>\n",
       "      <td>105331</td>\n",
       "      <td>...</td>\n",
       "      <td>823.0</td>\n",
       "      <td>10.0</td>\n",
       "      <td>15.0</td>\n",
       "      <td>29.1</td>\n",
       "      <td>14.0</td>\n",
       "      <td>71.2</td>\n",
       "      <td>98.0</td>\n",
       "      <td>63.1</td>\n",
       "      <td>17.0</td>\n",
       "      <td>882.0</td>\n",
       "    </tr>\n",
       "    <tr>\n",
       "      <th>1</th>\n",
       "      <td>0</td>\n",
       "      <td>4-year</td>\n",
       "      <td>Public</td>\n",
       "      <td>F</td>\n",
       "      <td>W</td>\n",
       "      <td>4051</td>\n",
       "      <td>14.2</td>\n",
       "      <td>18.8</td>\n",
       "      <td>21.5</td>\n",
       "      <td>105331</td>\n",
       "      <td>...</td>\n",
       "      <td>823.0</td>\n",
       "      <td>10.0</td>\n",
       "      <td>15.0</td>\n",
       "      <td>29.1</td>\n",
       "      <td>14.0</td>\n",
       "      <td>71.2</td>\n",
       "      <td>98.0</td>\n",
       "      <td>63.1</td>\n",
       "      <td>17.0</td>\n",
       "      <td>882.0</td>\n",
       "    </tr>\n",
       "    <tr>\n",
       "      <th>2</th>\n",
       "      <td>0</td>\n",
       "      <td>4-year</td>\n",
       "      <td>Public</td>\n",
       "      <td>M</td>\n",
       "      <td>B</td>\n",
       "      <td>4051</td>\n",
       "      <td>14.2</td>\n",
       "      <td>18.8</td>\n",
       "      <td>21.5</td>\n",
       "      <td>105331</td>\n",
       "      <td>...</td>\n",
       "      <td>823.0</td>\n",
       "      <td>10.0</td>\n",
       "      <td>15.0</td>\n",
       "      <td>29.1</td>\n",
       "      <td>14.0</td>\n",
       "      <td>71.2</td>\n",
       "      <td>98.0</td>\n",
       "      <td>63.1</td>\n",
       "      <td>17.0</td>\n",
       "      <td>882.0</td>\n",
       "    </tr>\n",
       "    <tr>\n",
       "      <th>3</th>\n",
       "      <td>0</td>\n",
       "      <td>4-year</td>\n",
       "      <td>Public</td>\n",
       "      <td>F</td>\n",
       "      <td>B</td>\n",
       "      <td>4051</td>\n",
       "      <td>14.2</td>\n",
       "      <td>18.8</td>\n",
       "      <td>21.5</td>\n",
       "      <td>105331</td>\n",
       "      <td>...</td>\n",
       "      <td>823.0</td>\n",
       "      <td>10.0</td>\n",
       "      <td>15.0</td>\n",
       "      <td>29.1</td>\n",
       "      <td>14.0</td>\n",
       "      <td>71.2</td>\n",
       "      <td>98.0</td>\n",
       "      <td>63.1</td>\n",
       "      <td>17.0</td>\n",
       "      <td>882.0</td>\n",
       "    </tr>\n",
       "    <tr>\n",
       "      <th>4</th>\n",
       "      <td>0</td>\n",
       "      <td>4-year</td>\n",
       "      <td>Public</td>\n",
       "      <td>M</td>\n",
       "      <td>H</td>\n",
       "      <td>4051</td>\n",
       "      <td>14.2</td>\n",
       "      <td>18.8</td>\n",
       "      <td>21.5</td>\n",
       "      <td>105331</td>\n",
       "      <td>...</td>\n",
       "      <td>823.0</td>\n",
       "      <td>10.0</td>\n",
       "      <td>15.0</td>\n",
       "      <td>29.1</td>\n",
       "      <td>14.0</td>\n",
       "      <td>71.2</td>\n",
       "      <td>98.0</td>\n",
       "      <td>63.1</td>\n",
       "      <td>17.0</td>\n",
       "      <td>882.0</td>\n",
       "    </tr>\n",
       "  </tbody>\n",
       "</table>\n",
       "<p>5 rows × 25 columns</p>\n",
       "</div>"
      ],
      "text/plain": [
       "   index   level control gender race  student_count  awards_per_value  \\\n",
       "0      0  4-year  Public      M    W           4051              14.2   \n",
       "1      0  4-year  Public      F    W           4051              14.2   \n",
       "2      0  4-year  Public      M    B           4051              14.2   \n",
       "3      0  4-year  Public      F    B           4051              14.2   \n",
       "4      0  4-year  Public      M    H           4051              14.2   \n",
       "\n",
       "   awards_per_state_value  awards_per_natl_value  exp_award_value  ...  \\\n",
       "0                    18.8                   21.5           105331  ...   \n",
       "1                    18.8                   21.5           105331  ...   \n",
       "2                    18.8                   21.5           105331  ...   \n",
       "3                    18.8                   21.5           105331  ...   \n",
       "4                    18.8                   21.5           105331  ...   \n",
       "\n",
       "   med_sat_value  grad_100_value  grad_100_percentile  grad_150_value  \\\n",
       "0          823.0            10.0                 15.0            29.1   \n",
       "1          823.0            10.0                 15.0            29.1   \n",
       "2          823.0            10.0                 15.0            29.1   \n",
       "3          823.0            10.0                 15.0            29.1   \n",
       "4          823.0            10.0                 15.0            29.1   \n",
       "\n",
       "   grad_150_percentile  pell_value  pell_percentile  retain_value  \\\n",
       "0                 14.0        71.2             98.0          63.1   \n",
       "1                 14.0        71.2             98.0          63.1   \n",
       "2                 14.0        71.2             98.0          63.1   \n",
       "3                 14.0        71.2             98.0          63.1   \n",
       "4                 14.0        71.2             98.0          63.1   \n",
       "\n",
       "   retain_percentile  cohort_size  \n",
       "0               17.0        882.0  \n",
       "1               17.0        882.0  \n",
       "2               17.0        882.0  \n",
       "3               17.0        882.0  \n",
       "4               17.0        882.0  \n",
       "\n",
       "[5 rows x 25 columns]"
      ]
     },
     "execution_count": 23,
     "metadata": {},
     "output_type": "execute_result"
    }
   ],
   "source": [
    "df.head()"
   ]
  },
  {
   "cell_type": "code",
   "execution_count": 24,
   "metadata": {
    "colab": {
     "base_uri": "https://localhost:8080/"
    },
    "id": "kidLEMRnloB2",
    "outputId": "7dd9c832-a25c-4c42-cae5-262d8001ce56"
   },
   "outputs": [
    {
     "data": {
      "text/plain": [
       "index                     3798\n",
       "level                        2\n",
       "control                      3\n",
       "gender                       2\n",
       "race                         5\n",
       "student_count             2829\n",
       "awards_per_value           517\n",
       "awards_per_state_value     160\n",
       "awards_per_natl_value        6\n",
       "exp_award_value           3611\n",
       "exp_award_state_value      264\n",
       "exp_award_natl_value         6\n",
       "exp_award_percentile       101\n",
       "aid_value                 3135\n",
       "aid_percentile             101\n",
       "med_sat_value              472\n",
       "grad_100_value             806\n",
       "grad_100_percentile        101\n",
       "grad_150_value             862\n",
       "grad_150_percentile        101\n",
       "pell_value                 832\n",
       "pell_percentile            101\n",
       "retain_value               649\n",
       "retain_percentile          101\n",
       "cohort_size               1409\n",
       "dtype: int64"
      ]
     },
     "execution_count": 24,
     "metadata": {},
     "output_type": "execute_result"
    }
   ],
   "source": [
    "# Determine the number of unique values in each column.\n",
    "df.nunique()"
   ]
  },
  {
   "cell_type": "code",
   "execution_count": 25,
   "metadata": {
    "colab": {
     "base_uri": "https://localhost:8080/",
     "height": 424
    },
    "id": "OTFD9ONgloB3",
    "outputId": "7a97e065-287d-455d-ae73-cf1e1cfce01a"
   },
   "outputs": [
    {
     "data": {
      "text/html": [
       "<div>\n",
       "<style scoped>\n",
       "    .dataframe tbody tr th:only-of-type {\n",
       "        vertical-align: middle;\n",
       "    }\n",
       "\n",
       "    .dataframe tbody tr th {\n",
       "        vertical-align: top;\n",
       "    }\n",
       "\n",
       "    .dataframe thead th {\n",
       "        text-align: right;\n",
       "    }\n",
       "</style>\n",
       "<table border=\"1\" class=\"dataframe\">\n",
       "  <thead>\n",
       "    <tr style=\"text-align: right;\">\n",
       "      <th></th>\n",
       "      <th>student_count</th>\n",
       "      <th>cohort_size</th>\n",
       "    </tr>\n",
       "  </thead>\n",
       "  <tbody>\n",
       "    <tr>\n",
       "      <th>0</th>\n",
       "      <td>4051</td>\n",
       "      <td>882.0</td>\n",
       "    </tr>\n",
       "    <tr>\n",
       "      <th>1</th>\n",
       "      <td>4051</td>\n",
       "      <td>882.0</td>\n",
       "    </tr>\n",
       "    <tr>\n",
       "      <th>2</th>\n",
       "      <td>4051</td>\n",
       "      <td>882.0</td>\n",
       "    </tr>\n",
       "    <tr>\n",
       "      <th>3</th>\n",
       "      <td>4051</td>\n",
       "      <td>882.0</td>\n",
       "    </tr>\n",
       "    <tr>\n",
       "      <th>4</th>\n",
       "      <td>4051</td>\n",
       "      <td>882.0</td>\n",
       "    </tr>\n",
       "    <tr>\n",
       "      <th>...</th>\n",
       "      <td>...</td>\n",
       "      <td>...</td>\n",
       "    </tr>\n",
       "    <tr>\n",
       "      <th>699715</th>\n",
       "      <td>144</td>\n",
       "      <td>23.0</td>\n",
       "    </tr>\n",
       "    <tr>\n",
       "      <th>699716</th>\n",
       "      <td>144</td>\n",
       "      <td>23.0</td>\n",
       "    </tr>\n",
       "    <tr>\n",
       "      <th>699717</th>\n",
       "      <td>144</td>\n",
       "      <td>23.0</td>\n",
       "    </tr>\n",
       "    <tr>\n",
       "      <th>699718</th>\n",
       "      <td>144</td>\n",
       "      <td>23.0</td>\n",
       "    </tr>\n",
       "    <tr>\n",
       "      <th>699719</th>\n",
       "      <td>144</td>\n",
       "      <td>23.0</td>\n",
       "    </tr>\n",
       "  </tbody>\n",
       "</table>\n",
       "<p>699720 rows × 2 columns</p>\n",
       "</div>"
      ],
      "text/plain": [
       "        student_count  cohort_size\n",
       "0                4051        882.0\n",
       "1                4051        882.0\n",
       "2                4051        882.0\n",
       "3                4051        882.0\n",
       "4                4051        882.0\n",
       "...               ...          ...\n",
       "699715            144         23.0\n",
       "699716            144         23.0\n",
       "699717            144         23.0\n",
       "699718            144         23.0\n",
       "699719            144         23.0\n",
       "\n",
       "[699720 rows x 2 columns]"
      ]
     },
     "execution_count": 25,
     "metadata": {},
     "output_type": "execute_result"
    }
   ],
   "source": [
    "# student_count = Total number of undergraduates in 2010\n",
    "# cohort_size = \n",
    "df[['student_count', 'cohort_size']]  ## what is the difference between these 2 columns? "
   ]
  },
  {
   "cell_type": "markdown",
   "metadata": {
    "id": "R7bQ8-drH2qL"
   },
   "source": [
    "cohort_size column may represent the size of a specific group of individuals who share a common characteristic within the larger population of student_count.\n",
    "\n",
    "So, from the data, we can see that cohort_size is just a subset of data from the student_count. "
   ]
  },
  {
   "cell_type": "code",
   "execution_count": 26,
   "metadata": {
    "colab": {
     "base_uri": "https://localhost:8080/"
    },
    "id": "DaLa2CgoloB4",
    "outputId": "d2c35f32-c13a-416f-e76c-c543877a11c7"
   },
   "outputs": [
    {
     "data": {
      "text/plain": [
       "array(['4-year', '2-year'], dtype=object)"
      ]
     },
     "execution_count": 26,
     "metadata": {},
     "output_type": "execute_result"
    }
   ],
   "source": [
    "df.level.unique()"
   ]
  },
  {
   "cell_type": "code",
   "execution_count": 27,
   "metadata": {
    "colab": {
     "base_uri": "https://localhost:8080/"
    },
    "id": "mFiZ6J_HloB4",
    "outputId": "c5f93495-d137-46e4-d5f5-480b91e91b43"
   },
   "outputs": [
    {
     "data": {
      "text/plain": [
       "array(['Public', 'Private not-for-profit', 'Private for-profit'],\n",
       "      dtype=object)"
      ]
     },
     "execution_count": 27,
     "metadata": {},
     "output_type": "execute_result"
    }
   ],
   "source": [
    "df.control.unique()"
   ]
  },
  {
   "cell_type": "code",
   "execution_count": 28,
   "metadata": {
    "colab": {
     "base_uri": "https://localhost:8080/"
    },
    "id": "W7cdML3IloB5",
    "outputId": "de573957-80e7-4987-efe3-4bf49ac169b2"
   },
   "outputs": [
    {
     "data": {
      "text/plain": [
       "index                      0.000000\n",
       "level                      0.000000\n",
       "control                    0.000000\n",
       "gender                     0.000000\n",
       "race                       0.000000\n",
       "student_count              0.000000\n",
       "awards_per_value           0.000000\n",
       "awards_per_state_value     0.000000\n",
       "awards_per_natl_value      0.000000\n",
       "exp_award_value            0.000000\n",
       "exp_award_state_value      0.000000\n",
       "exp_award_natl_value       0.000000\n",
       "exp_award_percentile       0.000000\n",
       "aid_value                  0.017150\n",
       "aid_percentile             0.017150\n",
       "med_sat_value             54.879094\n",
       "grad_100_value             7.863145\n",
       "grad_100_percentile        7.863145\n",
       "grad_150_value             7.863145\n",
       "grad_150_percentile        7.863145\n",
       "pell_value                 0.017150\n",
       "pell_percentile            0.017150\n",
       "retain_value               7.262905\n",
       "retain_percentile          7.262905\n",
       "cohort_size                7.863145\n",
       "dtype: float64"
      ]
     },
     "execution_count": 28,
     "metadata": {},
     "output_type": "execute_result"
    }
   ],
   "source": [
    "# percentage of missing values\n",
    "(df.isnull().sum() / df.shape[0])*100"
   ]
  },
  {
   "cell_type": "markdown",
   "metadata": {
    "id": "HVfPeLItJ0EX"
   },
   "source": [
    "There are 57% of missing values for the label med_sat_value. We will drop this column as it may introduce bias to our model. "
   ]
  },
  {
   "cell_type": "markdown",
   "metadata": {
    "id": "mcsR9tHXKKuW"
   },
   "source": [
    "### Data Cleaning"
   ]
  },
  {
   "cell_type": "code",
   "execution_count": 29,
   "metadata": {
    "colab": {
     "base_uri": "https://localhost:8080/"
    },
    "id": "NFhToRZMloB5",
    "outputId": "6bc516a9-896a-4966-cdaa-97d8f7831d04"
   },
   "outputs": [
    {
     "data": {
      "text/plain": [
       "(699720, 25)"
      ]
     },
     "execution_count": 29,
     "metadata": {},
     "output_type": "execute_result"
    }
   ],
   "source": [
    "df.shape"
   ]
  },
  {
   "cell_type": "code",
   "execution_count": 30,
   "metadata": {
    "id": "OFLOMwc3KPku"
   },
   "outputs": [],
   "source": [
    "# Drop columns\n",
    "df.drop('med_sat_value', axis = 1, inplace = True)"
   ]
  },
  {
   "cell_type": "code",
   "execution_count": 31,
   "metadata": {
    "colab": {
     "base_uri": "https://localhost:8080/"
    },
    "id": "FzpZsVWNLhLV",
    "outputId": "e7037930-a2f0-46b3-9062-a8ef5bb8cea3"
   },
   "outputs": [
    {
     "data": {
      "text/plain": [
       "661740"
      ]
     },
     "execution_count": 31,
     "metadata": {},
     "output_type": "execute_result"
    }
   ],
   "source": [
    "# Check for all duplicate rows\n",
    "\n",
    "df.duplicated().sum()"
   ]
  },
  {
   "cell_type": "code",
   "execution_count": 32,
   "metadata": {
    "id": "axg2mfuSMtST"
   },
   "outputs": [],
   "source": [
    "# Drop all duplicated rows\n",
    "df.drop_duplicates(inplace = True)"
   ]
  },
  {
   "cell_type": "code",
   "execution_count": 33,
   "metadata": {
    "id": "R8L8St7gNY6q"
   },
   "outputs": [],
   "source": [
    "# Drop all empty or null values\n",
    "\n",
    "df.dropna(inplace = True)"
   ]
  },
  {
   "cell_type": "code",
   "execution_count": 34,
   "metadata": {
    "colab": {
     "base_uri": "https://localhost:8080/"
    },
    "id": "FIacG_-1Nhvc",
    "outputId": "736b2608-cbfe-400c-85f6-c79b65b3a5be"
   },
   "outputs": [
    {
     "data": {
      "text/plain": [
       "(33790, 24)"
      ]
     },
     "execution_count": 34,
     "metadata": {},
     "output_type": "execute_result"
    }
   ],
   "source": [
    "df.shape"
   ]
  },
  {
   "cell_type": "code",
   "execution_count": 35,
   "metadata": {
    "colab": {
     "base_uri": "https://localhost:8080/"
    },
    "id": "88ripBJWNkqb",
    "outputId": "851aff12-518c-4cdb-f9a1-51b1116ae3e0"
   },
   "outputs": [
    {
     "name": "stdout",
     "output_type": "stream",
     "text": [
      "<class 'pandas.core.frame.DataFrame'>\n",
      "Int64Index: 33790 entries, 0 to 699639\n",
      "Data columns (total 24 columns):\n",
      " #   Column                  Non-Null Count  Dtype  \n",
      "---  ------                  --------------  -----  \n",
      " 0   index                   33790 non-null  int64  \n",
      " 1   level                   33790 non-null  object \n",
      " 2   control                 33790 non-null  object \n",
      " 3   gender                  33790 non-null  object \n",
      " 4   race                    33790 non-null  object \n",
      " 5   student_count           33790 non-null  int64  \n",
      " 6   awards_per_value        33790 non-null  float64\n",
      " 7   awards_per_state_value  33790 non-null  float64\n",
      " 8   awards_per_natl_value   33790 non-null  float64\n",
      " 9   exp_award_value         33790 non-null  int64  \n",
      " 10  exp_award_state_value   33790 non-null  int64  \n",
      " 11  exp_award_natl_value    33790 non-null  int64  \n",
      " 12  exp_award_percentile    33790 non-null  int64  \n",
      " 13  aid_value               33790 non-null  float64\n",
      " 14  aid_percentile          33790 non-null  float64\n",
      " 15  grad_100_value          33790 non-null  float64\n",
      " 16  grad_100_percentile     33790 non-null  float64\n",
      " 17  grad_150_value          33790 non-null  float64\n",
      " 18  grad_150_percentile     33790 non-null  float64\n",
      " 19  pell_value              33790 non-null  float64\n",
      " 20  pell_percentile         33790 non-null  float64\n",
      " 21  retain_value            33790 non-null  float64\n",
      " 22  retain_percentile       33790 non-null  float64\n",
      " 23  cohort_size             33790 non-null  float64\n",
      "dtypes: float64(14), int64(6), object(4)\n",
      "memory usage: 6.4+ MB\n"
     ]
    }
   ],
   "source": [
    "# Check if the data info\n",
    "df.info()"
   ]
  },
  {
   "cell_type": "code",
   "execution_count": 36,
   "metadata": {
    "colab": {
     "base_uri": "https://localhost:8080/",
     "height": 741
    },
    "id": "y_1QF9cGYgGH",
    "outputId": "cb0479bd-4b32-4922-830d-c4d0a5badbf3"
   },
   "outputs": [
    {
     "data": {
      "text/html": [
       "<div>\n",
       "<style scoped>\n",
       "    .dataframe tbody tr th:only-of-type {\n",
       "        vertical-align: middle;\n",
       "    }\n",
       "\n",
       "    .dataframe tbody tr th {\n",
       "        vertical-align: top;\n",
       "    }\n",
       "\n",
       "    .dataframe thead th {\n",
       "        text-align: right;\n",
       "    }\n",
       "</style>\n",
       "<table border=\"1\" class=\"dataframe\">\n",
       "  <thead>\n",
       "    <tr style=\"text-align: right;\">\n",
       "      <th></th>\n",
       "      <th>index</th>\n",
       "      <th>student_count</th>\n",
       "      <th>awards_per_value</th>\n",
       "      <th>awards_per_state_value</th>\n",
       "      <th>awards_per_natl_value</th>\n",
       "      <th>exp_award_value</th>\n",
       "      <th>exp_award_state_value</th>\n",
       "      <th>exp_award_natl_value</th>\n",
       "      <th>exp_award_percentile</th>\n",
       "      <th>aid_value</th>\n",
       "      <th>aid_percentile</th>\n",
       "      <th>grad_100_value</th>\n",
       "      <th>grad_100_percentile</th>\n",
       "      <th>grad_150_value</th>\n",
       "      <th>grad_150_percentile</th>\n",
       "      <th>pell_value</th>\n",
       "      <th>pell_percentile</th>\n",
       "      <th>retain_value</th>\n",
       "      <th>retain_percentile</th>\n",
       "      <th>cohort_size</th>\n",
       "    </tr>\n",
       "  </thead>\n",
       "  <tbody>\n",
       "    <tr>\n",
       "      <th>index</th>\n",
       "      <td>1.000000</td>\n",
       "      <td>-0.159792</td>\n",
       "      <td>0.158856</td>\n",
       "      <td>0.261562</td>\n",
       "      <td>0.312253</td>\n",
       "      <td>-0.014937</td>\n",
       "      <td>-0.181310</td>\n",
       "      <td>-0.181634</td>\n",
       "      <td>-0.007905</td>\n",
       "      <td>-0.120668</td>\n",
       "      <td>-0.030349</td>\n",
       "      <td>0.031193</td>\n",
       "      <td>-0.041326</td>\n",
       "      <td>0.036642</td>\n",
       "      <td>-0.052892</td>\n",
       "      <td>0.228432</td>\n",
       "      <td>0.032491</td>\n",
       "      <td>-0.109598</td>\n",
       "      <td>-0.098326</td>\n",
       "      <td>-0.146959</td>\n",
       "    </tr>\n",
       "    <tr>\n",
       "      <th>student_count</th>\n",
       "      <td>-0.159792</td>\n",
       "      <td>1.000000</td>\n",
       "      <td>-0.182886</td>\n",
       "      <td>-0.275140</td>\n",
       "      <td>-0.303494</td>\n",
       "      <td>-0.038292</td>\n",
       "      <td>-0.048320</td>\n",
       "      <td>-0.072832</td>\n",
       "      <td>0.008415</td>\n",
       "      <td>-0.112349</td>\n",
       "      <td>0.008742</td>\n",
       "      <td>-0.138051</td>\n",
       "      <td>0.005701</td>\n",
       "      <td>-0.081164</td>\n",
       "      <td>0.057620</td>\n",
       "      <td>-0.253487</td>\n",
       "      <td>-0.159960</td>\n",
       "      <td>0.111270</td>\n",
       "      <td>0.202730</td>\n",
       "      <td>0.744660</td>\n",
       "    </tr>\n",
       "    <tr>\n",
       "      <th>awards_per_value</th>\n",
       "      <td>0.158856</td>\n",
       "      <td>-0.182886</td>\n",
       "      <td>1.000000</td>\n",
       "      <td>0.592724</td>\n",
       "      <td>0.520740</td>\n",
       "      <td>-0.180252</td>\n",
       "      <td>-0.190546</td>\n",
       "      <td>-0.177048</td>\n",
       "      <td>-0.252501</td>\n",
       "      <td>-0.040245</td>\n",
       "      <td>0.026450</td>\n",
       "      <td>0.308617</td>\n",
       "      <td>0.180637</td>\n",
       "      <td>0.351622</td>\n",
       "      <td>0.184945</td>\n",
       "      <td>0.201651</td>\n",
       "      <td>-0.026262</td>\n",
       "      <td>0.130746</td>\n",
       "      <td>0.104256</td>\n",
       "      <td>-0.090817</td>\n",
       "    </tr>\n",
       "    <tr>\n",
       "      <th>awards_per_state_value</th>\n",
       "      <td>0.261562</td>\n",
       "      <td>-0.275140</td>\n",
       "      <td>0.592724</td>\n",
       "      <td>1.000000</td>\n",
       "      <td>0.834915</td>\n",
       "      <td>-0.045491</td>\n",
       "      <td>-0.201211</td>\n",
       "      <td>-0.172725</td>\n",
       "      <td>-0.055855</td>\n",
       "      <td>-0.010431</td>\n",
       "      <td>0.017994</td>\n",
       "      <td>0.301843</td>\n",
       "      <td>0.021896</td>\n",
       "      <td>0.415342</td>\n",
       "      <td>0.063166</td>\n",
       "      <td>0.349796</td>\n",
       "      <td>-0.004632</td>\n",
       "      <td>0.114697</td>\n",
       "      <td>0.023109</td>\n",
       "      <td>-0.156145</td>\n",
       "    </tr>\n",
       "    <tr>\n",
       "      <th>awards_per_natl_value</th>\n",
       "      <td>0.312253</td>\n",
       "      <td>-0.303494</td>\n",
       "      <td>0.520740</td>\n",
       "      <td>0.834915</td>\n",
       "      <td>1.000000</td>\n",
       "      <td>-0.016720</td>\n",
       "      <td>-0.101575</td>\n",
       "      <td>-0.119132</td>\n",
       "      <td>0.012804</td>\n",
       "      <td>0.036382</td>\n",
       "      <td>0.002333</td>\n",
       "      <td>0.331156</td>\n",
       "      <td>-0.058285</td>\n",
       "      <td>0.461919</td>\n",
       "      <td>-0.003630</td>\n",
       "      <td>0.409548</td>\n",
       "      <td>-0.008814</td>\n",
       "      <td>0.132783</td>\n",
       "      <td>-0.005987</td>\n",
       "      <td>-0.189356</td>\n",
       "    </tr>\n",
       "    <tr>\n",
       "      <th>exp_award_value</th>\n",
       "      <td>-0.014937</td>\n",
       "      <td>-0.038292</td>\n",
       "      <td>-0.180252</td>\n",
       "      <td>-0.045491</td>\n",
       "      <td>-0.016720</td>\n",
       "      <td>1.000000</td>\n",
       "      <td>0.245963</td>\n",
       "      <td>0.229717</td>\n",
       "      <td>0.352484</td>\n",
       "      <td>0.254816</td>\n",
       "      <td>0.065539</td>\n",
       "      <td>0.091841</td>\n",
       "      <td>-0.002238</td>\n",
       "      <td>0.054361</td>\n",
       "      <td>-0.008021</td>\n",
       "      <td>-0.125575</td>\n",
       "      <td>-0.078116</td>\n",
       "      <td>0.105842</td>\n",
       "      <td>0.040489</td>\n",
       "      <td>-0.009876</td>\n",
       "    </tr>\n",
       "    <tr>\n",
       "      <th>exp_award_state_value</th>\n",
       "      <td>-0.181310</td>\n",
       "      <td>-0.048320</td>\n",
       "      <td>-0.190546</td>\n",
       "      <td>-0.201211</td>\n",
       "      <td>-0.101575</td>\n",
       "      <td>0.245963</td>\n",
       "      <td>1.000000</td>\n",
       "      <td>0.808966</td>\n",
       "      <td>0.148450</td>\n",
       "      <td>0.651093</td>\n",
       "      <td>0.098945</td>\n",
       "      <td>0.318802</td>\n",
       "      <td>0.049520</td>\n",
       "      <td>0.296587</td>\n",
       "      <td>0.036651</td>\n",
       "      <td>-0.340603</td>\n",
       "      <td>-0.064948</td>\n",
       "      <td>0.368601</td>\n",
       "      <td>0.086079</td>\n",
       "      <td>0.012234</td>\n",
       "    </tr>\n",
       "    <tr>\n",
       "      <th>exp_award_natl_value</th>\n",
       "      <td>-0.181634</td>\n",
       "      <td>-0.072832</td>\n",
       "      <td>-0.177048</td>\n",
       "      <td>-0.172725</td>\n",
       "      <td>-0.119132</td>\n",
       "      <td>0.229717</td>\n",
       "      <td>0.808966</td>\n",
       "      <td>1.000000</td>\n",
       "      <td>-0.004882</td>\n",
       "      <td>0.704609</td>\n",
       "      <td>0.024723</td>\n",
       "      <td>0.345117</td>\n",
       "      <td>0.015254</td>\n",
       "      <td>0.329882</td>\n",
       "      <td>-0.003934</td>\n",
       "      <td>-0.361074</td>\n",
       "      <td>0.000467</td>\n",
       "      <td>0.395234</td>\n",
       "      <td>0.020342</td>\n",
       "      <td>-0.032558</td>\n",
       "    </tr>\n",
       "    <tr>\n",
       "      <th>exp_award_percentile</th>\n",
       "      <td>-0.007905</td>\n",
       "      <td>0.008415</td>\n",
       "      <td>-0.252501</td>\n",
       "      <td>-0.055855</td>\n",
       "      <td>0.012804</td>\n",
       "      <td>0.352484</td>\n",
       "      <td>0.148450</td>\n",
       "      <td>-0.004882</td>\n",
       "      <td>1.000000</td>\n",
       "      <td>0.204971</td>\n",
       "      <td>0.215906</td>\n",
       "      <td>0.061574</td>\n",
       "      <td>0.010189</td>\n",
       "      <td>0.016018</td>\n",
       "      <td>0.001510</td>\n",
       "      <td>-0.085182</td>\n",
       "      <td>-0.157135</td>\n",
       "      <td>0.036458</td>\n",
       "      <td>0.075121</td>\n",
       "      <td>0.088539</td>\n",
       "    </tr>\n",
       "    <tr>\n",
       "      <th>aid_value</th>\n",
       "      <td>-0.120668</td>\n",
       "      <td>-0.112349</td>\n",
       "      <td>-0.040245</td>\n",
       "      <td>-0.010431</td>\n",
       "      <td>0.036382</td>\n",
       "      <td>0.254816</td>\n",
       "      <td>0.651093</td>\n",
       "      <td>0.704609</td>\n",
       "      <td>0.204971</td>\n",
       "      <td>1.000000</td>\n",
       "      <td>0.510248</td>\n",
       "      <td>0.581244</td>\n",
       "      <td>0.279616</td>\n",
       "      <td>0.520504</td>\n",
       "      <td>0.257222</td>\n",
       "      <td>-0.366146</td>\n",
       "      <td>-0.192807</td>\n",
       "      <td>0.469687</td>\n",
       "      <td>0.232307</td>\n",
       "      <td>-0.002471</td>\n",
       "    </tr>\n",
       "    <tr>\n",
       "      <th>aid_percentile</th>\n",
       "      <td>-0.030349</td>\n",
       "      <td>0.008742</td>\n",
       "      <td>0.026450</td>\n",
       "      <td>0.017994</td>\n",
       "      <td>0.002333</td>\n",
       "      <td>0.065539</td>\n",
       "      <td>0.098945</td>\n",
       "      <td>0.024723</td>\n",
       "      <td>0.215906</td>\n",
       "      <td>0.510248</td>\n",
       "      <td>1.000000</td>\n",
       "      <td>0.324279</td>\n",
       "      <td>0.354036</td>\n",
       "      <td>0.254356</td>\n",
       "      <td>0.282498</td>\n",
       "      <td>-0.061245</td>\n",
       "      <td>-0.052261</td>\n",
       "      <td>0.190706</td>\n",
       "      <td>0.184611</td>\n",
       "      <td>0.153200</td>\n",
       "    </tr>\n",
       "    <tr>\n",
       "      <th>grad_100_value</th>\n",
       "      <td>0.031193</td>\n",
       "      <td>-0.138051</td>\n",
       "      <td>0.308617</td>\n",
       "      <td>0.301843</td>\n",
       "      <td>0.331156</td>\n",
       "      <td>0.091841</td>\n",
       "      <td>0.318802</td>\n",
       "      <td>0.345117</td>\n",
       "      <td>0.061574</td>\n",
       "      <td>0.581244</td>\n",
       "      <td>0.324279</td>\n",
       "      <td>1.000000</td>\n",
       "      <td>0.766238</td>\n",
       "      <td>0.853212</td>\n",
       "      <td>0.638991</td>\n",
       "      <td>-0.268714</td>\n",
       "      <td>-0.323620</td>\n",
       "      <td>0.540622</td>\n",
       "      <td>0.395731</td>\n",
       "      <td>0.023936</td>\n",
       "    </tr>\n",
       "    <tr>\n",
       "      <th>grad_100_percentile</th>\n",
       "      <td>-0.041326</td>\n",
       "      <td>0.005701</td>\n",
       "      <td>0.180637</td>\n",
       "      <td>0.021896</td>\n",
       "      <td>-0.058285</td>\n",
       "      <td>-0.002238</td>\n",
       "      <td>0.049520</td>\n",
       "      <td>0.015254</td>\n",
       "      <td>0.010189</td>\n",
       "      <td>0.279616</td>\n",
       "      <td>0.354036</td>\n",
       "      <td>0.766238</td>\n",
       "      <td>1.000000</td>\n",
       "      <td>0.597967</td>\n",
       "      <td>0.822698</td>\n",
       "      <td>-0.333993</td>\n",
       "      <td>-0.347824</td>\n",
       "      <td>0.366584</td>\n",
       "      <td>0.426347</td>\n",
       "      <td>0.142694</td>\n",
       "    </tr>\n",
       "    <tr>\n",
       "      <th>grad_150_value</th>\n",
       "      <td>0.036642</td>\n",
       "      <td>-0.081164</td>\n",
       "      <td>0.351622</td>\n",
       "      <td>0.415342</td>\n",
       "      <td>0.461919</td>\n",
       "      <td>0.054361</td>\n",
       "      <td>0.296587</td>\n",
       "      <td>0.329882</td>\n",
       "      <td>0.016018</td>\n",
       "      <td>0.520504</td>\n",
       "      <td>0.254356</td>\n",
       "      <td>0.853212</td>\n",
       "      <td>0.597967</td>\n",
       "      <td>1.000000</td>\n",
       "      <td>0.727087</td>\n",
       "      <td>-0.247644</td>\n",
       "      <td>-0.340836</td>\n",
       "      <td>0.651543</td>\n",
       "      <td>0.465021</td>\n",
       "      <td>0.117559</td>\n",
       "    </tr>\n",
       "    <tr>\n",
       "      <th>grad_150_percentile</th>\n",
       "      <td>-0.052892</td>\n",
       "      <td>0.057620</td>\n",
       "      <td>0.184945</td>\n",
       "      <td>0.063166</td>\n",
       "      <td>-0.003630</td>\n",
       "      <td>-0.008021</td>\n",
       "      <td>0.036651</td>\n",
       "      <td>-0.003934</td>\n",
       "      <td>0.001510</td>\n",
       "      <td>0.257222</td>\n",
       "      <td>0.282498</td>\n",
       "      <td>0.638991</td>\n",
       "      <td>0.822698</td>\n",
       "      <td>0.727087</td>\n",
       "      <td>1.000000</td>\n",
       "      <td>-0.355584</td>\n",
       "      <td>-0.437538</td>\n",
       "      <td>0.473599</td>\n",
       "      <td>0.583612</td>\n",
       "      <td>0.192656</td>\n",
       "    </tr>\n",
       "    <tr>\n",
       "      <th>pell_value</th>\n",
       "      <td>0.228432</td>\n",
       "      <td>-0.253487</td>\n",
       "      <td>0.201651</td>\n",
       "      <td>0.349796</td>\n",
       "      <td>0.409548</td>\n",
       "      <td>-0.125575</td>\n",
       "      <td>-0.340603</td>\n",
       "      <td>-0.361074</td>\n",
       "      <td>-0.085182</td>\n",
       "      <td>-0.366146</td>\n",
       "      <td>-0.061245</td>\n",
       "      <td>-0.268714</td>\n",
       "      <td>-0.333993</td>\n",
       "      <td>-0.247644</td>\n",
       "      <td>-0.355584</td>\n",
       "      <td>1.000000</td>\n",
       "      <td>0.791325</td>\n",
       "      <td>-0.423965</td>\n",
       "      <td>-0.388621</td>\n",
       "      <td>-0.255006</td>\n",
       "    </tr>\n",
       "    <tr>\n",
       "      <th>pell_percentile</th>\n",
       "      <td>0.032491</td>\n",
       "      <td>-0.159960</td>\n",
       "      <td>-0.026262</td>\n",
       "      <td>-0.004632</td>\n",
       "      <td>-0.008814</td>\n",
       "      <td>-0.078116</td>\n",
       "      <td>-0.064948</td>\n",
       "      <td>0.000467</td>\n",
       "      <td>-0.157135</td>\n",
       "      <td>-0.192807</td>\n",
       "      <td>-0.052261</td>\n",
       "      <td>-0.323620</td>\n",
       "      <td>-0.347824</td>\n",
       "      <td>-0.340836</td>\n",
       "      <td>-0.437538</td>\n",
       "      <td>0.791325</td>\n",
       "      <td>1.000000</td>\n",
       "      <td>-0.345512</td>\n",
       "      <td>-0.451942</td>\n",
       "      <td>-0.175457</td>\n",
       "    </tr>\n",
       "    <tr>\n",
       "      <th>retain_value</th>\n",
       "      <td>-0.109598</td>\n",
       "      <td>0.111270</td>\n",
       "      <td>0.130746</td>\n",
       "      <td>0.114697</td>\n",
       "      <td>0.132783</td>\n",
       "      <td>0.105842</td>\n",
       "      <td>0.368601</td>\n",
       "      <td>0.395234</td>\n",
       "      <td>0.036458</td>\n",
       "      <td>0.469687</td>\n",
       "      <td>0.190706</td>\n",
       "      <td>0.540622</td>\n",
       "      <td>0.366584</td>\n",
       "      <td>0.651543</td>\n",
       "      <td>0.473599</td>\n",
       "      <td>-0.423965</td>\n",
       "      <td>-0.345512</td>\n",
       "      <td>1.000000</td>\n",
       "      <td>0.812449</td>\n",
       "      <td>0.236683</td>\n",
       "    </tr>\n",
       "    <tr>\n",
       "      <th>retain_percentile</th>\n",
       "      <td>-0.098326</td>\n",
       "      <td>0.202730</td>\n",
       "      <td>0.104256</td>\n",
       "      <td>0.023109</td>\n",
       "      <td>-0.005987</td>\n",
       "      <td>0.040489</td>\n",
       "      <td>0.086079</td>\n",
       "      <td>0.020342</td>\n",
       "      <td>0.075121</td>\n",
       "      <td>0.232307</td>\n",
       "      <td>0.184611</td>\n",
       "      <td>0.395731</td>\n",
       "      <td>0.426347</td>\n",
       "      <td>0.465021</td>\n",
       "      <td>0.583612</td>\n",
       "      <td>-0.388621</td>\n",
       "      <td>-0.451942</td>\n",
       "      <td>0.812449</td>\n",
       "      <td>1.000000</td>\n",
       "      <td>0.264844</td>\n",
       "    </tr>\n",
       "    <tr>\n",
       "      <th>cohort_size</th>\n",
       "      <td>-0.146959</td>\n",
       "      <td>0.744660</td>\n",
       "      <td>-0.090817</td>\n",
       "      <td>-0.156145</td>\n",
       "      <td>-0.189356</td>\n",
       "      <td>-0.009876</td>\n",
       "      <td>0.012234</td>\n",
       "      <td>-0.032558</td>\n",
       "      <td>0.088539</td>\n",
       "      <td>-0.002471</td>\n",
       "      <td>0.153200</td>\n",
       "      <td>0.023936</td>\n",
       "      <td>0.142694</td>\n",
       "      <td>0.117559</td>\n",
       "      <td>0.192656</td>\n",
       "      <td>-0.255006</td>\n",
       "      <td>-0.175457</td>\n",
       "      <td>0.236683</td>\n",
       "      <td>0.264844</td>\n",
       "      <td>1.000000</td>\n",
       "    </tr>\n",
       "  </tbody>\n",
       "</table>\n",
       "</div>"
      ],
      "text/plain": [
       "                           index  student_count  awards_per_value  \\\n",
       "index                   1.000000      -0.159792          0.158856   \n",
       "student_count          -0.159792       1.000000         -0.182886   \n",
       "awards_per_value        0.158856      -0.182886          1.000000   \n",
       "awards_per_state_value  0.261562      -0.275140          0.592724   \n",
       "awards_per_natl_value   0.312253      -0.303494          0.520740   \n",
       "exp_award_value        -0.014937      -0.038292         -0.180252   \n",
       "exp_award_state_value  -0.181310      -0.048320         -0.190546   \n",
       "exp_award_natl_value   -0.181634      -0.072832         -0.177048   \n",
       "exp_award_percentile   -0.007905       0.008415         -0.252501   \n",
       "aid_value              -0.120668      -0.112349         -0.040245   \n",
       "aid_percentile         -0.030349       0.008742          0.026450   \n",
       "grad_100_value          0.031193      -0.138051          0.308617   \n",
       "grad_100_percentile    -0.041326       0.005701          0.180637   \n",
       "grad_150_value          0.036642      -0.081164          0.351622   \n",
       "grad_150_percentile    -0.052892       0.057620          0.184945   \n",
       "pell_value              0.228432      -0.253487          0.201651   \n",
       "pell_percentile         0.032491      -0.159960         -0.026262   \n",
       "retain_value           -0.109598       0.111270          0.130746   \n",
       "retain_percentile      -0.098326       0.202730          0.104256   \n",
       "cohort_size            -0.146959       0.744660         -0.090817   \n",
       "\n",
       "                        awards_per_state_value  awards_per_natl_value  \\\n",
       "index                                 0.261562               0.312253   \n",
       "student_count                        -0.275140              -0.303494   \n",
       "awards_per_value                      0.592724               0.520740   \n",
       "awards_per_state_value                1.000000               0.834915   \n",
       "awards_per_natl_value                 0.834915               1.000000   \n",
       "exp_award_value                      -0.045491              -0.016720   \n",
       "exp_award_state_value                -0.201211              -0.101575   \n",
       "exp_award_natl_value                 -0.172725              -0.119132   \n",
       "exp_award_percentile                 -0.055855               0.012804   \n",
       "aid_value                            -0.010431               0.036382   \n",
       "aid_percentile                        0.017994               0.002333   \n",
       "grad_100_value                        0.301843               0.331156   \n",
       "grad_100_percentile                   0.021896              -0.058285   \n",
       "grad_150_value                        0.415342               0.461919   \n",
       "grad_150_percentile                   0.063166              -0.003630   \n",
       "pell_value                            0.349796               0.409548   \n",
       "pell_percentile                      -0.004632              -0.008814   \n",
       "retain_value                          0.114697               0.132783   \n",
       "retain_percentile                     0.023109              -0.005987   \n",
       "cohort_size                          -0.156145              -0.189356   \n",
       "\n",
       "                        exp_award_value  exp_award_state_value  \\\n",
       "index                         -0.014937              -0.181310   \n",
       "student_count                 -0.038292              -0.048320   \n",
       "awards_per_value              -0.180252              -0.190546   \n",
       "awards_per_state_value        -0.045491              -0.201211   \n",
       "awards_per_natl_value         -0.016720              -0.101575   \n",
       "exp_award_value                1.000000               0.245963   \n",
       "exp_award_state_value          0.245963               1.000000   \n",
       "exp_award_natl_value           0.229717               0.808966   \n",
       "exp_award_percentile           0.352484               0.148450   \n",
       "aid_value                      0.254816               0.651093   \n",
       "aid_percentile                 0.065539               0.098945   \n",
       "grad_100_value                 0.091841               0.318802   \n",
       "grad_100_percentile           -0.002238               0.049520   \n",
       "grad_150_value                 0.054361               0.296587   \n",
       "grad_150_percentile           -0.008021               0.036651   \n",
       "pell_value                    -0.125575              -0.340603   \n",
       "pell_percentile               -0.078116              -0.064948   \n",
       "retain_value                   0.105842               0.368601   \n",
       "retain_percentile              0.040489               0.086079   \n",
       "cohort_size                   -0.009876               0.012234   \n",
       "\n",
       "                        exp_award_natl_value  exp_award_percentile  aid_value  \\\n",
       "index                              -0.181634             -0.007905  -0.120668   \n",
       "student_count                      -0.072832              0.008415  -0.112349   \n",
       "awards_per_value                   -0.177048             -0.252501  -0.040245   \n",
       "awards_per_state_value             -0.172725             -0.055855  -0.010431   \n",
       "awards_per_natl_value              -0.119132              0.012804   0.036382   \n",
       "exp_award_value                     0.229717              0.352484   0.254816   \n",
       "exp_award_state_value               0.808966              0.148450   0.651093   \n",
       "exp_award_natl_value                1.000000             -0.004882   0.704609   \n",
       "exp_award_percentile               -0.004882              1.000000   0.204971   \n",
       "aid_value                           0.704609              0.204971   1.000000   \n",
       "aid_percentile                      0.024723              0.215906   0.510248   \n",
       "grad_100_value                      0.345117              0.061574   0.581244   \n",
       "grad_100_percentile                 0.015254              0.010189   0.279616   \n",
       "grad_150_value                      0.329882              0.016018   0.520504   \n",
       "grad_150_percentile                -0.003934              0.001510   0.257222   \n",
       "pell_value                         -0.361074             -0.085182  -0.366146   \n",
       "pell_percentile                     0.000467             -0.157135  -0.192807   \n",
       "retain_value                        0.395234              0.036458   0.469687   \n",
       "retain_percentile                   0.020342              0.075121   0.232307   \n",
       "cohort_size                        -0.032558              0.088539  -0.002471   \n",
       "\n",
       "                        aid_percentile  grad_100_value  grad_100_percentile  \\\n",
       "index                        -0.030349        0.031193            -0.041326   \n",
       "student_count                 0.008742       -0.138051             0.005701   \n",
       "awards_per_value              0.026450        0.308617             0.180637   \n",
       "awards_per_state_value        0.017994        0.301843             0.021896   \n",
       "awards_per_natl_value         0.002333        0.331156            -0.058285   \n",
       "exp_award_value               0.065539        0.091841            -0.002238   \n",
       "exp_award_state_value         0.098945        0.318802             0.049520   \n",
       "exp_award_natl_value          0.024723        0.345117             0.015254   \n",
       "exp_award_percentile          0.215906        0.061574             0.010189   \n",
       "aid_value                     0.510248        0.581244             0.279616   \n",
       "aid_percentile                1.000000        0.324279             0.354036   \n",
       "grad_100_value                0.324279        1.000000             0.766238   \n",
       "grad_100_percentile           0.354036        0.766238             1.000000   \n",
       "grad_150_value                0.254356        0.853212             0.597967   \n",
       "grad_150_percentile           0.282498        0.638991             0.822698   \n",
       "pell_value                   -0.061245       -0.268714            -0.333993   \n",
       "pell_percentile              -0.052261       -0.323620            -0.347824   \n",
       "retain_value                  0.190706        0.540622             0.366584   \n",
       "retain_percentile             0.184611        0.395731             0.426347   \n",
       "cohort_size                   0.153200        0.023936             0.142694   \n",
       "\n",
       "                        grad_150_value  grad_150_percentile  pell_value  \\\n",
       "index                         0.036642            -0.052892    0.228432   \n",
       "student_count                -0.081164             0.057620   -0.253487   \n",
       "awards_per_value              0.351622             0.184945    0.201651   \n",
       "awards_per_state_value        0.415342             0.063166    0.349796   \n",
       "awards_per_natl_value         0.461919            -0.003630    0.409548   \n",
       "exp_award_value               0.054361            -0.008021   -0.125575   \n",
       "exp_award_state_value         0.296587             0.036651   -0.340603   \n",
       "exp_award_natl_value          0.329882            -0.003934   -0.361074   \n",
       "exp_award_percentile          0.016018             0.001510   -0.085182   \n",
       "aid_value                     0.520504             0.257222   -0.366146   \n",
       "aid_percentile                0.254356             0.282498   -0.061245   \n",
       "grad_100_value                0.853212             0.638991   -0.268714   \n",
       "grad_100_percentile           0.597967             0.822698   -0.333993   \n",
       "grad_150_value                1.000000             0.727087   -0.247644   \n",
       "grad_150_percentile           0.727087             1.000000   -0.355584   \n",
       "pell_value                   -0.247644            -0.355584    1.000000   \n",
       "pell_percentile              -0.340836            -0.437538    0.791325   \n",
       "retain_value                  0.651543             0.473599   -0.423965   \n",
       "retain_percentile             0.465021             0.583612   -0.388621   \n",
       "cohort_size                   0.117559             0.192656   -0.255006   \n",
       "\n",
       "                        pell_percentile  retain_value  retain_percentile  \\\n",
       "index                          0.032491     -0.109598          -0.098326   \n",
       "student_count                 -0.159960      0.111270           0.202730   \n",
       "awards_per_value              -0.026262      0.130746           0.104256   \n",
       "awards_per_state_value        -0.004632      0.114697           0.023109   \n",
       "awards_per_natl_value         -0.008814      0.132783          -0.005987   \n",
       "exp_award_value               -0.078116      0.105842           0.040489   \n",
       "exp_award_state_value         -0.064948      0.368601           0.086079   \n",
       "exp_award_natl_value           0.000467      0.395234           0.020342   \n",
       "exp_award_percentile          -0.157135      0.036458           0.075121   \n",
       "aid_value                     -0.192807      0.469687           0.232307   \n",
       "aid_percentile                -0.052261      0.190706           0.184611   \n",
       "grad_100_value                -0.323620      0.540622           0.395731   \n",
       "grad_100_percentile           -0.347824      0.366584           0.426347   \n",
       "grad_150_value                -0.340836      0.651543           0.465021   \n",
       "grad_150_percentile           -0.437538      0.473599           0.583612   \n",
       "pell_value                     0.791325     -0.423965          -0.388621   \n",
       "pell_percentile                1.000000     -0.345512          -0.451942   \n",
       "retain_value                  -0.345512      1.000000           0.812449   \n",
       "retain_percentile             -0.451942      0.812449           1.000000   \n",
       "cohort_size                   -0.175457      0.236683           0.264844   \n",
       "\n",
       "                        cohort_size  \n",
       "index                     -0.146959  \n",
       "student_count              0.744660  \n",
       "awards_per_value          -0.090817  \n",
       "awards_per_state_value    -0.156145  \n",
       "awards_per_natl_value     -0.189356  \n",
       "exp_award_value           -0.009876  \n",
       "exp_award_state_value      0.012234  \n",
       "exp_award_natl_value      -0.032558  \n",
       "exp_award_percentile       0.088539  \n",
       "aid_value                 -0.002471  \n",
       "aid_percentile             0.153200  \n",
       "grad_100_value             0.023936  \n",
       "grad_100_percentile        0.142694  \n",
       "grad_150_value             0.117559  \n",
       "grad_150_percentile        0.192656  \n",
       "pell_value                -0.255006  \n",
       "pell_percentile           -0.175457  \n",
       "retain_value               0.236683  \n",
       "retain_percentile          0.264844  \n",
       "cohort_size                1.000000  "
      ]
     },
     "execution_count": 36,
     "metadata": {},
     "output_type": "execute_result"
    }
   ],
   "source": [
    "# Check for correlation of the numerical values\n",
    "\n",
    "df.corr()"
   ]
  },
  {
   "cell_type": "markdown",
   "metadata": {
    "id": "BVWxq55zb8XJ"
   },
   "source": [
    "Cohort size has a very low correlation (less than 5%) with grad_100_value while student_count is negatively correlated with grad_100_value. So we will drop the colume cohort_size."
   ]
  },
  {
   "cell_type": "code",
   "execution_count": 37,
   "metadata": {
    "id": "dR9MY8ZIcoDI"
   },
   "outputs": [],
   "source": [
    "# Drop column for cohort size and index\n",
    "\n",
    "df.drop(['cohort_size', 'index'], axis = 1, inplace  = True)"
   ]
  },
  {
   "cell_type": "code",
   "execution_count": 38,
   "metadata": {
    "colab": {
     "base_uri": "https://localhost:8080/"
    },
    "id": "idwP9tLUeDYp",
    "outputId": "4057c44b-7f21-4bcd-f7ae-b99190ee2701"
   },
   "outputs": [
    {
     "name": "stdout",
     "output_type": "stream",
     "text": [
      "<class 'pandas.core.frame.DataFrame'>\n",
      "Int64Index: 33790 entries, 0 to 699639\n",
      "Data columns (total 22 columns):\n",
      " #   Column                  Non-Null Count  Dtype  \n",
      "---  ------                  --------------  -----  \n",
      " 0   level                   33790 non-null  object \n",
      " 1   control                 33790 non-null  object \n",
      " 2   gender                  33790 non-null  object \n",
      " 3   race                    33790 non-null  object \n",
      " 4   student_count           33790 non-null  int64  \n",
      " 5   awards_per_value        33790 non-null  float64\n",
      " 6   awards_per_state_value  33790 non-null  float64\n",
      " 7   awards_per_natl_value   33790 non-null  float64\n",
      " 8   exp_award_value         33790 non-null  int64  \n",
      " 9   exp_award_state_value   33790 non-null  int64  \n",
      " 10  exp_award_natl_value    33790 non-null  int64  \n",
      " 11  exp_award_percentile    33790 non-null  int64  \n",
      " 12  aid_value               33790 non-null  float64\n",
      " 13  aid_percentile          33790 non-null  float64\n",
      " 14  grad_100_value          33790 non-null  float64\n",
      " 15  grad_100_percentile     33790 non-null  float64\n",
      " 16  grad_150_value          33790 non-null  float64\n",
      " 17  grad_150_percentile     33790 non-null  float64\n",
      " 18  pell_value              33790 non-null  float64\n",
      " 19  pell_percentile         33790 non-null  float64\n",
      " 20  retain_value            33790 non-null  float64\n",
      " 21  retain_percentile       33790 non-null  float64\n",
      "dtypes: float64(13), int64(5), object(4)\n",
      "memory usage: 5.9+ MB\n"
     ]
    }
   ],
   "source": [
    "df.info()"
   ]
  },
  {
   "cell_type": "markdown",
   "metadata": {
    "id": "p6oe0CxjeHCn"
   },
   "source": [
    "Our data is now clean and free from null values."
   ]
  },
  {
   "cell_type": "code",
   "execution_count": 39,
   "metadata": {
    "colab": {
     "base_uri": "https://localhost:8080/",
     "height": 300
    },
    "id": "m1M7ugCGfYTe",
    "outputId": "9613c3f5-8e7e-43ff-e91d-5ec4dfa867ca"
   },
   "outputs": [
    {
     "data": {
      "text/html": [
       "<div>\n",
       "<style scoped>\n",
       "    .dataframe tbody tr th:only-of-type {\n",
       "        vertical-align: middle;\n",
       "    }\n",
       "\n",
       "    .dataframe tbody tr th {\n",
       "        vertical-align: top;\n",
       "    }\n",
       "\n",
       "    .dataframe thead th {\n",
       "        text-align: right;\n",
       "    }\n",
       "</style>\n",
       "<table border=\"1\" class=\"dataframe\">\n",
       "  <thead>\n",
       "    <tr style=\"text-align: right;\">\n",
       "      <th></th>\n",
       "      <th>level</th>\n",
       "      <th>control</th>\n",
       "      <th>gender</th>\n",
       "      <th>race</th>\n",
       "      <th>student_count</th>\n",
       "      <th>awards_per_value</th>\n",
       "      <th>awards_per_state_value</th>\n",
       "      <th>awards_per_natl_value</th>\n",
       "      <th>exp_award_value</th>\n",
       "      <th>exp_award_state_value</th>\n",
       "      <th>...</th>\n",
       "      <th>aid_value</th>\n",
       "      <th>aid_percentile</th>\n",
       "      <th>grad_100_value</th>\n",
       "      <th>grad_100_percentile</th>\n",
       "      <th>grad_150_value</th>\n",
       "      <th>grad_150_percentile</th>\n",
       "      <th>pell_value</th>\n",
       "      <th>pell_percentile</th>\n",
       "      <th>retain_value</th>\n",
       "      <th>retain_percentile</th>\n",
       "    </tr>\n",
       "  </thead>\n",
       "  <tbody>\n",
       "    <tr>\n",
       "      <th>0</th>\n",
       "      <td>4-year</td>\n",
       "      <td>Public</td>\n",
       "      <td>M</td>\n",
       "      <td>W</td>\n",
       "      <td>4051</td>\n",
       "      <td>14.2</td>\n",
       "      <td>18.8</td>\n",
       "      <td>21.5</td>\n",
       "      <td>105331</td>\n",
       "      <td>75743</td>\n",
       "      <td>...</td>\n",
       "      <td>7142.0</td>\n",
       "      <td>72.0</td>\n",
       "      <td>10.0</td>\n",
       "      <td>15.0</td>\n",
       "      <td>29.1</td>\n",
       "      <td>14.0</td>\n",
       "      <td>71.2</td>\n",
       "      <td>98.0</td>\n",
       "      <td>63.1</td>\n",
       "      <td>17.0</td>\n",
       "    </tr>\n",
       "    <tr>\n",
       "      <th>1</th>\n",
       "      <td>4-year</td>\n",
       "      <td>Public</td>\n",
       "      <td>F</td>\n",
       "      <td>W</td>\n",
       "      <td>4051</td>\n",
       "      <td>14.2</td>\n",
       "      <td>18.8</td>\n",
       "      <td>21.5</td>\n",
       "      <td>105331</td>\n",
       "      <td>75743</td>\n",
       "      <td>...</td>\n",
       "      <td>7142.0</td>\n",
       "      <td>72.0</td>\n",
       "      <td>10.0</td>\n",
       "      <td>15.0</td>\n",
       "      <td>29.1</td>\n",
       "      <td>14.0</td>\n",
       "      <td>71.2</td>\n",
       "      <td>98.0</td>\n",
       "      <td>63.1</td>\n",
       "      <td>17.0</td>\n",
       "    </tr>\n",
       "    <tr>\n",
       "      <th>2</th>\n",
       "      <td>4-year</td>\n",
       "      <td>Public</td>\n",
       "      <td>M</td>\n",
       "      <td>B</td>\n",
       "      <td>4051</td>\n",
       "      <td>14.2</td>\n",
       "      <td>18.8</td>\n",
       "      <td>21.5</td>\n",
       "      <td>105331</td>\n",
       "      <td>75743</td>\n",
       "      <td>...</td>\n",
       "      <td>7142.0</td>\n",
       "      <td>72.0</td>\n",
       "      <td>10.0</td>\n",
       "      <td>15.0</td>\n",
       "      <td>29.1</td>\n",
       "      <td>14.0</td>\n",
       "      <td>71.2</td>\n",
       "      <td>98.0</td>\n",
       "      <td>63.1</td>\n",
       "      <td>17.0</td>\n",
       "    </tr>\n",
       "    <tr>\n",
       "      <th>3</th>\n",
       "      <td>4-year</td>\n",
       "      <td>Public</td>\n",
       "      <td>F</td>\n",
       "      <td>B</td>\n",
       "      <td>4051</td>\n",
       "      <td>14.2</td>\n",
       "      <td>18.8</td>\n",
       "      <td>21.5</td>\n",
       "      <td>105331</td>\n",
       "      <td>75743</td>\n",
       "      <td>...</td>\n",
       "      <td>7142.0</td>\n",
       "      <td>72.0</td>\n",
       "      <td>10.0</td>\n",
       "      <td>15.0</td>\n",
       "      <td>29.1</td>\n",
       "      <td>14.0</td>\n",
       "      <td>71.2</td>\n",
       "      <td>98.0</td>\n",
       "      <td>63.1</td>\n",
       "      <td>17.0</td>\n",
       "    </tr>\n",
       "    <tr>\n",
       "      <th>4</th>\n",
       "      <td>4-year</td>\n",
       "      <td>Public</td>\n",
       "      <td>M</td>\n",
       "      <td>H</td>\n",
       "      <td>4051</td>\n",
       "      <td>14.2</td>\n",
       "      <td>18.8</td>\n",
       "      <td>21.5</td>\n",
       "      <td>105331</td>\n",
       "      <td>75743</td>\n",
       "      <td>...</td>\n",
       "      <td>7142.0</td>\n",
       "      <td>72.0</td>\n",
       "      <td>10.0</td>\n",
       "      <td>15.0</td>\n",
       "      <td>29.1</td>\n",
       "      <td>14.0</td>\n",
       "      <td>71.2</td>\n",
       "      <td>98.0</td>\n",
       "      <td>63.1</td>\n",
       "      <td>17.0</td>\n",
       "    </tr>\n",
       "  </tbody>\n",
       "</table>\n",
       "<p>5 rows × 22 columns</p>\n",
       "</div>"
      ],
      "text/plain": [
       "    level control gender race  student_count  awards_per_value  \\\n",
       "0  4-year  Public      M    W           4051              14.2   \n",
       "1  4-year  Public      F    W           4051              14.2   \n",
       "2  4-year  Public      M    B           4051              14.2   \n",
       "3  4-year  Public      F    B           4051              14.2   \n",
       "4  4-year  Public      M    H           4051              14.2   \n",
       "\n",
       "   awards_per_state_value  awards_per_natl_value  exp_award_value  \\\n",
       "0                    18.8                   21.5           105331   \n",
       "1                    18.8                   21.5           105331   \n",
       "2                    18.8                   21.5           105331   \n",
       "3                    18.8                   21.5           105331   \n",
       "4                    18.8                   21.5           105331   \n",
       "\n",
       "   exp_award_state_value  ...  aid_value  aid_percentile  grad_100_value  \\\n",
       "0                  75743  ...     7142.0            72.0            10.0   \n",
       "1                  75743  ...     7142.0            72.0            10.0   \n",
       "2                  75743  ...     7142.0            72.0            10.0   \n",
       "3                  75743  ...     7142.0            72.0            10.0   \n",
       "4                  75743  ...     7142.0            72.0            10.0   \n",
       "\n",
       "   grad_100_percentile  grad_150_value  grad_150_percentile  pell_value  \\\n",
       "0                 15.0            29.1                 14.0        71.2   \n",
       "1                 15.0            29.1                 14.0        71.2   \n",
       "2                 15.0            29.1                 14.0        71.2   \n",
       "3                 15.0            29.1                 14.0        71.2   \n",
       "4                 15.0            29.1                 14.0        71.2   \n",
       "\n",
       "   pell_percentile  retain_value  retain_percentile  \n",
       "0             98.0          63.1               17.0  \n",
       "1             98.0          63.1               17.0  \n",
       "2             98.0          63.1               17.0  \n",
       "3             98.0          63.1               17.0  \n",
       "4             98.0          63.1               17.0  \n",
       "\n",
       "[5 rows x 22 columns]"
      ]
     },
     "execution_count": 39,
     "metadata": {},
     "output_type": "execute_result"
    }
   ],
   "source": [
    "# Reset the index \n",
    "\n",
    "df = df.reset_index(drop = True)\n",
    "\n",
    "df.head()"
   ]
  },
  {
   "cell_type": "code",
   "execution_count": 40,
   "metadata": {
    "colab": {
     "base_uri": "https://localhost:8080/"
    },
    "id": "7Z2L-pVBloB6",
    "outputId": "a12e6bc7-6bab-446e-87a8-b96197129f30"
   },
   "outputs": [
    {
     "data": {
      "text/plain": [
       "level                      object\n",
       "control                    object\n",
       "gender                     object\n",
       "race                       object\n",
       "student_count               int64\n",
       "awards_per_value          float64\n",
       "awards_per_state_value    float64\n",
       "awards_per_natl_value     float64\n",
       "exp_award_value             int64\n",
       "exp_award_state_value       int64\n",
       "exp_award_natl_value        int64\n",
       "exp_award_percentile        int64\n",
       "aid_value                 float64\n",
       "aid_percentile            float64\n",
       "grad_100_value            float64\n",
       "grad_100_percentile       float64\n",
       "grad_150_value            float64\n",
       "grad_150_percentile       float64\n",
       "pell_value                float64\n",
       "pell_percentile           float64\n",
       "retain_value              float64\n",
       "retain_percentile         float64\n",
       "dtype: object"
      ]
     },
     "execution_count": 40,
     "metadata": {},
     "output_type": "execute_result"
    }
   ],
   "source": [
    "# Check for the datatypes\n",
    "df.dtypes"
   ]
  },
  {
   "cell_type": "markdown",
   "metadata": {
    "id": "jgVcpfGGgdDF"
   },
   "source": [
    "### Data Preprocessing"
   ]
  },
  {
   "cell_type": "code",
   "execution_count": 41,
   "metadata": {
    "colab": {
     "base_uri": "https://localhost:8080/",
     "height": 317
    },
    "id": "wwzonyffloB6",
    "outputId": "4f30c932-9de1-43ae-b3d4-c15dbd3bee78"
   },
   "outputs": [
    {
     "data": {
      "text/html": [
       "<div>\n",
       "<style scoped>\n",
       "    .dataframe tbody tr th:only-of-type {\n",
       "        vertical-align: middle;\n",
       "    }\n",
       "\n",
       "    .dataframe tbody tr th {\n",
       "        vertical-align: top;\n",
       "    }\n",
       "\n",
       "    .dataframe thead th {\n",
       "        text-align: right;\n",
       "    }\n",
       "</style>\n",
       "<table border=\"1\" class=\"dataframe\">\n",
       "  <thead>\n",
       "    <tr style=\"text-align: right;\">\n",
       "      <th></th>\n",
       "      <th>student_count</th>\n",
       "      <th>awards_per_value</th>\n",
       "      <th>awards_per_state_value</th>\n",
       "      <th>awards_per_natl_value</th>\n",
       "      <th>exp_award_value</th>\n",
       "      <th>exp_award_state_value</th>\n",
       "      <th>exp_award_natl_value</th>\n",
       "      <th>exp_award_percentile</th>\n",
       "      <th>aid_value</th>\n",
       "      <th>aid_percentile</th>\n",
       "      <th>...</th>\n",
       "      <th>control_Private for-profit</th>\n",
       "      <th>control_Private not-for-profit</th>\n",
       "      <th>control_Public</th>\n",
       "      <th>gender_F</th>\n",
       "      <th>gender_M</th>\n",
       "      <th>race_A</th>\n",
       "      <th>race_Ai</th>\n",
       "      <th>race_B</th>\n",
       "      <th>race_H</th>\n",
       "      <th>race_W</th>\n",
       "    </tr>\n",
       "  </thead>\n",
       "  <tbody>\n",
       "    <tr>\n",
       "      <th>0</th>\n",
       "      <td>4051</td>\n",
       "      <td>14.2</td>\n",
       "      <td>18.8</td>\n",
       "      <td>21.5</td>\n",
       "      <td>105331</td>\n",
       "      <td>75743</td>\n",
       "      <td>66436</td>\n",
       "      <td>90</td>\n",
       "      <td>7142.0</td>\n",
       "      <td>72.0</td>\n",
       "      <td>...</td>\n",
       "      <td>0</td>\n",
       "      <td>0</td>\n",
       "      <td>1</td>\n",
       "      <td>0</td>\n",
       "      <td>1</td>\n",
       "      <td>0</td>\n",
       "      <td>0</td>\n",
       "      <td>0</td>\n",
       "      <td>0</td>\n",
       "      <td>1</td>\n",
       "    </tr>\n",
       "    <tr>\n",
       "      <th>1</th>\n",
       "      <td>4051</td>\n",
       "      <td>14.2</td>\n",
       "      <td>18.8</td>\n",
       "      <td>21.5</td>\n",
       "      <td>105331</td>\n",
       "      <td>75743</td>\n",
       "      <td>66436</td>\n",
       "      <td>90</td>\n",
       "      <td>7142.0</td>\n",
       "      <td>72.0</td>\n",
       "      <td>...</td>\n",
       "      <td>0</td>\n",
       "      <td>0</td>\n",
       "      <td>1</td>\n",
       "      <td>1</td>\n",
       "      <td>0</td>\n",
       "      <td>0</td>\n",
       "      <td>0</td>\n",
       "      <td>0</td>\n",
       "      <td>0</td>\n",
       "      <td>1</td>\n",
       "    </tr>\n",
       "    <tr>\n",
       "      <th>2</th>\n",
       "      <td>4051</td>\n",
       "      <td>14.2</td>\n",
       "      <td>18.8</td>\n",
       "      <td>21.5</td>\n",
       "      <td>105331</td>\n",
       "      <td>75743</td>\n",
       "      <td>66436</td>\n",
       "      <td>90</td>\n",
       "      <td>7142.0</td>\n",
       "      <td>72.0</td>\n",
       "      <td>...</td>\n",
       "      <td>0</td>\n",
       "      <td>0</td>\n",
       "      <td>1</td>\n",
       "      <td>0</td>\n",
       "      <td>1</td>\n",
       "      <td>0</td>\n",
       "      <td>0</td>\n",
       "      <td>1</td>\n",
       "      <td>0</td>\n",
       "      <td>0</td>\n",
       "    </tr>\n",
       "    <tr>\n",
       "      <th>3</th>\n",
       "      <td>4051</td>\n",
       "      <td>14.2</td>\n",
       "      <td>18.8</td>\n",
       "      <td>21.5</td>\n",
       "      <td>105331</td>\n",
       "      <td>75743</td>\n",
       "      <td>66436</td>\n",
       "      <td>90</td>\n",
       "      <td>7142.0</td>\n",
       "      <td>72.0</td>\n",
       "      <td>...</td>\n",
       "      <td>0</td>\n",
       "      <td>0</td>\n",
       "      <td>1</td>\n",
       "      <td>1</td>\n",
       "      <td>0</td>\n",
       "      <td>0</td>\n",
       "      <td>0</td>\n",
       "      <td>1</td>\n",
       "      <td>0</td>\n",
       "      <td>0</td>\n",
       "    </tr>\n",
       "    <tr>\n",
       "      <th>4</th>\n",
       "      <td>4051</td>\n",
       "      <td>14.2</td>\n",
       "      <td>18.8</td>\n",
       "      <td>21.5</td>\n",
       "      <td>105331</td>\n",
       "      <td>75743</td>\n",
       "      <td>66436</td>\n",
       "      <td>90</td>\n",
       "      <td>7142.0</td>\n",
       "      <td>72.0</td>\n",
       "      <td>...</td>\n",
       "      <td>0</td>\n",
       "      <td>0</td>\n",
       "      <td>1</td>\n",
       "      <td>0</td>\n",
       "      <td>1</td>\n",
       "      <td>0</td>\n",
       "      <td>0</td>\n",
       "      <td>0</td>\n",
       "      <td>1</td>\n",
       "      <td>0</td>\n",
       "    </tr>\n",
       "  </tbody>\n",
       "</table>\n",
       "<p>5 rows × 30 columns</p>\n",
       "</div>"
      ],
      "text/plain": [
       "   student_count  awards_per_value  awards_per_state_value  \\\n",
       "0           4051              14.2                    18.8   \n",
       "1           4051              14.2                    18.8   \n",
       "2           4051              14.2                    18.8   \n",
       "3           4051              14.2                    18.8   \n",
       "4           4051              14.2                    18.8   \n",
       "\n",
       "   awards_per_natl_value  exp_award_value  exp_award_state_value  \\\n",
       "0                   21.5           105331                  75743   \n",
       "1                   21.5           105331                  75743   \n",
       "2                   21.5           105331                  75743   \n",
       "3                   21.5           105331                  75743   \n",
       "4                   21.5           105331                  75743   \n",
       "\n",
       "   exp_award_natl_value  exp_award_percentile  aid_value  aid_percentile  ...  \\\n",
       "0                 66436                    90     7142.0            72.0  ...   \n",
       "1                 66436                    90     7142.0            72.0  ...   \n",
       "2                 66436                    90     7142.0            72.0  ...   \n",
       "3                 66436                    90     7142.0            72.0  ...   \n",
       "4                 66436                    90     7142.0            72.0  ...   \n",
       "\n",
       "   control_Private for-profit  control_Private not-for-profit  control_Public  \\\n",
       "0                           0                               0               1   \n",
       "1                           0                               0               1   \n",
       "2                           0                               0               1   \n",
       "3                           0                               0               1   \n",
       "4                           0                               0               1   \n",
       "\n",
       "   gender_F  gender_M  race_A  race_Ai  race_B  race_H  race_W  \n",
       "0         0         1       0        0       0       0       1  \n",
       "1         1         0       0        0       0       0       1  \n",
       "2         0         1       0        0       1       0       0  \n",
       "3         1         0       0        0       1       0       0  \n",
       "4         0         1       0        0       0       1       0  \n",
       "\n",
       "[5 rows x 30 columns]"
      ]
     },
     "execution_count": 41,
     "metadata": {},
     "output_type": "execute_result"
    }
   ],
   "source": [
    "# Creating dummy variables for the categorical variables\n",
    "# dont do drop_first = True here \n",
    "# for control we have 3 different types so it drops the first one\n",
    "# drop_first = True is good for things that are one or the other like yes/no, male/female, pass/fail \n",
    "# we could use it for the 2-year / 4-year if you wanted but i think it is okay to keep for now \n",
    "\n",
    "train_features = df\n",
    "train_features = pd.get_dummies(train_features, drop_first = False)\n",
    "\n",
    "train_features.head()"
   ]
  },
  {
   "cell_type": "code",
   "execution_count": 42,
   "metadata": {
    "id": "gXVzsGvgloB6"
   },
   "outputs": [],
   "source": [
    "## read more about the minmaxscaler here: https://scikit-learn.org/stable/modules/generated/sklearn.preprocessing.MinMaxScaler.html"
   ]
  },
  {
   "cell_type": "code",
   "execution_count": 43,
   "metadata": {
    "colab": {
     "base_uri": "https://localhost:8080/",
     "height": 317
    },
    "id": "ejOQNavNloB7",
    "outputId": "4edead4d-e651-4f7b-8121-69c4aa993a5b"
   },
   "outputs": [
    {
     "data": {
      "text/html": [
       "<div>\n",
       "<style scoped>\n",
       "    .dataframe tbody tr th:only-of-type {\n",
       "        vertical-align: middle;\n",
       "    }\n",
       "\n",
       "    .dataframe tbody tr th {\n",
       "        vertical-align: top;\n",
       "    }\n",
       "\n",
       "    .dataframe thead th {\n",
       "        text-align: right;\n",
       "    }\n",
       "</style>\n",
       "<table border=\"1\" class=\"dataframe\">\n",
       "  <thead>\n",
       "    <tr style=\"text-align: right;\">\n",
       "      <th></th>\n",
       "      <th>student_count</th>\n",
       "      <th>awards_per_value</th>\n",
       "      <th>awards_per_state_value</th>\n",
       "      <th>awards_per_natl_value</th>\n",
       "      <th>exp_award_value</th>\n",
       "      <th>exp_award_state_value</th>\n",
       "      <th>exp_award_natl_value</th>\n",
       "      <th>exp_award_percentile</th>\n",
       "      <th>aid_value</th>\n",
       "      <th>aid_percentile</th>\n",
       "      <th>...</th>\n",
       "      <th>control_Private for-profit</th>\n",
       "      <th>control_Private not-for-profit</th>\n",
       "      <th>control_Public</th>\n",
       "      <th>gender_F</th>\n",
       "      <th>gender_M</th>\n",
       "      <th>race_A</th>\n",
       "      <th>race_Ai</th>\n",
       "      <th>race_B</th>\n",
       "      <th>race_H</th>\n",
       "      <th>race_W</th>\n",
       "    </tr>\n",
       "  </thead>\n",
       "  <tbody>\n",
       "    <tr>\n",
       "      <th>0</th>\n",
       "      <td>0.023677</td>\n",
       "      <td>0.1049</td>\n",
       "      <td>0.275132</td>\n",
       "      <td>0.306748</td>\n",
       "      <td>0.019941</td>\n",
       "      <td>0.359141</td>\n",
       "      <td>0.541284</td>\n",
       "      <td>0.9</td>\n",
       "      <td>0.165867</td>\n",
       "      <td>0.72</td>\n",
       "      <td>...</td>\n",
       "      <td>0.0</td>\n",
       "      <td>0.0</td>\n",
       "      <td>1.0</td>\n",
       "      <td>0.0</td>\n",
       "      <td>1.0</td>\n",
       "      <td>0.0</td>\n",
       "      <td>0.0</td>\n",
       "      <td>0.0</td>\n",
       "      <td>0.0</td>\n",
       "      <td>1.0</td>\n",
       "    </tr>\n",
       "    <tr>\n",
       "      <th>1</th>\n",
       "      <td>0.023677</td>\n",
       "      <td>0.1049</td>\n",
       "      <td>0.275132</td>\n",
       "      <td>0.306748</td>\n",
       "      <td>0.019941</td>\n",
       "      <td>0.359141</td>\n",
       "      <td>0.541284</td>\n",
       "      <td>0.9</td>\n",
       "      <td>0.165867</td>\n",
       "      <td>0.72</td>\n",
       "      <td>...</td>\n",
       "      <td>0.0</td>\n",
       "      <td>0.0</td>\n",
       "      <td>1.0</td>\n",
       "      <td>1.0</td>\n",
       "      <td>0.0</td>\n",
       "      <td>0.0</td>\n",
       "      <td>0.0</td>\n",
       "      <td>0.0</td>\n",
       "      <td>0.0</td>\n",
       "      <td>1.0</td>\n",
       "    </tr>\n",
       "    <tr>\n",
       "      <th>2</th>\n",
       "      <td>0.023677</td>\n",
       "      <td>0.1049</td>\n",
       "      <td>0.275132</td>\n",
       "      <td>0.306748</td>\n",
       "      <td>0.019941</td>\n",
       "      <td>0.359141</td>\n",
       "      <td>0.541284</td>\n",
       "      <td>0.9</td>\n",
       "      <td>0.165867</td>\n",
       "      <td>0.72</td>\n",
       "      <td>...</td>\n",
       "      <td>0.0</td>\n",
       "      <td>0.0</td>\n",
       "      <td>1.0</td>\n",
       "      <td>0.0</td>\n",
       "      <td>1.0</td>\n",
       "      <td>0.0</td>\n",
       "      <td>0.0</td>\n",
       "      <td>1.0</td>\n",
       "      <td>0.0</td>\n",
       "      <td>0.0</td>\n",
       "    </tr>\n",
       "    <tr>\n",
       "      <th>3</th>\n",
       "      <td>0.023677</td>\n",
       "      <td>0.1049</td>\n",
       "      <td>0.275132</td>\n",
       "      <td>0.306748</td>\n",
       "      <td>0.019941</td>\n",
       "      <td>0.359141</td>\n",
       "      <td>0.541284</td>\n",
       "      <td>0.9</td>\n",
       "      <td>0.165867</td>\n",
       "      <td>0.72</td>\n",
       "      <td>...</td>\n",
       "      <td>0.0</td>\n",
       "      <td>0.0</td>\n",
       "      <td>1.0</td>\n",
       "      <td>1.0</td>\n",
       "      <td>0.0</td>\n",
       "      <td>0.0</td>\n",
       "      <td>0.0</td>\n",
       "      <td>1.0</td>\n",
       "      <td>0.0</td>\n",
       "      <td>0.0</td>\n",
       "    </tr>\n",
       "    <tr>\n",
       "      <th>4</th>\n",
       "      <td>0.023677</td>\n",
       "      <td>0.1049</td>\n",
       "      <td>0.275132</td>\n",
       "      <td>0.306748</td>\n",
       "      <td>0.019941</td>\n",
       "      <td>0.359141</td>\n",
       "      <td>0.541284</td>\n",
       "      <td>0.9</td>\n",
       "      <td>0.165867</td>\n",
       "      <td>0.72</td>\n",
       "      <td>...</td>\n",
       "      <td>0.0</td>\n",
       "      <td>0.0</td>\n",
       "      <td>1.0</td>\n",
       "      <td>0.0</td>\n",
       "      <td>1.0</td>\n",
       "      <td>0.0</td>\n",
       "      <td>0.0</td>\n",
       "      <td>0.0</td>\n",
       "      <td>1.0</td>\n",
       "      <td>0.0</td>\n",
       "    </tr>\n",
       "  </tbody>\n",
       "</table>\n",
       "<p>5 rows × 30 columns</p>\n",
       "</div>"
      ],
      "text/plain": [
       "   student_count  awards_per_value  awards_per_state_value  \\\n",
       "0       0.023677            0.1049                0.275132   \n",
       "1       0.023677            0.1049                0.275132   \n",
       "2       0.023677            0.1049                0.275132   \n",
       "3       0.023677            0.1049                0.275132   \n",
       "4       0.023677            0.1049                0.275132   \n",
       "\n",
       "   awards_per_natl_value  exp_award_value  exp_award_state_value  \\\n",
       "0               0.306748         0.019941               0.359141   \n",
       "1               0.306748         0.019941               0.359141   \n",
       "2               0.306748         0.019941               0.359141   \n",
       "3               0.306748         0.019941               0.359141   \n",
       "4               0.306748         0.019941               0.359141   \n",
       "\n",
       "   exp_award_natl_value  exp_award_percentile  aid_value  aid_percentile  ...  \\\n",
       "0              0.541284                   0.9   0.165867            0.72  ...   \n",
       "1              0.541284                   0.9   0.165867            0.72  ...   \n",
       "2              0.541284                   0.9   0.165867            0.72  ...   \n",
       "3              0.541284                   0.9   0.165867            0.72  ...   \n",
       "4              0.541284                   0.9   0.165867            0.72  ...   \n",
       "\n",
       "   control_Private for-profit  control_Private not-for-profit  control_Public  \\\n",
       "0                         0.0                             0.0             1.0   \n",
       "1                         0.0                             0.0             1.0   \n",
       "2                         0.0                             0.0             1.0   \n",
       "3                         0.0                             0.0             1.0   \n",
       "4                         0.0                             0.0             1.0   \n",
       "\n",
       "   gender_F  gender_M  race_A  race_Ai  race_B  race_H  race_W  \n",
       "0       0.0       1.0     0.0      0.0     0.0     0.0     1.0  \n",
       "1       1.0       0.0     0.0      0.0     0.0     0.0     1.0  \n",
       "2       0.0       1.0     0.0      0.0     1.0     0.0     0.0  \n",
       "3       1.0       0.0     0.0      0.0     1.0     0.0     0.0  \n",
       "4       0.0       1.0     0.0      0.0     0.0     1.0     0.0  \n",
       "\n",
       "[5 rows x 30 columns]"
      ]
     },
     "execution_count": 43,
     "metadata": {},
     "output_type": "execute_result"
    }
   ],
   "source": [
    "# Creating an instance of the MinMaxScaler\n",
    "scaler = MinMaxScaler()\n",
    "\n",
    "# Applying fit_transform on the training features data\n",
    "train_features_scaled = scaler.fit_transform(train_features)\n",
    "\n",
    "# The above scaler returns the data in array format, below we are converting it back to pandas DataFrame\n",
    "train_features_scaled = pd.DataFrame(train_features_scaled, index = train_features.index, columns = train_features.columns)\n",
    "\n",
    "train_features_scaled.head()"
   ]
  },
  {
   "cell_type": "code",
   "execution_count": 44,
   "metadata": {
    "id": "MFh17wWrloB7"
   },
   "outputs": [],
   "source": [
    "# There is some linear relation that as financial aid increases so does the graduation rate\n",
    "# we could also argue that there isnt that strong of a linear relation because it looks like if the financial aid\n",
    "# is around 5,000 we also have higher grad rates \n",
    "# when looking at this chart it seems like we could draw 2 lines...\n",
    "# one straight up and down around the 5000 mark for financial aid\n",
    "# and the other diagonal "
   ]
  },
  {
   "cell_type": "code",
   "execution_count": 45,
   "metadata": {
    "colab": {
     "base_uri": "https://localhost:8080/",
     "height": 279
    },
    "id": "sa52rB0qloB8",
    "outputId": "2b929a1e-fd25-4089-a8cc-9a66a85333f8"
   },
   "outputs": [
    {
     "data": {
      "image/png": "[encoded data removed]",
      "text/plain": [
       "<Figure size 640x480 with 1 Axes>"
      ]
     },
     "metadata": {},
     "output_type": "display_data"
    }
   ],
   "source": [
    "plt.scatter(df.aid_value, df.grad_100_value)\n",
    "plt.xlabel('Financial aid')\n",
    "plt.ylabel('Graduation rate')\n",
    "plt.show()"
   ]
  },
  {
   "cell_type": "code",
   "execution_count": 46,
   "metadata": {
    "colab": {
     "base_uri": "https://localhost:8080/",
     "height": 369
    },
    "id": "nGuRvHw9loB9",
    "outputId": "5e875506-a593-46f0-f2f5-f30ded150e3b"
   },
   "outputs": [
    {
     "data": {
      "image/png": "[encoded data removed]",
      "text/plain": [
       "<Figure size 500x500 with 1 Axes>"
      ]
     },
     "metadata": {},
     "output_type": "display_data"
    }
   ],
   "source": [
    "import seaborn as sns\n",
    "sns.lmplot(x = 'aid_value', y = 'grad_100_value', data = df);"
   ]
  },
  {
   "cell_type": "markdown",
   "metadata": {
    "id": "r-Z1AawZloB-"
   },
   "source": [
    "# See if other input variables are linear to our output variables"
   ]
  },
  {
   "cell_type": "code",
   "execution_count": 47,
   "metadata": {
    "colab": {
     "base_uri": "https://localhost:8080/",
     "height": 386
    },
    "id": "m7TC4RsfloB_",
    "outputId": "44027b30-07ae-4550-f819-7febf5e7a228"
   },
   "outputs": [
    {
     "data": {
      "text/plain": [
       "<seaborn.axisgrid.FacetGrid at 0x2369a9a3dc8>"
      ]
     },
     "execution_count": 47,
     "metadata": {},
     "output_type": "execute_result"
    },
    {
     "data": {
      "image/png": "[encoded data removed]",
      "text/plain": [
       "<Figure size 500x500 with 1 Axes>"
      ]
     },
     "metadata": {},
     "output_type": "display_data"
    }
   ],
   "source": [
    "import seaborn as sns\n",
    "sns.lmplot(x = 'retain_value', y = 'grad_100_value', data = df)"
   ]
  },
  {
   "cell_type": "code",
   "execution_count": 48,
   "metadata": {
    "colab": {
     "base_uri": "https://localhost:8080/",
     "height": 369
    },
    "id": "INc6_qK3loCA",
    "outputId": "9aa62d00-045f-429b-bdbc-970313b66f3c"
   },
   "outputs": [
    {
     "data": {
      "image/png": "[encoded data removed]",
      "text/plain": [
       "<Figure size 500x500 with 1 Axes>"
      ]
     },
     "metadata": {},
     "output_type": "display_data"
    }
   ],
   "source": [
    "import seaborn as sns\n",
    "sns.lmplot(x = 'exp_award_value', y = 'grad_100_value', data = df);"
   ]
  },
  {
   "cell_type": "code",
   "execution_count": 49,
   "metadata": {
    "colab": {
     "base_uri": "https://localhost:8080/",
     "height": 386
    },
    "id": "cyH4ntlOloCA",
    "outputId": "7a503281-f6e2-423d-d7c3-fab95063ea6f"
   },
   "outputs": [
    {
     "data": {
      "text/plain": [
       "<seaborn.axisgrid.FacetGrid at 0x236a6cf5c88>"
      ]
     },
     "execution_count": 49,
     "metadata": {},
     "output_type": "execute_result"
    },
    {
     "data": {
      "image/png": "[encoded data removed]",
      "text/plain": [
       "<Figure size 500x500 with 1 Axes>"
      ]
     },
     "metadata": {},
     "output_type": "display_data"
    }
   ],
   "source": [
    "import seaborn as sns\n",
    "sns.lmplot(x = 'student_count', y = 'grad_100_value', data = df)"
   ]
  },
  {
   "cell_type": "markdown",
   "metadata": {
    "id": "EuBvOJVhkLMi"
   },
   "source": [
    "### Categorical Data"
   ]
  },
  {
   "cell_type": "code",
   "execution_count": 50,
   "metadata": {
    "colab": {
     "base_uri": "https://localhost:8080/",
     "height": 279
    },
    "id": "wHYXDPX2jviL",
    "outputId": "e77bb15e-d712-48e8-8c7e-46a9cd9488be"
   },
   "outputs": [
    {
     "data": {
      "image/png": "[encoded data removed]",
      "text/plain": [
       "<Figure size 640x480 with 1 Axes>"
      ]
     },
     "metadata": {},
     "output_type": "display_data"
    }
   ],
   "source": [
    "# Plot for the control variable\n",
    "sns.barplot(data = df, x = 'control', y = 'grad_100_value');"
   ]
  },
  {
   "cell_type": "code",
   "execution_count": 51,
   "metadata": {
    "id": "zQ9GdNHjloCB"
   },
   "outputs": [],
   "source": [
    "# convert \"Control\" string to float, otherwise will give error\n",
    "control_codes = {'Public': 1, 'Private not-for-profit' : 2, 'Private for-profit' : 3}\n",
    "df['control_codes'] = df.control.map(control_codes)"
   ]
  },
  {
   "cell_type": "code",
   "execution_count": 52,
   "metadata": {
    "colab": {
     "base_uri": "https://localhost:8080/",
     "height": 369
    },
    "id": "Z96gTLRLmy7L",
    "outputId": "394b5518-625b-4c0a-e63a-111d1925c6c6"
   },
   "outputs": [
    {
     "data": {
      "image/png": "[encoded data removed]",
      "text/plain": [
       "<Figure size 500x500 with 1 Axes>"
      ]
     },
     "metadata": {},
     "output_type": "display_data"
    }
   ],
   "source": [
    "sns.lmplot(x = 'control_codes', y = 'grad_100_value', data = df);"
   ]
  },
  {
   "cell_type": "code",
   "execution_count": 53,
   "metadata": {
    "colab": {
     "base_uri": "https://localhost:8080/"
    },
    "id": "UZkXbe2YoUQc",
    "outputId": "3f06bed8-1381-4f17-9171-95249d234574"
   },
   "outputs": [
    {
     "data": {
      "text/plain": [
       "0.3004132409626497"
      ]
     },
     "execution_count": 53,
     "metadata": {},
     "output_type": "execute_result"
    }
   ],
   "source": [
    "# check the correlation of control with respect to the grad_100_value\n",
    "\n",
    "df.grad_100_value.corr(df.control_codes)"
   ]
  },
  {
   "cell_type": "markdown",
   "metadata": {
    "id": "y-qxJ3HEotrD"
   },
   "source": [
    "The correlation is moderate."
   ]
  },
  {
   "cell_type": "code",
   "execution_count": 54,
   "metadata": {
    "colab": {
     "base_uri": "https://localhost:8080/",
     "height": 280
    },
    "id": "pf2vwt2vCSAv",
    "outputId": "cb091f92-cb3d-4ec7-9684-5de94084478e"
   },
   "outputs": [
    {
     "data": {
      "image/png": "[encoded data removed]",
      "text/plain": [
       "<Figure size 640x480 with 1 Axes>"
      ]
     },
     "metadata": {},
     "output_type": "display_data"
    }
   ],
   "source": [
    "# Plot for the Gender variable\n",
    "sns.barplot(data = df, x = 'gender', y = 'grad_100_value');"
   ]
  },
  {
   "cell_type": "code",
   "execution_count": 55,
   "metadata": {
    "id": "nyKDGLttCw_0"
   },
   "outputs": [],
   "source": [
    "# Convert gender to numerical variables\n",
    "gender_codes = {'M' : 1, 'F' : 0}\n",
    "df['gender_codes'] = df.gender.map(gender_codes)"
   ]
  },
  {
   "cell_type": "code",
   "execution_count": 56,
   "metadata": {
    "colab": {
     "base_uri": "https://localhost:8080/"
    },
    "id": "BuFsbto-DOIS",
    "outputId": "f15d01d3-43b4-41f8-8ed1-cb1ba88c1896"
   },
   "outputs": [
    {
     "data": {
      "text/plain": [
       "0.0"
      ]
     },
     "execution_count": 56,
     "metadata": {},
     "output_type": "execute_result"
    }
   ],
   "source": [
    "# check the correlation of gender with respect to the grad_100_value\n",
    "\n",
    "df.grad_100_value.corr(df.gender_codes)"
   ]
  },
  {
   "cell_type": "code",
   "execution_count": 57,
   "metadata": {
    "colab": {
     "base_uri": "https://localhost:8080/",
     "height": 279
    },
    "id": "MlQ1XZqyF47u",
    "outputId": "dd5e3ad5-5932-4047-9291-f93335ab51a4"
   },
   "outputs": [
    {
     "data": {
      "image/png": "[encoded data removed]",
      "text/plain": [
       "<Figure size 640x480 with 1 Axes>"
      ]
     },
     "metadata": {},
     "output_type": "display_data"
    }
   ],
   "source": [
    "# Plot for the Race variable\n",
    "sns.barplot(data = df, x = 'race', y = 'grad_100_value');"
   ]
  },
  {
   "cell_type": "code",
   "execution_count": 58,
   "metadata": {
    "id": "brb0Gpb-Glru"
   },
   "outputs": [],
   "source": [
    "# Convert gender to numerical variables\n",
    "race_codes = {'W': 1, 'B' : 2, 'H' : 3, 'Ai': 4, 'A' : 5}\n",
    "df['race_codes'] = df.race.map(race_codes)"
   ]
  },
  {
   "cell_type": "code",
   "execution_count": 59,
   "metadata": {
    "colab": {
     "base_uri": "https://localhost:8080/"
    },
    "id": "e6ziyrrUHFSs",
    "outputId": "8451f53d-35cf-4e89-b53e-03f2de4ff091"
   },
   "outputs": [
    {
     "data": {
      "text/plain": [
       "2.6919780899410997e-19"
      ]
     },
     "execution_count": 59,
     "metadata": {},
     "output_type": "execute_result"
    }
   ],
   "source": [
    "# check the correlation of race with respect to the grad_100_value\n",
    "\n",
    "df.grad_100_value.corr(df.race_codes)"
   ]
  },
  {
   "cell_type": "code",
   "execution_count": 60,
   "metadata": {
    "colab": {
     "base_uri": "https://localhost:8080/",
     "height": 300
    },
    "id": "svetmmSODONS",
    "outputId": "b8376995-8901-43c5-e743-968c426bafc8"
   },
   "outputs": [
    {
     "data": {
      "text/html": [
       "<div>\n",
       "<style scoped>\n",
       "    .dataframe tbody tr th:only-of-type {\n",
       "        vertical-align: middle;\n",
       "    }\n",
       "\n",
       "    .dataframe tbody tr th {\n",
       "        vertical-align: top;\n",
       "    }\n",
       "\n",
       "    .dataframe thead th {\n",
       "        text-align: right;\n",
       "    }\n",
       "</style>\n",
       "<table border=\"1\" class=\"dataframe\">\n",
       "  <thead>\n",
       "    <tr style=\"text-align: right;\">\n",
       "      <th></th>\n",
       "      <th>level</th>\n",
       "      <th>control</th>\n",
       "      <th>gender</th>\n",
       "      <th>race</th>\n",
       "      <th>student_count</th>\n",
       "      <th>awards_per_value</th>\n",
       "      <th>awards_per_state_value</th>\n",
       "      <th>awards_per_natl_value</th>\n",
       "      <th>exp_award_value</th>\n",
       "      <th>exp_award_state_value</th>\n",
       "      <th>...</th>\n",
       "      <th>grad_100_percentile</th>\n",
       "      <th>grad_150_value</th>\n",
       "      <th>grad_150_percentile</th>\n",
       "      <th>pell_value</th>\n",
       "      <th>pell_percentile</th>\n",
       "      <th>retain_value</th>\n",
       "      <th>retain_percentile</th>\n",
       "      <th>control_codes</th>\n",
       "      <th>gender_codes</th>\n",
       "      <th>race_codes</th>\n",
       "    </tr>\n",
       "  </thead>\n",
       "  <tbody>\n",
       "    <tr>\n",
       "      <th>0</th>\n",
       "      <td>4-year</td>\n",
       "      <td>Public</td>\n",
       "      <td>M</td>\n",
       "      <td>W</td>\n",
       "      <td>4051</td>\n",
       "      <td>14.2</td>\n",
       "      <td>18.8</td>\n",
       "      <td>21.5</td>\n",
       "      <td>105331</td>\n",
       "      <td>75743</td>\n",
       "      <td>...</td>\n",
       "      <td>15.0</td>\n",
       "      <td>29.1</td>\n",
       "      <td>14.0</td>\n",
       "      <td>71.2</td>\n",
       "      <td>98.0</td>\n",
       "      <td>63.1</td>\n",
       "      <td>17.0</td>\n",
       "      <td>1</td>\n",
       "      <td>1</td>\n",
       "      <td>1</td>\n",
       "    </tr>\n",
       "    <tr>\n",
       "      <th>1</th>\n",
       "      <td>4-year</td>\n",
       "      <td>Public</td>\n",
       "      <td>F</td>\n",
       "      <td>W</td>\n",
       "      <td>4051</td>\n",
       "      <td>14.2</td>\n",
       "      <td>18.8</td>\n",
       "      <td>21.5</td>\n",
       "      <td>105331</td>\n",
       "      <td>75743</td>\n",
       "      <td>...</td>\n",
       "      <td>15.0</td>\n",
       "      <td>29.1</td>\n",
       "      <td>14.0</td>\n",
       "      <td>71.2</td>\n",
       "      <td>98.0</td>\n",
       "      <td>63.1</td>\n",
       "      <td>17.0</td>\n",
       "      <td>1</td>\n",
       "      <td>0</td>\n",
       "      <td>1</td>\n",
       "    </tr>\n",
       "    <tr>\n",
       "      <th>2</th>\n",
       "      <td>4-year</td>\n",
       "      <td>Public</td>\n",
       "      <td>M</td>\n",
       "      <td>B</td>\n",
       "      <td>4051</td>\n",
       "      <td>14.2</td>\n",
       "      <td>18.8</td>\n",
       "      <td>21.5</td>\n",
       "      <td>105331</td>\n",
       "      <td>75743</td>\n",
       "      <td>...</td>\n",
       "      <td>15.0</td>\n",
       "      <td>29.1</td>\n",
       "      <td>14.0</td>\n",
       "      <td>71.2</td>\n",
       "      <td>98.0</td>\n",
       "      <td>63.1</td>\n",
       "      <td>17.0</td>\n",
       "      <td>1</td>\n",
       "      <td>1</td>\n",
       "      <td>2</td>\n",
       "    </tr>\n",
       "    <tr>\n",
       "      <th>3</th>\n",
       "      <td>4-year</td>\n",
       "      <td>Public</td>\n",
       "      <td>F</td>\n",
       "      <td>B</td>\n",
       "      <td>4051</td>\n",
       "      <td>14.2</td>\n",
       "      <td>18.8</td>\n",
       "      <td>21.5</td>\n",
       "      <td>105331</td>\n",
       "      <td>75743</td>\n",
       "      <td>...</td>\n",
       "      <td>15.0</td>\n",
       "      <td>29.1</td>\n",
       "      <td>14.0</td>\n",
       "      <td>71.2</td>\n",
       "      <td>98.0</td>\n",
       "      <td>63.1</td>\n",
       "      <td>17.0</td>\n",
       "      <td>1</td>\n",
       "      <td>0</td>\n",
       "      <td>2</td>\n",
       "    </tr>\n",
       "    <tr>\n",
       "      <th>4</th>\n",
       "      <td>4-year</td>\n",
       "      <td>Public</td>\n",
       "      <td>M</td>\n",
       "      <td>H</td>\n",
       "      <td>4051</td>\n",
       "      <td>14.2</td>\n",
       "      <td>18.8</td>\n",
       "      <td>21.5</td>\n",
       "      <td>105331</td>\n",
       "      <td>75743</td>\n",
       "      <td>...</td>\n",
       "      <td>15.0</td>\n",
       "      <td>29.1</td>\n",
       "      <td>14.0</td>\n",
       "      <td>71.2</td>\n",
       "      <td>98.0</td>\n",
       "      <td>63.1</td>\n",
       "      <td>17.0</td>\n",
       "      <td>1</td>\n",
       "      <td>1</td>\n",
       "      <td>3</td>\n",
       "    </tr>\n",
       "  </tbody>\n",
       "</table>\n",
       "<p>5 rows × 25 columns</p>\n",
       "</div>"
      ],
      "text/plain": [
       "    level control gender race  student_count  awards_per_value  \\\n",
       "0  4-year  Public      M    W           4051              14.2   \n",
       "1  4-year  Public      F    W           4051              14.2   \n",
       "2  4-year  Public      M    B           4051              14.2   \n",
       "3  4-year  Public      F    B           4051              14.2   \n",
       "4  4-year  Public      M    H           4051              14.2   \n",
       "\n",
       "   awards_per_state_value  awards_per_natl_value  exp_award_value  \\\n",
       "0                    18.8                   21.5           105331   \n",
       "1                    18.8                   21.5           105331   \n",
       "2                    18.8                   21.5           105331   \n",
       "3                    18.8                   21.5           105331   \n",
       "4                    18.8                   21.5           105331   \n",
       "\n",
       "   exp_award_state_value  ...  grad_100_percentile  grad_150_value  \\\n",
       "0                  75743  ...                 15.0            29.1   \n",
       "1                  75743  ...                 15.0            29.1   \n",
       "2                  75743  ...                 15.0            29.1   \n",
       "3                  75743  ...                 15.0            29.1   \n",
       "4                  75743  ...                 15.0            29.1   \n",
       "\n",
       "   grad_150_percentile  pell_value  pell_percentile  retain_value  \\\n",
       "0                 14.0        71.2             98.0          63.1   \n",
       "1                 14.0        71.2             98.0          63.1   \n",
       "2                 14.0        71.2             98.0          63.1   \n",
       "3                 14.0        71.2             98.0          63.1   \n",
       "4                 14.0        71.2             98.0          63.1   \n",
       "\n",
       "   retain_percentile  control_codes  gender_codes  race_codes  \n",
       "0               17.0              1             1           1  \n",
       "1               17.0              1             0           1  \n",
       "2               17.0              1             1           2  \n",
       "3               17.0              1             0           2  \n",
       "4               17.0              1             1           3  \n",
       "\n",
       "[5 rows x 25 columns]"
      ]
     },
     "execution_count": 60,
     "metadata": {},
     "output_type": "execute_result"
    }
   ],
   "source": [
    "df.head()"
   ]
  },
  {
   "cell_type": "markdown",
   "metadata": {
    "id": "Qa4QLnbcloCB"
   },
   "source": [
    "## Linear Regression Model "
   ]
  },
  {
   "cell_type": "code",
   "execution_count": 61,
   "metadata": {
    "id": "6GSIZPkeloCB"
   },
   "outputs": [],
   "source": [
    "train_features_scaled = train_features_scaled.dropna()"
   ]
  },
  {
   "cell_type": "code",
   "execution_count": 62,
   "metadata": {
    "colab": {
     "base_uri": "https://localhost:8080/"
    },
    "id": "RveUxeqQloCC",
    "outputId": "dc847647-ddf0-444b-f33a-b5af7ee22d97"
   },
   "outputs": [
    {
     "name": "stdout",
     "output_type": "stream",
     "text": [
      "0\n"
     ]
    }
   ],
   "source": [
    "#train_features_scaled = train_features_scaled.drop(columns = ['index'])\n",
    "train_features_scaled.columns\n",
    "\n",
    "print(train_features_scaled.isna().sum().sum())\n"
   ]
  },
  {
   "cell_type": "code",
   "execution_count": 63,
   "metadata": {
    "id": "T54HFEQXloCC"
   },
   "outputs": [],
   "source": [
    "# scale data\n",
    "train_features_scaled.head()\n",
    "x_values = train_features_scaled.drop(columns = ['grad_100_value'])\n",
    "y_value = train_features_scaled.grad_100_value"
   ]
  },
  {
   "cell_type": "code",
   "execution_count": 64,
   "metadata": {
    "colab": {
     "base_uri": "https://localhost:8080/"
    },
    "id": "nEgD_-EqloCC",
    "outputId": "e00b61ce-c028-49d6-e7a1-70e653674042"
   },
   "outputs": [
    {
     "data": {
      "text/plain": [
       "0        0.100\n",
       "1        0.100\n",
       "2        0.100\n",
       "3        0.100\n",
       "4        0.100\n",
       "         ...  \n",
       "33785    0.421\n",
       "33786    0.421\n",
       "33787    0.421\n",
       "33788    0.421\n",
       "33789    0.421\n",
       "Name: grad_100_value, Length: 33790, dtype: float64"
      ]
     },
     "execution_count": 64,
     "metadata": {},
     "output_type": "execute_result"
    }
   ],
   "source": [
    "y_value"
   ]
  },
  {
   "cell_type": "code",
   "execution_count": 65,
   "metadata": {
    "colab": {
     "base_uri": "https://localhost:8080/",
     "height": 505
    },
    "id": "bsgaqfbBloCD",
    "outputId": "198fbe13-9beb-44c9-dde3-08fcbf85efa0"
   },
   "outputs": [
    {
     "data": {
      "text/html": [
       "<div>\n",
       "<style scoped>\n",
       "    .dataframe tbody tr th:only-of-type {\n",
       "        vertical-align: middle;\n",
       "    }\n",
       "\n",
       "    .dataframe tbody tr th {\n",
       "        vertical-align: top;\n",
       "    }\n",
       "\n",
       "    .dataframe thead th {\n",
       "        text-align: right;\n",
       "    }\n",
       "</style>\n",
       "<table border=\"1\" class=\"dataframe\">\n",
       "  <thead>\n",
       "    <tr style=\"text-align: right;\">\n",
       "      <th></th>\n",
       "      <th>student_count</th>\n",
       "      <th>awards_per_value</th>\n",
       "      <th>awards_per_state_value</th>\n",
       "      <th>awards_per_natl_value</th>\n",
       "      <th>exp_award_value</th>\n",
       "      <th>exp_award_state_value</th>\n",
       "      <th>exp_award_natl_value</th>\n",
       "      <th>exp_award_percentile</th>\n",
       "      <th>aid_value</th>\n",
       "      <th>aid_percentile</th>\n",
       "      <th>...</th>\n",
       "      <th>control_Private for-profit</th>\n",
       "      <th>control_Private not-for-profit</th>\n",
       "      <th>control_Public</th>\n",
       "      <th>gender_F</th>\n",
       "      <th>gender_M</th>\n",
       "      <th>race_A</th>\n",
       "      <th>race_Ai</th>\n",
       "      <th>race_B</th>\n",
       "      <th>race_H</th>\n",
       "      <th>race_W</th>\n",
       "    </tr>\n",
       "  </thead>\n",
       "  <tbody>\n",
       "    <tr>\n",
       "      <th>0</th>\n",
       "      <td>0.023677</td>\n",
       "      <td>0.10490</td>\n",
       "      <td>0.275132</td>\n",
       "      <td>0.306748</td>\n",
       "      <td>0.019941</td>\n",
       "      <td>0.359141</td>\n",
       "      <td>0.541284</td>\n",
       "      <td>0.90</td>\n",
       "      <td>0.165867</td>\n",
       "      <td>0.72</td>\n",
       "      <td>...</td>\n",
       "      <td>0.0</td>\n",
       "      <td>0.0</td>\n",
       "      <td>1.0</td>\n",
       "      <td>0.0</td>\n",
       "      <td>1.0</td>\n",
       "      <td>0.0</td>\n",
       "      <td>0.0</td>\n",
       "      <td>0.0</td>\n",
       "      <td>0.0</td>\n",
       "      <td>1.0</td>\n",
       "    </tr>\n",
       "    <tr>\n",
       "      <th>1</th>\n",
       "      <td>0.023677</td>\n",
       "      <td>0.10490</td>\n",
       "      <td>0.275132</td>\n",
       "      <td>0.306748</td>\n",
       "      <td>0.019941</td>\n",
       "      <td>0.359141</td>\n",
       "      <td>0.541284</td>\n",
       "      <td>0.90</td>\n",
       "      <td>0.165867</td>\n",
       "      <td>0.72</td>\n",
       "      <td>...</td>\n",
       "      <td>0.0</td>\n",
       "      <td>0.0</td>\n",
       "      <td>1.0</td>\n",
       "      <td>1.0</td>\n",
       "      <td>0.0</td>\n",
       "      <td>0.0</td>\n",
       "      <td>0.0</td>\n",
       "      <td>0.0</td>\n",
       "      <td>0.0</td>\n",
       "      <td>1.0</td>\n",
       "    </tr>\n",
       "    <tr>\n",
       "      <th>2</th>\n",
       "      <td>0.023677</td>\n",
       "      <td>0.10490</td>\n",
       "      <td>0.275132</td>\n",
       "      <td>0.306748</td>\n",
       "      <td>0.019941</td>\n",
       "      <td>0.359141</td>\n",
       "      <td>0.541284</td>\n",
       "      <td>0.90</td>\n",
       "      <td>0.165867</td>\n",
       "      <td>0.72</td>\n",
       "      <td>...</td>\n",
       "      <td>0.0</td>\n",
       "      <td>0.0</td>\n",
       "      <td>1.0</td>\n",
       "      <td>0.0</td>\n",
       "      <td>1.0</td>\n",
       "      <td>0.0</td>\n",
       "      <td>0.0</td>\n",
       "      <td>1.0</td>\n",
       "      <td>0.0</td>\n",
       "      <td>0.0</td>\n",
       "    </tr>\n",
       "    <tr>\n",
       "      <th>3</th>\n",
       "      <td>0.023677</td>\n",
       "      <td>0.10490</td>\n",
       "      <td>0.275132</td>\n",
       "      <td>0.306748</td>\n",
       "      <td>0.019941</td>\n",
       "      <td>0.359141</td>\n",
       "      <td>0.541284</td>\n",
       "      <td>0.90</td>\n",
       "      <td>0.165867</td>\n",
       "      <td>0.72</td>\n",
       "      <td>...</td>\n",
       "      <td>0.0</td>\n",
       "      <td>0.0</td>\n",
       "      <td>1.0</td>\n",
       "      <td>1.0</td>\n",
       "      <td>0.0</td>\n",
       "      <td>0.0</td>\n",
       "      <td>0.0</td>\n",
       "      <td>1.0</td>\n",
       "      <td>0.0</td>\n",
       "      <td>0.0</td>\n",
       "    </tr>\n",
       "    <tr>\n",
       "      <th>4</th>\n",
       "      <td>0.023677</td>\n",
       "      <td>0.10490</td>\n",
       "      <td>0.275132</td>\n",
       "      <td>0.306748</td>\n",
       "      <td>0.019941</td>\n",
       "      <td>0.359141</td>\n",
       "      <td>0.541284</td>\n",
       "      <td>0.90</td>\n",
       "      <td>0.165867</td>\n",
       "      <td>0.72</td>\n",
       "      <td>...</td>\n",
       "      <td>0.0</td>\n",
       "      <td>0.0</td>\n",
       "      <td>1.0</td>\n",
       "      <td>0.0</td>\n",
       "      <td>1.0</td>\n",
       "      <td>0.0</td>\n",
       "      <td>0.0</td>\n",
       "      <td>0.0</td>\n",
       "      <td>1.0</td>\n",
       "      <td>0.0</td>\n",
       "    </tr>\n",
       "    <tr>\n",
       "      <th>...</th>\n",
       "      <td>...</td>\n",
       "      <td>...</td>\n",
       "      <td>...</td>\n",
       "      <td>...</td>\n",
       "      <td>...</td>\n",
       "      <td>...</td>\n",
       "      <td>...</td>\n",
       "      <td>...</td>\n",
       "      <td>...</td>\n",
       "      <td>...</td>\n",
       "      <td>...</td>\n",
       "      <td>...</td>\n",
       "      <td>...</td>\n",
       "      <td>...</td>\n",
       "      <td>...</td>\n",
       "      <td>...</td>\n",
       "      <td>...</td>\n",
       "      <td>...</td>\n",
       "      <td>...</td>\n",
       "      <td>...</td>\n",
       "      <td>...</td>\n",
       "    </tr>\n",
       "    <tr>\n",
       "      <th>33785</th>\n",
       "      <td>0.000729</td>\n",
       "      <td>0.24732</td>\n",
       "      <td>0.613757</td>\n",
       "      <td>1.000000</td>\n",
       "      <td>0.014172</td>\n",
       "      <td>0.081649</td>\n",
       "      <td>0.000000</td>\n",
       "      <td>0.95</td>\n",
       "      <td>0.076055</td>\n",
       "      <td>0.12</td>\n",
       "      <td>...</td>\n",
       "      <td>1.0</td>\n",
       "      <td>0.0</td>\n",
       "      <td>0.0</td>\n",
       "      <td>1.0</td>\n",
       "      <td>0.0</td>\n",
       "      <td>0.0</td>\n",
       "      <td>0.0</td>\n",
       "      <td>0.0</td>\n",
       "      <td>1.0</td>\n",
       "      <td>0.0</td>\n",
       "    </tr>\n",
       "    <tr>\n",
       "      <th>33786</th>\n",
       "      <td>0.000729</td>\n",
       "      <td>0.24732</td>\n",
       "      <td>0.613757</td>\n",
       "      <td>1.000000</td>\n",
       "      <td>0.014172</td>\n",
       "      <td>0.081649</td>\n",
       "      <td>0.000000</td>\n",
       "      <td>0.95</td>\n",
       "      <td>0.076055</td>\n",
       "      <td>0.12</td>\n",
       "      <td>...</td>\n",
       "      <td>1.0</td>\n",
       "      <td>0.0</td>\n",
       "      <td>0.0</td>\n",
       "      <td>0.0</td>\n",
       "      <td>1.0</td>\n",
       "      <td>0.0</td>\n",
       "      <td>1.0</td>\n",
       "      <td>0.0</td>\n",
       "      <td>0.0</td>\n",
       "      <td>0.0</td>\n",
       "    </tr>\n",
       "    <tr>\n",
       "      <th>33787</th>\n",
       "      <td>0.000729</td>\n",
       "      <td>0.24732</td>\n",
       "      <td>0.613757</td>\n",
       "      <td>1.000000</td>\n",
       "      <td>0.014172</td>\n",
       "      <td>0.081649</td>\n",
       "      <td>0.000000</td>\n",
       "      <td>0.95</td>\n",
       "      <td>0.076055</td>\n",
       "      <td>0.12</td>\n",
       "      <td>...</td>\n",
       "      <td>1.0</td>\n",
       "      <td>0.0</td>\n",
       "      <td>0.0</td>\n",
       "      <td>1.0</td>\n",
       "      <td>0.0</td>\n",
       "      <td>0.0</td>\n",
       "      <td>1.0</td>\n",
       "      <td>0.0</td>\n",
       "      <td>0.0</td>\n",
       "      <td>0.0</td>\n",
       "    </tr>\n",
       "    <tr>\n",
       "      <th>33788</th>\n",
       "      <td>0.000729</td>\n",
       "      <td>0.24732</td>\n",
       "      <td>0.613757</td>\n",
       "      <td>1.000000</td>\n",
       "      <td>0.014172</td>\n",
       "      <td>0.081649</td>\n",
       "      <td>0.000000</td>\n",
       "      <td>0.95</td>\n",
       "      <td>0.076055</td>\n",
       "      <td>0.12</td>\n",
       "      <td>...</td>\n",
       "      <td>1.0</td>\n",
       "      <td>0.0</td>\n",
       "      <td>0.0</td>\n",
       "      <td>0.0</td>\n",
       "      <td>1.0</td>\n",
       "      <td>1.0</td>\n",
       "      <td>0.0</td>\n",
       "      <td>0.0</td>\n",
       "      <td>0.0</td>\n",
       "      <td>0.0</td>\n",
       "    </tr>\n",
       "    <tr>\n",
       "      <th>33789</th>\n",
       "      <td>0.000729</td>\n",
       "      <td>0.24732</td>\n",
       "      <td>0.613757</td>\n",
       "      <td>1.000000</td>\n",
       "      <td>0.014172</td>\n",
       "      <td>0.081649</td>\n",
       "      <td>0.000000</td>\n",
       "      <td>0.95</td>\n",
       "      <td>0.076055</td>\n",
       "      <td>0.12</td>\n",
       "      <td>...</td>\n",
       "      <td>1.0</td>\n",
       "      <td>0.0</td>\n",
       "      <td>0.0</td>\n",
       "      <td>1.0</td>\n",
       "      <td>0.0</td>\n",
       "      <td>1.0</td>\n",
       "      <td>0.0</td>\n",
       "      <td>0.0</td>\n",
       "      <td>0.0</td>\n",
       "      <td>0.0</td>\n",
       "    </tr>\n",
       "  </tbody>\n",
       "</table>\n",
       "<p>33790 rows × 29 columns</p>\n",
       "</div>"
      ],
      "text/plain": [
       "       student_count  awards_per_value  awards_per_state_value  \\\n",
       "0           0.023677           0.10490                0.275132   \n",
       "1           0.023677           0.10490                0.275132   \n",
       "2           0.023677           0.10490                0.275132   \n",
       "3           0.023677           0.10490                0.275132   \n",
       "4           0.023677           0.10490                0.275132   \n",
       "...              ...               ...                     ...   \n",
       "33785       0.000729           0.24732                0.613757   \n",
       "33786       0.000729           0.24732                0.613757   \n",
       "33787       0.000729           0.24732                0.613757   \n",
       "33788       0.000729           0.24732                0.613757   \n",
       "33789       0.000729           0.24732                0.613757   \n",
       "\n",
       "       awards_per_natl_value  exp_award_value  exp_award_state_value  \\\n",
       "0                   0.306748         0.019941               0.359141   \n",
       "1                   0.306748         0.019941               0.359141   \n",
       "2                   0.306748         0.019941               0.359141   \n",
       "3                   0.306748         0.019941               0.359141   \n",
       "4                   0.306748         0.019941               0.359141   \n",
       "...                      ...              ...                    ...   \n",
       "33785               1.000000         0.014172               0.081649   \n",
       "33786               1.000000         0.014172               0.081649   \n",
       "33787               1.000000         0.014172               0.081649   \n",
       "33788               1.000000         0.014172               0.081649   \n",
       "33789               1.000000         0.014172               0.081649   \n",
       "\n",
       "       exp_award_natl_value  exp_award_percentile  aid_value  aid_percentile  \\\n",
       "0                  0.541284                  0.90   0.165867            0.72   \n",
       "1                  0.541284                  0.90   0.165867            0.72   \n",
       "2                  0.541284                  0.90   0.165867            0.72   \n",
       "3                  0.541284                  0.90   0.165867            0.72   \n",
       "4                  0.541284                  0.90   0.165867            0.72   \n",
       "...                     ...                   ...        ...             ...   \n",
       "33785              0.000000                  0.95   0.076055            0.12   \n",
       "33786              0.000000                  0.95   0.076055            0.12   \n",
       "33787              0.000000                  0.95   0.076055            0.12   \n",
       "33788              0.000000                  0.95   0.076055            0.12   \n",
       "33789              0.000000                  0.95   0.076055            0.12   \n",
       "\n",
       "       ...  control_Private for-profit  control_Private not-for-profit  \\\n",
       "0      ...                         0.0                             0.0   \n",
       "1      ...                         0.0                             0.0   \n",
       "2      ...                         0.0                             0.0   \n",
       "3      ...                         0.0                             0.0   \n",
       "4      ...                         0.0                             0.0   \n",
       "...    ...                         ...                             ...   \n",
       "33785  ...                         1.0                             0.0   \n",
       "33786  ...                         1.0                             0.0   \n",
       "33787  ...                         1.0                             0.0   \n",
       "33788  ...                         1.0                             0.0   \n",
       "33789  ...                         1.0                             0.0   \n",
       "\n",
       "       control_Public  gender_F  gender_M  race_A  race_Ai  race_B  race_H  \\\n",
       "0                 1.0       0.0       1.0     0.0      0.0     0.0     0.0   \n",
       "1                 1.0       1.0       0.0     0.0      0.0     0.0     0.0   \n",
       "2                 1.0       0.0       1.0     0.0      0.0     1.0     0.0   \n",
       "3                 1.0       1.0       0.0     0.0      0.0     1.0     0.0   \n",
       "4                 1.0       0.0       1.0     0.0      0.0     0.0     1.0   \n",
       "...               ...       ...       ...     ...      ...     ...     ...   \n",
       "33785             0.0       1.0       0.0     0.0      0.0     0.0     1.0   \n",
       "33786             0.0       0.0       1.0     0.0      1.0     0.0     0.0   \n",
       "33787             0.0       1.0       0.0     0.0      1.0     0.0     0.0   \n",
       "33788             0.0       0.0       1.0     1.0      0.0     0.0     0.0   \n",
       "33789             0.0       1.0       0.0     1.0      0.0     0.0     0.0   \n",
       "\n",
       "       race_W  \n",
       "0         1.0  \n",
       "1         1.0  \n",
       "2         0.0  \n",
       "3         0.0  \n",
       "4         0.0  \n",
       "...       ...  \n",
       "33785     0.0  \n",
       "33786     0.0  \n",
       "33787     0.0  \n",
       "33788     0.0  \n",
       "33789     0.0  \n",
       "\n",
       "[33790 rows x 29 columns]"
      ]
     },
     "execution_count": 65,
     "metadata": {},
     "output_type": "execute_result"
    }
   ],
   "source": [
    "# Make sure to get rid of index column. You dont need index column. it looks like it is just the value of 0 - 3797 but scaled \n",
    "# so lets get rid of it \n",
    "# x_values = x_values.drop(columns = 'index')\n",
    "x_values\n"
   ]
  },
  {
   "cell_type": "code",
   "execution_count": 66,
   "metadata": {
    "id": "s-jtcrCSloCD"
   },
   "outputs": [],
   "source": [
    "# we need to split the data into a training set and a testing set to see how well this model preforms \n",
    "# use train_test_split"
   ]
  },
  {
   "cell_type": "code",
   "execution_count": 67,
   "metadata": {
    "id": "Bc_mKmQfloCD"
   },
   "outputs": [],
   "source": [
    "#train_x, test_x, train_y, test_y = train_test_split(x_values, y_value)\n",
    "train_x, test_x, train_y, test_y = train_test_split(x_values, y_value, test_size = 0.2, random_state=42)"
   ]
  },
  {
   "cell_type": "code",
   "execution_count": 68,
   "metadata": {
    "colab": {
     "base_uri": "https://localhost:8080/",
     "height": 505
    },
    "id": "hQW0bDmIloCE",
    "outputId": "cd1c4b36-5a92-486a-8972-c10a9382289a"
   },
   "outputs": [
    {
     "data": {
      "text/html": [
       "<div>\n",
       "<style scoped>\n",
       "    .dataframe tbody tr th:only-of-type {\n",
       "        vertical-align: middle;\n",
       "    }\n",
       "\n",
       "    .dataframe tbody tr th {\n",
       "        vertical-align: top;\n",
       "    }\n",
       "\n",
       "    .dataframe thead th {\n",
       "        text-align: right;\n",
       "    }\n",
       "</style>\n",
       "<table border=\"1\" class=\"dataframe\">\n",
       "  <thead>\n",
       "    <tr style=\"text-align: right;\">\n",
       "      <th></th>\n",
       "      <th>student_count</th>\n",
       "      <th>awards_per_value</th>\n",
       "      <th>awards_per_state_value</th>\n",
       "      <th>awards_per_natl_value</th>\n",
       "      <th>exp_award_value</th>\n",
       "      <th>exp_award_state_value</th>\n",
       "      <th>exp_award_natl_value</th>\n",
       "      <th>exp_award_percentile</th>\n",
       "      <th>aid_value</th>\n",
       "      <th>aid_percentile</th>\n",
       "      <th>...</th>\n",
       "      <th>control_Private for-profit</th>\n",
       "      <th>control_Private not-for-profit</th>\n",
       "      <th>control_Public</th>\n",
       "      <th>gender_F</th>\n",
       "      <th>gender_M</th>\n",
       "      <th>race_A</th>\n",
       "      <th>race_Ai</th>\n",
       "      <th>race_B</th>\n",
       "      <th>race_H</th>\n",
       "      <th>race_W</th>\n",
       "    </tr>\n",
       "  </thead>\n",
       "  <tbody>\n",
       "    <tr>\n",
       "      <th>11194</th>\n",
       "      <td>0.043081</td>\n",
       "      <td>0.133997</td>\n",
       "      <td>0.241623</td>\n",
       "      <td>0.000000</td>\n",
       "      <td>0.007669</td>\n",
       "      <td>0.212917</td>\n",
       "      <td>0.168790</td>\n",
       "      <td>0.53</td>\n",
       "      <td>0.139781</td>\n",
       "      <td>0.92</td>\n",
       "      <td>...</td>\n",
       "      <td>0.0</td>\n",
       "      <td>0.0</td>\n",
       "      <td>1.0</td>\n",
       "      <td>0.0</td>\n",
       "      <td>1.0</td>\n",
       "      <td>0.0</td>\n",
       "      <td>0.0</td>\n",
       "      <td>0.0</td>\n",
       "      <td>1.0</td>\n",
       "      <td>0.0</td>\n",
       "    </tr>\n",
       "    <tr>\n",
       "      <th>6453</th>\n",
       "      <td>0.055026</td>\n",
       "      <td>0.048239</td>\n",
       "      <td>0.201058</td>\n",
       "      <td>0.000000</td>\n",
       "      <td>0.007152</td>\n",
       "      <td>0.121122</td>\n",
       "      <td>0.168790</td>\n",
       "      <td>0.46</td>\n",
       "      <td>0.086591</td>\n",
       "      <td>0.46</td>\n",
       "      <td>...</td>\n",
       "      <td>0.0</td>\n",
       "      <td>0.0</td>\n",
       "      <td>1.0</td>\n",
       "      <td>1.0</td>\n",
       "      <td>0.0</td>\n",
       "      <td>0.0</td>\n",
       "      <td>0.0</td>\n",
       "      <td>1.0</td>\n",
       "      <td>0.0</td>\n",
       "      <td>0.0</td>\n",
       "    </tr>\n",
       "    <tr>\n",
       "      <th>25177</th>\n",
       "      <td>0.101146</td>\n",
       "      <td>0.133997</td>\n",
       "      <td>0.326279</td>\n",
       "      <td>0.306748</td>\n",
       "      <td>0.009048</td>\n",
       "      <td>0.237985</td>\n",
       "      <td>0.541284</td>\n",
       "      <td>0.26</td>\n",
       "      <td>0.160490</td>\n",
       "      <td>0.69</td>\n",
       "      <td>...</td>\n",
       "      <td>0.0</td>\n",
       "      <td>0.0</td>\n",
       "      <td>1.0</td>\n",
       "      <td>1.0</td>\n",
       "      <td>0.0</td>\n",
       "      <td>0.0</td>\n",
       "      <td>1.0</td>\n",
       "      <td>0.0</td>\n",
       "      <td>0.0</td>\n",
       "      <td>0.0</td>\n",
       "    </tr>\n",
       "    <tr>\n",
       "      <th>29133</th>\n",
       "      <td>0.002439</td>\n",
       "      <td>0.165391</td>\n",
       "      <td>0.319224</td>\n",
       "      <td>0.576687</td>\n",
       "      <td>0.004697</td>\n",
       "      <td>0.095783</td>\n",
       "      <td>0.126284</td>\n",
       "      <td>0.31</td>\n",
       "      <td>0.083709</td>\n",
       "      <td>0.28</td>\n",
       "      <td>...</td>\n",
       "      <td>0.0</td>\n",
       "      <td>1.0</td>\n",
       "      <td>0.0</td>\n",
       "      <td>1.0</td>\n",
       "      <td>0.0</td>\n",
       "      <td>0.0</td>\n",
       "      <td>0.0</td>\n",
       "      <td>1.0</td>\n",
       "      <td>0.0</td>\n",
       "      <td>0.0</td>\n",
       "    </tr>\n",
       "    <tr>\n",
       "      <th>31475</th>\n",
       "      <td>0.005620</td>\n",
       "      <td>0.107198</td>\n",
       "      <td>0.352734</td>\n",
       "      <td>0.496933</td>\n",
       "      <td>0.009437</td>\n",
       "      <td>0.231691</td>\n",
       "      <td>0.181568</td>\n",
       "      <td>0.59</td>\n",
       "      <td>0.115366</td>\n",
       "      <td>0.74</td>\n",
       "      <td>...</td>\n",
       "      <td>1.0</td>\n",
       "      <td>0.0</td>\n",
       "      <td>0.0</td>\n",
       "      <td>1.0</td>\n",
       "      <td>0.0</td>\n",
       "      <td>0.0</td>\n",
       "      <td>0.0</td>\n",
       "      <td>0.0</td>\n",
       "      <td>1.0</td>\n",
       "      <td>0.0</td>\n",
       "    </tr>\n",
       "    <tr>\n",
       "      <th>...</th>\n",
       "      <td>...</td>\n",
       "      <td>...</td>\n",
       "      <td>...</td>\n",
       "      <td>...</td>\n",
       "      <td>...</td>\n",
       "      <td>...</td>\n",
       "      <td>...</td>\n",
       "      <td>...</td>\n",
       "      <td>...</td>\n",
       "      <td>...</td>\n",
       "      <td>...</td>\n",
       "      <td>...</td>\n",
       "      <td>...</td>\n",
       "      <td>...</td>\n",
       "      <td>...</td>\n",
       "      <td>...</td>\n",
       "      <td>...</td>\n",
       "      <td>...</td>\n",
       "      <td>...</td>\n",
       "      <td>...</td>\n",
       "      <td>...</td>\n",
       "    </tr>\n",
       "    <tr>\n",
       "      <th>16850</th>\n",
       "      <td>0.001640</td>\n",
       "      <td>0.355283</td>\n",
       "      <td>0.559083</td>\n",
       "      <td>0.576687</td>\n",
       "      <td>0.007466</td>\n",
       "      <td>0.143125</td>\n",
       "      <td>0.126284</td>\n",
       "      <td>0.52</td>\n",
       "      <td>0.079712</td>\n",
       "      <td>0.22</td>\n",
       "      <td>...</td>\n",
       "      <td>0.0</td>\n",
       "      <td>1.0</td>\n",
       "      <td>0.0</td>\n",
       "      <td>0.0</td>\n",
       "      <td>1.0</td>\n",
       "      <td>0.0</td>\n",
       "      <td>0.0</td>\n",
       "      <td>0.0</td>\n",
       "      <td>0.0</td>\n",
       "      <td>1.0</td>\n",
       "    </tr>\n",
       "    <tr>\n",
       "      <th>6265</th>\n",
       "      <td>0.035304</td>\n",
       "      <td>0.137825</td>\n",
       "      <td>0.231041</td>\n",
       "      <td>0.000000</td>\n",
       "      <td>0.007226</td>\n",
       "      <td>0.149470</td>\n",
       "      <td>0.168790</td>\n",
       "      <td>0.47</td>\n",
       "      <td>0.140871</td>\n",
       "      <td>0.92</td>\n",
       "      <td>...</td>\n",
       "      <td>0.0</td>\n",
       "      <td>0.0</td>\n",
       "      <td>1.0</td>\n",
       "      <td>1.0</td>\n",
       "      <td>0.0</td>\n",
       "      <td>0.0</td>\n",
       "      <td>0.0</td>\n",
       "      <td>0.0</td>\n",
       "      <td>1.0</td>\n",
       "      <td>0.0</td>\n",
       "    </tr>\n",
       "    <tr>\n",
       "      <th>11284</th>\n",
       "      <td>0.010046</td>\n",
       "      <td>0.199081</td>\n",
       "      <td>0.336861</td>\n",
       "      <td>0.368098</td>\n",
       "      <td>0.013352</td>\n",
       "      <td>0.755042</td>\n",
       "      <td>1.000000</td>\n",
       "      <td>0.43</td>\n",
       "      <td>0.427433</td>\n",
       "      <td>0.72</td>\n",
       "      <td>...</td>\n",
       "      <td>0.0</td>\n",
       "      <td>1.0</td>\n",
       "      <td>0.0</td>\n",
       "      <td>0.0</td>\n",
       "      <td>1.0</td>\n",
       "      <td>0.0</td>\n",
       "      <td>0.0</td>\n",
       "      <td>0.0</td>\n",
       "      <td>1.0</td>\n",
       "      <td>0.0</td>\n",
       "    </tr>\n",
       "    <tr>\n",
       "      <th>860</th>\n",
       "      <td>0.176692</td>\n",
       "      <td>0.165391</td>\n",
       "      <td>0.303351</td>\n",
       "      <td>0.000000</td>\n",
       "      <td>0.005756</td>\n",
       "      <td>0.077174</td>\n",
       "      <td>0.168790</td>\n",
       "      <td>0.29</td>\n",
       "      <td>0.079422</td>\n",
       "      <td>0.34</td>\n",
       "      <td>...</td>\n",
       "      <td>0.0</td>\n",
       "      <td>0.0</td>\n",
       "      <td>1.0</td>\n",
       "      <td>0.0</td>\n",
       "      <td>1.0</td>\n",
       "      <td>0.0</td>\n",
       "      <td>0.0</td>\n",
       "      <td>0.0</td>\n",
       "      <td>0.0</td>\n",
       "      <td>1.0</td>\n",
       "    </tr>\n",
       "    <tr>\n",
       "      <th>15795</th>\n",
       "      <td>0.001840</td>\n",
       "      <td>0.349158</td>\n",
       "      <td>0.559083</td>\n",
       "      <td>0.576687</td>\n",
       "      <td>0.006099</td>\n",
       "      <td>0.143125</td>\n",
       "      <td>0.126284</td>\n",
       "      <td>0.40</td>\n",
       "      <td>0.025820</td>\n",
       "      <td>0.06</td>\n",
       "      <td>...</td>\n",
       "      <td>0.0</td>\n",
       "      <td>1.0</td>\n",
       "      <td>0.0</td>\n",
       "      <td>1.0</td>\n",
       "      <td>0.0</td>\n",
       "      <td>0.0</td>\n",
       "      <td>0.0</td>\n",
       "      <td>0.0</td>\n",
       "      <td>1.0</td>\n",
       "      <td>0.0</td>\n",
       "    </tr>\n",
       "  </tbody>\n",
       "</table>\n",
       "<p>27032 rows × 29 columns</p>\n",
       "</div>"
      ],
      "text/plain": [
       "       student_count  awards_per_value  awards_per_state_value  \\\n",
       "11194       0.043081          0.133997                0.241623   \n",
       "6453        0.055026          0.048239                0.201058   \n",
       "25177       0.101146          0.133997                0.326279   \n",
       "29133       0.002439          0.165391                0.319224   \n",
       "31475       0.005620          0.107198                0.352734   \n",
       "...              ...               ...                     ...   \n",
       "16850       0.001640          0.355283                0.559083   \n",
       "6265        0.035304          0.137825                0.231041   \n",
       "11284       0.010046          0.199081                0.336861   \n",
       "860         0.176692          0.165391                0.303351   \n",
       "15795       0.001840          0.349158                0.559083   \n",
       "\n",
       "       awards_per_natl_value  exp_award_value  exp_award_state_value  \\\n",
       "11194               0.000000         0.007669               0.212917   \n",
       "6453                0.000000         0.007152               0.121122   \n",
       "25177               0.306748         0.009048               0.237985   \n",
       "29133               0.576687         0.004697               0.095783   \n",
       "31475               0.496933         0.009437               0.231691   \n",
       "...                      ...              ...                    ...   \n",
       "16850               0.576687         0.007466               0.143125   \n",
       "6265                0.000000         0.007226               0.149470   \n",
       "11284               0.368098         0.013352               0.755042   \n",
       "860                 0.000000         0.005756               0.077174   \n",
       "15795               0.576687         0.006099               0.143125   \n",
       "\n",
       "       exp_award_natl_value  exp_award_percentile  aid_value  aid_percentile  \\\n",
       "11194              0.168790                  0.53   0.139781            0.92   \n",
       "6453               0.168790                  0.46   0.086591            0.46   \n",
       "25177              0.541284                  0.26   0.160490            0.69   \n",
       "29133              0.126284                  0.31   0.083709            0.28   \n",
       "31475              0.181568                  0.59   0.115366            0.74   \n",
       "...                     ...                   ...        ...             ...   \n",
       "16850              0.126284                  0.52   0.079712            0.22   \n",
       "6265               0.168790                  0.47   0.140871            0.92   \n",
       "11284              1.000000                  0.43   0.427433            0.72   \n",
       "860                0.168790                  0.29   0.079422            0.34   \n",
       "15795              0.126284                  0.40   0.025820            0.06   \n",
       "\n",
       "       ...  control_Private for-profit  control_Private not-for-profit  \\\n",
       "11194  ...                         0.0                             0.0   \n",
       "6453   ...                         0.0                             0.0   \n",
       "25177  ...                         0.0                             0.0   \n",
       "29133  ...                         0.0                             1.0   \n",
       "31475  ...                         1.0                             0.0   \n",
       "...    ...                         ...                             ...   \n",
       "16850  ...                         0.0                             1.0   \n",
       "6265   ...                         0.0                             0.0   \n",
       "11284  ...                         0.0                             1.0   \n",
       "860    ...                         0.0                             0.0   \n",
       "15795  ...                         0.0                             1.0   \n",
       "\n",
       "       control_Public  gender_F  gender_M  race_A  race_Ai  race_B  race_H  \\\n",
       "11194             1.0       0.0       1.0     0.0      0.0     0.0     1.0   \n",
       "6453              1.0       1.0       0.0     0.0      0.0     1.0     0.0   \n",
       "25177             1.0       1.0       0.0     0.0      1.0     0.0     0.0   \n",
       "29133             0.0       1.0       0.0     0.0      0.0     1.0     0.0   \n",
       "31475             0.0       1.0       0.0     0.0      0.0     0.0     1.0   \n",
       "...               ...       ...       ...     ...      ...     ...     ...   \n",
       "16850             0.0       0.0       1.0     0.0      0.0     0.0     0.0   \n",
       "6265              1.0       1.0       0.0     0.0      0.0     0.0     1.0   \n",
       "11284             0.0       0.0       1.0     0.0      0.0     0.0     1.0   \n",
       "860               1.0       0.0       1.0     0.0      0.0     0.0     0.0   \n",
       "15795             0.0       1.0       0.0     0.0      0.0     0.0     1.0   \n",
       "\n",
       "       race_W  \n",
       "11194     0.0  \n",
       "6453      0.0  \n",
       "25177     0.0  \n",
       "29133     0.0  \n",
       "31475     0.0  \n",
       "...       ...  \n",
       "16850     1.0  \n",
       "6265      0.0  \n",
       "11284     0.0  \n",
       "860       1.0  \n",
       "15795     0.0  \n",
       "\n",
       "[27032 rows x 29 columns]"
      ]
     },
     "execution_count": 68,
     "metadata": {},
     "output_type": "execute_result"
    }
   ],
   "source": [
    "train_x"
   ]
  },
  {
   "cell_type": "code",
   "execution_count": 69,
   "metadata": {
    "colab": {
     "base_uri": "https://localhost:8080/"
    },
    "id": "EUkNfBunloCE",
    "outputId": "40c74f5c-49ac-4a16-8572-a092b4e26506"
   },
   "outputs": [
    {
     "name": "stdout",
     "output_type": "stream",
     "text": [
      "<class 'pandas.core.frame.DataFrame'>\n",
      "Int64Index: 33790 entries, 0 to 33789\n",
      "Data columns (total 29 columns):\n",
      " #   Column                          Non-Null Count  Dtype  \n",
      "---  ------                          --------------  -----  \n",
      " 0   student_count                   33790 non-null  float64\n",
      " 1   awards_per_value                33790 non-null  float64\n",
      " 2   awards_per_state_value          33790 non-null  float64\n",
      " 3   awards_per_natl_value           33790 non-null  float64\n",
      " 4   exp_award_value                 33790 non-null  float64\n",
      " 5   exp_award_state_value           33790 non-null  float64\n",
      " 6   exp_award_natl_value            33790 non-null  float64\n",
      " 7   exp_award_percentile            33790 non-null  float64\n",
      " 8   aid_value                       33790 non-null  float64\n",
      " 9   aid_percentile                  33790 non-null  float64\n",
      " 10  grad_100_percentile             33790 non-null  float64\n",
      " 11  grad_150_value                  33790 non-null  float64\n",
      " 12  grad_150_percentile             33790 non-null  float64\n",
      " 13  pell_value                      33790 non-null  float64\n",
      " 14  pell_percentile                 33790 non-null  float64\n",
      " 15  retain_value                    33790 non-null  float64\n",
      " 16  retain_percentile               33790 non-null  float64\n",
      " 17  level_2-year                    33790 non-null  float64\n",
      " 18  level_4-year                    33790 non-null  float64\n",
      " 19  control_Private for-profit      33790 non-null  float64\n",
      " 20  control_Private not-for-profit  33790 non-null  float64\n",
      " 21  control_Public                  33790 non-null  float64\n",
      " 22  gender_F                        33790 non-null  float64\n",
      " 23  gender_M                        33790 non-null  float64\n",
      " 24  race_A                          33790 non-null  float64\n",
      " 25  race_Ai                         33790 non-null  float64\n",
      " 26  race_B                          33790 non-null  float64\n",
      " 27  race_H                          33790 non-null  float64\n",
      " 28  race_W                          33790 non-null  float64\n",
      "dtypes: float64(29)\n",
      "memory usage: 7.7 MB\n"
     ]
    }
   ],
   "source": [
    "x_values.info()"
   ]
  },
  {
   "cell_type": "markdown",
   "metadata": {
    "id": "GnObSDcw6ziQ"
   },
   "source": [
    "### Creating, Training and Fitting the Model"
   ]
  },
  {
   "cell_type": "code",
   "execution_count": 70,
   "metadata": {
    "id": "Tr-TxeY6loCE"
   },
   "outputs": [],
   "source": [
    "# fit your linear regression model\n",
    "regression = LinearRegression().fit(train_x, train_y)"
   ]
  },
  {
   "cell_type": "code",
   "execution_count": 71,
   "metadata": {
    "colab": {
     "base_uri": "https://localhost:8080/"
    },
    "id": "SGoC1l42JzCC",
    "outputId": "e305a28d-74af-4eb8-ae1b-035e42361e29"
   },
   "outputs": [
    {
     "data": {
      "text/plain": [
       "0.9499379647742332"
      ]
     },
     "execution_count": 71,
     "metadata": {},
     "output_type": "execute_result"
    }
   ],
   "source": [
    "# Check the performance of the training sets\n",
    "regression.score(train_x, train_y)"
   ]
  },
  {
   "cell_type": "markdown",
   "metadata": {
    "id": "3h8Yegp46-oB"
   },
   "source": [
    "### Model Evaluation"
   ]
  },
  {
   "cell_type": "code",
   "execution_count": 72,
   "metadata": {
    "colab": {
     "base_uri": "https://localhost:8080/"
    },
    "id": "5BPI2RmPloCF",
    "outputId": "baec0758-d9e0-4f46-ab6d-8c3082890f67"
   },
   "outputs": [
    {
     "name": "stdout",
     "output_type": "stream",
     "text": [
      "Mean absolute error = 0.04\n",
      "Mean squared error = 0.0\n",
      "Median absolute error = 0.03\n",
      "Explain variance score = 0.95\n",
      "R2 score = 0.95\n",
      "Score of Our Linear Regression Model is :  95.00643902467839\n",
      "\n",
      "\n",
      "Description: \n",
      "\n",
      "Now our data is working accuratly and giving 95.01 percent accurate result and \n",
      "\n",
      "Model Accuracy which is measured by R2 score is also approx 0.95 percent which is best\n"
     ]
    }
   ],
   "source": [
    "# Now we have cleaned the data and successfully fitted the data in our Model\n",
    "# Now predicting the test data\n",
    "\n",
    "y_test_pred = regression.predict(test_x)\n",
    "\n",
    "import sklearn.metrics as sm\n",
    "\n",
    "\n",
    "print(\"Mean absolute error =\", round(sm.mean_absolute_error(test_y, y_test_pred), 2)) \n",
    "print(\"Mean squared error =\", round(sm.mean_squared_error(test_y, y_test_pred), 2)) \n",
    "print(\"Median absolute error =\", round(sm.median_absolute_error(test_y, y_test_pred), 2)) \n",
    "print(\"Explain variance score =\", round(sm.explained_variance_score(test_y, y_test_pred), 2)) \n",
    "print(\"R2 score =\", round(sm.r2_score(test_y, y_test_pred), 2))\n",
    "\n",
    "print(\"Score of Our Linear Regression Model is : \",regression.score(x_values,y_value)*100)\n",
    "\n",
    "print(f\"\\n\\nDescription: \\n\\nNow our data is working accuratly and giving {round(regression.score(x_values,y_value)*100,2)} percent accurate result and \\n\\nModel Accuracy which is measured by R2 score is also approx {round(sm.r2_score(test_y, y_test_pred),2)} percent which is best\")"
   ]
  },
  {
   "cell_type": "markdown",
   "metadata": {
    "id": "G39TyM3mclRf"
   },
   "source": [
    "### Additional metric"
   ]
  },
  {
   "cell_type": "markdown",
   "metadata": {
    "id": "yKzYk6b0smAM"
   },
   "source": [
    "#### - Root Mean Squared Error (RMSE)"
   ]
  },
  {
   "cell_type": "code",
   "execution_count": 73,
   "metadata": {
    "colab": {
     "base_uri": "https://localhost:8080/"
    },
    "id": "LkdHZ_IFb51r",
    "outputId": "70c5ff48-aebb-4c50-aac1-d27189d31334"
   },
   "outputs": [
    {
     "name": "stdout",
     "output_type": "stream",
     "text": [
      "Root Mean Squared Error (RMSE) =  0.052\n"
     ]
    }
   ],
   "source": [
    "# Calculate RMSE\n",
    "rmse = sm.mean_squared_error(test_y, y_test_pred, squared=False)\n",
    "print(\"Root Mean Squared Error (RMSE) = \", round(rmse, 3))"
   ]
  },
  {
   "cell_type": "markdown",
   "metadata": {
    "id": "9wCqADyGdn5w"
   },
   "source": [
    "### Model Performance"
   ]
  },
  {
   "cell_type": "code",
   "execution_count": 74,
   "metadata": {
    "colab": {
     "base_uri": "https://localhost:8080/",
     "height": 265
    },
    "id": "F5dNkDtv7TSl",
    "outputId": "55689ecd-6047-414e-a7da-a43a6df9ff2f"
   },
   "outputs": [
    {
     "data": {
      "image/png": "[encoded data removed]",
      "text/plain": [
       "<Figure size 640x480 with 1 Axes>"
      ]
     },
     "metadata": {},
     "output_type": "display_data"
    }
   ],
   "source": [
    "# Checking how well our model performs\n",
    "plt.scatter(test_y, y_test_pred);"
   ]
  },
  {
   "cell_type": "code",
   "execution_count": 75,
   "metadata": {
    "colab": {
     "base_uri": "https://localhost:8080/",
     "height": 280
    },
    "id": "dIH-owH-7zJt",
    "outputId": "4eca59f6-cbf3-4e5b-d2c7-6953631023ac"
   },
   "outputs": [
    {
     "data": {
      "image/png": "[encoded data removed]",
      "text/plain": [
       "<Figure size 640x480 with 1 Axes>"
      ]
     },
     "metadata": {},
     "output_type": "display_data"
    }
   ],
   "source": [
    "# Residual Histogram \n",
    "\n",
    "sns.distplot((test_y-y_test_pred),bins=50);"
   ]
  },
  {
   "cell_type": "markdown",
   "metadata": {
    "id": "nHnbirmKM9qL"
   },
   "source": [
    "From the two plots above, our model perform well on the test dataset with a little modification needed to improve."
   ]
  },
  {
   "cell_type": "markdown",
   "metadata": {
    "id": "8o2fbwnsxyBk"
   },
   "source": [
    "### Feature Importance\n",
    "Let's look at the weights assigned to different columns, to figure out which columns in the dataset are the most important."
   ]
  },
  {
   "cell_type": "code",
   "execution_count": 76,
   "metadata": {
    "id": "D-SkezF6yfQj"
   },
   "outputs": [],
   "source": [
    "# Define the regression coefficient\n",
    "weights = regression.coef_"
   ]
  },
  {
   "cell_type": "code",
   "execution_count": 77,
   "metadata": {
    "id": "veRm7LW1OmgQ"
   },
   "outputs": [],
   "source": [
    "# create a dataframe to view the weight assigned to each column.\n",
    "\n",
    "weights_df = pd.DataFrame({\n",
    "    'columns': train_x.columns,\n",
    "    'weight': weights\n",
    "}).sort_values('weight', ascending=False)"
   ]
  },
  {
   "cell_type": "code",
   "execution_count": 78,
   "metadata": {
    "colab": {
     "base_uri": "https://localhost:8080/",
     "height": 959
    },
    "id": "Ymiusy1qy8eV",
    "outputId": "b1dd8b9c-1b3e-4cae-f99c-addf425a5c24"
   },
   "outputs": [
    {
     "data": {
      "text/html": [
       "<div>\n",
       "<style scoped>\n",
       "    .dataframe tbody tr th:only-of-type {\n",
       "        vertical-align: middle;\n",
       "    }\n",
       "\n",
       "    .dataframe tbody tr th {\n",
       "        vertical-align: top;\n",
       "    }\n",
       "\n",
       "    .dataframe thead th {\n",
       "        text-align: right;\n",
       "    }\n",
       "</style>\n",
       "<table border=\"1\" class=\"dataframe\">\n",
       "  <thead>\n",
       "    <tr style=\"text-align: right;\">\n",
       "      <th></th>\n",
       "      <th>columns</th>\n",
       "      <th>weight</th>\n",
       "    </tr>\n",
       "  </thead>\n",
       "  <tbody>\n",
       "    <tr>\n",
       "      <th>22</th>\n",
       "      <td>gender_F</td>\n",
       "      <td>6.857033e+10</td>\n",
       "    </tr>\n",
       "    <tr>\n",
       "      <th>23</th>\n",
       "      <td>gender_M</td>\n",
       "      <td>6.857033e+10</td>\n",
       "    </tr>\n",
       "    <tr>\n",
       "      <th>11</th>\n",
       "      <td>grad_150_value</td>\n",
       "      <td>8.196853e-01</td>\n",
       "    </tr>\n",
       "    <tr>\n",
       "      <th>10</th>\n",
       "      <td>grad_100_percentile</td>\n",
       "      <td>5.909044e-01</td>\n",
       "    </tr>\n",
       "    <tr>\n",
       "      <th>4</th>\n",
       "      <td>exp_award_value</td>\n",
       "      <td>1.255694e-01</td>\n",
       "    </tr>\n",
       "    <tr>\n",
       "      <th>8</th>\n",
       "      <td>aid_value</td>\n",
       "      <td>1.026453e-01</td>\n",
       "    </tr>\n",
       "    <tr>\n",
       "      <th>0</th>\n",
       "      <td>student_count</td>\n",
       "      <td>7.469284e-02</td>\n",
       "    </tr>\n",
       "    <tr>\n",
       "      <th>16</th>\n",
       "      <td>retain_percentile</td>\n",
       "      <td>5.950893e-02</td>\n",
       "    </tr>\n",
       "    <tr>\n",
       "      <th>1</th>\n",
       "      <td>awards_per_value</td>\n",
       "      <td>4.219536e-02</td>\n",
       "    </tr>\n",
       "    <tr>\n",
       "      <th>7</th>\n",
       "      <td>exp_award_percentile</td>\n",
       "      <td>1.689296e-02</td>\n",
       "    </tr>\n",
       "    <tr>\n",
       "      <th>14</th>\n",
       "      <td>pell_percentile</td>\n",
       "      <td>1.671600e-02</td>\n",
       "    </tr>\n",
       "    <tr>\n",
       "      <th>5</th>\n",
       "      <td>exp_award_state_value</td>\n",
       "      <td>-4.729362e-04</td>\n",
       "    </tr>\n",
       "    <tr>\n",
       "      <th>9</th>\n",
       "      <td>aid_percentile</td>\n",
       "      <td>-2.208475e-02</td>\n",
       "    </tr>\n",
       "    <tr>\n",
       "      <th>13</th>\n",
       "      <td>pell_value</td>\n",
       "      <td>-4.040198e-02</td>\n",
       "    </tr>\n",
       "    <tr>\n",
       "      <th>2</th>\n",
       "      <td>awards_per_state_value</td>\n",
       "      <td>-6.202851e-02</td>\n",
       "    </tr>\n",
       "    <tr>\n",
       "      <th>15</th>\n",
       "      <td>retain_value</td>\n",
       "      <td>-7.128740e-02</td>\n",
       "    </tr>\n",
       "    <tr>\n",
       "      <th>3</th>\n",
       "      <td>awards_per_natl_value</td>\n",
       "      <td>-1.395850e-01</td>\n",
       "    </tr>\n",
       "    <tr>\n",
       "      <th>6</th>\n",
       "      <td>exp_award_natl_value</td>\n",
       "      <td>-1.462378e-01</td>\n",
       "    </tr>\n",
       "    <tr>\n",
       "      <th>12</th>\n",
       "      <td>grad_150_percentile</td>\n",
       "      <td>-4.953281e-01</td>\n",
       "    </tr>\n",
       "    <tr>\n",
       "      <th>18</th>\n",
       "      <td>level_4-year</td>\n",
       "      <td>-1.930285e+10</td>\n",
       "    </tr>\n",
       "    <tr>\n",
       "      <th>17</th>\n",
       "      <td>level_2-year</td>\n",
       "      <td>-1.930285e+10</td>\n",
       "    </tr>\n",
       "    <tr>\n",
       "      <th>20</th>\n",
       "      <td>control_Private not-for-profit</td>\n",
       "      <td>-2.623847e+10</td>\n",
       "    </tr>\n",
       "    <tr>\n",
       "      <th>19</th>\n",
       "      <td>control_Private for-profit</td>\n",
       "      <td>-2.623847e+10</td>\n",
       "    </tr>\n",
       "    <tr>\n",
       "      <th>21</th>\n",
       "      <td>control_Public</td>\n",
       "      <td>-2.623847e+10</td>\n",
       "    </tr>\n",
       "    <tr>\n",
       "      <th>27</th>\n",
       "      <td>race_H</td>\n",
       "      <td>-1.369345e+12</td>\n",
       "    </tr>\n",
       "    <tr>\n",
       "      <th>28</th>\n",
       "      <td>race_W</td>\n",
       "      <td>-1.369345e+12</td>\n",
       "    </tr>\n",
       "    <tr>\n",
       "      <th>25</th>\n",
       "      <td>race_Ai</td>\n",
       "      <td>-1.369345e+12</td>\n",
       "    </tr>\n",
       "    <tr>\n",
       "      <th>24</th>\n",
       "      <td>race_A</td>\n",
       "      <td>-1.369345e+12</td>\n",
       "    </tr>\n",
       "    <tr>\n",
       "      <th>26</th>\n",
       "      <td>race_B</td>\n",
       "      <td>-1.369345e+12</td>\n",
       "    </tr>\n",
       "  </tbody>\n",
       "</table>\n",
       "</div>"
      ],
      "text/plain": [
       "                           columns        weight\n",
       "22                        gender_F  6.857033e+10\n",
       "23                        gender_M  6.857033e+10\n",
       "11                  grad_150_value  8.196853e-01\n",
       "10             grad_100_percentile  5.909044e-01\n",
       "4                  exp_award_value  1.255694e-01\n",
       "8                        aid_value  1.026453e-01\n",
       "0                    student_count  7.469284e-02\n",
       "16               retain_percentile  5.950893e-02\n",
       "1                 awards_per_value  4.219536e-02\n",
       "7             exp_award_percentile  1.689296e-02\n",
       "14                 pell_percentile  1.671600e-02\n",
       "5            exp_award_state_value -4.729362e-04\n",
       "9                   aid_percentile -2.208475e-02\n",
       "13                      pell_value -4.040198e-02\n",
       "2           awards_per_state_value -6.202851e-02\n",
       "15                    retain_value -7.128740e-02\n",
       "3            awards_per_natl_value -1.395850e-01\n",
       "6             exp_award_natl_value -1.462378e-01\n",
       "12             grad_150_percentile -4.953281e-01\n",
       "18                    level_4-year -1.930285e+10\n",
       "17                    level_2-year -1.930285e+10\n",
       "20  control_Private not-for-profit -2.623847e+10\n",
       "19      control_Private for-profit -2.623847e+10\n",
       "21                  control_Public -2.623847e+10\n",
       "27                          race_H -1.369345e+12\n",
       "28                          race_W -1.369345e+12\n",
       "25                         race_Ai -1.369345e+12\n",
       "24                          race_A -1.369345e+12\n",
       "26                          race_B -1.369345e+12"
      ]
     },
     "execution_count": 78,
     "metadata": {},
     "output_type": "execute_result"
    }
   ],
   "source": [
    "weights_df"
   ]
  },
  {
   "cell_type": "markdown",
   "metadata": {
    "id": "Y4PAwb6cz7IG"
   },
   "source": [
    "From the above, we can see that though race and gender does not have much significant in improving the model but the task requires us to use them. The feature grad_150_value has the highest coefficient and it good in predicting the grad_100_value. Let's exclude the last 5 features from the model and check how well the model performs."
   ]
  },
  {
   "cell_type": "code",
   "execution_count": 79,
   "metadata": {
    "id": "yCHAFeNq5vd8"
   },
   "outputs": [],
   "source": [
    "# Columns to exclude \n",
    "columns = ['awards_per_state_value', 'retain_value', 'control_Public',\n",
    "           'exp_award_natl_value', 'grad_150_percentile'\n",
    "]"
   ]
  },
  {
   "cell_type": "code",
   "execution_count": 80,
   "metadata": {
    "id": "Y-BRrBFG70Od"
   },
   "outputs": [],
   "source": [
    "#train_x, test_x, train_y, test_y = train_test_split(x_values, y_value)\n",
    "#train_x, test_x, train_y, test_y = train_test_split(x_values, y_value, test_size = 0.2, random_state=42)\n",
    "x2_values = x_values.drop(columns, axis = 1)"
   ]
  },
  {
   "cell_type": "code",
   "execution_count": 81,
   "metadata": {
    "colab": {
     "base_uri": "https://localhost:8080/",
     "height": 317
    },
    "id": "uwRFhctT5tpY",
    "outputId": "29d2d0d9-7057-437f-ad78-8c074b3621eb"
   },
   "outputs": [
    {
     "data": {
      "text/html": [
       "<div>\n",
       "<style scoped>\n",
       "    .dataframe tbody tr th:only-of-type {\n",
       "        vertical-align: middle;\n",
       "    }\n",
       "\n",
       "    .dataframe tbody tr th {\n",
       "        vertical-align: top;\n",
       "    }\n",
       "\n",
       "    .dataframe thead th {\n",
       "        text-align: right;\n",
       "    }\n",
       "</style>\n",
       "<table border=\"1\" class=\"dataframe\">\n",
       "  <thead>\n",
       "    <tr style=\"text-align: right;\">\n",
       "      <th></th>\n",
       "      <th>student_count</th>\n",
       "      <th>awards_per_value</th>\n",
       "      <th>awards_per_natl_value</th>\n",
       "      <th>exp_award_value</th>\n",
       "      <th>exp_award_state_value</th>\n",
       "      <th>exp_award_percentile</th>\n",
       "      <th>aid_value</th>\n",
       "      <th>aid_percentile</th>\n",
       "      <th>grad_100_percentile</th>\n",
       "      <th>grad_150_value</th>\n",
       "      <th>...</th>\n",
       "      <th>level_4-year</th>\n",
       "      <th>control_Private for-profit</th>\n",
       "      <th>control_Private not-for-profit</th>\n",
       "      <th>gender_F</th>\n",
       "      <th>gender_M</th>\n",
       "      <th>race_A</th>\n",
       "      <th>race_Ai</th>\n",
       "      <th>race_B</th>\n",
       "      <th>race_H</th>\n",
       "      <th>race_W</th>\n",
       "    </tr>\n",
       "  </thead>\n",
       "  <tbody>\n",
       "    <tr>\n",
       "      <th>0</th>\n",
       "      <td>0.023677</td>\n",
       "      <td>0.1049</td>\n",
       "      <td>0.306748</td>\n",
       "      <td>0.019941</td>\n",
       "      <td>0.359141</td>\n",
       "      <td>0.9</td>\n",
       "      <td>0.165867</td>\n",
       "      <td>0.72</td>\n",
       "      <td>0.15</td>\n",
       "      <td>0.291</td>\n",
       "      <td>...</td>\n",
       "      <td>1.0</td>\n",
       "      <td>0.0</td>\n",
       "      <td>0.0</td>\n",
       "      <td>0.0</td>\n",
       "      <td>1.0</td>\n",
       "      <td>0.0</td>\n",
       "      <td>0.0</td>\n",
       "      <td>0.0</td>\n",
       "      <td>0.0</td>\n",
       "      <td>1.0</td>\n",
       "    </tr>\n",
       "    <tr>\n",
       "      <th>1</th>\n",
       "      <td>0.023677</td>\n",
       "      <td>0.1049</td>\n",
       "      <td>0.306748</td>\n",
       "      <td>0.019941</td>\n",
       "      <td>0.359141</td>\n",
       "      <td>0.9</td>\n",
       "      <td>0.165867</td>\n",
       "      <td>0.72</td>\n",
       "      <td>0.15</td>\n",
       "      <td>0.291</td>\n",
       "      <td>...</td>\n",
       "      <td>1.0</td>\n",
       "      <td>0.0</td>\n",
       "      <td>0.0</td>\n",
       "      <td>1.0</td>\n",
       "      <td>0.0</td>\n",
       "      <td>0.0</td>\n",
       "      <td>0.0</td>\n",
       "      <td>0.0</td>\n",
       "      <td>0.0</td>\n",
       "      <td>1.0</td>\n",
       "    </tr>\n",
       "    <tr>\n",
       "      <th>2</th>\n",
       "      <td>0.023677</td>\n",
       "      <td>0.1049</td>\n",
       "      <td>0.306748</td>\n",
       "      <td>0.019941</td>\n",
       "      <td>0.359141</td>\n",
       "      <td>0.9</td>\n",
       "      <td>0.165867</td>\n",
       "      <td>0.72</td>\n",
       "      <td>0.15</td>\n",
       "      <td>0.291</td>\n",
       "      <td>...</td>\n",
       "      <td>1.0</td>\n",
       "      <td>0.0</td>\n",
       "      <td>0.0</td>\n",
       "      <td>0.0</td>\n",
       "      <td>1.0</td>\n",
       "      <td>0.0</td>\n",
       "      <td>0.0</td>\n",
       "      <td>1.0</td>\n",
       "      <td>0.0</td>\n",
       "      <td>0.0</td>\n",
       "    </tr>\n",
       "    <tr>\n",
       "      <th>3</th>\n",
       "      <td>0.023677</td>\n",
       "      <td>0.1049</td>\n",
       "      <td>0.306748</td>\n",
       "      <td>0.019941</td>\n",
       "      <td>0.359141</td>\n",
       "      <td>0.9</td>\n",
       "      <td>0.165867</td>\n",
       "      <td>0.72</td>\n",
       "      <td>0.15</td>\n",
       "      <td>0.291</td>\n",
       "      <td>...</td>\n",
       "      <td>1.0</td>\n",
       "      <td>0.0</td>\n",
       "      <td>0.0</td>\n",
       "      <td>1.0</td>\n",
       "      <td>0.0</td>\n",
       "      <td>0.0</td>\n",
       "      <td>0.0</td>\n",
       "      <td>1.0</td>\n",
       "      <td>0.0</td>\n",
       "      <td>0.0</td>\n",
       "    </tr>\n",
       "    <tr>\n",
       "      <th>4</th>\n",
       "      <td>0.023677</td>\n",
       "      <td>0.1049</td>\n",
       "      <td>0.306748</td>\n",
       "      <td>0.019941</td>\n",
       "      <td>0.359141</td>\n",
       "      <td>0.9</td>\n",
       "      <td>0.165867</td>\n",
       "      <td>0.72</td>\n",
       "      <td>0.15</td>\n",
       "      <td>0.291</td>\n",
       "      <td>...</td>\n",
       "      <td>1.0</td>\n",
       "      <td>0.0</td>\n",
       "      <td>0.0</td>\n",
       "      <td>0.0</td>\n",
       "      <td>1.0</td>\n",
       "      <td>0.0</td>\n",
       "      <td>0.0</td>\n",
       "      <td>0.0</td>\n",
       "      <td>1.0</td>\n",
       "      <td>0.0</td>\n",
       "    </tr>\n",
       "  </tbody>\n",
       "</table>\n",
       "<p>5 rows × 24 columns</p>\n",
       "</div>"
      ],
      "text/plain": [
       "   student_count  awards_per_value  awards_per_natl_value  exp_award_value  \\\n",
       "0       0.023677            0.1049               0.306748         0.019941   \n",
       "1       0.023677            0.1049               0.306748         0.019941   \n",
       "2       0.023677            0.1049               0.306748         0.019941   \n",
       "3       0.023677            0.1049               0.306748         0.019941   \n",
       "4       0.023677            0.1049               0.306748         0.019941   \n",
       "\n",
       "   exp_award_state_value  exp_award_percentile  aid_value  aid_percentile  \\\n",
       "0               0.359141                   0.9   0.165867            0.72   \n",
       "1               0.359141                   0.9   0.165867            0.72   \n",
       "2               0.359141                   0.9   0.165867            0.72   \n",
       "3               0.359141                   0.9   0.165867            0.72   \n",
       "4               0.359141                   0.9   0.165867            0.72   \n",
       "\n",
       "   grad_100_percentile  grad_150_value  ...  level_4-year  \\\n",
       "0                 0.15           0.291  ...           1.0   \n",
       "1                 0.15           0.291  ...           1.0   \n",
       "2                 0.15           0.291  ...           1.0   \n",
       "3                 0.15           0.291  ...           1.0   \n",
       "4                 0.15           0.291  ...           1.0   \n",
       "\n",
       "   control_Private for-profit  control_Private not-for-profit  gender_F  \\\n",
       "0                         0.0                             0.0       0.0   \n",
       "1                         0.0                             0.0       1.0   \n",
       "2                         0.0                             0.0       0.0   \n",
       "3                         0.0                             0.0       1.0   \n",
       "4                         0.0                             0.0       0.0   \n",
       "\n",
       "   gender_M  race_A  race_Ai  race_B  race_H  race_W  \n",
       "0       1.0     0.0      0.0     0.0     0.0     1.0  \n",
       "1       0.0     0.0      0.0     0.0     0.0     1.0  \n",
       "2       1.0     0.0      0.0     1.0     0.0     0.0  \n",
       "3       0.0     0.0      0.0     1.0     0.0     0.0  \n",
       "4       1.0     0.0      0.0     0.0     1.0     0.0  \n",
       "\n",
       "[5 rows x 24 columns]"
      ]
     },
     "execution_count": 81,
     "metadata": {},
     "output_type": "execute_result"
    }
   ],
   "source": [
    "x2_values.head()"
   ]
  },
  {
   "cell_type": "code",
   "execution_count": 82,
   "metadata": {
    "id": "L86bUsI--NK2"
   },
   "outputs": [],
   "source": [
    "#train_x, test_x, train_y, test_y = train_test_split(x2_values, y_value)\n",
    "train_x, test_x, train_y, test_y = train_test_split(x2_values, y_value, test_size = 0.2, random_state=42)"
   ]
  },
  {
   "cell_type": "code",
   "execution_count": 83,
   "metadata": {
    "id": "Rdbp4IYK5ts3"
   },
   "outputs": [],
   "source": [
    "# fit your linear regression model\n",
    "regression2 = LinearRegression().fit(train_x, train_y)"
   ]
  },
  {
   "cell_type": "code",
   "execution_count": 84,
   "metadata": {
    "colab": {
     "base_uri": "https://localhost:8080/"
    },
    "id": "-Y45nl1k5twf",
    "outputId": "ef12af59-418a-42fb-d1c2-3a52811d9978"
   },
   "outputs": [
    {
     "data": {
      "text/plain": [
       "0.91352793572115"
      ]
     },
     "execution_count": 84,
     "metadata": {},
     "output_type": "execute_result"
    }
   ],
   "source": [
    "# Check the performance of the training sets\n",
    "regression2.score(train_x, train_y)"
   ]
  },
  {
   "cell_type": "markdown",
   "metadata": {
    "id": "ptzJbwgw_UoW"
   },
   "source": [
    "Observation: Removing those 5 features decreases the accuracy of our model, this shows that they have a significant impact in the model. "
   ]
  },
  {
   "cell_type": "markdown",
   "metadata": {
    "id": "ZRMhoefQg4eU"
   },
   "source": [
    "### Test For Other Algorithm To Improve Performance"
   ]
  },
  {
   "cell_type": "markdown",
   "metadata": {
    "id": "qI3vpwjYhAn-"
   },
   "source": [
    "#### - Decision Tree Algorithm"
   ]
  },
  {
   "cell_type": "code",
   "execution_count": 85,
   "metadata": {
    "id": "PPM5RSRug_Qy"
   },
   "outputs": [],
   "source": [
    "# Decision Tree Regression\n",
    "from sklearn.tree import DecisionTreeRegressor"
   ]
  },
  {
   "cell_type": "code",
   "execution_count": 86,
   "metadata": {
    "id": "zGtVB_-WhWbV"
   },
   "outputs": [],
   "source": [
    "# Create the decision tree model and fit the model on the training data\n",
    "d_tree = DecisionTreeRegressor(max_depth=5).fit(train_x, train_y)"
   ]
  },
  {
   "cell_type": "code",
   "execution_count": 87,
   "metadata": {
    "colab": {
     "base_uri": "https://localhost:8080/"
    },
    "id": "WOCvr2qoig7z",
    "outputId": "ad09db39-d3e0-4f9c-ba7b-dd280e2e77e3"
   },
   "outputs": [
    {
     "data": {
      "text/plain": [
       "0.9565481533897862"
      ]
     },
     "execution_count": 87,
     "metadata": {},
     "output_type": "execute_result"
    }
   ],
   "source": [
    "# Check the performance of the training sets\n",
    "d_tree.score(train_x, train_y)"
   ]
  },
  {
   "cell_type": "code",
   "execution_count": 88,
   "metadata": {
    "id": "VEvY8boyjFgm"
   },
   "outputs": [],
   "source": [
    "# Make predictions on the test data\n",
    "y_test_pred1 = d_tree.predict(test_x)"
   ]
  },
  {
   "cell_type": "code",
   "execution_count": 89,
   "metadata": {
    "colab": {
     "base_uri": "https://localhost:8080/"
    },
    "id": "IHpEUgKujhFh",
    "outputId": "7699fc05-6bb7-4987-b94b-03cce8a75d92"
   },
   "outputs": [
    {
     "name": "stdout",
     "output_type": "stream",
     "text": [
      "Decision Tree Mean absolute error = 0.03\n",
      "Decision Tree Mean squared error = 0.0\n",
      "Decision Tree Median absolute error = 0.02\n",
      "Decision Tree Explain variance score = 0.95\n",
      "Decision Tree R2 score = 0.95\n",
      "Decision Tree Root Mean Squared Error (RMSE) =  0.05\n"
     ]
    }
   ],
   "source": [
    "# Check the model performance\n",
    "\n",
    "print(\"Decision Tree Mean absolute error =\", round(sm.mean_absolute_error(test_y, y_test_pred1), 2)) \n",
    "print(\"Decision Tree Mean squared error =\", round(sm.mean_squared_error(test_y, y_test_pred1), 2)) \n",
    "print(\"Decision Tree Median absolute error =\", round(sm.median_absolute_error(test_y, y_test_pred1), 2)) \n",
    "print(\"Decision Tree Explain variance score =\", round(sm.explained_variance_score(test_y, y_test_pred1), 2)) \n",
    "print(\"Decision Tree R2 score =\", round(sm.r2_score(test_y, y_test_pred1), 2))\n",
    "print(\"Decision Tree Root Mean Squared Error (RMSE) = \", round(sm.mean_squared_error(test_y, y_test_pred1, squared=False), 2))"
   ]
  },
  {
   "cell_type": "markdown",
   "metadata": {
    "id": "e_yjkdJSksz0"
   },
   "source": [
    "From above, our decision tree model performs better than the linear regression model."
   ]
  },
  {
   "cell_type": "markdown",
   "metadata": {
    "id": "nq_13OUSk8K7"
   },
   "source": [
    "#### - Random Forest Regression Model"
   ]
  },
  {
   "cell_type": "code",
   "execution_count": 90,
   "metadata": {
    "id": "G7mWfA_tkqMH"
   },
   "outputs": [],
   "source": [
    "# Random Forest Regression\n",
    "from sklearn.ensemble import RandomForestRegressor\n",
    "\n",
    "# Create the random forest model and fit the model\n",
    "r_forest = RandomForestRegressor(n_estimators=100, max_depth=5).fit(train_x, train_y)"
   ]
  },
  {
   "cell_type": "code",
   "execution_count": 91,
   "metadata": {
    "colab": {
     "base_uri": "https://localhost:8080/"
    },
    "id": "-WW7fJ-glhCB",
    "outputId": "116d68d7-3ab5-4b7d-e4cd-98e7659175d8"
   },
   "outputs": [
    {
     "data": {
      "text/plain": [
       "0.9649422842265306"
      ]
     },
     "execution_count": 91,
     "metadata": {},
     "output_type": "execute_result"
    }
   ],
   "source": [
    "# Check the performance of the training sets\n",
    "r_forest.score(train_x, train_y)"
   ]
  },
  {
   "cell_type": "code",
   "execution_count": 92,
   "metadata": {
    "id": "Fbcus7fAlhM4"
   },
   "outputs": [],
   "source": [
    "# Make predictions on the test data\n",
    "y_test_pred2 = r_forest.predict(test_x)"
   ]
  },
  {
   "cell_type": "code",
   "execution_count": 93,
   "metadata": {
    "colab": {
     "base_uri": "https://localhost:8080/"
    },
    "id": "ub46_DHxl3Fv",
    "outputId": "018b43d2-a20c-4056-870a-e7f2f6f66d86"
   },
   "outputs": [
    {
     "name": "stdout",
     "output_type": "stream",
     "text": [
      "Decision Tree Mean absolute error = 0.03\n",
      "Decision Tree Mean squared error = 0.0\n",
      "Decision Tree Median absolute error = 0.02\n",
      "Decision Tree Explain variance score = 0.96\n",
      "Decision Tree R2 score = 0.96\n",
      "Decision Tree Root Mean Squared Error (RMSE) =  0.04\n"
     ]
    }
   ],
   "source": [
    "# Check the model performance\n",
    "\n",
    "print(\"Decision Tree Mean absolute error =\", round(sm.mean_absolute_error(test_y, y_test_pred2), 2)) \n",
    "print(\"Decision Tree Mean squared error =\", round(sm.mean_squared_error(test_y, y_test_pred2), 2)) \n",
    "print(\"Decision Tree Median absolute error =\", round(sm.median_absolute_error(test_y, y_test_pred2), 2)) \n",
    "print(\"Decision Tree Explain variance score =\", round(sm.explained_variance_score(test_y, y_test_pred2), 2)) \n",
    "print(\"Decision Tree R2 score =\", round(sm.r2_score(test_y, y_test_pred2), 2))\n",
    "print(\"Decision Tree Root Mean Squared Error (RMSE) = \", round(sm.mean_squared_error(test_y, y_test_pred2, squared=False), 2))"
   ]
  },
  {
   "cell_type": "markdown",
   "metadata": {
    "id": "e_fJ7M0F_rd2"
   },
   "source": [
    "Finally, using Random Forest and Decision tree have a better performance than the linear regression model. "
   ]
  },
  {
   "cell_type": "code",
   "execution_count": null,
   "metadata": {
    "id": "Aw0WjDLP86s_"
   },
   "outputs": [],
   "source": []
  }
 ],
 "metadata": {
  "colab": {
   "provenance": []
  },
  "kernelspec": {
   "display_name": "mlenv",
   "language": "python",
   "name": "mlenv"
  },
  "language_info": {
   "codemirror_mode": {
    "name": "ipython",
    "version": 3
   },
   "file_extension": ".py",
   "mimetype": "text/x-python",
   "name": "python",
   "nbconvert_exporter": "python",
   "pygments_lexer": "ipython3",
   "version": "3.7.13"
  }
 },
 "nbformat": 4,
 "nbformat_minor": 1
}
