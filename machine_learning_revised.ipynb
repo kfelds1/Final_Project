{
 "cells": [
  {
   "cell_type": "markdown",
   "metadata": {
    "id": "w1gOBOgVloBj"
   },
   "source": [
    "# Graduation Rates among postsecondary education students in the U.S:\n",
    "\n",
    "We are interested in learning about what exactly affects an undergraduate student’s likelihood to complete college. Particularly, we are observing a student’s financial aid, received to discover whether or not these variables have a significant impact on graduation rates. The goal is to use our data analysis skills to determine the extent that these factors affect the percentage of students who graduate within 100% of normal time for that specific institution.\n",
    "\n",
    "For this machine learning model, use Linear Regression as a baseline, and test the training data against the x variables."
   ]
  },
  {
   "cell_type": "code",
   "execution_count": 1,
   "metadata": {
    "id": "UtlgMY-QloBq"
   },
   "outputs": [],
   "source": [
    "import warnings\n",
    "warnings.filterwarnings('ignore')"
   ]
  },
  {
   "cell_type": "code",
   "execution_count": 2,
   "metadata": {
    "colab": {
     "base_uri": "https://localhost:8080/",
     "height": 34
    },
    "id": "7Rjpq1sAloBu",
    "outputId": "6e6a9bd4-fa95-435b-dcdf-9048952854fa"
   },
   "outputs": [
    {
     "data": {
      "text/plain": [
       "<Figure size 5000x480 with 0 Axes>"
      ]
     },
     "metadata": {},
     "output_type": "display_data"
    }
   ],
   "source": [
    "# Importing libraries\n",
    "import pandas as pd \n",
    "import numpy as np\n",
    "import seaborn as sns\n",
    "from sklearn.linear_model import LinearRegression\n",
    "\n",
    "from sklearn.model_selection import train_test_split\n",
    "from sklearn.metrics import balanced_accuracy_score\n",
    "from sklearn.preprocessing import MinMaxScaler\n",
    "from sklearn.preprocessing import StandardScaler,OneHotEncoder\n",
    "from sklearn.metrics import confusion_matrix\n",
    "\n",
    "import matplotlib.pyplot as plt\n",
    "\n",
    "plt.figure().set_figwidth(50)"
   ]
  },
  {
   "cell_type": "code",
   "execution_count": 3,
   "metadata": {
    "colab": {
     "base_uri": "https://localhost:8080/",
     "height": 577
    },
    "id": "p3yvuMRYloBw",
    "outputId": "13a3f5d6-7e61-4ac1-f9d4-c701a9a8c45b"
   },
   "outputs": [
    {
     "data": {
      "text/html": [
       "<div>\n",
       "<style scoped>\n",
       "    .dataframe tbody tr th:only-of-type {\n",
       "        vertical-align: middle;\n",
       "    }\n",
       "\n",
       "    .dataframe tbody tr th {\n",
       "        vertical-align: top;\n",
       "    }\n",
       "\n",
       "    .dataframe thead th {\n",
       "        text-align: right;\n",
       "    }\n",
       "</style>\n",
       "<table border=\"1\" class=\"dataframe\">\n",
       "  <thead>\n",
       "    <tr style=\"text-align: right;\">\n",
       "      <th></th>\n",
       "      <th>index</th>\n",
       "      <th>unitid</th>\n",
       "      <th>chronname</th>\n",
       "      <th>city</th>\n",
       "      <th>state</th>\n",
       "      <th>level</th>\n",
       "      <th>control</th>\n",
       "      <th>basic</th>\n",
       "      <th>hbcu</th>\n",
       "      <th>flagship</th>\n",
       "      <th>...</th>\n",
       "      <th>vsa_grad_after6_transfer</th>\n",
       "      <th>vsa_grad_elsewhere_after6_transfer</th>\n",
       "      <th>vsa_enroll_after6_transfer</th>\n",
       "      <th>vsa_enroll_elsewhere_after6_transfer</th>\n",
       "      <th>similar</th>\n",
       "      <th>state_sector_ct</th>\n",
       "      <th>carnegie_ct</th>\n",
       "      <th>counted_pct</th>\n",
       "      <th>nicknames</th>\n",
       "      <th>cohort_size</th>\n",
       "    </tr>\n",
       "  </thead>\n",
       "  <tbody>\n",
       "    <tr>\n",
       "      <th>0</th>\n",
       "      <td>0</td>\n",
       "      <td>100654</td>\n",
       "      <td>Alabama A&amp;M University</td>\n",
       "      <td>Normal</td>\n",
       "      <td>Alabama</td>\n",
       "      <td>4-year</td>\n",
       "      <td>Public</td>\n",
       "      <td>Masters Colleges and Universities--larger prog...</td>\n",
       "      <td>X</td>\n",
       "      <td>NaN</td>\n",
       "      <td>...</td>\n",
       "      <td>36.4</td>\n",
       "      <td>5.6</td>\n",
       "      <td>17.2</td>\n",
       "      <td>11.1</td>\n",
       "      <td>232937|100724|405997|113607|139533|144005|2285...</td>\n",
       "      <td>13</td>\n",
       "      <td>386</td>\n",
       "      <td>99.7|07</td>\n",
       "      <td>NaN</td>\n",
       "      <td>882.0</td>\n",
       "    </tr>\n",
       "    <tr>\n",
       "      <th>1</th>\n",
       "      <td>1</td>\n",
       "      <td>100663</td>\n",
       "      <td>University of Alabama at Birmingham</td>\n",
       "      <td>Birmingham</td>\n",
       "      <td>Alabama</td>\n",
       "      <td>4-year</td>\n",
       "      <td>Public</td>\n",
       "      <td>Research Universities--very high research acti...</td>\n",
       "      <td>NaN</td>\n",
       "      <td>NaN</td>\n",
       "      <td>...</td>\n",
       "      <td>NaN</td>\n",
       "      <td>NaN</td>\n",
       "      <td>NaN</td>\n",
       "      <td>NaN</td>\n",
       "      <td>196060|180461|201885|145600|209542|236939|1268...</td>\n",
       "      <td>13</td>\n",
       "      <td>106</td>\n",
       "      <td>56.0|07</td>\n",
       "      <td>UAB</td>\n",
       "      <td>1376.0</td>\n",
       "    </tr>\n",
       "    <tr>\n",
       "      <th>2</th>\n",
       "      <td>2</td>\n",
       "      <td>100690</td>\n",
       "      <td>Amridge University</td>\n",
       "      <td>Montgomery</td>\n",
       "      <td>Alabama</td>\n",
       "      <td>4-year</td>\n",
       "      <td>Private not-for-profit</td>\n",
       "      <td>Baccalaureate Colleges--Arts &amp; Sciences</td>\n",
       "      <td>NaN</td>\n",
       "      <td>NaN</td>\n",
       "      <td>...</td>\n",
       "      <td>NaN</td>\n",
       "      <td>NaN</td>\n",
       "      <td>NaN</td>\n",
       "      <td>NaN</td>\n",
       "      <td>217925|441511|205124|247825|197647|221856|1353...</td>\n",
       "      <td>16</td>\n",
       "      <td>252</td>\n",
       "      <td>100.0|07</td>\n",
       "      <td>NaN</td>\n",
       "      <td>3.0</td>\n",
       "    </tr>\n",
       "    <tr>\n",
       "      <th>3</th>\n",
       "      <td>3</td>\n",
       "      <td>100706</td>\n",
       "      <td>University of Alabama at Huntsville</td>\n",
       "      <td>Huntsville</td>\n",
       "      <td>Alabama</td>\n",
       "      <td>4-year</td>\n",
       "      <td>Public</td>\n",
       "      <td>Research Universities--very high research acti...</td>\n",
       "      <td>NaN</td>\n",
       "      <td>NaN</td>\n",
       "      <td>...</td>\n",
       "      <td>0.0</td>\n",
       "      <td>0.0</td>\n",
       "      <td>0.0</td>\n",
       "      <td>0.0</td>\n",
       "      <td>232186|133881|196103|196413|207388|171128|1900...</td>\n",
       "      <td>13</td>\n",
       "      <td>106</td>\n",
       "      <td>43.1|07</td>\n",
       "      <td>UAH</td>\n",
       "      <td>759.0</td>\n",
       "    </tr>\n",
       "    <tr>\n",
       "      <th>4</th>\n",
       "      <td>4</td>\n",
       "      <td>100724</td>\n",
       "      <td>Alabama State University</td>\n",
       "      <td>Montgomery</td>\n",
       "      <td>Alabama</td>\n",
       "      <td>4-year</td>\n",
       "      <td>Public</td>\n",
       "      <td>Masters Colleges and Universities--larger prog...</td>\n",
       "      <td>X</td>\n",
       "      <td>NaN</td>\n",
       "      <td>...</td>\n",
       "      <td>NaN</td>\n",
       "      <td>NaN</td>\n",
       "      <td>NaN</td>\n",
       "      <td>NaN</td>\n",
       "      <td>100654|232937|242617|243197|144005|241739|2354...</td>\n",
       "      <td>13</td>\n",
       "      <td>386</td>\n",
       "      <td>88.0|07</td>\n",
       "      <td>ASU</td>\n",
       "      <td>1351.0</td>\n",
       "    </tr>\n",
       "  </tbody>\n",
       "</table>\n",
       "<p>5 rows × 63 columns</p>\n",
       "</div>"
      ],
      "text/plain": [
       "   index  unitid                            chronname        city    state  \\\n",
       "0      0  100654               Alabama A&M University      Normal  Alabama   \n",
       "1      1  100663  University of Alabama at Birmingham  Birmingham  Alabama   \n",
       "2      2  100690                   Amridge University  Montgomery  Alabama   \n",
       "3      3  100706  University of Alabama at Huntsville  Huntsville  Alabama   \n",
       "4      4  100724             Alabama State University  Montgomery  Alabama   \n",
       "\n",
       "    level                 control  \\\n",
       "0  4-year                  Public   \n",
       "1  4-year                  Public   \n",
       "2  4-year  Private not-for-profit   \n",
       "3  4-year                  Public   \n",
       "4  4-year                  Public   \n",
       "\n",
       "                                               basic hbcu flagship  ...  \\\n",
       "0  Masters Colleges and Universities--larger prog...    X      NaN  ...   \n",
       "1  Research Universities--very high research acti...  NaN      NaN  ...   \n",
       "2            Baccalaureate Colleges--Arts & Sciences  NaN      NaN  ...   \n",
       "3  Research Universities--very high research acti...  NaN      NaN  ...   \n",
       "4  Masters Colleges and Universities--larger prog...    X      NaN  ...   \n",
       "\n",
       "   vsa_grad_after6_transfer  vsa_grad_elsewhere_after6_transfer  \\\n",
       "0                      36.4                                 5.6   \n",
       "1                       NaN                                 NaN   \n",
       "2                       NaN                                 NaN   \n",
       "3                       0.0                                 0.0   \n",
       "4                       NaN                                 NaN   \n",
       "\n",
       "  vsa_enroll_after6_transfer  vsa_enroll_elsewhere_after6_transfer  \\\n",
       "0                       17.2                                  11.1   \n",
       "1                        NaN                                   NaN   \n",
       "2                        NaN                                   NaN   \n",
       "3                        0.0                                   0.0   \n",
       "4                        NaN                                   NaN   \n",
       "\n",
       "                                             similar  state_sector_ct  \\\n",
       "0  232937|100724|405997|113607|139533|144005|2285...               13   \n",
       "1  196060|180461|201885|145600|209542|236939|1268...               13   \n",
       "2  217925|441511|205124|247825|197647|221856|1353...               16   \n",
       "3  232186|133881|196103|196413|207388|171128|1900...               13   \n",
       "4  100654|232937|242617|243197|144005|241739|2354...               13   \n",
       "\n",
       "   carnegie_ct  counted_pct  nicknames  cohort_size  \n",
       "0          386      99.7|07        NaN        882.0  \n",
       "1          106      56.0|07        UAB       1376.0  \n",
       "2          252     100.0|07        NaN          3.0  \n",
       "3          106      43.1|07        UAH        759.0  \n",
       "4          386      88.0|07        ASU       1351.0  \n",
       "\n",
       "[5 rows x 63 columns]"
      ]
     },
     "execution_count": 3,
     "metadata": {},
     "output_type": "execute_result"
    }
   ],
   "source": [
    "data_1 = pd.read_csv(\"cc_institution_details.csv\")\n",
    "\n",
    "data_1.head()"
   ]
  },
  {
   "cell_type": "code",
   "execution_count": 4,
   "metadata": {
    "colab": {
     "base_uri": "https://localhost:8080/"
    },
    "id": "mX7jiMz9loBx",
    "outputId": "9b85623f-43b8-45be-c1f0-4d35b61534ee"
   },
   "outputs": [
    {
     "data": {
      "text/plain": [
       "Index(['index', 'unitid', 'chronname', 'city', 'state', 'level', 'control',\n",
       "       'basic', 'hbcu', 'flagship', 'long_x', 'lat_y', 'site', 'student_count',\n",
       "       'awards_per_value', 'awards_per_state_value', 'awards_per_natl_value',\n",
       "       'exp_award_value', 'exp_award_state_value', 'exp_award_natl_value',\n",
       "       'exp_award_percentile', 'ft_pct', 'fte_value', 'fte_percentile',\n",
       "       'med_sat_value', 'med_sat_percentile', 'aid_value', 'aid_percentile',\n",
       "       'endow_value', 'endow_percentile', 'grad_100_value',\n",
       "       'grad_100_percentile', 'grad_150_value', 'grad_150_percentile',\n",
       "       'pell_value', 'pell_percentile', 'retain_value', 'retain_percentile',\n",
       "       'ft_fac_value', 'ft_fac_percentile', 'vsa_year',\n",
       "       'vsa_grad_after4_first', 'vsa_grad_elsewhere_after4_first',\n",
       "       'vsa_enroll_after4_first', 'vsa_enroll_elsewhere_after4_first',\n",
       "       'vsa_grad_after6_first', 'vsa_grad_elsewhere_after6_first',\n",
       "       'vsa_enroll_after6_first', 'vsa_enroll_elsewhere_after6_first',\n",
       "       'vsa_grad_after4_transfer', 'vsa_grad_elsewhere_after4_transfer',\n",
       "       'vsa_enroll_after4_transfer', 'vsa_enroll_elsewhere_after4_transfer',\n",
       "       'vsa_grad_after6_transfer', 'vsa_grad_elsewhere_after6_transfer',\n",
       "       'vsa_enroll_after6_transfer', 'vsa_enroll_elsewhere_after6_transfer',\n",
       "       'similar', 'state_sector_ct', 'carnegie_ct', 'counted_pct', 'nicknames',\n",
       "       'cohort_size'],\n",
       "      dtype='object')"
      ]
     },
     "execution_count": 4,
     "metadata": {},
     "output_type": "execute_result"
    }
   ],
   "source": [
    "data_1.columns"
   ]
  },
  {
   "cell_type": "code",
   "execution_count": 5,
   "metadata": {},
   "outputs": [
    {
     "data": {
      "text/plain": [
       "(3798, 63)"
      ]
     },
     "execution_count": 5,
     "metadata": {},
     "output_type": "execute_result"
    }
   ],
   "source": [
    "data_1.shape"
   ]
  },
  {
   "cell_type": "code",
   "execution_count": 6,
   "metadata": {
    "id": "L5X9SMLYET_V"
   },
   "outputs": [],
   "source": [
    "data_2 = pd.read_csv(\"cc_institution_grads.csv\")"
   ]
  },
  {
   "cell_type": "code",
   "execution_count": 7,
   "metadata": {
    "colab": {
     "base_uri": "https://localhost:8080/",
     "height": 206
    },
    "id": "UIETPRcBEUPD",
    "outputId": "6afd2fa7-7726-41b7-f49d-23a0e18bcf4d"
   },
   "outputs": [
    {
     "data": {
      "text/html": [
       "<div>\n",
       "<style scoped>\n",
       "    .dataframe tbody tr th:only-of-type {\n",
       "        vertical-align: middle;\n",
       "    }\n",
       "\n",
       "    .dataframe tbody tr th {\n",
       "        vertical-align: top;\n",
       "    }\n",
       "\n",
       "    .dataframe thead th {\n",
       "        text-align: right;\n",
       "    }\n",
       "</style>\n",
       "<table border=\"1\" class=\"dataframe\">\n",
       "  <thead>\n",
       "    <tr style=\"text-align: right;\">\n",
       "      <th></th>\n",
       "      <th>index</th>\n",
       "      <th>unitid</th>\n",
       "      <th>year</th>\n",
       "      <th>gender</th>\n",
       "      <th>race</th>\n",
       "      <th>cohort</th>\n",
       "      <th>grad_cohort</th>\n",
       "      <th>grad_100</th>\n",
       "      <th>grad_150</th>\n",
       "      <th>grad_100_rate</th>\n",
       "      <th>grad_150_rate</th>\n",
       "    </tr>\n",
       "  </thead>\n",
       "  <tbody>\n",
       "    <tr>\n",
       "      <th>0</th>\n",
       "      <td>0</td>\n",
       "      <td>100760</td>\n",
       "      <td>2011</td>\n",
       "      <td>B</td>\n",
       "      <td>X</td>\n",
       "      <td>2y all</td>\n",
       "      <td>446.0</td>\n",
       "      <td>73.0</td>\n",
       "      <td>105.0</td>\n",
       "      <td>16.4</td>\n",
       "      <td>23.5</td>\n",
       "    </tr>\n",
       "    <tr>\n",
       "      <th>1</th>\n",
       "      <td>1</td>\n",
       "      <td>100760</td>\n",
       "      <td>2011</td>\n",
       "      <td>M</td>\n",
       "      <td>X</td>\n",
       "      <td>2y all</td>\n",
       "      <td>185.0</td>\n",
       "      <td>NaN</td>\n",
       "      <td>40.0</td>\n",
       "      <td>NaN</td>\n",
       "      <td>21.6</td>\n",
       "    </tr>\n",
       "    <tr>\n",
       "      <th>2</th>\n",
       "      <td>2</td>\n",
       "      <td>100760</td>\n",
       "      <td>2011</td>\n",
       "      <td>F</td>\n",
       "      <td>X</td>\n",
       "      <td>2y all</td>\n",
       "      <td>261.0</td>\n",
       "      <td>NaN</td>\n",
       "      <td>65.0</td>\n",
       "      <td>NaN</td>\n",
       "      <td>24.9</td>\n",
       "    </tr>\n",
       "    <tr>\n",
       "      <th>3</th>\n",
       "      <td>3</td>\n",
       "      <td>100760</td>\n",
       "      <td>2011</td>\n",
       "      <td>B</td>\n",
       "      <td>W</td>\n",
       "      <td>2y all</td>\n",
       "      <td>348.0</td>\n",
       "      <td>NaN</td>\n",
       "      <td>86.0</td>\n",
       "      <td>NaN</td>\n",
       "      <td>24.7</td>\n",
       "    </tr>\n",
       "    <tr>\n",
       "      <th>4</th>\n",
       "      <td>4</td>\n",
       "      <td>100760</td>\n",
       "      <td>2011</td>\n",
       "      <td>M</td>\n",
       "      <td>W</td>\n",
       "      <td>2y all</td>\n",
       "      <td>162.0</td>\n",
       "      <td>NaN</td>\n",
       "      <td>35.0</td>\n",
       "      <td>NaN</td>\n",
       "      <td>21.6</td>\n",
       "    </tr>\n",
       "  </tbody>\n",
       "</table>\n",
       "</div>"
      ],
      "text/plain": [
       "   index  unitid  year gender race  cohort  grad_cohort  grad_100  grad_150  \\\n",
       "0      0  100760  2011      B    X  2y all        446.0      73.0     105.0   \n",
       "1      1  100760  2011      M    X  2y all        185.0       NaN      40.0   \n",
       "2      2  100760  2011      F    X  2y all        261.0       NaN      65.0   \n",
       "3      3  100760  2011      B    W  2y all        348.0       NaN      86.0   \n",
       "4      4  100760  2011      M    W  2y all        162.0       NaN      35.0   \n",
       "\n",
       "   grad_100_rate  grad_150_rate  \n",
       "0           16.4           23.5  \n",
       "1            NaN           21.6  \n",
       "2            NaN           24.9  \n",
       "3            NaN           24.7  \n",
       "4            NaN           21.6  "
      ]
     },
     "execution_count": 7,
     "metadata": {},
     "output_type": "execute_result"
    }
   ],
   "source": [
    "data_2.head()"
   ]
  },
  {
   "cell_type": "code",
   "execution_count": 8,
   "metadata": {
    "colab": {
     "base_uri": "https://localhost:8080/"
    },
    "id": "4ti9FePQEUTC",
    "outputId": "3d22d689-8e6a-4f37-9c8d-940d9a4f53c2"
   },
   "outputs": [
    {
     "data": {
      "text/plain": [
       "(1302102, 11)"
      ]
     },
     "execution_count": 8,
     "metadata": {},
     "output_type": "execute_result"
    }
   ],
   "source": [
    "data_2.shape"
   ]
  },
  {
   "cell_type": "code",
   "execution_count": 9,
   "metadata": {
    "colab": {
     "base_uri": "https://localhost:8080/",
     "height": 424
    },
    "id": "K3rtswxVEUXI",
    "outputId": "85a39d3e-3b76-44aa-844b-c126992187ac"
   },
   "outputs": [
    {
     "data": {
      "text/html": [
       "<div>\n",
       "<style scoped>\n",
       "    .dataframe tbody tr th:only-of-type {\n",
       "        vertical-align: middle;\n",
       "    }\n",
       "\n",
       "    .dataframe tbody tr th {\n",
       "        vertical-align: top;\n",
       "    }\n",
       "\n",
       "    .dataframe thead th {\n",
       "        text-align: right;\n",
       "    }\n",
       "</style>\n",
       "<table border=\"1\" class=\"dataframe\">\n",
       "  <thead>\n",
       "    <tr style=\"text-align: right;\">\n",
       "      <th></th>\n",
       "      <th>unitid</th>\n",
       "      <th>gender</th>\n",
       "      <th>race</th>\n",
       "    </tr>\n",
       "  </thead>\n",
       "  <tbody>\n",
       "    <tr>\n",
       "      <th>0</th>\n",
       "      <td>100760</td>\n",
       "      <td>B</td>\n",
       "      <td>X</td>\n",
       "    </tr>\n",
       "    <tr>\n",
       "      <th>1</th>\n",
       "      <td>100760</td>\n",
       "      <td>M</td>\n",
       "      <td>X</td>\n",
       "    </tr>\n",
       "    <tr>\n",
       "      <th>2</th>\n",
       "      <td>100760</td>\n",
       "      <td>F</td>\n",
       "      <td>X</td>\n",
       "    </tr>\n",
       "    <tr>\n",
       "      <th>3</th>\n",
       "      <td>100760</td>\n",
       "      <td>B</td>\n",
       "      <td>W</td>\n",
       "    </tr>\n",
       "    <tr>\n",
       "      <th>4</th>\n",
       "      <td>100760</td>\n",
       "      <td>M</td>\n",
       "      <td>W</td>\n",
       "    </tr>\n",
       "    <tr>\n",
       "      <th>...</th>\n",
       "      <td>...</td>\n",
       "      <td>...</td>\n",
       "      <td>...</td>\n",
       "    </tr>\n",
       "    <tr>\n",
       "      <th>1302097</th>\n",
       "      <td>168591</td>\n",
       "      <td>F</td>\n",
       "      <td>Ai</td>\n",
       "    </tr>\n",
       "    <tr>\n",
       "      <th>1302098</th>\n",
       "      <td>168740</td>\n",
       "      <td>F</td>\n",
       "      <td>Ai</td>\n",
       "    </tr>\n",
       "    <tr>\n",
       "      <th>1302099</th>\n",
       "      <td>169716</td>\n",
       "      <td>F</td>\n",
       "      <td>Ai</td>\n",
       "    </tr>\n",
       "    <tr>\n",
       "      <th>1302100</th>\n",
       "      <td>170082</td>\n",
       "      <td>F</td>\n",
       "      <td>Ai</td>\n",
       "    </tr>\n",
       "    <tr>\n",
       "      <th>1302101</th>\n",
       "      <td>170091</td>\n",
       "      <td>F</td>\n",
       "      <td>Ai</td>\n",
       "    </tr>\n",
       "  </tbody>\n",
       "</table>\n",
       "<p>1302102 rows × 3 columns</p>\n",
       "</div>"
      ],
      "text/plain": [
       "         unitid gender race\n",
       "0        100760      B    X\n",
       "1        100760      M    X\n",
       "2        100760      F    X\n",
       "3        100760      B    W\n",
       "4        100760      M    W\n",
       "...         ...    ...  ...\n",
       "1302097  168591      F   Ai\n",
       "1302098  168740      F   Ai\n",
       "1302099  169716      F   Ai\n",
       "1302100  170082      F   Ai\n",
       "1302101  170091      F   Ai\n",
       "\n",
       "[1302102 rows x 3 columns]"
      ]
     },
     "execution_count": 9,
     "metadata": {},
     "output_type": "execute_result"
    }
   ],
   "source": [
    "# Select the needed column which are gender and race column\n",
    "columns = ['unitid', 'gender', 'race']\n",
    "data_2 = data_2[columns]\n",
    "\n",
    "data_2"
   ]
  },
  {
   "cell_type": "markdown",
   "metadata": {
    "id": "rKGCX6d_lp0C"
   },
   "source": [
    "Now, let's drop anywhere gender equals \"B\" and race equals \"X\". "
   ]
  },
  {
   "cell_type": "code",
   "execution_count": 10,
   "metadata": {
    "colab": {
     "base_uri": "https://localhost:8080/"
    },
    "id": "fndKAiqRnzJP",
    "outputId": "225e3410-8648-42c3-b65b-3e2588a9bf22"
   },
   "outputs": [
    {
     "data": {
      "text/plain": [
       "(578712, 3)"
      ]
     },
     "execution_count": 10,
     "metadata": {},
     "output_type": "execute_result"
    }
   ],
   "source": [
    "# Search where gender = 'B' or race = 'X'\n",
    "gender_race = data_2[(data_2['gender'] == 'B') | (data_2['race'] == 'X')]\n",
    "gender_race.shape"
   ]
  },
  {
   "cell_type": "markdown",
   "metadata": {
    "id": "Y_OjxBJMtLXK"
   },
   "source": [
    "There are 578,712 occurence where gender appears as both Female and Male due to error in data entry and where race appears as all race, X."
   ]
  },
  {
   "cell_type": "code",
   "execution_count": 11,
   "metadata": {
    "id": "_DPvlwofoTd0"
   },
   "outputs": [],
   "source": [
    "# Drop where 143094 occurences\n",
    "data_2 = data_2.drop(gender_race.index)"
   ]
  },
  {
   "cell_type": "code",
   "execution_count": 12,
   "metadata": {
    "colab": {
     "base_uri": "https://localhost:8080/"
    },
    "id": "btooYQ9TvI1A",
    "outputId": "88f548ba-475d-4848-b23f-c84933479791"
   },
   "outputs": [
    {
     "data": {
      "text/plain": [
       "(723390, 3)"
      ]
     },
     "execution_count": 12,
     "metadata": {},
     "output_type": "execute_result"
    }
   ],
   "source": [
    "# Check the shape of data_2\n",
    "data_2.shape"
   ]
  },
  {
   "cell_type": "code",
   "execution_count": 13,
   "metadata": {
    "colab": {
     "base_uri": "https://localhost:8080/"
    },
    "id": "BiPDgujpvPE2",
    "outputId": "95c08dbe-0ee0-4f4c-84f3-1a9e00479965"
   },
   "outputs": [
    {
     "data": {
      "text/plain": [
       "unitid    0\n",
       "gender    0\n",
       "race      0\n",
       "dtype: int64"
      ]
     },
     "execution_count": 13,
     "metadata": {},
     "output_type": "execute_result"
    }
   ],
   "source": [
    "# Confirm if all the occurence where gender = B is gone and where race = X is no more in the dataset\n",
    "\n",
    "# Query the dataframe where gender equals B\n",
    "data_2[data_2['gender'] == 'B'].count()"
   ]
  },
  {
   "cell_type": "code",
   "execution_count": 14,
   "metadata": {
    "colab": {
     "base_uri": "https://localhost:8080/"
    },
    "id": "4No8jW-Pvyld",
    "outputId": "7563ad2f-53ac-49c0-998f-dc309c2eebc6"
   },
   "outputs": [
    {
     "data": {
      "text/plain": [
       "unitid    0\n",
       "gender    0\n",
       "race      0\n",
       "dtype: int64"
      ]
     },
     "execution_count": 14,
     "metadata": {},
     "output_type": "execute_result"
    }
   ],
   "source": [
    "# Query the dataframe where race equals X\n",
    "data_2[data_2['race'] == 'X'].count()"
   ]
  },
  {
   "cell_type": "markdown",
   "metadata": {
    "id": "bQI1nBzTv48p"
   },
   "source": [
    "We have confirmed that no existence where gender appears to be both and race appears to be all in the dataset. We can now proceed to combining the datasets."
   ]
  },
  {
   "cell_type": "markdown",
   "metadata": {
    "id": "bJDrUOWk7ECg"
   },
   "source": [
    "### Combine the Dataset"
   ]
  },
  {
   "cell_type": "code",
   "execution_count": 15,
   "metadata": {
    "id": "C-CNqruSEUeC"
   },
   "outputs": [],
   "source": [
    "# Combining the two dataframe (data_1 and data_2)\n",
    "\n",
    "# Taking the intersection of the two dataframes\n",
    "\n",
    "df = data_1.merge(data_2, on = 'unitid', how = 'inner')"
   ]
  },
  {
   "cell_type": "code",
   "execution_count": 16,
   "metadata": {
    "colab": {
     "base_uri": "https://localhost:8080/",
     "height": 734
    },
    "id": "wqujleuN9Y2l",
    "outputId": "6295f162-6826-48e8-ceb9-17a54ed6f5ec"
   },
   "outputs": [
    {
     "data": {
      "text/html": [
       "<div>\n",
       "<style scoped>\n",
       "    .dataframe tbody tr th:only-of-type {\n",
       "        vertical-align: middle;\n",
       "    }\n",
       "\n",
       "    .dataframe tbody tr th {\n",
       "        vertical-align: top;\n",
       "    }\n",
       "\n",
       "    .dataframe thead th {\n",
       "        text-align: right;\n",
       "    }\n",
       "</style>\n",
       "<table border=\"1\" class=\"dataframe\">\n",
       "  <thead>\n",
       "    <tr style=\"text-align: right;\">\n",
       "      <th></th>\n",
       "      <th>index</th>\n",
       "      <th>unitid</th>\n",
       "      <th>chronname</th>\n",
       "      <th>city</th>\n",
       "      <th>state</th>\n",
       "      <th>level</th>\n",
       "      <th>control</th>\n",
       "      <th>basic</th>\n",
       "      <th>hbcu</th>\n",
       "      <th>flagship</th>\n",
       "      <th>...</th>\n",
       "      <th>vsa_enroll_after6_transfer</th>\n",
       "      <th>vsa_enroll_elsewhere_after6_transfer</th>\n",
       "      <th>similar</th>\n",
       "      <th>state_sector_ct</th>\n",
       "      <th>carnegie_ct</th>\n",
       "      <th>counted_pct</th>\n",
       "      <th>nicknames</th>\n",
       "      <th>cohort_size</th>\n",
       "      <th>gender</th>\n",
       "      <th>race</th>\n",
       "    </tr>\n",
       "  </thead>\n",
       "  <tbody>\n",
       "    <tr>\n",
       "      <th>0</th>\n",
       "      <td>0</td>\n",
       "      <td>100654</td>\n",
       "      <td>Alabama A&amp;M University</td>\n",
       "      <td>Normal</td>\n",
       "      <td>Alabama</td>\n",
       "      <td>4-year</td>\n",
       "      <td>Public</td>\n",
       "      <td>Masters Colleges and Universities--larger prog...</td>\n",
       "      <td>X</td>\n",
       "      <td>NaN</td>\n",
       "      <td>...</td>\n",
       "      <td>17.2</td>\n",
       "      <td>11.1</td>\n",
       "      <td>232937|100724|405997|113607|139533|144005|2285...</td>\n",
       "      <td>13</td>\n",
       "      <td>386</td>\n",
       "      <td>99.7|07</td>\n",
       "      <td>NaN</td>\n",
       "      <td>882.0</td>\n",
       "      <td>M</td>\n",
       "      <td>W</td>\n",
       "    </tr>\n",
       "    <tr>\n",
       "      <th>1</th>\n",
       "      <td>0</td>\n",
       "      <td>100654</td>\n",
       "      <td>Alabama A&amp;M University</td>\n",
       "      <td>Normal</td>\n",
       "      <td>Alabama</td>\n",
       "      <td>4-year</td>\n",
       "      <td>Public</td>\n",
       "      <td>Masters Colleges and Universities--larger prog...</td>\n",
       "      <td>X</td>\n",
       "      <td>NaN</td>\n",
       "      <td>...</td>\n",
       "      <td>17.2</td>\n",
       "      <td>11.1</td>\n",
       "      <td>232937|100724|405997|113607|139533|144005|2285...</td>\n",
       "      <td>13</td>\n",
       "      <td>386</td>\n",
       "      <td>99.7|07</td>\n",
       "      <td>NaN</td>\n",
       "      <td>882.0</td>\n",
       "      <td>F</td>\n",
       "      <td>W</td>\n",
       "    </tr>\n",
       "    <tr>\n",
       "      <th>2</th>\n",
       "      <td>0</td>\n",
       "      <td>100654</td>\n",
       "      <td>Alabama A&amp;M University</td>\n",
       "      <td>Normal</td>\n",
       "      <td>Alabama</td>\n",
       "      <td>4-year</td>\n",
       "      <td>Public</td>\n",
       "      <td>Masters Colleges and Universities--larger prog...</td>\n",
       "      <td>X</td>\n",
       "      <td>NaN</td>\n",
       "      <td>...</td>\n",
       "      <td>17.2</td>\n",
       "      <td>11.1</td>\n",
       "      <td>232937|100724|405997|113607|139533|144005|2285...</td>\n",
       "      <td>13</td>\n",
       "      <td>386</td>\n",
       "      <td>99.7|07</td>\n",
       "      <td>NaN</td>\n",
       "      <td>882.0</td>\n",
       "      <td>M</td>\n",
       "      <td>B</td>\n",
       "    </tr>\n",
       "    <tr>\n",
       "      <th>3</th>\n",
       "      <td>0</td>\n",
       "      <td>100654</td>\n",
       "      <td>Alabama A&amp;M University</td>\n",
       "      <td>Normal</td>\n",
       "      <td>Alabama</td>\n",
       "      <td>4-year</td>\n",
       "      <td>Public</td>\n",
       "      <td>Masters Colleges and Universities--larger prog...</td>\n",
       "      <td>X</td>\n",
       "      <td>NaN</td>\n",
       "      <td>...</td>\n",
       "      <td>17.2</td>\n",
       "      <td>11.1</td>\n",
       "      <td>232937|100724|405997|113607|139533|144005|2285...</td>\n",
       "      <td>13</td>\n",
       "      <td>386</td>\n",
       "      <td>99.7|07</td>\n",
       "      <td>NaN</td>\n",
       "      <td>882.0</td>\n",
       "      <td>F</td>\n",
       "      <td>B</td>\n",
       "    </tr>\n",
       "    <tr>\n",
       "      <th>4</th>\n",
       "      <td>0</td>\n",
       "      <td>100654</td>\n",
       "      <td>Alabama A&amp;M University</td>\n",
       "      <td>Normal</td>\n",
       "      <td>Alabama</td>\n",
       "      <td>4-year</td>\n",
       "      <td>Public</td>\n",
       "      <td>Masters Colleges and Universities--larger prog...</td>\n",
       "      <td>X</td>\n",
       "      <td>NaN</td>\n",
       "      <td>...</td>\n",
       "      <td>17.2</td>\n",
       "      <td>11.1</td>\n",
       "      <td>232937|100724|405997|113607|139533|144005|2285...</td>\n",
       "      <td>13</td>\n",
       "      <td>386</td>\n",
       "      <td>99.7|07</td>\n",
       "      <td>NaN</td>\n",
       "      <td>882.0</td>\n",
       "      <td>M</td>\n",
       "      <td>H</td>\n",
       "    </tr>\n",
       "  </tbody>\n",
       "</table>\n",
       "<p>5 rows × 65 columns</p>\n",
       "</div>"
      ],
      "text/plain": [
       "   index  unitid               chronname    city    state   level control  \\\n",
       "0      0  100654  Alabama A&M University  Normal  Alabama  4-year  Public   \n",
       "1      0  100654  Alabama A&M University  Normal  Alabama  4-year  Public   \n",
       "2      0  100654  Alabama A&M University  Normal  Alabama  4-year  Public   \n",
       "3      0  100654  Alabama A&M University  Normal  Alabama  4-year  Public   \n",
       "4      0  100654  Alabama A&M University  Normal  Alabama  4-year  Public   \n",
       "\n",
       "                                               basic hbcu flagship  ...  \\\n",
       "0  Masters Colleges and Universities--larger prog...    X      NaN  ...   \n",
       "1  Masters Colleges and Universities--larger prog...    X      NaN  ...   \n",
       "2  Masters Colleges and Universities--larger prog...    X      NaN  ...   \n",
       "3  Masters Colleges and Universities--larger prog...    X      NaN  ...   \n",
       "4  Masters Colleges and Universities--larger prog...    X      NaN  ...   \n",
       "\n",
       "   vsa_enroll_after6_transfer  vsa_enroll_elsewhere_after6_transfer  \\\n",
       "0                        17.2                                  11.1   \n",
       "1                        17.2                                  11.1   \n",
       "2                        17.2                                  11.1   \n",
       "3                        17.2                                  11.1   \n",
       "4                        17.2                                  11.1   \n",
       "\n",
       "                                             similar  state_sector_ct  \\\n",
       "0  232937|100724|405997|113607|139533|144005|2285...               13   \n",
       "1  232937|100724|405997|113607|139533|144005|2285...               13   \n",
       "2  232937|100724|405997|113607|139533|144005|2285...               13   \n",
       "3  232937|100724|405997|113607|139533|144005|2285...               13   \n",
       "4  232937|100724|405997|113607|139533|144005|2285...               13   \n",
       "\n",
       "   carnegie_ct  counted_pct  nicknames  cohort_size  gender  race  \n",
       "0          386      99.7|07        NaN        882.0       M     W  \n",
       "1          386      99.7|07        NaN        882.0       F     W  \n",
       "2          386      99.7|07        NaN        882.0       M     B  \n",
       "3          386      99.7|07        NaN        882.0       F     B  \n",
       "4          386      99.7|07        NaN        882.0       M     H  \n",
       "\n",
       "[5 rows x 65 columns]"
      ]
     },
     "execution_count": 16,
     "metadata": {},
     "output_type": "execute_result"
    }
   ],
   "source": [
    "# Display the first 5 rows of the dataset\n",
    "df.head()"
   ]
  },
  {
   "cell_type": "markdown",
   "metadata": {
    "id": "q2SXnTRP-cBA"
   },
   "source": [
    "Now, we need to decide what columns you want to exclude...\n",
    "\n",
    "For example I dont think city or state will have an effect on the graduation rate. So we could exclude city, state, long and lat. \n",
    "Essentially anything related to location \n",
    "\n",
    "Columns we want to consider: school type, gender, race, funding, Cohort size or student count e.t.c. So we will drop unnecessary columns."
   ]
  },
  {
   "cell_type": "code",
   "execution_count": 17,
   "metadata": {
    "id": "JGh2yXxOloBy"
   },
   "outputs": [],
   "source": [
    "df = df[[\n",
    "        'index', \n",
    "        'level', \n",
    "        'control',\n",
    "         'gender', \n",
    "         'race',\n",
    "        'student_count',\n",
    "        'awards_per_value', \n",
    "        'awards_per_state_value', \n",
    "        'awards_per_natl_value',\n",
    "        'exp_award_value', \n",
    "        'exp_award_state_value', \n",
    "        'exp_award_natl_value',\n",
    "        'exp_award_percentile',  \n",
    "        'aid_value', \n",
    "        'aid_percentile',\n",
    "        'med_sat_value',\n",
    "        'grad_100_value',\n",
    "        'grad_100_percentile', \n",
    "        'grad_150_value', \n",
    "        'grad_150_percentile',\n",
    "        'pell_value', \n",
    "        'pell_percentile', \n",
    "        'retain_value', \n",
    "        'retain_percentile',\n",
    "        'cohort_size']]"
   ]
  },
  {
   "cell_type": "code",
   "execution_count": 18,
   "metadata": {
    "colab": {
     "base_uri": "https://localhost:8080/",
     "height": 386
    },
    "id": "hapdGTgDloBz",
    "outputId": "d73edc0d-4df5-469b-f486-052e7919e16b"
   },
   "outputs": [
    {
     "data": {
      "text/html": [
       "<div>\n",
       "<style scoped>\n",
       "    .dataframe tbody tr th:only-of-type {\n",
       "        vertical-align: middle;\n",
       "    }\n",
       "\n",
       "    .dataframe tbody tr th {\n",
       "        vertical-align: top;\n",
       "    }\n",
       "\n",
       "    .dataframe thead th {\n",
       "        text-align: right;\n",
       "    }\n",
       "</style>\n",
       "<table border=\"1\" class=\"dataframe\">\n",
       "  <thead>\n",
       "    <tr style=\"text-align: right;\">\n",
       "      <th></th>\n",
       "      <th>index</th>\n",
       "      <th>level</th>\n",
       "      <th>control</th>\n",
       "      <th>gender</th>\n",
       "      <th>race</th>\n",
       "      <th>student_count</th>\n",
       "      <th>awards_per_value</th>\n",
       "      <th>awards_per_state_value</th>\n",
       "      <th>awards_per_natl_value</th>\n",
       "      <th>exp_award_value</th>\n",
       "      <th>...</th>\n",
       "      <th>med_sat_value</th>\n",
       "      <th>grad_100_value</th>\n",
       "      <th>grad_100_percentile</th>\n",
       "      <th>grad_150_value</th>\n",
       "      <th>grad_150_percentile</th>\n",
       "      <th>pell_value</th>\n",
       "      <th>pell_percentile</th>\n",
       "      <th>retain_value</th>\n",
       "      <th>retain_percentile</th>\n",
       "      <th>cohort_size</th>\n",
       "    </tr>\n",
       "  </thead>\n",
       "  <tbody>\n",
       "    <tr>\n",
       "      <th>0</th>\n",
       "      <td>0</td>\n",
       "      <td>4-year</td>\n",
       "      <td>Public</td>\n",
       "      <td>M</td>\n",
       "      <td>W</td>\n",
       "      <td>4051</td>\n",
       "      <td>14.2</td>\n",
       "      <td>18.8</td>\n",
       "      <td>21.5</td>\n",
       "      <td>105331</td>\n",
       "      <td>...</td>\n",
       "      <td>823.0</td>\n",
       "      <td>10.0</td>\n",
       "      <td>15.0</td>\n",
       "      <td>29.1</td>\n",
       "      <td>14.0</td>\n",
       "      <td>71.2</td>\n",
       "      <td>98.0</td>\n",
       "      <td>63.1</td>\n",
       "      <td>17.0</td>\n",
       "      <td>882.0</td>\n",
       "    </tr>\n",
       "    <tr>\n",
       "      <th>1</th>\n",
       "      <td>0</td>\n",
       "      <td>4-year</td>\n",
       "      <td>Public</td>\n",
       "      <td>F</td>\n",
       "      <td>W</td>\n",
       "      <td>4051</td>\n",
       "      <td>14.2</td>\n",
       "      <td>18.8</td>\n",
       "      <td>21.5</td>\n",
       "      <td>105331</td>\n",
       "      <td>...</td>\n",
       "      <td>823.0</td>\n",
       "      <td>10.0</td>\n",
       "      <td>15.0</td>\n",
       "      <td>29.1</td>\n",
       "      <td>14.0</td>\n",
       "      <td>71.2</td>\n",
       "      <td>98.0</td>\n",
       "      <td>63.1</td>\n",
       "      <td>17.0</td>\n",
       "      <td>882.0</td>\n",
       "    </tr>\n",
       "    <tr>\n",
       "      <th>2</th>\n",
       "      <td>0</td>\n",
       "      <td>4-year</td>\n",
       "      <td>Public</td>\n",
       "      <td>M</td>\n",
       "      <td>B</td>\n",
       "      <td>4051</td>\n",
       "      <td>14.2</td>\n",
       "      <td>18.8</td>\n",
       "      <td>21.5</td>\n",
       "      <td>105331</td>\n",
       "      <td>...</td>\n",
       "      <td>823.0</td>\n",
       "      <td>10.0</td>\n",
       "      <td>15.0</td>\n",
       "      <td>29.1</td>\n",
       "      <td>14.0</td>\n",
       "      <td>71.2</td>\n",
       "      <td>98.0</td>\n",
       "      <td>63.1</td>\n",
       "      <td>17.0</td>\n",
       "      <td>882.0</td>\n",
       "    </tr>\n",
       "    <tr>\n",
       "      <th>3</th>\n",
       "      <td>0</td>\n",
       "      <td>4-year</td>\n",
       "      <td>Public</td>\n",
       "      <td>F</td>\n",
       "      <td>B</td>\n",
       "      <td>4051</td>\n",
       "      <td>14.2</td>\n",
       "      <td>18.8</td>\n",
       "      <td>21.5</td>\n",
       "      <td>105331</td>\n",
       "      <td>...</td>\n",
       "      <td>823.0</td>\n",
       "      <td>10.0</td>\n",
       "      <td>15.0</td>\n",
       "      <td>29.1</td>\n",
       "      <td>14.0</td>\n",
       "      <td>71.2</td>\n",
       "      <td>98.0</td>\n",
       "      <td>63.1</td>\n",
       "      <td>17.0</td>\n",
       "      <td>882.0</td>\n",
       "    </tr>\n",
       "    <tr>\n",
       "      <th>4</th>\n",
       "      <td>0</td>\n",
       "      <td>4-year</td>\n",
       "      <td>Public</td>\n",
       "      <td>M</td>\n",
       "      <td>H</td>\n",
       "      <td>4051</td>\n",
       "      <td>14.2</td>\n",
       "      <td>18.8</td>\n",
       "      <td>21.5</td>\n",
       "      <td>105331</td>\n",
       "      <td>...</td>\n",
       "      <td>823.0</td>\n",
       "      <td>10.0</td>\n",
       "      <td>15.0</td>\n",
       "      <td>29.1</td>\n",
       "      <td>14.0</td>\n",
       "      <td>71.2</td>\n",
       "      <td>98.0</td>\n",
       "      <td>63.1</td>\n",
       "      <td>17.0</td>\n",
       "      <td>882.0</td>\n",
       "    </tr>\n",
       "  </tbody>\n",
       "</table>\n",
       "<p>5 rows × 25 columns</p>\n",
       "</div>"
      ],
      "text/plain": [
       "   index   level control gender race  student_count  awards_per_value  \\\n",
       "0      0  4-year  Public      M    W           4051              14.2   \n",
       "1      0  4-year  Public      F    W           4051              14.2   \n",
       "2      0  4-year  Public      M    B           4051              14.2   \n",
       "3      0  4-year  Public      F    B           4051              14.2   \n",
       "4      0  4-year  Public      M    H           4051              14.2   \n",
       "\n",
       "   awards_per_state_value  awards_per_natl_value  exp_award_value  ...  \\\n",
       "0                    18.8                   21.5           105331  ...   \n",
       "1                    18.8                   21.5           105331  ...   \n",
       "2                    18.8                   21.5           105331  ...   \n",
       "3                    18.8                   21.5           105331  ...   \n",
       "4                    18.8                   21.5           105331  ...   \n",
       "\n",
       "   med_sat_value  grad_100_value  grad_100_percentile  grad_150_value  \\\n",
       "0          823.0            10.0                 15.0            29.1   \n",
       "1          823.0            10.0                 15.0            29.1   \n",
       "2          823.0            10.0                 15.0            29.1   \n",
       "3          823.0            10.0                 15.0            29.1   \n",
       "4          823.0            10.0                 15.0            29.1   \n",
       "\n",
       "   grad_150_percentile  pell_value  pell_percentile  retain_value  \\\n",
       "0                 14.0        71.2             98.0          63.1   \n",
       "1                 14.0        71.2             98.0          63.1   \n",
       "2                 14.0        71.2             98.0          63.1   \n",
       "3                 14.0        71.2             98.0          63.1   \n",
       "4                 14.0        71.2             98.0          63.1   \n",
       "\n",
       "   retain_percentile  cohort_size  \n",
       "0               17.0        882.0  \n",
       "1               17.0        882.0  \n",
       "2               17.0        882.0  \n",
       "3               17.0        882.0  \n",
       "4               17.0        882.0  \n",
       "\n",
       "[5 rows x 25 columns]"
      ]
     },
     "execution_count": 18,
     "metadata": {},
     "output_type": "execute_result"
    }
   ],
   "source": [
    "df.head()"
   ]
  },
  {
   "cell_type": "code",
   "execution_count": 19,
   "metadata": {
    "colab": {
     "base_uri": "https://localhost:8080/"
    },
    "id": "brClEOGyloBz",
    "outputId": "dcc85309-9a7f-4f94-fa41-af378eeff645"
   },
   "outputs": [
    {
     "name": "stdout",
     "output_type": "stream",
     "text": [
      "<class 'pandas.core.frame.DataFrame'>\n",
      "Int64Index: 699720 entries, 0 to 699719\n",
      "Data columns (total 25 columns):\n",
      " #   Column                  Non-Null Count   Dtype  \n",
      "---  ------                  --------------   -----  \n",
      " 0   index                   699720 non-null  int64  \n",
      " 1   level                   699720 non-null  object \n",
      " 2   control                 699720 non-null  object \n",
      " 3   gender                  699720 non-null  object \n",
      " 4   race                    699720 non-null  object \n",
      " 5   student_count           699720 non-null  int64  \n",
      " 6   awards_per_value        699720 non-null  float64\n",
      " 7   awards_per_state_value  699720 non-null  float64\n",
      " 8   awards_per_natl_value   699720 non-null  float64\n",
      " 9   exp_award_value         699720 non-null  int64  \n",
      " 10  exp_award_state_value   699720 non-null  int64  \n",
      " 11  exp_award_natl_value    699720 non-null  int64  \n",
      " 12  exp_award_percentile    699720 non-null  int64  \n",
      " 13  aid_value               699600 non-null  float64\n",
      " 14  aid_percentile          699600 non-null  float64\n",
      " 15  med_sat_value           315720 non-null  float64\n",
      " 16  grad_100_value          644700 non-null  float64\n",
      " 17  grad_100_percentile     644700 non-null  float64\n",
      " 18  grad_150_value          644700 non-null  float64\n",
      " 19  grad_150_percentile     644700 non-null  float64\n",
      " 20  pell_value              699600 non-null  float64\n",
      " 21  pell_percentile         699600 non-null  float64\n",
      " 22  retain_value            648900 non-null  float64\n",
      " 23  retain_percentile       648900 non-null  float64\n",
      " 24  cohort_size             644700 non-null  float64\n",
      "dtypes: float64(15), int64(6), object(4)\n",
      "memory usage: 138.8+ MB\n"
     ]
    }
   ],
   "source": [
    "df.info()"
   ]
  },
  {
   "cell_type": "code",
   "execution_count": 20,
   "metadata": {
    "colab": {
     "base_uri": "https://localhost:8080/"
    },
    "id": "ds-xqr62loB1",
    "outputId": "16673084-67db-4585-ab94-a856486f36ce"
   },
   "outputs": [
    {
     "data": {
      "text/plain": [
       "index                          0\n",
       "level                          0\n",
       "control                        0\n",
       "gender                         0\n",
       "race                           0\n",
       "student_count                  0\n",
       "awards_per_value               0\n",
       "awards_per_state_value         0\n",
       "awards_per_natl_value          0\n",
       "exp_award_value                0\n",
       "exp_award_state_value          0\n",
       "exp_award_natl_value           0\n",
       "exp_award_percentile           0\n",
       "aid_value                    120\n",
       "aid_percentile               120\n",
       "med_sat_value             384000\n",
       "grad_100_value             55020\n",
       "grad_100_percentile        55020\n",
       "grad_150_value             55020\n",
       "grad_150_percentile        55020\n",
       "pell_value                   120\n",
       "pell_percentile              120\n",
       "retain_value               50820\n",
       "retain_percentile          50820\n",
       "cohort_size                55020\n",
       "dtype: int64"
      ]
     },
     "execution_count": 20,
     "metadata": {},
     "output_type": "execute_result"
    }
   ],
   "source": [
    "#Getting the total number of nan values\n",
    "df.isnull().sum(axis = 0)\n"
   ]
  },
  {
   "cell_type": "markdown",
   "metadata": {
    "id": "SzUamcweEesl"
   },
   "source": [
    "From the information above, med_sat_value has alot of missing values. To avoid introducing bias in our model, it is best to drop this column."
   ]
  },
  {
   "cell_type": "code",
   "execution_count": 21,
   "metadata": {
    "colab": {
     "base_uri": "https://localhost:8080/",
     "height": 386
    },
    "id": "xMrJt3hsloB2",
    "outputId": "30af2b45-1c92-4505-e1d9-eaa3679b3634"
   },
   "outputs": [
    {
     "data": {
      "text/html": [
       "<div>\n",
       "<style scoped>\n",
       "    .dataframe tbody tr th:only-of-type {\n",
       "        vertical-align: middle;\n",
       "    }\n",
       "\n",
       "    .dataframe tbody tr th {\n",
       "        vertical-align: top;\n",
       "    }\n",
       "\n",
       "    .dataframe thead th {\n",
       "        text-align: right;\n",
       "    }\n",
       "</style>\n",
       "<table border=\"1\" class=\"dataframe\">\n",
       "  <thead>\n",
       "    <tr style=\"text-align: right;\">\n",
       "      <th></th>\n",
       "      <th>index</th>\n",
       "      <th>level</th>\n",
       "      <th>control</th>\n",
       "      <th>gender</th>\n",
       "      <th>race</th>\n",
       "      <th>student_count</th>\n",
       "      <th>awards_per_value</th>\n",
       "      <th>awards_per_state_value</th>\n",
       "      <th>awards_per_natl_value</th>\n",
       "      <th>exp_award_value</th>\n",
       "      <th>...</th>\n",
       "      <th>med_sat_value</th>\n",
       "      <th>grad_100_value</th>\n",
       "      <th>grad_100_percentile</th>\n",
       "      <th>grad_150_value</th>\n",
       "      <th>grad_150_percentile</th>\n",
       "      <th>pell_value</th>\n",
       "      <th>pell_percentile</th>\n",
       "      <th>retain_value</th>\n",
       "      <th>retain_percentile</th>\n",
       "      <th>cohort_size</th>\n",
       "    </tr>\n",
       "  </thead>\n",
       "  <tbody>\n",
       "    <tr>\n",
       "      <th>0</th>\n",
       "      <td>0</td>\n",
       "      <td>4-year</td>\n",
       "      <td>Public</td>\n",
       "      <td>M</td>\n",
       "      <td>W</td>\n",
       "      <td>4051</td>\n",
       "      <td>14.2</td>\n",
       "      <td>18.8</td>\n",
       "      <td>21.5</td>\n",
       "      <td>105331</td>\n",
       "      <td>...</td>\n",
       "      <td>823.0</td>\n",
       "      <td>10.0</td>\n",
       "      <td>15.0</td>\n",
       "      <td>29.1</td>\n",
       "      <td>14.0</td>\n",
       "      <td>71.2</td>\n",
       "      <td>98.0</td>\n",
       "      <td>63.1</td>\n",
       "      <td>17.0</td>\n",
       "      <td>882.0</td>\n",
       "    </tr>\n",
       "    <tr>\n",
       "      <th>1</th>\n",
       "      <td>0</td>\n",
       "      <td>4-year</td>\n",
       "      <td>Public</td>\n",
       "      <td>F</td>\n",
       "      <td>W</td>\n",
       "      <td>4051</td>\n",
       "      <td>14.2</td>\n",
       "      <td>18.8</td>\n",
       "      <td>21.5</td>\n",
       "      <td>105331</td>\n",
       "      <td>...</td>\n",
       "      <td>823.0</td>\n",
       "      <td>10.0</td>\n",
       "      <td>15.0</td>\n",
       "      <td>29.1</td>\n",
       "      <td>14.0</td>\n",
       "      <td>71.2</td>\n",
       "      <td>98.0</td>\n",
       "      <td>63.1</td>\n",
       "      <td>17.0</td>\n",
       "      <td>882.0</td>\n",
       "    </tr>\n",
       "    <tr>\n",
       "      <th>2</th>\n",
       "      <td>0</td>\n",
       "      <td>4-year</td>\n",
       "      <td>Public</td>\n",
       "      <td>M</td>\n",
       "      <td>B</td>\n",
       "      <td>4051</td>\n",
       "      <td>14.2</td>\n",
       "      <td>18.8</td>\n",
       "      <td>21.5</td>\n",
       "      <td>105331</td>\n",
       "      <td>...</td>\n",
       "      <td>823.0</td>\n",
       "      <td>10.0</td>\n",
       "      <td>15.0</td>\n",
       "      <td>29.1</td>\n",
       "      <td>14.0</td>\n",
       "      <td>71.2</td>\n",
       "      <td>98.0</td>\n",
       "      <td>63.1</td>\n",
       "      <td>17.0</td>\n",
       "      <td>882.0</td>\n",
       "    </tr>\n",
       "    <tr>\n",
       "      <th>3</th>\n",
       "      <td>0</td>\n",
       "      <td>4-year</td>\n",
       "      <td>Public</td>\n",
       "      <td>F</td>\n",
       "      <td>B</td>\n",
       "      <td>4051</td>\n",
       "      <td>14.2</td>\n",
       "      <td>18.8</td>\n",
       "      <td>21.5</td>\n",
       "      <td>105331</td>\n",
       "      <td>...</td>\n",
       "      <td>823.0</td>\n",
       "      <td>10.0</td>\n",
       "      <td>15.0</td>\n",
       "      <td>29.1</td>\n",
       "      <td>14.0</td>\n",
       "      <td>71.2</td>\n",
       "      <td>98.0</td>\n",
       "      <td>63.1</td>\n",
       "      <td>17.0</td>\n",
       "      <td>882.0</td>\n",
       "    </tr>\n",
       "    <tr>\n",
       "      <th>4</th>\n",
       "      <td>0</td>\n",
       "      <td>4-year</td>\n",
       "      <td>Public</td>\n",
       "      <td>M</td>\n",
       "      <td>H</td>\n",
       "      <td>4051</td>\n",
       "      <td>14.2</td>\n",
       "      <td>18.8</td>\n",
       "      <td>21.5</td>\n",
       "      <td>105331</td>\n",
       "      <td>...</td>\n",
       "      <td>823.0</td>\n",
       "      <td>10.0</td>\n",
       "      <td>15.0</td>\n",
       "      <td>29.1</td>\n",
       "      <td>14.0</td>\n",
       "      <td>71.2</td>\n",
       "      <td>98.0</td>\n",
       "      <td>63.1</td>\n",
       "      <td>17.0</td>\n",
       "      <td>882.0</td>\n",
       "    </tr>\n",
       "  </tbody>\n",
       "</table>\n",
       "<p>5 rows × 25 columns</p>\n",
       "</div>"
      ],
      "text/plain": [
       "   index   level control gender race  student_count  awards_per_value  \\\n",
       "0      0  4-year  Public      M    W           4051              14.2   \n",
       "1      0  4-year  Public      F    W           4051              14.2   \n",
       "2      0  4-year  Public      M    B           4051              14.2   \n",
       "3      0  4-year  Public      F    B           4051              14.2   \n",
       "4      0  4-year  Public      M    H           4051              14.2   \n",
       "\n",
       "   awards_per_state_value  awards_per_natl_value  exp_award_value  ...  \\\n",
       "0                    18.8                   21.5           105331  ...   \n",
       "1                    18.8                   21.5           105331  ...   \n",
       "2                    18.8                   21.5           105331  ...   \n",
       "3                    18.8                   21.5           105331  ...   \n",
       "4                    18.8                   21.5           105331  ...   \n",
       "\n",
       "   med_sat_value  grad_100_value  grad_100_percentile  grad_150_value  \\\n",
       "0          823.0            10.0                 15.0            29.1   \n",
       "1          823.0            10.0                 15.0            29.1   \n",
       "2          823.0            10.0                 15.0            29.1   \n",
       "3          823.0            10.0                 15.0            29.1   \n",
       "4          823.0            10.0                 15.0            29.1   \n",
       "\n",
       "   grad_150_percentile  pell_value  pell_percentile  retain_value  \\\n",
       "0                 14.0        71.2             98.0          63.1   \n",
       "1                 14.0        71.2             98.0          63.1   \n",
       "2                 14.0        71.2             98.0          63.1   \n",
       "3                 14.0        71.2             98.0          63.1   \n",
       "4                 14.0        71.2             98.0          63.1   \n",
       "\n",
       "   retain_percentile  cohort_size  \n",
       "0               17.0        882.0  \n",
       "1               17.0        882.0  \n",
       "2               17.0        882.0  \n",
       "3               17.0        882.0  \n",
       "4               17.0        882.0  \n",
       "\n",
       "[5 rows x 25 columns]"
      ]
     },
     "execution_count": 21,
     "metadata": {},
     "output_type": "execute_result"
    }
   ],
   "source": [
    "df.head()"
   ]
  },
  {
   "cell_type": "code",
   "execution_count": 22,
   "metadata": {
    "colab": {
     "base_uri": "https://localhost:8080/"
    },
    "id": "kidLEMRnloB2",
    "outputId": "c73e4097-bca8-4c9f-a6cc-c29538157c83"
   },
   "outputs": [
    {
     "data": {
      "text/plain": [
       "index                     3798\n",
       "level                        2\n",
       "control                      3\n",
       "gender                       2\n",
       "race                         5\n",
       "student_count             2829\n",
       "awards_per_value           517\n",
       "awards_per_state_value     160\n",
       "awards_per_natl_value        6\n",
       "exp_award_value           3611\n",
       "exp_award_state_value      264\n",
       "exp_award_natl_value         6\n",
       "exp_award_percentile       101\n",
       "aid_value                 3135\n",
       "aid_percentile             101\n",
       "med_sat_value              472\n",
       "grad_100_value             806\n",
       "grad_100_percentile        101\n",
       "grad_150_value             862\n",
       "grad_150_percentile        101\n",
       "pell_value                 832\n",
       "pell_percentile            101\n",
       "retain_value               649\n",
       "retain_percentile          101\n",
       "cohort_size               1409\n",
       "dtype: int64"
      ]
     },
     "execution_count": 22,
     "metadata": {},
     "output_type": "execute_result"
    }
   ],
   "source": [
    "# Determine the number of unique values in each column.\n",
    "df.nunique()"
   ]
  },
  {
   "cell_type": "code",
   "execution_count": 23,
   "metadata": {
    "colab": {
     "base_uri": "https://localhost:8080/",
     "height": 424
    },
    "id": "OTFD9ONgloB3",
    "outputId": "d96b5ba4-afaa-4241-e8d0-48956c55177d"
   },
   "outputs": [
    {
     "data": {
      "text/html": [
       "<div>\n",
       "<style scoped>\n",
       "    .dataframe tbody tr th:only-of-type {\n",
       "        vertical-align: middle;\n",
       "    }\n",
       "\n",
       "    .dataframe tbody tr th {\n",
       "        vertical-align: top;\n",
       "    }\n",
       "\n",
       "    .dataframe thead th {\n",
       "        text-align: right;\n",
       "    }\n",
       "</style>\n",
       "<table border=\"1\" class=\"dataframe\">\n",
       "  <thead>\n",
       "    <tr style=\"text-align: right;\">\n",
       "      <th></th>\n",
       "      <th>student_count</th>\n",
       "      <th>cohort_size</th>\n",
       "    </tr>\n",
       "  </thead>\n",
       "  <tbody>\n",
       "    <tr>\n",
       "      <th>0</th>\n",
       "      <td>4051</td>\n",
       "      <td>882.0</td>\n",
       "    </tr>\n",
       "    <tr>\n",
       "      <th>1</th>\n",
       "      <td>4051</td>\n",
       "      <td>882.0</td>\n",
       "    </tr>\n",
       "    <tr>\n",
       "      <th>2</th>\n",
       "      <td>4051</td>\n",
       "      <td>882.0</td>\n",
       "    </tr>\n",
       "    <tr>\n",
       "      <th>3</th>\n",
       "      <td>4051</td>\n",
       "      <td>882.0</td>\n",
       "    </tr>\n",
       "    <tr>\n",
       "      <th>4</th>\n",
       "      <td>4051</td>\n",
       "      <td>882.0</td>\n",
       "    </tr>\n",
       "    <tr>\n",
       "      <th>...</th>\n",
       "      <td>...</td>\n",
       "      <td>...</td>\n",
       "    </tr>\n",
       "    <tr>\n",
       "      <th>699715</th>\n",
       "      <td>144</td>\n",
       "      <td>23.0</td>\n",
       "    </tr>\n",
       "    <tr>\n",
       "      <th>699716</th>\n",
       "      <td>144</td>\n",
       "      <td>23.0</td>\n",
       "    </tr>\n",
       "    <tr>\n",
       "      <th>699717</th>\n",
       "      <td>144</td>\n",
       "      <td>23.0</td>\n",
       "    </tr>\n",
       "    <tr>\n",
       "      <th>699718</th>\n",
       "      <td>144</td>\n",
       "      <td>23.0</td>\n",
       "    </tr>\n",
       "    <tr>\n",
       "      <th>699719</th>\n",
       "      <td>144</td>\n",
       "      <td>23.0</td>\n",
       "    </tr>\n",
       "  </tbody>\n",
       "</table>\n",
       "<p>699720 rows × 2 columns</p>\n",
       "</div>"
      ],
      "text/plain": [
       "        student_count  cohort_size\n",
       "0                4051        882.0\n",
       "1                4051        882.0\n",
       "2                4051        882.0\n",
       "3                4051        882.0\n",
       "4                4051        882.0\n",
       "...               ...          ...\n",
       "699715            144         23.0\n",
       "699716            144         23.0\n",
       "699717            144         23.0\n",
       "699718            144         23.0\n",
       "699719            144         23.0\n",
       "\n",
       "[699720 rows x 2 columns]"
      ]
     },
     "execution_count": 23,
     "metadata": {},
     "output_type": "execute_result"
    }
   ],
   "source": [
    "# student_count = Total number of undergraduates in 2010\n",
    "# cohort_size = \n",
    "df[['student_count', 'cohort_size']]  ## what is the difference between these 2 columns? "
   ]
  },
  {
   "cell_type": "markdown",
   "metadata": {
    "id": "R7bQ8-drH2qL"
   },
   "source": [
    "cohort_size column may represent the size of a specific group of individuals who share a common characteristic within the larger population of student_count.\n",
    "\n",
    "So, from the data, we can see that cohort_size is just a subset of data from the student_count. "
   ]
  },
  {
   "cell_type": "code",
   "execution_count": 24,
   "metadata": {
    "colab": {
     "base_uri": "https://localhost:8080/"
    },
    "id": "DaLa2CgoloB4",
    "outputId": "8e614722-1311-4465-c3d4-f958dd6bf455"
   },
   "outputs": [
    {
     "data": {
      "text/plain": [
       "array(['4-year', '2-year'], dtype=object)"
      ]
     },
     "execution_count": 24,
     "metadata": {},
     "output_type": "execute_result"
    }
   ],
   "source": [
    "df.level.unique()"
   ]
  },
  {
   "cell_type": "code",
   "execution_count": 25,
   "metadata": {
    "colab": {
     "base_uri": "https://localhost:8080/"
    },
    "id": "mFiZ6J_HloB4",
    "outputId": "4204b284-0936-4842-e949-ffd4d96d4a90"
   },
   "outputs": [
    {
     "data": {
      "text/plain": [
       "array(['Public', 'Private not-for-profit', 'Private for-profit'],\n",
       "      dtype=object)"
      ]
     },
     "execution_count": 25,
     "metadata": {},
     "output_type": "execute_result"
    }
   ],
   "source": [
    "df.control.unique()"
   ]
  },
  {
   "cell_type": "code",
   "execution_count": 26,
   "metadata": {
    "colab": {
     "base_uri": "https://localhost:8080/"
    },
    "id": "W7cdML3IloB5",
    "outputId": "cf812678-102a-4337-d2f4-cee51188b79d"
   },
   "outputs": [
    {
     "data": {
      "text/plain": [
       "index                      0.000000\n",
       "level                      0.000000\n",
       "control                    0.000000\n",
       "gender                     0.000000\n",
       "race                       0.000000\n",
       "student_count              0.000000\n",
       "awards_per_value           0.000000\n",
       "awards_per_state_value     0.000000\n",
       "awards_per_natl_value      0.000000\n",
       "exp_award_value            0.000000\n",
       "exp_award_state_value      0.000000\n",
       "exp_award_natl_value       0.000000\n",
       "exp_award_percentile       0.000000\n",
       "aid_value                  0.017150\n",
       "aid_percentile             0.017150\n",
       "med_sat_value             54.879094\n",
       "grad_100_value             7.863145\n",
       "grad_100_percentile        7.863145\n",
       "grad_150_value             7.863145\n",
       "grad_150_percentile        7.863145\n",
       "pell_value                 0.017150\n",
       "pell_percentile            0.017150\n",
       "retain_value               7.262905\n",
       "retain_percentile          7.262905\n",
       "cohort_size                7.863145\n",
       "dtype: float64"
      ]
     },
     "execution_count": 26,
     "metadata": {},
     "output_type": "execute_result"
    }
   ],
   "source": [
    "# percentage of missing values\n",
    "(df.isnull().sum() / df.shape[0])*100"
   ]
  },
  {
   "cell_type": "markdown",
   "metadata": {
    "id": "HVfPeLItJ0EX"
   },
   "source": [
    "There are approximately 55% of missing values for the label med_sat_value. We will drop this column as it may introduce bias to our model. "
   ]
  },
  {
   "cell_type": "markdown",
   "metadata": {
    "id": "mcsR9tHXKKuW"
   },
   "source": [
    "### Data Cleaning"
   ]
  },
  {
   "cell_type": "code",
   "execution_count": 27,
   "metadata": {
    "colab": {
     "base_uri": "https://localhost:8080/"
    },
    "id": "NFhToRZMloB5",
    "outputId": "03f22dc8-8e9c-4f0f-b063-b05ce1cf770f"
   },
   "outputs": [
    {
     "data": {
      "text/plain": [
       "(699720, 25)"
      ]
     },
     "execution_count": 27,
     "metadata": {},
     "output_type": "execute_result"
    }
   ],
   "source": [
    "df.shape"
   ]
  },
  {
   "cell_type": "code",
   "execution_count": 28,
   "metadata": {
    "id": "OFLOMwc3KPku"
   },
   "outputs": [],
   "source": [
    "# Drop the med_sat_value columns\n",
    "df.drop('med_sat_value', axis = 1, inplace = True)"
   ]
  },
  {
   "cell_type": "code",
   "execution_count": 29,
   "metadata": {
    "colab": {
     "base_uri": "https://localhost:8080/"
    },
    "id": "FzpZsVWNLhLV",
    "outputId": "b13bd55a-91b2-410a-df41-0c4ef94de2c3"
   },
   "outputs": [
    {
     "data": {
      "text/plain": [
       "661740"
      ]
     },
     "execution_count": 29,
     "metadata": {},
     "output_type": "execute_result"
    }
   ],
   "source": [
    "# Check for all duplicate rows\n",
    "\n",
    "df.duplicated().sum()"
   ]
  },
  {
   "cell_type": "code",
   "execution_count": 30,
   "metadata": {
    "colab": {
     "base_uri": "https://localhost:8080/",
     "height": 661
    },
    "id": "7MPhocDux2Ar",
    "outputId": "072b6a69-137e-42ac-b045-380d05310630"
   },
   "outputs": [
    {
     "data": {
      "text/html": [
       "<div>\n",
       "<style scoped>\n",
       "    .dataframe tbody tr th:only-of-type {\n",
       "        vertical-align: middle;\n",
       "    }\n",
       "\n",
       "    .dataframe tbody tr th {\n",
       "        vertical-align: top;\n",
       "    }\n",
       "\n",
       "    .dataframe thead th {\n",
       "        text-align: right;\n",
       "    }\n",
       "</style>\n",
       "<table border=\"1\" class=\"dataframe\">\n",
       "  <thead>\n",
       "    <tr style=\"text-align: right;\">\n",
       "      <th></th>\n",
       "      <th>index</th>\n",
       "      <th>level</th>\n",
       "      <th>control</th>\n",
       "      <th>gender</th>\n",
       "      <th>race</th>\n",
       "      <th>student_count</th>\n",
       "      <th>awards_per_value</th>\n",
       "      <th>awards_per_state_value</th>\n",
       "      <th>awards_per_natl_value</th>\n",
       "      <th>exp_award_value</th>\n",
       "      <th>...</th>\n",
       "      <th>aid_percentile</th>\n",
       "      <th>grad_100_value</th>\n",
       "      <th>grad_100_percentile</th>\n",
       "      <th>grad_150_value</th>\n",
       "      <th>grad_150_percentile</th>\n",
       "      <th>pell_value</th>\n",
       "      <th>pell_percentile</th>\n",
       "      <th>retain_value</th>\n",
       "      <th>retain_percentile</th>\n",
       "      <th>cohort_size</th>\n",
       "    </tr>\n",
       "  </thead>\n",
       "  <tbody>\n",
       "    <tr>\n",
       "      <th>0</th>\n",
       "      <td>0</td>\n",
       "      <td>4-year</td>\n",
       "      <td>Public</td>\n",
       "      <td>M</td>\n",
       "      <td>W</td>\n",
       "      <td>4051</td>\n",
       "      <td>14.2</td>\n",
       "      <td>18.8</td>\n",
       "      <td>21.5</td>\n",
       "      <td>105331</td>\n",
       "      <td>...</td>\n",
       "      <td>72.0</td>\n",
       "      <td>10.0</td>\n",
       "      <td>15.0</td>\n",
       "      <td>29.1</td>\n",
       "      <td>14.0</td>\n",
       "      <td>71.2</td>\n",
       "      <td>98.0</td>\n",
       "      <td>63.1</td>\n",
       "      <td>17.0</td>\n",
       "      <td>882.0</td>\n",
       "    </tr>\n",
       "    <tr>\n",
       "      <th>1</th>\n",
       "      <td>0</td>\n",
       "      <td>4-year</td>\n",
       "      <td>Public</td>\n",
       "      <td>F</td>\n",
       "      <td>W</td>\n",
       "      <td>4051</td>\n",
       "      <td>14.2</td>\n",
       "      <td>18.8</td>\n",
       "      <td>21.5</td>\n",
       "      <td>105331</td>\n",
       "      <td>...</td>\n",
       "      <td>72.0</td>\n",
       "      <td>10.0</td>\n",
       "      <td>15.0</td>\n",
       "      <td>29.1</td>\n",
       "      <td>14.0</td>\n",
       "      <td>71.2</td>\n",
       "      <td>98.0</td>\n",
       "      <td>63.1</td>\n",
       "      <td>17.0</td>\n",
       "      <td>882.0</td>\n",
       "    </tr>\n",
       "    <tr>\n",
       "      <th>2</th>\n",
       "      <td>0</td>\n",
       "      <td>4-year</td>\n",
       "      <td>Public</td>\n",
       "      <td>M</td>\n",
       "      <td>B</td>\n",
       "      <td>4051</td>\n",
       "      <td>14.2</td>\n",
       "      <td>18.8</td>\n",
       "      <td>21.5</td>\n",
       "      <td>105331</td>\n",
       "      <td>...</td>\n",
       "      <td>72.0</td>\n",
       "      <td>10.0</td>\n",
       "      <td>15.0</td>\n",
       "      <td>29.1</td>\n",
       "      <td>14.0</td>\n",
       "      <td>71.2</td>\n",
       "      <td>98.0</td>\n",
       "      <td>63.1</td>\n",
       "      <td>17.0</td>\n",
       "      <td>882.0</td>\n",
       "    </tr>\n",
       "    <tr>\n",
       "      <th>3</th>\n",
       "      <td>0</td>\n",
       "      <td>4-year</td>\n",
       "      <td>Public</td>\n",
       "      <td>F</td>\n",
       "      <td>B</td>\n",
       "      <td>4051</td>\n",
       "      <td>14.2</td>\n",
       "      <td>18.8</td>\n",
       "      <td>21.5</td>\n",
       "      <td>105331</td>\n",
       "      <td>...</td>\n",
       "      <td>72.0</td>\n",
       "      <td>10.0</td>\n",
       "      <td>15.0</td>\n",
       "      <td>29.1</td>\n",
       "      <td>14.0</td>\n",
       "      <td>71.2</td>\n",
       "      <td>98.0</td>\n",
       "      <td>63.1</td>\n",
       "      <td>17.0</td>\n",
       "      <td>882.0</td>\n",
       "    </tr>\n",
       "    <tr>\n",
       "      <th>4</th>\n",
       "      <td>0</td>\n",
       "      <td>4-year</td>\n",
       "      <td>Public</td>\n",
       "      <td>M</td>\n",
       "      <td>H</td>\n",
       "      <td>4051</td>\n",
       "      <td>14.2</td>\n",
       "      <td>18.8</td>\n",
       "      <td>21.5</td>\n",
       "      <td>105331</td>\n",
       "      <td>...</td>\n",
       "      <td>72.0</td>\n",
       "      <td>10.0</td>\n",
       "      <td>15.0</td>\n",
       "      <td>29.1</td>\n",
       "      <td>14.0</td>\n",
       "      <td>71.2</td>\n",
       "      <td>98.0</td>\n",
       "      <td>63.1</td>\n",
       "      <td>17.0</td>\n",
       "      <td>882.0</td>\n",
       "    </tr>\n",
       "    <tr>\n",
       "      <th>...</th>\n",
       "      <td>...</td>\n",
       "      <td>...</td>\n",
       "      <td>...</td>\n",
       "      <td>...</td>\n",
       "      <td>...</td>\n",
       "      <td>...</td>\n",
       "      <td>...</td>\n",
       "      <td>...</td>\n",
       "      <td>...</td>\n",
       "      <td>...</td>\n",
       "      <td>...</td>\n",
       "      <td>...</td>\n",
       "      <td>...</td>\n",
       "      <td>...</td>\n",
       "      <td>...</td>\n",
       "      <td>...</td>\n",
       "      <td>...</td>\n",
       "      <td>...</td>\n",
       "      <td>...</td>\n",
       "      <td>...</td>\n",
       "      <td>...</td>\n",
       "    </tr>\n",
       "    <tr>\n",
       "      <th>699715</th>\n",
       "      <td>3797</td>\n",
       "      <td>4-year</td>\n",
       "      <td>Private for-profit</td>\n",
       "      <td>F</td>\n",
       "      <td>H</td>\n",
       "      <td>144</td>\n",
       "      <td>22.1</td>\n",
       "      <td>19.6</td>\n",
       "      <td>24.6</td>\n",
       "      <td>48074</td>\n",
       "      <td>...</td>\n",
       "      <td>82.0</td>\n",
       "      <td>34.8</td>\n",
       "      <td>78.0</td>\n",
       "      <td>47.8</td>\n",
       "      <td>85.0</td>\n",
       "      <td>86.5</td>\n",
       "      <td>97.0</td>\n",
       "      <td>NaN</td>\n",
       "      <td>NaN</td>\n",
       "      <td>23.0</td>\n",
       "    </tr>\n",
       "    <tr>\n",
       "      <th>699716</th>\n",
       "      <td>3797</td>\n",
       "      <td>4-year</td>\n",
       "      <td>Private for-profit</td>\n",
       "      <td>M</td>\n",
       "      <td>Ai</td>\n",
       "      <td>144</td>\n",
       "      <td>22.1</td>\n",
       "      <td>19.6</td>\n",
       "      <td>24.6</td>\n",
       "      <td>48074</td>\n",
       "      <td>...</td>\n",
       "      <td>82.0</td>\n",
       "      <td>34.8</td>\n",
       "      <td>78.0</td>\n",
       "      <td>47.8</td>\n",
       "      <td>85.0</td>\n",
       "      <td>86.5</td>\n",
       "      <td>97.0</td>\n",
       "      <td>NaN</td>\n",
       "      <td>NaN</td>\n",
       "      <td>23.0</td>\n",
       "    </tr>\n",
       "    <tr>\n",
       "      <th>699717</th>\n",
       "      <td>3797</td>\n",
       "      <td>4-year</td>\n",
       "      <td>Private for-profit</td>\n",
       "      <td>F</td>\n",
       "      <td>Ai</td>\n",
       "      <td>144</td>\n",
       "      <td>22.1</td>\n",
       "      <td>19.6</td>\n",
       "      <td>24.6</td>\n",
       "      <td>48074</td>\n",
       "      <td>...</td>\n",
       "      <td>82.0</td>\n",
       "      <td>34.8</td>\n",
       "      <td>78.0</td>\n",
       "      <td>47.8</td>\n",
       "      <td>85.0</td>\n",
       "      <td>86.5</td>\n",
       "      <td>97.0</td>\n",
       "      <td>NaN</td>\n",
       "      <td>NaN</td>\n",
       "      <td>23.0</td>\n",
       "    </tr>\n",
       "    <tr>\n",
       "      <th>699718</th>\n",
       "      <td>3797</td>\n",
       "      <td>4-year</td>\n",
       "      <td>Private for-profit</td>\n",
       "      <td>M</td>\n",
       "      <td>A</td>\n",
       "      <td>144</td>\n",
       "      <td>22.1</td>\n",
       "      <td>19.6</td>\n",
       "      <td>24.6</td>\n",
       "      <td>48074</td>\n",
       "      <td>...</td>\n",
       "      <td>82.0</td>\n",
       "      <td>34.8</td>\n",
       "      <td>78.0</td>\n",
       "      <td>47.8</td>\n",
       "      <td>85.0</td>\n",
       "      <td>86.5</td>\n",
       "      <td>97.0</td>\n",
       "      <td>NaN</td>\n",
       "      <td>NaN</td>\n",
       "      <td>23.0</td>\n",
       "    </tr>\n",
       "    <tr>\n",
       "      <th>699719</th>\n",
       "      <td>3797</td>\n",
       "      <td>4-year</td>\n",
       "      <td>Private for-profit</td>\n",
       "      <td>F</td>\n",
       "      <td>A</td>\n",
       "      <td>144</td>\n",
       "      <td>22.1</td>\n",
       "      <td>19.6</td>\n",
       "      <td>24.6</td>\n",
       "      <td>48074</td>\n",
       "      <td>...</td>\n",
       "      <td>82.0</td>\n",
       "      <td>34.8</td>\n",
       "      <td>78.0</td>\n",
       "      <td>47.8</td>\n",
       "      <td>85.0</td>\n",
       "      <td>86.5</td>\n",
       "      <td>97.0</td>\n",
       "      <td>NaN</td>\n",
       "      <td>NaN</td>\n",
       "      <td>23.0</td>\n",
       "    </tr>\n",
       "  </tbody>\n",
       "</table>\n",
       "<p>699720 rows × 24 columns</p>\n",
       "</div>"
      ],
      "text/plain": [
       "        index   level             control gender race  student_count  \\\n",
       "0           0  4-year              Public      M    W           4051   \n",
       "1           0  4-year              Public      F    W           4051   \n",
       "2           0  4-year              Public      M    B           4051   \n",
       "3           0  4-year              Public      F    B           4051   \n",
       "4           0  4-year              Public      M    H           4051   \n",
       "...       ...     ...                 ...    ...  ...            ...   \n",
       "699715   3797  4-year  Private for-profit      F    H            144   \n",
       "699716   3797  4-year  Private for-profit      M   Ai            144   \n",
       "699717   3797  4-year  Private for-profit      F   Ai            144   \n",
       "699718   3797  4-year  Private for-profit      M    A            144   \n",
       "699719   3797  4-year  Private for-profit      F    A            144   \n",
       "\n",
       "        awards_per_value  awards_per_state_value  awards_per_natl_value  \\\n",
       "0                   14.2                    18.8                   21.5   \n",
       "1                   14.2                    18.8                   21.5   \n",
       "2                   14.2                    18.8                   21.5   \n",
       "3                   14.2                    18.8                   21.5   \n",
       "4                   14.2                    18.8                   21.5   \n",
       "...                  ...                     ...                    ...   \n",
       "699715              22.1                    19.6                   24.6   \n",
       "699716              22.1                    19.6                   24.6   \n",
       "699717              22.1                    19.6                   24.6   \n",
       "699718              22.1                    19.6                   24.6   \n",
       "699719              22.1                    19.6                   24.6   \n",
       "\n",
       "        exp_award_value  ...  aid_percentile  grad_100_value  \\\n",
       "0                105331  ...            72.0            10.0   \n",
       "1                105331  ...            72.0            10.0   \n",
       "2                105331  ...            72.0            10.0   \n",
       "3                105331  ...            72.0            10.0   \n",
       "4                105331  ...            72.0            10.0   \n",
       "...                 ...  ...             ...             ...   \n",
       "699715            48074  ...            82.0            34.8   \n",
       "699716            48074  ...            82.0            34.8   \n",
       "699717            48074  ...            82.0            34.8   \n",
       "699718            48074  ...            82.0            34.8   \n",
       "699719            48074  ...            82.0            34.8   \n",
       "\n",
       "        grad_100_percentile  grad_150_value  grad_150_percentile  pell_value  \\\n",
       "0                      15.0            29.1                 14.0        71.2   \n",
       "1                      15.0            29.1                 14.0        71.2   \n",
       "2                      15.0            29.1                 14.0        71.2   \n",
       "3                      15.0            29.1                 14.0        71.2   \n",
       "4                      15.0            29.1                 14.0        71.2   \n",
       "...                     ...             ...                  ...         ...   \n",
       "699715                 78.0            47.8                 85.0        86.5   \n",
       "699716                 78.0            47.8                 85.0        86.5   \n",
       "699717                 78.0            47.8                 85.0        86.5   \n",
       "699718                 78.0            47.8                 85.0        86.5   \n",
       "699719                 78.0            47.8                 85.0        86.5   \n",
       "\n",
       "        pell_percentile  retain_value  retain_percentile  cohort_size  \n",
       "0                  98.0          63.1               17.0        882.0  \n",
       "1                  98.0          63.1               17.0        882.0  \n",
       "2                  98.0          63.1               17.0        882.0  \n",
       "3                  98.0          63.1               17.0        882.0  \n",
       "4                  98.0          63.1               17.0        882.0  \n",
       "...                 ...           ...                ...          ...  \n",
       "699715             97.0           NaN                NaN         23.0  \n",
       "699716             97.0           NaN                NaN         23.0  \n",
       "699717             97.0           NaN                NaN         23.0  \n",
       "699718             97.0           NaN                NaN         23.0  \n",
       "699719             97.0           NaN                NaN         23.0  \n",
       "\n",
       "[699720 rows x 24 columns]"
      ]
     },
     "execution_count": 30,
     "metadata": {},
     "output_type": "execute_result"
    }
   ],
   "source": [
    "# Display maximum column width\n",
    "pd.set_option('max_colwidth', None)\n",
    "\n",
    "# Check the data of the duplicated rows\n",
    "df[df.duplicated(keep=False)]"
   ]
  },
  {
   "cell_type": "markdown",
   "metadata": {},
   "source": [
    "From the gender and race ccolumn, we can see that the duplicates are not just duplicate rows. So, there is no need of dropping these rows."
   ]
  },
  {
   "cell_type": "code",
   "execution_count": 31,
   "metadata": {
    "id": "axg2mfuSMtST"
   },
   "outputs": [],
   "source": [
    "# Drop all duplicated rows\n",
    "#df.drop_duplicates(inplace = True)"
   ]
  },
  {
   "cell_type": "code",
   "execution_count": 32,
   "metadata": {
    "id": "R8L8St7gNY6q"
   },
   "outputs": [],
   "source": [
    "# Drop all empty or null values\n",
    "\n",
    "df.dropna(inplace = True)"
   ]
  },
  {
   "cell_type": "code",
   "execution_count": 33,
   "metadata": {
    "colab": {
     "base_uri": "https://localhost:8080/"
    },
    "id": "FIacG_-1Nhvc",
    "outputId": "8eba21c4-bdea-4b28-b09b-65c8054ddb46"
   },
   "outputs": [
    {
     "data": {
      "text/plain": [
       "(626100, 24)"
      ]
     },
     "execution_count": 33,
     "metadata": {},
     "output_type": "execute_result"
    }
   ],
   "source": [
    "df.shape"
   ]
  },
  {
   "cell_type": "code",
   "execution_count": 34,
   "metadata": {
    "colab": {
     "base_uri": "https://localhost:8080/"
    },
    "id": "88ripBJWNkqb",
    "outputId": "298c79a5-f2fc-40d5-9b3f-4843ced60ab3"
   },
   "outputs": [
    {
     "name": "stdout",
     "output_type": "stream",
     "text": [
      "<class 'pandas.core.frame.DataFrame'>\n",
      "Int64Index: 626100 entries, 0 to 699659\n",
      "Data columns (total 24 columns):\n",
      " #   Column                  Non-Null Count   Dtype  \n",
      "---  ------                  --------------   -----  \n",
      " 0   index                   626100 non-null  int64  \n",
      " 1   level                   626100 non-null  object \n",
      " 2   control                 626100 non-null  object \n",
      " 3   gender                  626100 non-null  object \n",
      " 4   race                    626100 non-null  object \n",
      " 5   student_count           626100 non-null  int64  \n",
      " 6   awards_per_value        626100 non-null  float64\n",
      " 7   awards_per_state_value  626100 non-null  float64\n",
      " 8   awards_per_natl_value   626100 non-null  float64\n",
      " 9   exp_award_value         626100 non-null  int64  \n",
      " 10  exp_award_state_value   626100 non-null  int64  \n",
      " 11  exp_award_natl_value    626100 non-null  int64  \n",
      " 12  exp_award_percentile    626100 non-null  int64  \n",
      " 13  aid_value               626100 non-null  float64\n",
      " 14  aid_percentile          626100 non-null  float64\n",
      " 15  grad_100_value          626100 non-null  float64\n",
      " 16  grad_100_percentile     626100 non-null  float64\n",
      " 17  grad_150_value          626100 non-null  float64\n",
      " 18  grad_150_percentile     626100 non-null  float64\n",
      " 19  pell_value              626100 non-null  float64\n",
      " 20  pell_percentile         626100 non-null  float64\n",
      " 21  retain_value            626100 non-null  float64\n",
      " 22  retain_percentile       626100 non-null  float64\n",
      " 23  cohort_size             626100 non-null  float64\n",
      "dtypes: float64(14), int64(6), object(4)\n",
      "memory usage: 119.4+ MB\n"
     ]
    }
   ],
   "source": [
    "# Check if the data info\n",
    "df.info()"
   ]
  },
  {
   "cell_type": "code",
   "execution_count": 35,
   "metadata": {
    "colab": {
     "base_uri": "https://localhost:8080/",
     "height": 741
    },
    "id": "y_1QF9cGYgGH",
    "outputId": "e68ad415-e56c-423b-a6c6-6ae0f6984336"
   },
   "outputs": [
    {
     "data": {
      "text/html": [
       "<div>\n",
       "<style scoped>\n",
       "    .dataframe tbody tr th:only-of-type {\n",
       "        vertical-align: middle;\n",
       "    }\n",
       "\n",
       "    .dataframe tbody tr th {\n",
       "        vertical-align: top;\n",
       "    }\n",
       "\n",
       "    .dataframe thead th {\n",
       "        text-align: right;\n",
       "    }\n",
       "</style>\n",
       "<table border=\"1\" class=\"dataframe\">\n",
       "  <thead>\n",
       "    <tr style=\"text-align: right;\">\n",
       "      <th></th>\n",
       "      <th>index</th>\n",
       "      <th>student_count</th>\n",
       "      <th>awards_per_value</th>\n",
       "      <th>awards_per_state_value</th>\n",
       "      <th>awards_per_natl_value</th>\n",
       "      <th>exp_award_value</th>\n",
       "      <th>exp_award_state_value</th>\n",
       "      <th>exp_award_natl_value</th>\n",
       "      <th>exp_award_percentile</th>\n",
       "      <th>aid_value</th>\n",
       "      <th>aid_percentile</th>\n",
       "      <th>grad_100_value</th>\n",
       "      <th>grad_100_percentile</th>\n",
       "      <th>grad_150_value</th>\n",
       "      <th>grad_150_percentile</th>\n",
       "      <th>pell_value</th>\n",
       "      <th>pell_percentile</th>\n",
       "      <th>retain_value</th>\n",
       "      <th>retain_percentile</th>\n",
       "      <th>cohort_size</th>\n",
       "    </tr>\n",
       "  </thead>\n",
       "  <tbody>\n",
       "    <tr>\n",
       "      <th>index</th>\n",
       "      <td>1.000000</td>\n",
       "      <td>-0.125301</td>\n",
       "      <td>0.112187</td>\n",
       "      <td>0.203304</td>\n",
       "      <td>0.266270</td>\n",
       "      <td>-0.003547</td>\n",
       "      <td>-0.186661</td>\n",
       "      <td>-0.181641</td>\n",
       "      <td>-0.004638</td>\n",
       "      <td>-0.128725</td>\n",
       "      <td>-0.055005</td>\n",
       "      <td>-0.012167</td>\n",
       "      <td>-0.044371</td>\n",
       "      <td>-0.022242</td>\n",
       "      <td>-0.055282</td>\n",
       "      <td>0.193277</td>\n",
       "      <td>0.017757</td>\n",
       "      <td>-0.131909</td>\n",
       "      <td>-0.098433</td>\n",
       "      <td>-0.130488</td>\n",
       "    </tr>\n",
       "    <tr>\n",
       "      <th>student_count</th>\n",
       "      <td>-0.125301</td>\n",
       "      <td>1.000000</td>\n",
       "      <td>-0.118447</td>\n",
       "      <td>-0.215786</td>\n",
       "      <td>-0.259059</td>\n",
       "      <td>-0.047241</td>\n",
       "      <td>-0.085655</td>\n",
       "      <td>-0.118783</td>\n",
       "      <td>-0.002309</td>\n",
       "      <td>-0.127537</td>\n",
       "      <td>0.047817</td>\n",
       "      <td>-0.092085</td>\n",
       "      <td>0.055988</td>\n",
       "      <td>-0.003440</td>\n",
       "      <td>0.109960</td>\n",
       "      <td>-0.220258</td>\n",
       "      <td>-0.157741</td>\n",
       "      <td>0.136378</td>\n",
       "      <td>0.210041</td>\n",
       "      <td>0.752227</td>\n",
       "    </tr>\n",
       "    <tr>\n",
       "      <th>awards_per_value</th>\n",
       "      <td>0.112187</td>\n",
       "      <td>-0.118447</td>\n",
       "      <td>1.000000</td>\n",
       "      <td>0.548278</td>\n",
       "      <td>0.475893</td>\n",
       "      <td>-0.179945</td>\n",
       "      <td>-0.156890</td>\n",
       "      <td>-0.138341</td>\n",
       "      <td>-0.274116</td>\n",
       "      <td>-0.022715</td>\n",
       "      <td>0.023594</td>\n",
       "      <td>0.272926</td>\n",
       "      <td>0.180413</td>\n",
       "      <td>0.302768</td>\n",
       "      <td>0.183195</td>\n",
       "      <td>0.126161</td>\n",
       "      <td>-0.048369</td>\n",
       "      <td>0.115423</td>\n",
       "      <td>0.115663</td>\n",
       "      <td>-0.062209</td>\n",
       "    </tr>\n",
       "    <tr>\n",
       "      <th>awards_per_state_value</th>\n",
       "      <td>0.203304</td>\n",
       "      <td>-0.215786</td>\n",
       "      <td>0.548278</td>\n",
       "      <td>1.000000</td>\n",
       "      <td>0.807619</td>\n",
       "      <td>-0.033986</td>\n",
       "      <td>-0.180066</td>\n",
       "      <td>-0.144180</td>\n",
       "      <td>-0.054812</td>\n",
       "      <td>-0.003323</td>\n",
       "      <td>0.016147</td>\n",
       "      <td>0.240275</td>\n",
       "      <td>0.020327</td>\n",
       "      <td>0.326454</td>\n",
       "      <td>0.060409</td>\n",
       "      <td>0.285107</td>\n",
       "      <td>-0.014392</td>\n",
       "      <td>0.079382</td>\n",
       "      <td>0.036576</td>\n",
       "      <td>-0.135389</td>\n",
       "    </tr>\n",
       "    <tr>\n",
       "      <th>awards_per_natl_value</th>\n",
       "      <td>0.266270</td>\n",
       "      <td>-0.259059</td>\n",
       "      <td>0.475893</td>\n",
       "      <td>0.807619</td>\n",
       "      <td>1.000000</td>\n",
       "      <td>-0.008116</td>\n",
       "      <td>-0.081486</td>\n",
       "      <td>-0.101330</td>\n",
       "      <td>0.015631</td>\n",
       "      <td>0.033255</td>\n",
       "      <td>0.004981</td>\n",
       "      <td>0.262787</td>\n",
       "      <td>-0.054250</td>\n",
       "      <td>0.363867</td>\n",
       "      <td>-0.002059</td>\n",
       "      <td>0.354491</td>\n",
       "      <td>-0.017186</td>\n",
       "      <td>0.079096</td>\n",
       "      <td>-0.008297</td>\n",
       "      <td>-0.177922</td>\n",
       "    </tr>\n",
       "    <tr>\n",
       "      <th>exp_award_value</th>\n",
       "      <td>-0.003547</td>\n",
       "      <td>-0.047241</td>\n",
       "      <td>-0.179945</td>\n",
       "      <td>-0.033986</td>\n",
       "      <td>-0.008116</td>\n",
       "      <td>1.000000</td>\n",
       "      <td>0.213485</td>\n",
       "      <td>0.198359</td>\n",
       "      <td>0.352340</td>\n",
       "      <td>0.237177</td>\n",
       "      <td>0.079439</td>\n",
       "      <td>0.103685</td>\n",
       "      <td>0.017807</td>\n",
       "      <td>0.064512</td>\n",
       "      <td>0.012964</td>\n",
       "      <td>-0.118145</td>\n",
       "      <td>-0.085965</td>\n",
       "      <td>0.110522</td>\n",
       "      <td>0.063599</td>\n",
       "      <td>-0.013130</td>\n",
       "    </tr>\n",
       "    <tr>\n",
       "      <th>exp_award_state_value</th>\n",
       "      <td>-0.186661</td>\n",
       "      <td>-0.085655</td>\n",
       "      <td>-0.156890</td>\n",
       "      <td>-0.180066</td>\n",
       "      <td>-0.081486</td>\n",
       "      <td>0.213485</td>\n",
       "      <td>1.000000</td>\n",
       "      <td>0.772126</td>\n",
       "      <td>0.131225</td>\n",
       "      <td>0.622805</td>\n",
       "      <td>0.120744</td>\n",
       "      <td>0.356695</td>\n",
       "      <td>0.086124</td>\n",
       "      <td>0.334264</td>\n",
       "      <td>0.068604</td>\n",
       "      <td>-0.337259</td>\n",
       "      <td>-0.070890</td>\n",
       "      <td>0.375781</td>\n",
       "      <td>0.114033</td>\n",
       "      <td>-0.012603</td>\n",
       "    </tr>\n",
       "    <tr>\n",
       "      <th>exp_award_natl_value</th>\n",
       "      <td>-0.181641</td>\n",
       "      <td>-0.118783</td>\n",
       "      <td>-0.138341</td>\n",
       "      <td>-0.144180</td>\n",
       "      <td>-0.101330</td>\n",
       "      <td>0.198359</td>\n",
       "      <td>0.772126</td>\n",
       "      <td>1.000000</td>\n",
       "      <td>-0.022417</td>\n",
       "      <td>0.676396</td>\n",
       "      <td>0.020759</td>\n",
       "      <td>0.377207</td>\n",
       "      <td>0.025714</td>\n",
       "      <td>0.359983</td>\n",
       "      <td>0.000007</td>\n",
       "      <td>-0.356850</td>\n",
       "      <td>0.010105</td>\n",
       "      <td>0.396343</td>\n",
       "      <td>0.030178</td>\n",
       "      <td>-0.070268</td>\n",
       "    </tr>\n",
       "    <tr>\n",
       "      <th>exp_award_percentile</th>\n",
       "      <td>-0.004638</td>\n",
       "      <td>-0.002309</td>\n",
       "      <td>-0.274116</td>\n",
       "      <td>-0.054812</td>\n",
       "      <td>0.015631</td>\n",
       "      <td>0.352340</td>\n",
       "      <td>0.131225</td>\n",
       "      <td>-0.022417</td>\n",
       "      <td>1.000000</td>\n",
       "      <td>0.237948</td>\n",
       "      <td>0.281536</td>\n",
       "      <td>0.123876</td>\n",
       "      <td>0.093760</td>\n",
       "      <td>0.073227</td>\n",
       "      <td>0.088063</td>\n",
       "      <td>-0.108139</td>\n",
       "      <td>-0.197053</td>\n",
       "      <td>0.074270</td>\n",
       "      <td>0.132164</td>\n",
       "      <td>0.104920</td>\n",
       "    </tr>\n",
       "    <tr>\n",
       "      <th>aid_value</th>\n",
       "      <td>-0.128725</td>\n",
       "      <td>-0.127537</td>\n",
       "      <td>-0.022715</td>\n",
       "      <td>-0.003323</td>\n",
       "      <td>0.033255</td>\n",
       "      <td>0.237177</td>\n",
       "      <td>0.622805</td>\n",
       "      <td>0.676396</td>\n",
       "      <td>0.237948</td>\n",
       "      <td>1.000000</td>\n",
       "      <td>0.554061</td>\n",
       "      <td>0.625545</td>\n",
       "      <td>0.331416</td>\n",
       "      <td>0.557610</td>\n",
       "      <td>0.309327</td>\n",
       "      <td>-0.412352</td>\n",
       "      <td>-0.241235</td>\n",
       "      <td>0.480501</td>\n",
       "      <td>0.288057</td>\n",
       "      <td>-0.013128</td>\n",
       "    </tr>\n",
       "    <tr>\n",
       "      <th>aid_percentile</th>\n",
       "      <td>-0.055005</td>\n",
       "      <td>0.047817</td>\n",
       "      <td>0.023594</td>\n",
       "      <td>0.016147</td>\n",
       "      <td>0.004981</td>\n",
       "      <td>0.079439</td>\n",
       "      <td>0.120744</td>\n",
       "      <td>0.020759</td>\n",
       "      <td>0.281536</td>\n",
       "      <td>0.554061</td>\n",
       "      <td>1.000000</td>\n",
       "      <td>0.379181</td>\n",
       "      <td>0.407073</td>\n",
       "      <td>0.324970</td>\n",
       "      <td>0.358658</td>\n",
       "      <td>-0.154137</td>\n",
       "      <td>-0.160771</td>\n",
       "      <td>0.256021</td>\n",
       "      <td>0.278082</td>\n",
       "      <td>0.194480</td>\n",
       "    </tr>\n",
       "    <tr>\n",
       "      <th>grad_100_value</th>\n",
       "      <td>-0.012167</td>\n",
       "      <td>-0.092085</td>\n",
       "      <td>0.272926</td>\n",
       "      <td>0.240275</td>\n",
       "      <td>0.262787</td>\n",
       "      <td>0.103685</td>\n",
       "      <td>0.356695</td>\n",
       "      <td>0.377207</td>\n",
       "      <td>0.123876</td>\n",
       "      <td>0.625545</td>\n",
       "      <td>0.379181</td>\n",
       "      <td>1.000000</td>\n",
       "      <td>0.803027</td>\n",
       "      <td>0.866365</td>\n",
       "      <td>0.689086</td>\n",
       "      <td>-0.387061</td>\n",
       "      <td>-0.395513</td>\n",
       "      <td>0.565203</td>\n",
       "      <td>0.464927</td>\n",
       "      <td>0.072788</td>\n",
       "    </tr>\n",
       "    <tr>\n",
       "      <th>grad_100_percentile</th>\n",
       "      <td>-0.044371</td>\n",
       "      <td>0.055988</td>\n",
       "      <td>0.180413</td>\n",
       "      <td>0.020327</td>\n",
       "      <td>-0.054250</td>\n",
       "      <td>0.017807</td>\n",
       "      <td>0.086124</td>\n",
       "      <td>0.025714</td>\n",
       "      <td>0.093760</td>\n",
       "      <td>0.331416</td>\n",
       "      <td>0.407073</td>\n",
       "      <td>0.803027</td>\n",
       "      <td>1.000000</td>\n",
       "      <td>0.669593</td>\n",
       "      <td>0.847340</td>\n",
       "      <td>-0.410062</td>\n",
       "      <td>-0.429953</td>\n",
       "      <td>0.430212</td>\n",
       "      <td>0.503524</td>\n",
       "      <td>0.210862</td>\n",
       "    </tr>\n",
       "    <tr>\n",
       "      <th>grad_150_value</th>\n",
       "      <td>-0.022242</td>\n",
       "      <td>-0.003440</td>\n",
       "      <td>0.302768</td>\n",
       "      <td>0.326454</td>\n",
       "      <td>0.363867</td>\n",
       "      <td>0.064512</td>\n",
       "      <td>0.334264</td>\n",
       "      <td>0.359983</td>\n",
       "      <td>0.073227</td>\n",
       "      <td>0.557610</td>\n",
       "      <td>0.324970</td>\n",
       "      <td>0.866365</td>\n",
       "      <td>0.669593</td>\n",
       "      <td>1.000000</td>\n",
       "      <td>0.777304</td>\n",
       "      <td>-0.386681</td>\n",
       "      <td>-0.407228</td>\n",
       "      <td>0.675187</td>\n",
       "      <td>0.536007</td>\n",
       "      <td>0.192861</td>\n",
       "    </tr>\n",
       "    <tr>\n",
       "      <th>grad_150_percentile</th>\n",
       "      <td>-0.055282</td>\n",
       "      <td>0.109960</td>\n",
       "      <td>0.183195</td>\n",
       "      <td>0.060409</td>\n",
       "      <td>-0.002059</td>\n",
       "      <td>0.012964</td>\n",
       "      <td>0.068604</td>\n",
       "      <td>0.000007</td>\n",
       "      <td>0.088063</td>\n",
       "      <td>0.309327</td>\n",
       "      <td>0.358658</td>\n",
       "      <td>0.689086</td>\n",
       "      <td>0.847340</td>\n",
       "      <td>0.777304</td>\n",
       "      <td>1.000000</td>\n",
       "      <td>-0.422513</td>\n",
       "      <td>-0.507161</td>\n",
       "      <td>0.516423</td>\n",
       "      <td>0.641899</td>\n",
       "      <td>0.260586</td>\n",
       "    </tr>\n",
       "    <tr>\n",
       "      <th>pell_value</th>\n",
       "      <td>0.193277</td>\n",
       "      <td>-0.220258</td>\n",
       "      <td>0.126161</td>\n",
       "      <td>0.285107</td>\n",
       "      <td>0.354491</td>\n",
       "      <td>-0.118145</td>\n",
       "      <td>-0.337259</td>\n",
       "      <td>-0.356850</td>\n",
       "      <td>-0.108139</td>\n",
       "      <td>-0.412352</td>\n",
       "      <td>-0.154137</td>\n",
       "      <td>-0.387061</td>\n",
       "      <td>-0.410062</td>\n",
       "      <td>-0.386681</td>\n",
       "      <td>-0.422513</td>\n",
       "      <td>1.000000</td>\n",
       "      <td>0.799344</td>\n",
       "      <td>-0.496911</td>\n",
       "      <td>-0.436861</td>\n",
       "      <td>-0.270846</td>\n",
       "    </tr>\n",
       "    <tr>\n",
       "      <th>pell_percentile</th>\n",
       "      <td>0.017757</td>\n",
       "      <td>-0.157741</td>\n",
       "      <td>-0.048369</td>\n",
       "      <td>-0.014392</td>\n",
       "      <td>-0.017186</td>\n",
       "      <td>-0.085965</td>\n",
       "      <td>-0.070890</td>\n",
       "      <td>0.010105</td>\n",
       "      <td>-0.197053</td>\n",
       "      <td>-0.241235</td>\n",
       "      <td>-0.160771</td>\n",
       "      <td>-0.395513</td>\n",
       "      <td>-0.429953</td>\n",
       "      <td>-0.407228</td>\n",
       "      <td>-0.507161</td>\n",
       "      <td>0.799344</td>\n",
       "      <td>1.000000</td>\n",
       "      <td>-0.373823</td>\n",
       "      <td>-0.492668</td>\n",
       "      <td>-0.206239</td>\n",
       "    </tr>\n",
       "    <tr>\n",
       "      <th>retain_value</th>\n",
       "      <td>-0.131909</td>\n",
       "      <td>0.136378</td>\n",
       "      <td>0.115423</td>\n",
       "      <td>0.079382</td>\n",
       "      <td>0.079096</td>\n",
       "      <td>0.110522</td>\n",
       "      <td>0.375781</td>\n",
       "      <td>0.396343</td>\n",
       "      <td>0.074270</td>\n",
       "      <td>0.480501</td>\n",
       "      <td>0.256021</td>\n",
       "      <td>0.565203</td>\n",
       "      <td>0.430212</td>\n",
       "      <td>0.675187</td>\n",
       "      <td>0.516423</td>\n",
       "      <td>-0.496911</td>\n",
       "      <td>-0.373823</td>\n",
       "      <td>1.000000</td>\n",
       "      <td>0.825331</td>\n",
       "      <td>0.278598</td>\n",
       "    </tr>\n",
       "    <tr>\n",
       "      <th>retain_percentile</th>\n",
       "      <td>-0.098433</td>\n",
       "      <td>0.210041</td>\n",
       "      <td>0.115663</td>\n",
       "      <td>0.036576</td>\n",
       "      <td>-0.008297</td>\n",
       "      <td>0.063599</td>\n",
       "      <td>0.114033</td>\n",
       "      <td>0.030178</td>\n",
       "      <td>0.132164</td>\n",
       "      <td>0.288057</td>\n",
       "      <td>0.278082</td>\n",
       "      <td>0.464927</td>\n",
       "      <td>0.503524</td>\n",
       "      <td>0.536007</td>\n",
       "      <td>0.641899</td>\n",
       "      <td>-0.436861</td>\n",
       "      <td>-0.492668</td>\n",
       "      <td>0.825331</td>\n",
       "      <td>1.000000</td>\n",
       "      <td>0.305461</td>\n",
       "    </tr>\n",
       "    <tr>\n",
       "      <th>cohort_size</th>\n",
       "      <td>-0.130488</td>\n",
       "      <td>0.752227</td>\n",
       "      <td>-0.062209</td>\n",
       "      <td>-0.135389</td>\n",
       "      <td>-0.177922</td>\n",
       "      <td>-0.013130</td>\n",
       "      <td>-0.012603</td>\n",
       "      <td>-0.070268</td>\n",
       "      <td>0.104920</td>\n",
       "      <td>-0.013128</td>\n",
       "      <td>0.194480</td>\n",
       "      <td>0.072788</td>\n",
       "      <td>0.210862</td>\n",
       "      <td>0.192861</td>\n",
       "      <td>0.260586</td>\n",
       "      <td>-0.270846</td>\n",
       "      <td>-0.206239</td>\n",
       "      <td>0.278598</td>\n",
       "      <td>0.305461</td>\n",
       "      <td>1.000000</td>\n",
       "    </tr>\n",
       "  </tbody>\n",
       "</table>\n",
       "</div>"
      ],
      "text/plain": [
       "                           index  student_count  awards_per_value  \\\n",
       "index                   1.000000      -0.125301          0.112187   \n",
       "student_count          -0.125301       1.000000         -0.118447   \n",
       "awards_per_value        0.112187      -0.118447          1.000000   \n",
       "awards_per_state_value  0.203304      -0.215786          0.548278   \n",
       "awards_per_natl_value   0.266270      -0.259059          0.475893   \n",
       "exp_award_value        -0.003547      -0.047241         -0.179945   \n",
       "exp_award_state_value  -0.186661      -0.085655         -0.156890   \n",
       "exp_award_natl_value   -0.181641      -0.118783         -0.138341   \n",
       "exp_award_percentile   -0.004638      -0.002309         -0.274116   \n",
       "aid_value              -0.128725      -0.127537         -0.022715   \n",
       "aid_percentile         -0.055005       0.047817          0.023594   \n",
       "grad_100_value         -0.012167      -0.092085          0.272926   \n",
       "grad_100_percentile    -0.044371       0.055988          0.180413   \n",
       "grad_150_value         -0.022242      -0.003440          0.302768   \n",
       "grad_150_percentile    -0.055282       0.109960          0.183195   \n",
       "pell_value              0.193277      -0.220258          0.126161   \n",
       "pell_percentile         0.017757      -0.157741         -0.048369   \n",
       "retain_value           -0.131909       0.136378          0.115423   \n",
       "retain_percentile      -0.098433       0.210041          0.115663   \n",
       "cohort_size            -0.130488       0.752227         -0.062209   \n",
       "\n",
       "                        awards_per_state_value  awards_per_natl_value  \\\n",
       "index                                 0.203304               0.266270   \n",
       "student_count                        -0.215786              -0.259059   \n",
       "awards_per_value                      0.548278               0.475893   \n",
       "awards_per_state_value                1.000000               0.807619   \n",
       "awards_per_natl_value                 0.807619               1.000000   \n",
       "exp_award_value                      -0.033986              -0.008116   \n",
       "exp_award_state_value                -0.180066              -0.081486   \n",
       "exp_award_natl_value                 -0.144180              -0.101330   \n",
       "exp_award_percentile                 -0.054812               0.015631   \n",
       "aid_value                            -0.003323               0.033255   \n",
       "aid_percentile                        0.016147               0.004981   \n",
       "grad_100_value                        0.240275               0.262787   \n",
       "grad_100_percentile                   0.020327              -0.054250   \n",
       "grad_150_value                        0.326454               0.363867   \n",
       "grad_150_percentile                   0.060409              -0.002059   \n",
       "pell_value                            0.285107               0.354491   \n",
       "pell_percentile                      -0.014392              -0.017186   \n",
       "retain_value                          0.079382               0.079096   \n",
       "retain_percentile                     0.036576              -0.008297   \n",
       "cohort_size                          -0.135389              -0.177922   \n",
       "\n",
       "                        exp_award_value  exp_award_state_value  \\\n",
       "index                         -0.003547              -0.186661   \n",
       "student_count                 -0.047241              -0.085655   \n",
       "awards_per_value              -0.179945              -0.156890   \n",
       "awards_per_state_value        -0.033986              -0.180066   \n",
       "awards_per_natl_value         -0.008116              -0.081486   \n",
       "exp_award_value                1.000000               0.213485   \n",
       "exp_award_state_value          0.213485               1.000000   \n",
       "exp_award_natl_value           0.198359               0.772126   \n",
       "exp_award_percentile           0.352340               0.131225   \n",
       "aid_value                      0.237177               0.622805   \n",
       "aid_percentile                 0.079439               0.120744   \n",
       "grad_100_value                 0.103685               0.356695   \n",
       "grad_100_percentile            0.017807               0.086124   \n",
       "grad_150_value                 0.064512               0.334264   \n",
       "grad_150_percentile            0.012964               0.068604   \n",
       "pell_value                    -0.118145              -0.337259   \n",
       "pell_percentile               -0.085965              -0.070890   \n",
       "retain_value                   0.110522               0.375781   \n",
       "retain_percentile              0.063599               0.114033   \n",
       "cohort_size                   -0.013130              -0.012603   \n",
       "\n",
       "                        exp_award_natl_value  exp_award_percentile  aid_value  \\\n",
       "index                              -0.181641             -0.004638  -0.128725   \n",
       "student_count                      -0.118783             -0.002309  -0.127537   \n",
       "awards_per_value                   -0.138341             -0.274116  -0.022715   \n",
       "awards_per_state_value             -0.144180             -0.054812  -0.003323   \n",
       "awards_per_natl_value              -0.101330              0.015631   0.033255   \n",
       "exp_award_value                     0.198359              0.352340   0.237177   \n",
       "exp_award_state_value               0.772126              0.131225   0.622805   \n",
       "exp_award_natl_value                1.000000             -0.022417   0.676396   \n",
       "exp_award_percentile               -0.022417              1.000000   0.237948   \n",
       "aid_value                           0.676396              0.237948   1.000000   \n",
       "aid_percentile                      0.020759              0.281536   0.554061   \n",
       "grad_100_value                      0.377207              0.123876   0.625545   \n",
       "grad_100_percentile                 0.025714              0.093760   0.331416   \n",
       "grad_150_value                      0.359983              0.073227   0.557610   \n",
       "grad_150_percentile                 0.000007              0.088063   0.309327   \n",
       "pell_value                         -0.356850             -0.108139  -0.412352   \n",
       "pell_percentile                     0.010105             -0.197053  -0.241235   \n",
       "retain_value                        0.396343              0.074270   0.480501   \n",
       "retain_percentile                   0.030178              0.132164   0.288057   \n",
       "cohort_size                        -0.070268              0.104920  -0.013128   \n",
       "\n",
       "                        aid_percentile  grad_100_value  grad_100_percentile  \\\n",
       "index                        -0.055005       -0.012167            -0.044371   \n",
       "student_count                 0.047817       -0.092085             0.055988   \n",
       "awards_per_value              0.023594        0.272926             0.180413   \n",
       "awards_per_state_value        0.016147        0.240275             0.020327   \n",
       "awards_per_natl_value         0.004981        0.262787            -0.054250   \n",
       "exp_award_value               0.079439        0.103685             0.017807   \n",
       "exp_award_state_value         0.120744        0.356695             0.086124   \n",
       "exp_award_natl_value          0.020759        0.377207             0.025714   \n",
       "exp_award_percentile          0.281536        0.123876             0.093760   \n",
       "aid_value                     0.554061        0.625545             0.331416   \n",
       "aid_percentile                1.000000        0.379181             0.407073   \n",
       "grad_100_value                0.379181        1.000000             0.803027   \n",
       "grad_100_percentile           0.407073        0.803027             1.000000   \n",
       "grad_150_value                0.324970        0.866365             0.669593   \n",
       "grad_150_percentile           0.358658        0.689086             0.847340   \n",
       "pell_value                   -0.154137       -0.387061            -0.410062   \n",
       "pell_percentile              -0.160771       -0.395513            -0.429953   \n",
       "retain_value                  0.256021        0.565203             0.430212   \n",
       "retain_percentile             0.278082        0.464927             0.503524   \n",
       "cohort_size                   0.194480        0.072788             0.210862   \n",
       "\n",
       "                        grad_150_value  grad_150_percentile  pell_value  \\\n",
       "index                        -0.022242            -0.055282    0.193277   \n",
       "student_count                -0.003440             0.109960   -0.220258   \n",
       "awards_per_value              0.302768             0.183195    0.126161   \n",
       "awards_per_state_value        0.326454             0.060409    0.285107   \n",
       "awards_per_natl_value         0.363867            -0.002059    0.354491   \n",
       "exp_award_value               0.064512             0.012964   -0.118145   \n",
       "exp_award_state_value         0.334264             0.068604   -0.337259   \n",
       "exp_award_natl_value          0.359983             0.000007   -0.356850   \n",
       "exp_award_percentile          0.073227             0.088063   -0.108139   \n",
       "aid_value                     0.557610             0.309327   -0.412352   \n",
       "aid_percentile                0.324970             0.358658   -0.154137   \n",
       "grad_100_value                0.866365             0.689086   -0.387061   \n",
       "grad_100_percentile           0.669593             0.847340   -0.410062   \n",
       "grad_150_value                1.000000             0.777304   -0.386681   \n",
       "grad_150_percentile           0.777304             1.000000   -0.422513   \n",
       "pell_value                   -0.386681            -0.422513    1.000000   \n",
       "pell_percentile              -0.407228            -0.507161    0.799344   \n",
       "retain_value                  0.675187             0.516423   -0.496911   \n",
       "retain_percentile             0.536007             0.641899   -0.436861   \n",
       "cohort_size                   0.192861             0.260586   -0.270846   \n",
       "\n",
       "                        pell_percentile  retain_value  retain_percentile  \\\n",
       "index                          0.017757     -0.131909          -0.098433   \n",
       "student_count                 -0.157741      0.136378           0.210041   \n",
       "awards_per_value              -0.048369      0.115423           0.115663   \n",
       "awards_per_state_value        -0.014392      0.079382           0.036576   \n",
       "awards_per_natl_value         -0.017186      0.079096          -0.008297   \n",
       "exp_award_value               -0.085965      0.110522           0.063599   \n",
       "exp_award_state_value         -0.070890      0.375781           0.114033   \n",
       "exp_award_natl_value           0.010105      0.396343           0.030178   \n",
       "exp_award_percentile          -0.197053      0.074270           0.132164   \n",
       "aid_value                     -0.241235      0.480501           0.288057   \n",
       "aid_percentile                -0.160771      0.256021           0.278082   \n",
       "grad_100_value                -0.395513      0.565203           0.464927   \n",
       "grad_100_percentile           -0.429953      0.430212           0.503524   \n",
       "grad_150_value                -0.407228      0.675187           0.536007   \n",
       "grad_150_percentile           -0.507161      0.516423           0.641899   \n",
       "pell_value                     0.799344     -0.496911          -0.436861   \n",
       "pell_percentile                1.000000     -0.373823          -0.492668   \n",
       "retain_value                  -0.373823      1.000000           0.825331   \n",
       "retain_percentile             -0.492668      0.825331           1.000000   \n",
       "cohort_size                   -0.206239      0.278598           0.305461   \n",
       "\n",
       "                        cohort_size  \n",
       "index                     -0.130488  \n",
       "student_count              0.752227  \n",
       "awards_per_value          -0.062209  \n",
       "awards_per_state_value    -0.135389  \n",
       "awards_per_natl_value     -0.177922  \n",
       "exp_award_value           -0.013130  \n",
       "exp_award_state_value     -0.012603  \n",
       "exp_award_natl_value      -0.070268  \n",
       "exp_award_percentile       0.104920  \n",
       "aid_value                 -0.013128  \n",
       "aid_percentile             0.194480  \n",
       "grad_100_value             0.072788  \n",
       "grad_100_percentile        0.210862  \n",
       "grad_150_value             0.192861  \n",
       "grad_150_percentile        0.260586  \n",
       "pell_value                -0.270846  \n",
       "pell_percentile           -0.206239  \n",
       "retain_value               0.278598  \n",
       "retain_percentile          0.305461  \n",
       "cohort_size                1.000000  "
      ]
     },
     "execution_count": 35,
     "metadata": {},
     "output_type": "execute_result"
    }
   ],
   "source": [
    "# Check for correlation of the numerical values\n",
    "\n",
    "df.corr()"
   ]
  },
  {
   "cell_type": "markdown",
   "metadata": {
    "id": "BVWxq55zb8XJ"
   },
   "source": [
    "Cohort size has a very low correlation (less than 10%) with grad_100_value while student_count is negatively correlated with grad_100_value. We can check how each affect the grad_100_value."
   ]
  },
  {
   "cell_type": "code",
   "execution_count": 36,
   "metadata": {
    "id": "dR9MY8ZIcoDI"
   },
   "outputs": [],
   "source": [
    "# Drop column for index\n",
    "\n",
    "df.drop('index', axis = 1, inplace  = True)"
   ]
  },
  {
   "cell_type": "code",
   "execution_count": 37,
   "metadata": {
    "colab": {
     "base_uri": "https://localhost:8080/"
    },
    "id": "idwP9tLUeDYp",
    "outputId": "fa35a839-5c5e-4be1-f531-b7247e565f62"
   },
   "outputs": [
    {
     "name": "stdout",
     "output_type": "stream",
     "text": [
      "<class 'pandas.core.frame.DataFrame'>\n",
      "Int64Index: 626100 entries, 0 to 699659\n",
      "Data columns (total 23 columns):\n",
      " #   Column                  Non-Null Count   Dtype  \n",
      "---  ------                  --------------   -----  \n",
      " 0   level                   626100 non-null  object \n",
      " 1   control                 626100 non-null  object \n",
      " 2   gender                  626100 non-null  object \n",
      " 3   race                    626100 non-null  object \n",
      " 4   student_count           626100 non-null  int64  \n",
      " 5   awards_per_value        626100 non-null  float64\n",
      " 6   awards_per_state_value  626100 non-null  float64\n",
      " 7   awards_per_natl_value   626100 non-null  float64\n",
      " 8   exp_award_value         626100 non-null  int64  \n",
      " 9   exp_award_state_value   626100 non-null  int64  \n",
      " 10  exp_award_natl_value    626100 non-null  int64  \n",
      " 11  exp_award_percentile    626100 non-null  int64  \n",
      " 12  aid_value               626100 non-null  float64\n",
      " 13  aid_percentile          626100 non-null  float64\n",
      " 14  grad_100_value          626100 non-null  float64\n",
      " 15  grad_100_percentile     626100 non-null  float64\n",
      " 16  grad_150_value          626100 non-null  float64\n",
      " 17  grad_150_percentile     626100 non-null  float64\n",
      " 18  pell_value              626100 non-null  float64\n",
      " 19  pell_percentile         626100 non-null  float64\n",
      " 20  retain_value            626100 non-null  float64\n",
      " 21  retain_percentile       626100 non-null  float64\n",
      " 22  cohort_size             626100 non-null  float64\n",
      "dtypes: float64(14), int64(5), object(4)\n",
      "memory usage: 114.6+ MB\n"
     ]
    }
   ],
   "source": [
    "df.info()"
   ]
  },
  {
   "cell_type": "markdown",
   "metadata": {
    "id": "p6oe0CxjeHCn"
   },
   "source": [
    "Our data is now clean and free from null values."
   ]
  },
  {
   "cell_type": "code",
   "execution_count": 38,
   "metadata": {
    "colab": {
     "base_uri": "https://localhost:8080/",
     "height": 682
    },
    "id": "m1M7ugCGfYTe",
    "outputId": "860c54a8-334e-4d6f-9bc6-cda01a8c146d"
   },
   "outputs": [
    {
     "data": {
      "text/html": [
       "<div>\n",
       "<style scoped>\n",
       "    .dataframe tbody tr th:only-of-type {\n",
       "        vertical-align: middle;\n",
       "    }\n",
       "\n",
       "    .dataframe tbody tr th {\n",
       "        vertical-align: top;\n",
       "    }\n",
       "\n",
       "    .dataframe thead th {\n",
       "        text-align: right;\n",
       "    }\n",
       "</style>\n",
       "<table border=\"1\" class=\"dataframe\">\n",
       "  <thead>\n",
       "    <tr style=\"text-align: right;\">\n",
       "      <th></th>\n",
       "      <th>level</th>\n",
       "      <th>control</th>\n",
       "      <th>gender</th>\n",
       "      <th>race</th>\n",
       "      <th>student_count</th>\n",
       "      <th>awards_per_value</th>\n",
       "      <th>awards_per_state_value</th>\n",
       "      <th>awards_per_natl_value</th>\n",
       "      <th>exp_award_value</th>\n",
       "      <th>exp_award_state_value</th>\n",
       "      <th>...</th>\n",
       "      <th>aid_percentile</th>\n",
       "      <th>grad_100_value</th>\n",
       "      <th>grad_100_percentile</th>\n",
       "      <th>grad_150_value</th>\n",
       "      <th>grad_150_percentile</th>\n",
       "      <th>pell_value</th>\n",
       "      <th>pell_percentile</th>\n",
       "      <th>retain_value</th>\n",
       "      <th>retain_percentile</th>\n",
       "      <th>cohort_size</th>\n",
       "    </tr>\n",
       "  </thead>\n",
       "  <tbody>\n",
       "    <tr>\n",
       "      <th>491648</th>\n",
       "      <td>4-year</td>\n",
       "      <td>Private not-for-profit</td>\n",
       "      <td>F</td>\n",
       "      <td>H</td>\n",
       "      <td>1329</td>\n",
       "      <td>20.7</td>\n",
       "      <td>23.3</td>\n",
       "      <td>22.5</td>\n",
       "      <td>116075</td>\n",
       "      <td>84271</td>\n",
       "      <td>...</td>\n",
       "      <td>87.0</td>\n",
       "      <td>31.2</td>\n",
       "      <td>31.0</td>\n",
       "      <td>51.5</td>\n",
       "      <td>43.0</td>\n",
       "      <td>39.9</td>\n",
       "      <td>57.0</td>\n",
       "      <td>70.1</td>\n",
       "      <td>35.0</td>\n",
       "      <td>365.0</td>\n",
       "    </tr>\n",
       "    <tr>\n",
       "      <th>55417</th>\n",
       "      <td>4-year</td>\n",
       "      <td>Public</td>\n",
       "      <td>F</td>\n",
       "      <td>H</td>\n",
       "      <td>27099</td>\n",
       "      <td>25.6</td>\n",
       "      <td>25.0</td>\n",
       "      <td>21.5</td>\n",
       "      <td>47319</td>\n",
       "      <td>79310</td>\n",
       "      <td>...</td>\n",
       "      <td>92.0</td>\n",
       "      <td>32.7</td>\n",
       "      <td>73.0</td>\n",
       "      <td>66.2</td>\n",
       "      <td>83.0</td>\n",
       "      <td>39.6</td>\n",
       "      <td>55.0</td>\n",
       "      <td>87.8</td>\n",
       "      <td>90.0</td>\n",
       "      <td>4506.0</td>\n",
       "    </tr>\n",
       "    <tr>\n",
       "      <th>171550</th>\n",
       "      <td>2-year</td>\n",
       "      <td>Public</td>\n",
       "      <td>F</td>\n",
       "      <td>H</td>\n",
       "      <td>6929</td>\n",
       "      <td>20.1</td>\n",
       "      <td>18.5</td>\n",
       "      <td>16.5</td>\n",
       "      <td>14081</td>\n",
       "      <td>16639</td>\n",
       "      <td>...</td>\n",
       "      <td>93.0</td>\n",
       "      <td>11.9</td>\n",
       "      <td>61.0</td>\n",
       "      <td>23.4</td>\n",
       "      <td>61.0</td>\n",
       "      <td>49.0</td>\n",
       "      <td>68.0</td>\n",
       "      <td>53.3</td>\n",
       "      <td>31.0</td>\n",
       "      <td>1045.0</td>\n",
       "    </tr>\n",
       "    <tr>\n",
       "      <th>95815</th>\n",
       "      <td>4-year</td>\n",
       "      <td>Private not-for-profit</td>\n",
       "      <td>M</td>\n",
       "      <td>H</td>\n",
       "      <td>2729</td>\n",
       "      <td>20.2</td>\n",
       "      <td>24.2</td>\n",
       "      <td>22.5</td>\n",
       "      <td>95137</td>\n",
       "      <td>71929</td>\n",
       "      <td>...</td>\n",
       "      <td>92.0</td>\n",
       "      <td>56.4</td>\n",
       "      <td>72.0</td>\n",
       "      <td>64.1</td>\n",
       "      <td>68.0</td>\n",
       "      <td>36.5</td>\n",
       "      <td>48.0</td>\n",
       "      <td>78.1</td>\n",
       "      <td>58.0</td>\n",
       "      <td>557.0</td>\n",
       "    </tr>\n",
       "    <tr>\n",
       "      <th>469963</th>\n",
       "      <td>2-year</td>\n",
       "      <td>Private for-profit</td>\n",
       "      <td>F</td>\n",
       "      <td>W</td>\n",
       "      <td>212</td>\n",
       "      <td>75.0</td>\n",
       "      <td>37.8</td>\n",
       "      <td>32.8</td>\n",
       "      <td>11756</td>\n",
       "      <td>20075</td>\n",
       "      <td>...</td>\n",
       "      <td>8.0</td>\n",
       "      <td>62.2</td>\n",
       "      <td>77.0</td>\n",
       "      <td>62.2</td>\n",
       "      <td>53.0</td>\n",
       "      <td>81.5</td>\n",
       "      <td>77.0</td>\n",
       "      <td>75.6</td>\n",
       "      <td>72.0</td>\n",
       "      <td>156.0</td>\n",
       "    </tr>\n",
       "    <tr>\n",
       "      <th>624098</th>\n",
       "      <td>2-year</td>\n",
       "      <td>Private for-profit</td>\n",
       "      <td>F</td>\n",
       "      <td>H</td>\n",
       "      <td>265</td>\n",
       "      <td>36.5</td>\n",
       "      <td>28.4</td>\n",
       "      <td>32.8</td>\n",
       "      <td>23835</td>\n",
       "      <td>18728</td>\n",
       "      <td>...</td>\n",
       "      <td>87.0</td>\n",
       "      <td>26.5</td>\n",
       "      <td>31.0</td>\n",
       "      <td>26.5</td>\n",
       "      <td>7.0</td>\n",
       "      <td>29.3</td>\n",
       "      <td>3.0</td>\n",
       "      <td>64.5</td>\n",
       "      <td>41.0</td>\n",
       "      <td>34.0</td>\n",
       "    </tr>\n",
       "    <tr>\n",
       "      <th>47486</th>\n",
       "      <td>2-year</td>\n",
       "      <td>Public</td>\n",
       "      <td>F</td>\n",
       "      <td>Ai</td>\n",
       "      <td>10205</td>\n",
       "      <td>11.3</td>\n",
       "      <td>12.8</td>\n",
       "      <td>16.5</td>\n",
       "      <td>66933</td>\n",
       "      <td>44144</td>\n",
       "      <td>...</td>\n",
       "      <td>30.0</td>\n",
       "      <td>4.1</td>\n",
       "      <td>16.0</td>\n",
       "      <td>15.5</td>\n",
       "      <td>30.0</td>\n",
       "      <td>47.3</td>\n",
       "      <td>64.0</td>\n",
       "      <td>73.7</td>\n",
       "      <td>95.0</td>\n",
       "      <td>1229.0</td>\n",
       "    </tr>\n",
       "    <tr>\n",
       "      <th>52976</th>\n",
       "      <td>4-year</td>\n",
       "      <td>Private not-for-profit</td>\n",
       "      <td>M</td>\n",
       "      <td>H</td>\n",
       "      <td>1081</td>\n",
       "      <td>25.1</td>\n",
       "      <td>22.4</td>\n",
       "      <td>22.5</td>\n",
       "      <td>206748</td>\n",
       "      <td>125902</td>\n",
       "      <td>...</td>\n",
       "      <td>97.0</td>\n",
       "      <td>73.0</td>\n",
       "      <td>88.0</td>\n",
       "      <td>82.1</td>\n",
       "      <td>91.0</td>\n",
       "      <td>16.1</td>\n",
       "      <td>8.0</td>\n",
       "      <td>90.8</td>\n",
       "      <td>89.0</td>\n",
       "      <td>252.0</td>\n",
       "    </tr>\n",
       "    <tr>\n",
       "      <th>379543</th>\n",
       "      <td>4-year</td>\n",
       "      <td>Public</td>\n",
       "      <td>F</td>\n",
       "      <td>W</td>\n",
       "      <td>2012</td>\n",
       "      <td>10.8</td>\n",
       "      <td>19.5</td>\n",
       "      <td>21.5</td>\n",
       "      <td>73436</td>\n",
       "      <td>74213</td>\n",
       "      <td>...</td>\n",
       "      <td>23.0</td>\n",
       "      <td>9.6</td>\n",
       "      <td>14.0</td>\n",
       "      <td>17.6</td>\n",
       "      <td>3.0</td>\n",
       "      <td>50.3</td>\n",
       "      <td>83.0</td>\n",
       "      <td>51.3</td>\n",
       "      <td>3.0</td>\n",
       "      <td>136.0</td>\n",
       "    </tr>\n",
       "    <tr>\n",
       "      <th>44395</th>\n",
       "      <td>4-year</td>\n",
       "      <td>Private not-for-profit</td>\n",
       "      <td>F</td>\n",
       "      <td>H</td>\n",
       "      <td>2105</td>\n",
       "      <td>14.1</td>\n",
       "      <td>22.4</td>\n",
       "      <td>22.5</td>\n",
       "      <td>113971</td>\n",
       "      <td>125902</td>\n",
       "      <td>...</td>\n",
       "      <td>88.0</td>\n",
       "      <td>29.7</td>\n",
       "      <td>28.0</td>\n",
       "      <td>58.9</td>\n",
       "      <td>58.0</td>\n",
       "      <td>48.2</td>\n",
       "      <td>73.0</td>\n",
       "      <td>76.2</td>\n",
       "      <td>53.0</td>\n",
       "      <td>192.0</td>\n",
       "    </tr>\n",
       "  </tbody>\n",
       "</table>\n",
       "<p>10 rows × 23 columns</p>\n",
       "</div>"
      ],
      "text/plain": [
       "         level                 control gender race  student_count  \\\n",
       "491648  4-year  Private not-for-profit      F    H           1329   \n",
       "55417   4-year                  Public      F    H          27099   \n",
       "171550  2-year                  Public      F    H           6929   \n",
       "95815   4-year  Private not-for-profit      M    H           2729   \n",
       "469963  2-year      Private for-profit      F    W            212   \n",
       "624098  2-year      Private for-profit      F    H            265   \n",
       "47486   2-year                  Public      F   Ai          10205   \n",
       "52976   4-year  Private not-for-profit      M    H           1081   \n",
       "379543  4-year                  Public      F    W           2012   \n",
       "44395   4-year  Private not-for-profit      F    H           2105   \n",
       "\n",
       "        awards_per_value  awards_per_state_value  awards_per_natl_value  \\\n",
       "491648              20.7                    23.3                   22.5   \n",
       "55417               25.6                    25.0                   21.5   \n",
       "171550              20.1                    18.5                   16.5   \n",
       "95815               20.2                    24.2                   22.5   \n",
       "469963              75.0                    37.8                   32.8   \n",
       "624098              36.5                    28.4                   32.8   \n",
       "47486               11.3                    12.8                   16.5   \n",
       "52976               25.1                    22.4                   22.5   \n",
       "379543              10.8                    19.5                   21.5   \n",
       "44395               14.1                    22.4                   22.5   \n",
       "\n",
       "        exp_award_value  exp_award_state_value  ...  aid_percentile  \\\n",
       "491648           116075                  84271  ...            87.0   \n",
       "55417             47319                  79310  ...            92.0   \n",
       "171550            14081                  16639  ...            93.0   \n",
       "95815             95137                  71929  ...            92.0   \n",
       "469963            11756                  20075  ...             8.0   \n",
       "624098            23835                  18728  ...            87.0   \n",
       "47486             66933                  44144  ...            30.0   \n",
       "52976            206748                 125902  ...            97.0   \n",
       "379543            73436                  74213  ...            23.0   \n",
       "44395            113971                 125902  ...            88.0   \n",
       "\n",
       "        grad_100_value  grad_100_percentile  grad_150_value  \\\n",
       "491648            31.2                 31.0            51.5   \n",
       "55417             32.7                 73.0            66.2   \n",
       "171550            11.9                 61.0            23.4   \n",
       "95815             56.4                 72.0            64.1   \n",
       "469963            62.2                 77.0            62.2   \n",
       "624098            26.5                 31.0            26.5   \n",
       "47486              4.1                 16.0            15.5   \n",
       "52976             73.0                 88.0            82.1   \n",
       "379543             9.6                 14.0            17.6   \n",
       "44395             29.7                 28.0            58.9   \n",
       "\n",
       "        grad_150_percentile  pell_value  pell_percentile  retain_value  \\\n",
       "491648                 43.0        39.9             57.0          70.1   \n",
       "55417                  83.0        39.6             55.0          87.8   \n",
       "171550                 61.0        49.0             68.0          53.3   \n",
       "95815                  68.0        36.5             48.0          78.1   \n",
       "469963                 53.0        81.5             77.0          75.6   \n",
       "624098                  7.0        29.3              3.0          64.5   \n",
       "47486                  30.0        47.3             64.0          73.7   \n",
       "52976                  91.0        16.1              8.0          90.8   \n",
       "379543                  3.0        50.3             83.0          51.3   \n",
       "44395                  58.0        48.2             73.0          76.2   \n",
       "\n",
       "        retain_percentile  cohort_size  \n",
       "491648               35.0        365.0  \n",
       "55417                90.0       4506.0  \n",
       "171550               31.0       1045.0  \n",
       "95815                58.0        557.0  \n",
       "469963               72.0        156.0  \n",
       "624098               41.0         34.0  \n",
       "47486                95.0       1229.0  \n",
       "52976                89.0        252.0  \n",
       "379543                3.0        136.0  \n",
       "44395                53.0        192.0  \n",
       "\n",
       "[10 rows x 23 columns]"
      ]
     },
     "execution_count": 38,
     "metadata": {},
     "output_type": "execute_result"
    }
   ],
   "source": [
    "# Reset the index \n",
    "\n",
    "df = df.reset_index(drop = True)\n",
    "\n",
    "# Take a random sample of 10 rows\n",
    "df.sample(10)"
   ]
  },
  {
   "cell_type": "code",
   "execution_count": 39,
   "metadata": {
    "colab": {
     "base_uri": "https://localhost:8080/"
    },
    "id": "7Z2L-pVBloB6",
    "outputId": "81c50b85-ab9b-43e1-f32f-60d9677c879f"
   },
   "outputs": [
    {
     "data": {
      "text/plain": [
       "level                      object\n",
       "control                    object\n",
       "gender                     object\n",
       "race                       object\n",
       "student_count               int64\n",
       "awards_per_value          float64\n",
       "awards_per_state_value    float64\n",
       "awards_per_natl_value     float64\n",
       "exp_award_value             int64\n",
       "exp_award_state_value       int64\n",
       "exp_award_natl_value        int64\n",
       "exp_award_percentile        int64\n",
       "aid_value                 float64\n",
       "aid_percentile            float64\n",
       "grad_100_value            float64\n",
       "grad_100_percentile       float64\n",
       "grad_150_value            float64\n",
       "grad_150_percentile       float64\n",
       "pell_value                float64\n",
       "pell_percentile           float64\n",
       "retain_value              float64\n",
       "retain_percentile         float64\n",
       "cohort_size               float64\n",
       "dtype: object"
      ]
     },
     "execution_count": 39,
     "metadata": {},
     "output_type": "execute_result"
    }
   ],
   "source": [
    "# Check for the datatypes\n",
    "df.dtypes"
   ]
  },
  {
   "cell_type": "markdown",
   "metadata": {
    "id": "jgVcpfGGgdDF"
   },
   "source": [
    "### Data Preprocessing"
   ]
  },
  {
   "cell_type": "code",
   "execution_count": 40,
   "metadata": {
    "colab": {
     "base_uri": "https://localhost:8080/",
     "height": 317
    },
    "id": "wwzonyffloB6",
    "outputId": "77767e82-8d1d-4684-89b0-e4cbfcf55271"
   },
   "outputs": [
    {
     "data": {
      "text/html": [
       "<div>\n",
       "<style scoped>\n",
       "    .dataframe tbody tr th:only-of-type {\n",
       "        vertical-align: middle;\n",
       "    }\n",
       "\n",
       "    .dataframe tbody tr th {\n",
       "        vertical-align: top;\n",
       "    }\n",
       "\n",
       "    .dataframe thead th {\n",
       "        text-align: right;\n",
       "    }\n",
       "</style>\n",
       "<table border=\"1\" class=\"dataframe\">\n",
       "  <thead>\n",
       "    <tr style=\"text-align: right;\">\n",
       "      <th></th>\n",
       "      <th>student_count</th>\n",
       "      <th>awards_per_value</th>\n",
       "      <th>awards_per_state_value</th>\n",
       "      <th>awards_per_natl_value</th>\n",
       "      <th>exp_award_value</th>\n",
       "      <th>exp_award_state_value</th>\n",
       "      <th>exp_award_natl_value</th>\n",
       "      <th>exp_award_percentile</th>\n",
       "      <th>aid_value</th>\n",
       "      <th>aid_percentile</th>\n",
       "      <th>...</th>\n",
       "      <th>control_Private for-profit</th>\n",
       "      <th>control_Private not-for-profit</th>\n",
       "      <th>control_Public</th>\n",
       "      <th>gender_F</th>\n",
       "      <th>gender_M</th>\n",
       "      <th>race_A</th>\n",
       "      <th>race_Ai</th>\n",
       "      <th>race_B</th>\n",
       "      <th>race_H</th>\n",
       "      <th>race_W</th>\n",
       "    </tr>\n",
       "  </thead>\n",
       "  <tbody>\n",
       "    <tr>\n",
       "      <th>129927</th>\n",
       "      <td>103</td>\n",
       "      <td>39.8</td>\n",
       "      <td>26.8</td>\n",
       "      <td>25.9</td>\n",
       "      <td>66385</td>\n",
       "      <td>74074</td>\n",
       "      <td>34510</td>\n",
       "      <td>79</td>\n",
       "      <td>5715.0</td>\n",
       "      <td>69.0</td>\n",
       "      <td>...</td>\n",
       "      <td>0</td>\n",
       "      <td>1</td>\n",
       "      <td>0</td>\n",
       "      <td>1</td>\n",
       "      <td>0</td>\n",
       "      <td>0</td>\n",
       "      <td>1</td>\n",
       "      <td>0</td>\n",
       "      <td>0</td>\n",
       "      <td>0</td>\n",
       "    </tr>\n",
       "    <tr>\n",
       "      <th>369476</th>\n",
       "      <td>2339</td>\n",
       "      <td>16.4</td>\n",
       "      <td>19.5</td>\n",
       "      <td>21.5</td>\n",
       "      <td>47013</td>\n",
       "      <td>74213</td>\n",
       "      <td>66436</td>\n",
       "      <td>24</td>\n",
       "      <td>3976.0</td>\n",
       "      <td>6.0</td>\n",
       "      <td>...</td>\n",
       "      <td>0</td>\n",
       "      <td>0</td>\n",
       "      <td>1</td>\n",
       "      <td>0</td>\n",
       "      <td>1</td>\n",
       "      <td>0</td>\n",
       "      <td>0</td>\n",
       "      <td>0</td>\n",
       "      <td>1</td>\n",
       "      <td>0</td>\n",
       "    </tr>\n",
       "    <tr>\n",
       "      <th>244202</th>\n",
       "      <td>6321</td>\n",
       "      <td>20.6</td>\n",
       "      <td>23.7</td>\n",
       "      <td>22.5</td>\n",
       "      <td>71454</td>\n",
       "      <td>71920</td>\n",
       "      <td>101725</td>\n",
       "      <td>44</td>\n",
       "      <td>22861.0</td>\n",
       "      <td>87.0</td>\n",
       "      <td>...</td>\n",
       "      <td>0</td>\n",
       "      <td>1</td>\n",
       "      <td>0</td>\n",
       "      <td>1</td>\n",
       "      <td>0</td>\n",
       "      <td>0</td>\n",
       "      <td>0</td>\n",
       "      <td>1</td>\n",
       "      <td>0</td>\n",
       "      <td>0</td>\n",
       "    </tr>\n",
       "    <tr>\n",
       "      <th>206880</th>\n",
       "      <td>10534</td>\n",
       "      <td>18.9</td>\n",
       "      <td>22.3</td>\n",
       "      <td>22.5</td>\n",
       "      <td>381077</td>\n",
       "      <td>145629</td>\n",
       "      <td>101725</td>\n",
       "      <td>99</td>\n",
       "      <td>38381.0</td>\n",
       "      <td>99.0</td>\n",
       "      <td>...</td>\n",
       "      <td>0</td>\n",
       "      <td>1</td>\n",
       "      <td>0</td>\n",
       "      <td>0</td>\n",
       "      <td>1</td>\n",
       "      <td>0</td>\n",
       "      <td>0</td>\n",
       "      <td>0</td>\n",
       "      <td>1</td>\n",
       "      <td>0</td>\n",
       "    </tr>\n",
       "    <tr>\n",
       "      <th>281616</th>\n",
       "      <td>7254</td>\n",
       "      <td>14.4</td>\n",
       "      <td>15.8</td>\n",
       "      <td>16.5</td>\n",
       "      <td>57685</td>\n",
       "      <td>49808</td>\n",
       "      <td>37780</td>\n",
       "      <td>83</td>\n",
       "      <td>4914.0</td>\n",
       "      <td>79.0</td>\n",
       "      <td>...</td>\n",
       "      <td>0</td>\n",
       "      <td>0</td>\n",
       "      <td>1</td>\n",
       "      <td>0</td>\n",
       "      <td>1</td>\n",
       "      <td>0</td>\n",
       "      <td>1</td>\n",
       "      <td>0</td>\n",
       "      <td>0</td>\n",
       "      <td>0</td>\n",
       "    </tr>\n",
       "  </tbody>\n",
       "</table>\n",
       "<p>5 rows × 31 columns</p>\n",
       "</div>"
      ],
      "text/plain": [
       "        student_count  awards_per_value  awards_per_state_value  \\\n",
       "129927            103              39.8                    26.8   \n",
       "369476           2339              16.4                    19.5   \n",
       "244202           6321              20.6                    23.7   \n",
       "206880          10534              18.9                    22.3   \n",
       "281616           7254              14.4                    15.8   \n",
       "\n",
       "        awards_per_natl_value  exp_award_value  exp_award_state_value  \\\n",
       "129927                   25.9            66385                  74074   \n",
       "369476                   21.5            47013                  74213   \n",
       "244202                   22.5            71454                  71920   \n",
       "206880                   22.5           381077                 145629   \n",
       "281616                   16.5            57685                  49808   \n",
       "\n",
       "        exp_award_natl_value  exp_award_percentile  aid_value  aid_percentile  \\\n",
       "129927                 34510                    79     5715.0            69.0   \n",
       "369476                 66436                    24     3976.0             6.0   \n",
       "244202                101725                    44    22861.0            87.0   \n",
       "206880                101725                    99    38381.0            99.0   \n",
       "281616                 37780                    83     4914.0            79.0   \n",
       "\n",
       "        ...  control_Private for-profit  control_Private not-for-profit  \\\n",
       "129927  ...                           0                               1   \n",
       "369476  ...                           0                               0   \n",
       "244202  ...                           0                               1   \n",
       "206880  ...                           0                               1   \n",
       "281616  ...                           0                               0   \n",
       "\n",
       "        control_Public  gender_F  gender_M  race_A  race_Ai  race_B  race_H  \\\n",
       "129927               0         1         0       0        1       0       0   \n",
       "369476               1         0         1       0        0       0       1   \n",
       "244202               0         1         0       0        0       1       0   \n",
       "206880               0         0         1       0        0       0       1   \n",
       "281616               1         0         1       0        1       0       0   \n",
       "\n",
       "        race_W  \n",
       "129927       0  \n",
       "369476       0  \n",
       "244202       0  \n",
       "206880       0  \n",
       "281616       0  \n",
       "\n",
       "[5 rows x 31 columns]"
      ]
     },
     "execution_count": 40,
     "metadata": {},
     "output_type": "execute_result"
    }
   ],
   "source": [
    "# Creating dummy variables for the categorical variables\n",
    "# dont do drop_first = True here \n",
    "# for control we have 3 different types so it drops the first one\n",
    "# drop_first = True is good for things that are one or the other like yes/no, male/female, pass/fail \n",
    "# we could use it for the 2-year / 4-year if you wanted but i think it is okay to keep for now \n",
    "\n",
    "train_features = df\n",
    "train_features = pd.get_dummies(train_features, drop_first = False)\n",
    "\n",
    "train_features.sample(5)"
   ]
  },
  {
   "cell_type": "code",
   "execution_count": 41,
   "metadata": {
    "id": "gXVzsGvgloB6"
   },
   "outputs": [],
   "source": [
    "## read more about the minmaxscaler here: https://scikit-learn.org/stable/modules/generated/sklearn.preprocessing.MinMaxScaler.html"
   ]
  },
  {
   "cell_type": "code",
   "execution_count": 42,
   "metadata": {
    "colab": {
     "base_uri": "https://localhost:8080/",
     "height": 317
    },
    "id": "ejOQNavNloB7",
    "outputId": "9d8dd85b-b98f-4da5-c138-e6db423aab37"
   },
   "outputs": [
    {
     "data": {
      "text/html": [
       "<div>\n",
       "<style scoped>\n",
       "    .dataframe tbody tr th:only-of-type {\n",
       "        vertical-align: middle;\n",
       "    }\n",
       "\n",
       "    .dataframe tbody tr th {\n",
       "        vertical-align: top;\n",
       "    }\n",
       "\n",
       "    .dataframe thead th {\n",
       "        text-align: right;\n",
       "    }\n",
       "</style>\n",
       "<table border=\"1\" class=\"dataframe\">\n",
       "  <thead>\n",
       "    <tr style=\"text-align: right;\">\n",
       "      <th></th>\n",
       "      <th>student_count</th>\n",
       "      <th>awards_per_value</th>\n",
       "      <th>awards_per_state_value</th>\n",
       "      <th>awards_per_natl_value</th>\n",
       "      <th>exp_award_value</th>\n",
       "      <th>exp_award_state_value</th>\n",
       "      <th>exp_award_natl_value</th>\n",
       "      <th>exp_award_percentile</th>\n",
       "      <th>aid_value</th>\n",
       "      <th>aid_percentile</th>\n",
       "      <th>...</th>\n",
       "      <th>control_Private for-profit</th>\n",
       "      <th>control_Private not-for-profit</th>\n",
       "      <th>control_Public</th>\n",
       "      <th>gender_F</th>\n",
       "      <th>gender_M</th>\n",
       "      <th>race_A</th>\n",
       "      <th>race_Ai</th>\n",
       "      <th>race_B</th>\n",
       "      <th>race_H</th>\n",
       "      <th>race_W</th>\n",
       "    </tr>\n",
       "  </thead>\n",
       "  <tbody>\n",
       "    <tr>\n",
       "      <th>0</th>\n",
       "      <td>0.023677</td>\n",
       "      <td>0.1049</td>\n",
       "      <td>0.275132</td>\n",
       "      <td>0.306748</td>\n",
       "      <td>0.019941</td>\n",
       "      <td>0.359141</td>\n",
       "      <td>0.541284</td>\n",
       "      <td>0.9</td>\n",
       "      <td>0.165867</td>\n",
       "      <td>0.72</td>\n",
       "      <td>...</td>\n",
       "      <td>0.0</td>\n",
       "      <td>0.0</td>\n",
       "      <td>1.0</td>\n",
       "      <td>0.0</td>\n",
       "      <td>1.0</td>\n",
       "      <td>0.0</td>\n",
       "      <td>0.0</td>\n",
       "      <td>0.0</td>\n",
       "      <td>0.0</td>\n",
       "      <td>1.0</td>\n",
       "    </tr>\n",
       "    <tr>\n",
       "      <th>1</th>\n",
       "      <td>0.023677</td>\n",
       "      <td>0.1049</td>\n",
       "      <td>0.275132</td>\n",
       "      <td>0.306748</td>\n",
       "      <td>0.019941</td>\n",
       "      <td>0.359141</td>\n",
       "      <td>0.541284</td>\n",
       "      <td>0.9</td>\n",
       "      <td>0.165867</td>\n",
       "      <td>0.72</td>\n",
       "      <td>...</td>\n",
       "      <td>0.0</td>\n",
       "      <td>0.0</td>\n",
       "      <td>1.0</td>\n",
       "      <td>1.0</td>\n",
       "      <td>0.0</td>\n",
       "      <td>0.0</td>\n",
       "      <td>0.0</td>\n",
       "      <td>0.0</td>\n",
       "      <td>0.0</td>\n",
       "      <td>1.0</td>\n",
       "    </tr>\n",
       "    <tr>\n",
       "      <th>2</th>\n",
       "      <td>0.023677</td>\n",
       "      <td>0.1049</td>\n",
       "      <td>0.275132</td>\n",
       "      <td>0.306748</td>\n",
       "      <td>0.019941</td>\n",
       "      <td>0.359141</td>\n",
       "      <td>0.541284</td>\n",
       "      <td>0.9</td>\n",
       "      <td>0.165867</td>\n",
       "      <td>0.72</td>\n",
       "      <td>...</td>\n",
       "      <td>0.0</td>\n",
       "      <td>0.0</td>\n",
       "      <td>1.0</td>\n",
       "      <td>0.0</td>\n",
       "      <td>1.0</td>\n",
       "      <td>0.0</td>\n",
       "      <td>0.0</td>\n",
       "      <td>1.0</td>\n",
       "      <td>0.0</td>\n",
       "      <td>0.0</td>\n",
       "    </tr>\n",
       "    <tr>\n",
       "      <th>3</th>\n",
       "      <td>0.023677</td>\n",
       "      <td>0.1049</td>\n",
       "      <td>0.275132</td>\n",
       "      <td>0.306748</td>\n",
       "      <td>0.019941</td>\n",
       "      <td>0.359141</td>\n",
       "      <td>0.541284</td>\n",
       "      <td>0.9</td>\n",
       "      <td>0.165867</td>\n",
       "      <td>0.72</td>\n",
       "      <td>...</td>\n",
       "      <td>0.0</td>\n",
       "      <td>0.0</td>\n",
       "      <td>1.0</td>\n",
       "      <td>1.0</td>\n",
       "      <td>0.0</td>\n",
       "      <td>0.0</td>\n",
       "      <td>0.0</td>\n",
       "      <td>1.0</td>\n",
       "      <td>0.0</td>\n",
       "      <td>0.0</td>\n",
       "    </tr>\n",
       "    <tr>\n",
       "      <th>4</th>\n",
       "      <td>0.023677</td>\n",
       "      <td>0.1049</td>\n",
       "      <td>0.275132</td>\n",
       "      <td>0.306748</td>\n",
       "      <td>0.019941</td>\n",
       "      <td>0.359141</td>\n",
       "      <td>0.541284</td>\n",
       "      <td>0.9</td>\n",
       "      <td>0.165867</td>\n",
       "      <td>0.72</td>\n",
       "      <td>...</td>\n",
       "      <td>0.0</td>\n",
       "      <td>0.0</td>\n",
       "      <td>1.0</td>\n",
       "      <td>0.0</td>\n",
       "      <td>1.0</td>\n",
       "      <td>0.0</td>\n",
       "      <td>0.0</td>\n",
       "      <td>0.0</td>\n",
       "      <td>1.0</td>\n",
       "      <td>0.0</td>\n",
       "    </tr>\n",
       "  </tbody>\n",
       "</table>\n",
       "<p>5 rows × 31 columns</p>\n",
       "</div>"
      ],
      "text/plain": [
       "   student_count  awards_per_value  awards_per_state_value  \\\n",
       "0       0.023677            0.1049                0.275132   \n",
       "1       0.023677            0.1049                0.275132   \n",
       "2       0.023677            0.1049                0.275132   \n",
       "3       0.023677            0.1049                0.275132   \n",
       "4       0.023677            0.1049                0.275132   \n",
       "\n",
       "   awards_per_natl_value  exp_award_value  exp_award_state_value  \\\n",
       "0               0.306748         0.019941               0.359141   \n",
       "1               0.306748         0.019941               0.359141   \n",
       "2               0.306748         0.019941               0.359141   \n",
       "3               0.306748         0.019941               0.359141   \n",
       "4               0.306748         0.019941               0.359141   \n",
       "\n",
       "   exp_award_natl_value  exp_award_percentile  aid_value  aid_percentile  ...  \\\n",
       "0              0.541284                   0.9   0.165867            0.72  ...   \n",
       "1              0.541284                   0.9   0.165867            0.72  ...   \n",
       "2              0.541284                   0.9   0.165867            0.72  ...   \n",
       "3              0.541284                   0.9   0.165867            0.72  ...   \n",
       "4              0.541284                   0.9   0.165867            0.72  ...   \n",
       "\n",
       "   control_Private for-profit  control_Private not-for-profit  control_Public  \\\n",
       "0                         0.0                             0.0             1.0   \n",
       "1                         0.0                             0.0             1.0   \n",
       "2                         0.0                             0.0             1.0   \n",
       "3                         0.0                             0.0             1.0   \n",
       "4                         0.0                             0.0             1.0   \n",
       "\n",
       "   gender_F  gender_M  race_A  race_Ai  race_B  race_H  race_W  \n",
       "0       0.0       1.0     0.0      0.0     0.0     0.0     1.0  \n",
       "1       1.0       0.0     0.0      0.0     0.0     0.0     1.0  \n",
       "2       0.0       1.0     0.0      0.0     1.0     0.0     0.0  \n",
       "3       1.0       0.0     0.0      0.0     1.0     0.0     0.0  \n",
       "4       0.0       1.0     0.0      0.0     0.0     1.0     0.0  \n",
       "\n",
       "[5 rows x 31 columns]"
      ]
     },
     "execution_count": 42,
     "metadata": {},
     "output_type": "execute_result"
    }
   ],
   "source": [
    "# Creating an instance of the MinMaxScaler\n",
    "scaler = MinMaxScaler()\n",
    "\n",
    "# Applying fit_transform on the training features data\n",
    "train_features_scaled = scaler.fit_transform(train_features)\n",
    "\n",
    "# The above scaler returns the data in array format, below we are converting it back to pandas DataFrame\n",
    "train_features_scaled = pd.DataFrame(train_features_scaled, index = train_features.index, columns = train_features.columns)\n",
    "\n",
    "# Check the first 5 rows\n",
    "train_features_scaled.head()"
   ]
  },
  {
   "cell_type": "code",
   "execution_count": 43,
   "metadata": {
    "id": "MFh17wWrloB7"
   },
   "outputs": [],
   "source": [
    "# There is some linear relation that as financial aid increases so does the graduation rate\n",
    "# we could also argue that there isnt that strong of a linear relation because it looks like if the financial aid\n",
    "# is around 5,000 we also have higher grad rates \n",
    "# when looking at this chart it seems like we could draw 2 lines...\n",
    "# one straight up and down around the 5000 mark for financial aid\n",
    "# and the other diagonal "
   ]
  },
  {
   "cell_type": "code",
   "execution_count": 44,
   "metadata": {
    "colab": {
     "base_uri": "https://localhost:8080/",
     "height": 279
    },
    "id": "sa52rB0qloB8",
    "outputId": "a22c77bf-dcdd-4692-bd77-e6e2fb825eff"
   },
   "outputs": [
    {
     "data": {
      "image/png": "[encoded data removed]",
      "text/plain": [
       "<Figure size 640x480 with 1 Axes>"
      ]
     },
     "metadata": {},
     "output_type": "display_data"
    }
   ],
   "source": [
    "plt.scatter(df.aid_value, df.grad_100_value)\n",
    "plt.xlabel('Financial aid')\n",
    "plt.ylabel('Graduation rate')\n",
    "plt.show()"
   ]
  },
  {
   "cell_type": "code",
   "execution_count": 45,
   "metadata": {
    "colab": {
     "base_uri": "https://localhost:8080/",
     "height": 369
    },
    "id": "nGuRvHw9loB9",
    "outputId": "1bd32826-6a0f-4881-e292-ca7f3f441a92"
   },
   "outputs": [
    {
     "data": {
      "image/png": "[encoded data removed]",
      "text/plain": [
       "<Figure size 500x500 with 1 Axes>"
      ]
     },
     "metadata": {},
     "output_type": "display_data"
    }
   ],
   "source": [
    "import seaborn as sns\n",
    "sns.lmplot(x = 'aid_value', y = 'grad_100_value', data = df);"
   ]
  },
  {
   "cell_type": "markdown",
   "metadata": {
    "id": "r-Z1AawZloB-"
   },
   "source": [
    "# See if other input variables are linear to our output variables"
   ]
  },
  {
   "cell_type": "code",
   "execution_count": 46,
   "metadata": {
    "colab": {
     "base_uri": "https://localhost:8080/",
     "height": 386
    },
    "id": "m7TC4RsfloB_",
    "outputId": "c52cac4a-f14f-49ef-f969-4cde78127439"
   },
   "outputs": [
    {
     "data": {
      "image/png": "[encoded data removed]",
      "text/plain": [
       "<Figure size 500x500 with 1 Axes>"
      ]
     },
     "metadata": {},
     "output_type": "display_data"
    }
   ],
   "source": [
    "import seaborn as sns\n",
    "sns.lmplot(x = 'retain_value', y = 'grad_100_value', data = df);"
   ]
  },
  {
   "cell_type": "code",
   "execution_count": 47,
   "metadata": {
    "colab": {
     "base_uri": "https://localhost:8080/",
     "height": 369
    },
    "id": "INc6_qK3loCA",
    "outputId": "5fb4a55d-7b21-4875-f6c9-20cf0f07265f"
   },
   "outputs": [
    {
     "data": {
      "image/png": "[encoded data removed]",
      "text/plain": [
       "<Figure size 500x500 with 1 Axes>"
      ]
     },
     "metadata": {},
     "output_type": "display_data"
    }
   ],
   "source": [
    "import seaborn as sns\n",
    "sns.lmplot(x = 'exp_award_value', y = 'grad_100_value', data = df);"
   ]
  },
  {
   "cell_type": "code",
   "execution_count": 48,
   "metadata": {
    "colab": {
     "base_uri": "https://localhost:8080/",
     "height": 386
    },
    "id": "cyH4ntlOloCA",
    "outputId": "2c5e9e73-85ea-47db-cf23-e72072b6f7cc"
   },
   "outputs": [
    {
     "data": {
      "image/png": "[encoded data removed]",
      "text/plain": [
       "<Figure size 500x500 with 1 Axes>"
      ]
     },
     "metadata": {},
     "output_type": "display_data"
    }
   ],
   "source": [
    "import seaborn as sns\n",
    "sns.lmplot(x = 'student_count', y = 'grad_100_value', data = df);"
   ]
  },
  {
   "cell_type": "markdown",
   "metadata": {
    "id": "EuBvOJVhkLMi"
   },
   "source": [
    "### Categorical Data"
   ]
  },
  {
   "cell_type": "code",
   "execution_count": 49,
   "metadata": {
    "colab": {
     "base_uri": "https://localhost:8080/",
     "height": 279
    },
    "id": "wHYXDPX2jviL",
    "outputId": "70a2e961-936e-47bd-d6bb-3f98015de52f"
   },
   "outputs": [
    {
     "data": {
      "image/png": "[encoded data removed]",
      "text/plain": [
       "<Figure size 640x480 with 1 Axes>"
      ]
     },
     "metadata": {},
     "output_type": "display_data"
    }
   ],
   "source": [
    "# Plot for the control variable\n",
    "sns.barplot(data = df, x = 'control', y = 'grad_100_value');"
   ]
  },
  {
   "cell_type": "code",
   "execution_count": 50,
   "metadata": {
    "id": "zQ9GdNHjloCB"
   },
   "outputs": [],
   "source": [
    "# convert \"Control\" string to float, otherwise will give error\n",
    "control_codes = {'Public': 1, 'Private not-for-profit' : 2, 'Private for-profit' : 3}\n",
    "df['control_codes'] = df.control.map(control_codes)"
   ]
  },
  {
   "cell_type": "code",
   "execution_count": 51,
   "metadata": {
    "colab": {
     "base_uri": "https://localhost:8080/",
     "height": 369
    },
    "id": "Z96gTLRLmy7L",
    "outputId": "57189139-e6a0-4f9d-89be-eb1560ab68a4"
   },
   "outputs": [
    {
     "data": {
      "image/png": "[encoded data removed]",
      "text/plain": [
       "<Figure size 500x500 with 1 Axes>"
      ]
     },
     "metadata": {},
     "output_type": "display_data"
    }
   ],
   "source": [
    "sns.lmplot(x = 'control_codes', y = 'grad_100_value', data = df);"
   ]
  },
  {
   "cell_type": "code",
   "execution_count": 53,
   "metadata": {
    "colab": {
     "base_uri": "https://localhost:8080/"
    },
    "id": "UZkXbe2YoUQc",
    "outputId": "625f1ee8-6a89-4220-8897-163c1f2f5c78"
   },
   "outputs": [
    {
     "data": {
      "text/plain": [
       "0.23160968012788685"
      ]
     },
     "execution_count": 53,
     "metadata": {},
     "output_type": "execute_result"
    }
   ],
   "source": [
    "# check the correlation of control with respect to the grad_100_value\n",
    "\n",
    "df.grad_100_value.corr(df.control_codes)"
   ]
  },
  {
   "cell_type": "markdown",
   "metadata": {
    "id": "y-qxJ3HEotrD"
   },
   "source": [
    "The correlation is moderate."
   ]
  },
  {
   "cell_type": "code",
   "execution_count": 54,
   "metadata": {
    "colab": {
     "base_uri": "https://localhost:8080/",
     "height": 280
    },
    "id": "pf2vwt2vCSAv",
    "outputId": "3ee6beae-8597-438b-8864-633b00e14d10"
   },
   "outputs": [
    {
     "data": {
      "image/png": "[encoded data removed]",
      "text/plain": [
       "<Figure size 640x480 with 1 Axes>"
      ]
     },
     "metadata": {},
     "output_type": "display_data"
    }
   ],
   "source": [
    "# Plot for the Gender variable\n",
    "sns.barplot(data = df, x = 'gender', y = 'grad_100_value');"
   ]
  },
  {
   "cell_type": "code",
   "execution_count": 55,
   "metadata": {
    "id": "nyKDGLttCw_0"
   },
   "outputs": [],
   "source": [
    "# Convert gender to numerical variables\n",
    "gender_codes = {'M' : 1, 'F' : 0}\n",
    "df['gender_codes'] = df.gender.map(gender_codes)"
   ]
  },
  {
   "cell_type": "code",
   "execution_count": 56,
   "metadata": {
    "colab": {
     "base_uri": "https://localhost:8080/"
    },
    "id": "BuFsbto-DOIS",
    "outputId": "a416f20f-ebea-454a-816f-8bb14b706cea"
   },
   "outputs": [
    {
     "data": {
      "text/plain": [
       "-5.637470554531123e-19"
      ]
     },
     "execution_count": 56,
     "metadata": {},
     "output_type": "execute_result"
    }
   ],
   "source": [
    "# check the correlation of gender with respect to the grad_100_value\n",
    "\n",
    "df.grad_100_value.corr(df.gender_codes)"
   ]
  },
  {
   "cell_type": "code",
   "execution_count": 57,
   "metadata": {
    "colab": {
     "base_uri": "https://localhost:8080/",
     "height": 279
    },
    "id": "MlQ1XZqyF47u",
    "outputId": "5ec2601b-3ba3-416c-9691-90e1ed14069a"
   },
   "outputs": [
    {
     "data": {
      "image/png": "[encoded data removed]",
      "text/plain": [
       "<Figure size 640x480 with 1 Axes>"
      ]
     },
     "metadata": {},
     "output_type": "display_data"
    }
   ],
   "source": [
    "# Plot for the Race variable\n",
    "sns.barplot(data = df, x = 'race', y = 'grad_100_value');"
   ]
  },
  {
   "cell_type": "code",
   "execution_count": 58,
   "metadata": {
    "id": "brb0Gpb-Glru"
   },
   "outputs": [],
   "source": [
    "# Convert gender to numerical variables\n",
    "race_codes = {'W' : 1, 'B' : 2, 'H': 3, 'Ai' : 4, 'A' : 5}\n",
    "df['race_codes'] = df.race.map(race_codes)"
   ]
  },
  {
   "cell_type": "code",
   "execution_count": 59,
   "metadata": {
    "colab": {
     "base_uri": "https://localhost:8080/"
    },
    "id": "e6ziyrrUHFSs",
    "outputId": "379f5936-ae29-4c4a-a60b-147a8d3bfae4"
   },
   "outputs": [
    {
     "data": {
      "text/plain": [
       "1.639346025035597e-18"
      ]
     },
     "execution_count": 59,
     "metadata": {},
     "output_type": "execute_result"
    }
   ],
   "source": [
    "# check the correlation of race with respect to the grad_100_value\n",
    "\n",
    "df.grad_100_value.corr(df.race_codes)"
   ]
  },
  {
   "cell_type": "code",
   "execution_count": 60,
   "metadata": {
    "colab": {
     "base_uri": "https://localhost:8080/",
     "height": 386
    },
    "id": "svetmmSODONS",
    "outputId": "20c95827-c8fc-43d4-fbb1-3457041dd10a"
   },
   "outputs": [
    {
     "data": {
      "text/html": [
       "<div>\n",
       "<style scoped>\n",
       "    .dataframe tbody tr th:only-of-type {\n",
       "        vertical-align: middle;\n",
       "    }\n",
       "\n",
       "    .dataframe tbody tr th {\n",
       "        vertical-align: top;\n",
       "    }\n",
       "\n",
       "    .dataframe thead th {\n",
       "        text-align: right;\n",
       "    }\n",
       "</style>\n",
       "<table border=\"1\" class=\"dataframe\">\n",
       "  <thead>\n",
       "    <tr style=\"text-align: right;\">\n",
       "      <th></th>\n",
       "      <th>level</th>\n",
       "      <th>control</th>\n",
       "      <th>gender</th>\n",
       "      <th>race</th>\n",
       "      <th>student_count</th>\n",
       "      <th>awards_per_value</th>\n",
       "      <th>awards_per_state_value</th>\n",
       "      <th>awards_per_natl_value</th>\n",
       "      <th>exp_award_value</th>\n",
       "      <th>exp_award_state_value</th>\n",
       "      <th>...</th>\n",
       "      <th>grad_150_value</th>\n",
       "      <th>grad_150_percentile</th>\n",
       "      <th>pell_value</th>\n",
       "      <th>pell_percentile</th>\n",
       "      <th>retain_value</th>\n",
       "      <th>retain_percentile</th>\n",
       "      <th>cohort_size</th>\n",
       "      <th>control_codes</th>\n",
       "      <th>gender_codes</th>\n",
       "      <th>race_codes</th>\n",
       "    </tr>\n",
       "  </thead>\n",
       "  <tbody>\n",
       "    <tr>\n",
       "      <th>258524</th>\n",
       "      <td>4-year</td>\n",
       "      <td>Private for-profit</td>\n",
       "      <td>M</td>\n",
       "      <td>H</td>\n",
       "      <td>108</td>\n",
       "      <td>31.1</td>\n",
       "      <td>32.0</td>\n",
       "      <td>24.6</td>\n",
       "      <td>30201</td>\n",
       "      <td>27738</td>\n",
       "      <td>...</td>\n",
       "      <td>50.0</td>\n",
       "      <td>86.0</td>\n",
       "      <td>32.5</td>\n",
       "      <td>3.0</td>\n",
       "      <td>100.0</td>\n",
       "      <td>91.0</td>\n",
       "      <td>2.0</td>\n",
       "      <td>3</td>\n",
       "      <td>1</td>\n",
       "      <td>3</td>\n",
       "    </tr>\n",
       "    <tr>\n",
       "      <th>320565</th>\n",
       "      <td>4-year</td>\n",
       "      <td>Private not-for-profit</td>\n",
       "      <td>F</td>\n",
       "      <td>H</td>\n",
       "      <td>269</td>\n",
       "      <td>11.7</td>\n",
       "      <td>22.8</td>\n",
       "      <td>22.5</td>\n",
       "      <td>42864</td>\n",
       "      <td>108407</td>\n",
       "      <td>...</td>\n",
       "      <td>38.6</td>\n",
       "      <td>20.0</td>\n",
       "      <td>21.7</td>\n",
       "      <td>17.0</td>\n",
       "      <td>25.3</td>\n",
       "      <td>1.0</td>\n",
       "      <td>83.0</td>\n",
       "      <td>2</td>\n",
       "      <td>0</td>\n",
       "      <td>3</td>\n",
       "    </tr>\n",
       "    <tr>\n",
       "      <th>537292</th>\n",
       "      <td>4-year</td>\n",
       "      <td>Public</td>\n",
       "      <td>M</td>\n",
       "      <td>B</td>\n",
       "      <td>10404</td>\n",
       "      <td>21.2</td>\n",
       "      <td>20.3</td>\n",
       "      <td>21.5</td>\n",
       "      <td>54710</td>\n",
       "      <td>63710</td>\n",
       "      <td>...</td>\n",
       "      <td>66.9</td>\n",
       "      <td>86.0</td>\n",
       "      <td>26.5</td>\n",
       "      <td>17.0</td>\n",
       "      <td>82.3</td>\n",
       "      <td>76.0</td>\n",
       "      <td>2026.0</td>\n",
       "      <td>1</td>\n",
       "      <td>1</td>\n",
       "      <td>2</td>\n",
       "    </tr>\n",
       "    <tr>\n",
       "      <th>432995</th>\n",
       "      <td>4-year</td>\n",
       "      <td>Private not-for-profit</td>\n",
       "      <td>F</td>\n",
       "      <td>H</td>\n",
       "      <td>1694</td>\n",
       "      <td>19.2</td>\n",
       "      <td>22.2</td>\n",
       "      <td>22.5</td>\n",
       "      <td>60127</td>\n",
       "      <td>110403</td>\n",
       "      <td>...</td>\n",
       "      <td>71.5</td>\n",
       "      <td>79.0</td>\n",
       "      <td>22.4</td>\n",
       "      <td>19.0</td>\n",
       "      <td>82.2</td>\n",
       "      <td>71.0</td>\n",
       "      <td>403.0</td>\n",
       "      <td>2</td>\n",
       "      <td>0</td>\n",
       "      <td>3</td>\n",
       "    </tr>\n",
       "    <tr>\n",
       "      <th>425920</th>\n",
       "      <td>4-year</td>\n",
       "      <td>Public</td>\n",
       "      <td>M</td>\n",
       "      <td>A</td>\n",
       "      <td>846</td>\n",
       "      <td>24.1</td>\n",
       "      <td>21.3</td>\n",
       "      <td>21.5</td>\n",
       "      <td>0</td>\n",
       "      <td>81610</td>\n",
       "      <td>...</td>\n",
       "      <td>42.5</td>\n",
       "      <td>40.0</td>\n",
       "      <td>48.4</td>\n",
       "      <td>80.0</td>\n",
       "      <td>73.7</td>\n",
       "      <td>49.0</td>\n",
       "      <td>160.0</td>\n",
       "      <td>1</td>\n",
       "      <td>1</td>\n",
       "      <td>5</td>\n",
       "    </tr>\n",
       "  </tbody>\n",
       "</table>\n",
       "<p>5 rows × 26 columns</p>\n",
       "</div>"
      ],
      "text/plain": [
       "         level                 control gender race  student_count  \\\n",
       "258524  4-year      Private for-profit      M    H            108   \n",
       "320565  4-year  Private not-for-profit      F    H            269   \n",
       "537292  4-year                  Public      M    B          10404   \n",
       "432995  4-year  Private not-for-profit      F    H           1694   \n",
       "425920  4-year                  Public      M    A            846   \n",
       "\n",
       "        awards_per_value  awards_per_state_value  awards_per_natl_value  \\\n",
       "258524              31.1                    32.0                   24.6   \n",
       "320565              11.7                    22.8                   22.5   \n",
       "537292              21.2                    20.3                   21.5   \n",
       "432995              19.2                    22.2                   22.5   \n",
       "425920              24.1                    21.3                   21.5   \n",
       "\n",
       "        exp_award_value  exp_award_state_value  ...  grad_150_value  \\\n",
       "258524            30201                  27738  ...            50.0   \n",
       "320565            42864                 108407  ...            38.6   \n",
       "537292            54710                  63710  ...            66.9   \n",
       "432995            60127                 110403  ...            71.5   \n",
       "425920                0                  81610  ...            42.5   \n",
       "\n",
       "        grad_150_percentile  pell_value  pell_percentile  retain_value  \\\n",
       "258524                 86.0        32.5              3.0         100.0   \n",
       "320565                 20.0        21.7             17.0          25.3   \n",
       "537292                 86.0        26.5             17.0          82.3   \n",
       "432995                 79.0        22.4             19.0          82.2   \n",
       "425920                 40.0        48.4             80.0          73.7   \n",
       "\n",
       "        retain_percentile  cohort_size  control_codes  gender_codes  \\\n",
       "258524               91.0          2.0              3             1   \n",
       "320565                1.0         83.0              2             0   \n",
       "537292               76.0       2026.0              1             1   \n",
       "432995               71.0        403.0              2             0   \n",
       "425920               49.0        160.0              1             1   \n",
       "\n",
       "        race_codes  \n",
       "258524           3  \n",
       "320565           3  \n",
       "537292           2  \n",
       "432995           3  \n",
       "425920           5  \n",
       "\n",
       "[5 rows x 26 columns]"
      ]
     },
     "execution_count": 60,
     "metadata": {},
     "output_type": "execute_result"
    }
   ],
   "source": [
    "df.sample(5)"
   ]
  },
  {
   "cell_type": "markdown",
   "metadata": {
    "id": "Qa4QLnbcloCB"
   },
   "source": [
    "## Linear Regression Model "
   ]
  },
  {
   "cell_type": "code",
   "execution_count": 61,
   "metadata": {
    "id": "6GSIZPkeloCB"
   },
   "outputs": [],
   "source": [
    "# Drop any null values if any (though our data is cleaned and free from null values)\n",
    "\n",
    "train_features_scaled = train_features_scaled.dropna()"
   ]
  },
  {
   "cell_type": "code",
   "execution_count": 62,
   "metadata": {
    "colab": {
     "base_uri": "https://localhost:8080/"
    },
    "id": "RveUxeqQloCC",
    "outputId": "25547f2d-0e56-44ab-f507-d37e282fe3b5"
   },
   "outputs": [
    {
     "name": "stdout",
     "output_type": "stream",
     "text": [
      "0\n"
     ]
    }
   ],
   "source": [
    "#train_features_scaled = train_features_scaled.drop(columns = ['index'])\n",
    "train_features_scaled.columns\n",
    "\n",
    "print(train_features_scaled.isna().sum().sum())\n"
   ]
  },
  {
   "cell_type": "code",
   "execution_count": 63,
   "metadata": {
    "id": "T54HFEQXloCC"
   },
   "outputs": [],
   "source": [
    "# scale data\n",
    "train_features_scaled.head()\n",
    "x_values = train_features_scaled.drop(columns = ['grad_100_value'])\n",
    "y_value = train_features_scaled.grad_100_value"
   ]
  },
  {
   "cell_type": "code",
   "execution_count": 64,
   "metadata": {
    "colab": {
     "base_uri": "https://localhost:8080/"
    },
    "id": "nEgD_-EqloCC",
    "outputId": "41244243-3466-461f-ba08-5312257728ce"
   },
   "outputs": [
    {
     "data": {
      "text/plain": [
       "0         0.100\n",
       "1         0.100\n",
       "2         0.100\n",
       "3         0.100\n",
       "4         0.100\n",
       "          ...  \n",
       "626095    0.421\n",
       "626096    0.421\n",
       "626097    0.421\n",
       "626098    0.421\n",
       "626099    0.421\n",
       "Name: grad_100_value, Length: 626100, dtype: float64"
      ]
     },
     "execution_count": 64,
     "metadata": {},
     "output_type": "execute_result"
    }
   ],
   "source": [
    "# Target variable\n",
    "y_value"
   ]
  },
  {
   "cell_type": "code",
   "execution_count": 65,
   "metadata": {
    "colab": {
     "base_uri": "https://localhost:8080/",
     "height": 317
    },
    "id": "bsgaqfbBloCD",
    "outputId": "00ed2e7a-0b09-438b-bd13-d8c2922d98fd"
   },
   "outputs": [
    {
     "data": {
      "text/html": [
       "<div>\n",
       "<style scoped>\n",
       "    .dataframe tbody tr th:only-of-type {\n",
       "        vertical-align: middle;\n",
       "    }\n",
       "\n",
       "    .dataframe tbody tr th {\n",
       "        vertical-align: top;\n",
       "    }\n",
       "\n",
       "    .dataframe thead th {\n",
       "        text-align: right;\n",
       "    }\n",
       "</style>\n",
       "<table border=\"1\" class=\"dataframe\">\n",
       "  <thead>\n",
       "    <tr style=\"text-align: right;\">\n",
       "      <th></th>\n",
       "      <th>student_count</th>\n",
       "      <th>awards_per_value</th>\n",
       "      <th>awards_per_state_value</th>\n",
       "      <th>awards_per_natl_value</th>\n",
       "      <th>exp_award_value</th>\n",
       "      <th>exp_award_state_value</th>\n",
       "      <th>exp_award_natl_value</th>\n",
       "      <th>exp_award_percentile</th>\n",
       "      <th>aid_value</th>\n",
       "      <th>aid_percentile</th>\n",
       "      <th>...</th>\n",
       "      <th>control_Private for-profit</th>\n",
       "      <th>control_Private not-for-profit</th>\n",
       "      <th>control_Public</th>\n",
       "      <th>gender_F</th>\n",
       "      <th>gender_M</th>\n",
       "      <th>race_A</th>\n",
       "      <th>race_Ai</th>\n",
       "      <th>race_B</th>\n",
       "      <th>race_H</th>\n",
       "      <th>race_W</th>\n",
       "    </tr>\n",
       "  </thead>\n",
       "  <tbody>\n",
       "    <tr>\n",
       "      <th>72586</th>\n",
       "      <td>0.030472</td>\n",
       "      <td>0.124043</td>\n",
       "      <td>0.289242</td>\n",
       "      <td>0.306748</td>\n",
       "      <td>0.010737</td>\n",
       "      <td>0.332997</td>\n",
       "      <td>0.541284</td>\n",
       "      <td>0.48</td>\n",
       "      <td>0.135663</td>\n",
       "      <td>0.46</td>\n",
       "      <td>...</td>\n",
       "      <td>0.0</td>\n",
       "      <td>0.0</td>\n",
       "      <td>1.0</td>\n",
       "      <td>0.0</td>\n",
       "      <td>1.0</td>\n",
       "      <td>0.0</td>\n",
       "      <td>1.0</td>\n",
       "      <td>0.0</td>\n",
       "      <td>0.0</td>\n",
       "      <td>0.0</td>\n",
       "    </tr>\n",
       "    <tr>\n",
       "      <th>295508</th>\n",
       "      <td>0.029491</td>\n",
       "      <td>0.199081</td>\n",
       "      <td>0.345679</td>\n",
       "      <td>0.368098</td>\n",
       "      <td>0.012250</td>\n",
       "      <td>0.544181</td>\n",
       "      <td>1.000000</td>\n",
       "      <td>0.36</td>\n",
       "      <td>0.322579</td>\n",
       "      <td>0.49</td>\n",
       "      <td>...</td>\n",
       "      <td>0.0</td>\n",
       "      <td>1.0</td>\n",
       "      <td>0.0</td>\n",
       "      <td>0.0</td>\n",
       "      <td>1.0</td>\n",
       "      <td>1.0</td>\n",
       "      <td>0.0</td>\n",
       "      <td>0.0</td>\n",
       "      <td>0.0</td>\n",
       "      <td>0.0</td>\n",
       "    </tr>\n",
       "    <tr>\n",
       "      <th>290111</th>\n",
       "      <td>0.044180</td>\n",
       "      <td>0.186830</td>\n",
       "      <td>0.322751</td>\n",
       "      <td>0.306748</td>\n",
       "      <td>0.010799</td>\n",
       "      <td>0.361798</td>\n",
       "      <td>0.541284</td>\n",
       "      <td>0.49</td>\n",
       "      <td>0.185438</td>\n",
       "      <td>0.82</td>\n",
       "      <td>...</td>\n",
       "      <td>0.0</td>\n",
       "      <td>0.0</td>\n",
       "      <td>1.0</td>\n",
       "      <td>1.0</td>\n",
       "      <td>0.0</td>\n",
       "      <td>0.0</td>\n",
       "      <td>0.0</td>\n",
       "      <td>0.0</td>\n",
       "      <td>1.0</td>\n",
       "      <td>0.0</td>\n",
       "    </tr>\n",
       "    <tr>\n",
       "      <th>239655</th>\n",
       "      <td>0.059111</td>\n",
       "      <td>0.148545</td>\n",
       "      <td>0.312169</td>\n",
       "      <td>0.306748</td>\n",
       "      <td>0.010313</td>\n",
       "      <td>0.360942</td>\n",
       "      <td>0.541284</td>\n",
       "      <td>0.43</td>\n",
       "      <td>0.149591</td>\n",
       "      <td>0.60</td>\n",
       "      <td>...</td>\n",
       "      <td>0.0</td>\n",
       "      <td>0.0</td>\n",
       "      <td>1.0</td>\n",
       "      <td>0.0</td>\n",
       "      <td>1.0</td>\n",
       "      <td>0.0</td>\n",
       "      <td>1.0</td>\n",
       "      <td>0.0</td>\n",
       "      <td>0.0</td>\n",
       "      <td>0.0</td>\n",
       "    </tr>\n",
       "    <tr>\n",
       "      <th>543295</th>\n",
       "      <td>0.000282</td>\n",
       "      <td>0.264165</td>\n",
       "      <td>0.582011</td>\n",
       "      <td>1.000000</td>\n",
       "      <td>0.002295</td>\n",
       "      <td>0.012831</td>\n",
       "      <td>0.000000</td>\n",
       "      <td>0.19</td>\n",
       "      <td>0.126968</td>\n",
       "      <td>0.83</td>\n",
       "      <td>...</td>\n",
       "      <td>1.0</td>\n",
       "      <td>0.0</td>\n",
       "      <td>0.0</td>\n",
       "      <td>0.0</td>\n",
       "      <td>1.0</td>\n",
       "      <td>0.0</td>\n",
       "      <td>0.0</td>\n",
       "      <td>1.0</td>\n",
       "      <td>0.0</td>\n",
       "      <td>0.0</td>\n",
       "    </tr>\n",
       "  </tbody>\n",
       "</table>\n",
       "<p>5 rows × 30 columns</p>\n",
       "</div>"
      ],
      "text/plain": [
       "        student_count  awards_per_value  awards_per_state_value  \\\n",
       "72586        0.030472          0.124043                0.289242   \n",
       "295508       0.029491          0.199081                0.345679   \n",
       "290111       0.044180          0.186830                0.322751   \n",
       "239655       0.059111          0.148545                0.312169   \n",
       "543295       0.000282          0.264165                0.582011   \n",
       "\n",
       "        awards_per_natl_value  exp_award_value  exp_award_state_value  \\\n",
       "72586                0.306748         0.010737               0.332997   \n",
       "295508               0.368098         0.012250               0.544181   \n",
       "290111               0.306748         0.010799               0.361798   \n",
       "239655               0.306748         0.010313               0.360942   \n",
       "543295               1.000000         0.002295               0.012831   \n",
       "\n",
       "        exp_award_natl_value  exp_award_percentile  aid_value  aid_percentile  \\\n",
       "72586               0.541284                  0.48   0.135663            0.46   \n",
       "295508              1.000000                  0.36   0.322579            0.49   \n",
       "290111              0.541284                  0.49   0.185438            0.82   \n",
       "239655              0.541284                  0.43   0.149591            0.60   \n",
       "543295              0.000000                  0.19   0.126968            0.83   \n",
       "\n",
       "        ...  control_Private for-profit  control_Private not-for-profit  \\\n",
       "72586   ...                         0.0                             0.0   \n",
       "295508  ...                         0.0                             1.0   \n",
       "290111  ...                         0.0                             0.0   \n",
       "239655  ...                         0.0                             0.0   \n",
       "543295  ...                         1.0                             0.0   \n",
       "\n",
       "        control_Public  gender_F  gender_M  race_A  race_Ai  race_B  race_H  \\\n",
       "72586              1.0       0.0       1.0     0.0      1.0     0.0     0.0   \n",
       "295508             0.0       0.0       1.0     1.0      0.0     0.0     0.0   \n",
       "290111             1.0       1.0       0.0     0.0      0.0     0.0     1.0   \n",
       "239655             1.0       0.0       1.0     0.0      1.0     0.0     0.0   \n",
       "543295             0.0       0.0       1.0     0.0      0.0     1.0     0.0   \n",
       "\n",
       "        race_W  \n",
       "72586      0.0  \n",
       "295508     0.0  \n",
       "290111     0.0  \n",
       "239655     0.0  \n",
       "543295     0.0  \n",
       "\n",
       "[5 rows x 30 columns]"
      ]
     },
     "execution_count": 65,
     "metadata": {},
     "output_type": "execute_result"
    }
   ],
   "source": [
    "# Make sure to get rid of index column. You dont need index column. it looks like it is just the value of 0 - 3797 but scaled \n",
    "# so lets get rid of it \n",
    "# x_values = x_values.drop(columns = 'index')\n",
    "\n",
    "# The explainatory variables\n",
    "x_values.sample(5)\n"
   ]
  },
  {
   "cell_type": "code",
   "execution_count": 66,
   "metadata": {
    "id": "s-jtcrCSloCD"
   },
   "outputs": [],
   "source": [
    "# we need to split the data into a training set and a testing set to see how well this model preforms \n",
    "# use train_test_split"
   ]
  },
  {
   "cell_type": "code",
   "execution_count": 67,
   "metadata": {
    "id": "Bc_mKmQfloCD"
   },
   "outputs": [],
   "source": [
    "#train_x, test_x, train_y, test_y = train_test_split(x_values, y_value)\n",
    "train_x, test_x, train_y, test_y = train_test_split(x_values, y_value, test_size = 0.2, random_state=42)"
   ]
  },
  {
   "cell_type": "code",
   "execution_count": 68,
   "metadata": {
    "colab": {
     "base_uri": "https://localhost:8080/",
     "height": 505
    },
    "id": "hQW0bDmIloCE",
    "outputId": "bf2c27e1-324a-4299-e393-faf302fcf732"
   },
   "outputs": [
    {
     "data": {
      "text/html": [
       "<div>\n",
       "<style scoped>\n",
       "    .dataframe tbody tr th:only-of-type {\n",
       "        vertical-align: middle;\n",
       "    }\n",
       "\n",
       "    .dataframe tbody tr th {\n",
       "        vertical-align: top;\n",
       "    }\n",
       "\n",
       "    .dataframe thead th {\n",
       "        text-align: right;\n",
       "    }\n",
       "</style>\n",
       "<table border=\"1\" class=\"dataframe\">\n",
       "  <thead>\n",
       "    <tr style=\"text-align: right;\">\n",
       "      <th></th>\n",
       "      <th>student_count</th>\n",
       "      <th>awards_per_value</th>\n",
       "      <th>awards_per_state_value</th>\n",
       "      <th>awards_per_natl_value</th>\n",
       "      <th>exp_award_value</th>\n",
       "      <th>exp_award_state_value</th>\n",
       "      <th>exp_award_natl_value</th>\n",
       "      <th>exp_award_percentile</th>\n",
       "      <th>aid_value</th>\n",
       "      <th>aid_percentile</th>\n",
       "      <th>...</th>\n",
       "      <th>control_Private for-profit</th>\n",
       "      <th>control_Private not-for-profit</th>\n",
       "      <th>control_Public</th>\n",
       "      <th>gender_F</th>\n",
       "      <th>gender_M</th>\n",
       "      <th>race_A</th>\n",
       "      <th>race_Ai</th>\n",
       "      <th>race_B</th>\n",
       "      <th>race_H</th>\n",
       "      <th>race_W</th>\n",
       "    </tr>\n",
       "  </thead>\n",
       "  <tbody>\n",
       "    <tr>\n",
       "      <th>534394</th>\n",
       "      <td>0.005308</td>\n",
       "      <td>0.189127</td>\n",
       "      <td>0.331570</td>\n",
       "      <td>0.368098</td>\n",
       "      <td>0.010277</td>\n",
       "      <td>0.344576</td>\n",
       "      <td>1.000000</td>\n",
       "      <td>0.26</td>\n",
       "      <td>0.308192</td>\n",
       "      <td>0.45</td>\n",
       "      <td>...</td>\n",
       "      <td>0.0</td>\n",
       "      <td>1.0</td>\n",
       "      <td>0.0</td>\n",
       "      <td>0.0</td>\n",
       "      <td>1.0</td>\n",
       "      <td>0.0</td>\n",
       "      <td>0.0</td>\n",
       "      <td>0.0</td>\n",
       "      <td>0.0</td>\n",
       "      <td>1.0</td>\n",
       "    </tr>\n",
       "    <tr>\n",
       "      <th>509858</th>\n",
       "      <td>0.032959</td>\n",
       "      <td>0.150842</td>\n",
       "      <td>0.283951</td>\n",
       "      <td>0.000000</td>\n",
       "      <td>0.005264</td>\n",
       "      <td>0.102643</td>\n",
       "      <td>0.168790</td>\n",
       "      <td>0.22</td>\n",
       "      <td>0.034709</td>\n",
       "      <td>0.01</td>\n",
       "      <td>...</td>\n",
       "      <td>0.0</td>\n",
       "      <td>0.0</td>\n",
       "      <td>1.0</td>\n",
       "      <td>0.0</td>\n",
       "      <td>1.0</td>\n",
       "      <td>0.0</td>\n",
       "      <td>0.0</td>\n",
       "      <td>0.0</td>\n",
       "      <td>0.0</td>\n",
       "      <td>1.0</td>\n",
       "    </tr>\n",
       "    <tr>\n",
       "      <th>529050</th>\n",
       "      <td>0.012127</td>\n",
       "      <td>0.148545</td>\n",
       "      <td>0.305115</td>\n",
       "      <td>0.000000</td>\n",
       "      <td>0.005114</td>\n",
       "      <td>0.116902</td>\n",
       "      <td>0.168790</td>\n",
       "      <td>0.21</td>\n",
       "      <td>0.119750</td>\n",
       "      <td>0.85</td>\n",
       "      <td>...</td>\n",
       "      <td>0.0</td>\n",
       "      <td>0.0</td>\n",
       "      <td>1.0</td>\n",
       "      <td>0.0</td>\n",
       "      <td>1.0</td>\n",
       "      <td>0.0</td>\n",
       "      <td>0.0</td>\n",
       "      <td>0.0</td>\n",
       "      <td>1.0</td>\n",
       "      <td>0.0</td>\n",
       "    </tr>\n",
       "    <tr>\n",
       "      <th>162719</th>\n",
       "      <td>0.009323</td>\n",
       "      <td>0.261103</td>\n",
       "      <td>0.365079</td>\n",
       "      <td>0.368098</td>\n",
       "      <td>0.006318</td>\n",
       "      <td>0.231340</td>\n",
       "      <td>1.000000</td>\n",
       "      <td>0.07</td>\n",
       "      <td>0.244659</td>\n",
       "      <td>0.31</td>\n",
       "      <td>...</td>\n",
       "      <td>0.0</td>\n",
       "      <td>1.0</td>\n",
       "      <td>0.0</td>\n",
       "      <td>1.0</td>\n",
       "      <td>0.0</td>\n",
       "      <td>1.0</td>\n",
       "      <td>0.0</td>\n",
       "      <td>0.0</td>\n",
       "      <td>0.0</td>\n",
       "      <td>0.0</td>\n",
       "    </tr>\n",
       "    <tr>\n",
       "      <th>100686</th>\n",
       "      <td>0.012450</td>\n",
       "      <td>0.141654</td>\n",
       "      <td>0.326279</td>\n",
       "      <td>0.368098</td>\n",
       "      <td>0.026803</td>\n",
       "      <td>0.547393</td>\n",
       "      <td>1.000000</td>\n",
       "      <td>0.85</td>\n",
       "      <td>0.428596</td>\n",
       "      <td>0.72</td>\n",
       "      <td>...</td>\n",
       "      <td>0.0</td>\n",
       "      <td>1.0</td>\n",
       "      <td>0.0</td>\n",
       "      <td>0.0</td>\n",
       "      <td>1.0</td>\n",
       "      <td>0.0</td>\n",
       "      <td>1.0</td>\n",
       "      <td>0.0</td>\n",
       "      <td>0.0</td>\n",
       "      <td>0.0</td>\n",
       "    </tr>\n",
       "    <tr>\n",
       "      <th>...</th>\n",
       "      <td>...</td>\n",
       "      <td>...</td>\n",
       "      <td>...</td>\n",
       "      <td>...</td>\n",
       "      <td>...</td>\n",
       "      <td>...</td>\n",
       "      <td>...</td>\n",
       "      <td>...</td>\n",
       "      <td>...</td>\n",
       "      <td>...</td>\n",
       "      <td>...</td>\n",
       "      <td>...</td>\n",
       "      <td>...</td>\n",
       "      <td>...</td>\n",
       "      <td>...</td>\n",
       "      <td>...</td>\n",
       "      <td>...</td>\n",
       "      <td>...</td>\n",
       "      <td>...</td>\n",
       "      <td>...</td>\n",
       "      <td>...</td>\n",
       "    </tr>\n",
       "    <tr>\n",
       "      <th>110268</th>\n",
       "      <td>0.012379</td>\n",
       "      <td>0.143185</td>\n",
       "      <td>0.326279</td>\n",
       "      <td>0.368098</td>\n",
       "      <td>0.026663</td>\n",
       "      <td>0.547393</td>\n",
       "      <td>1.000000</td>\n",
       "      <td>0.85</td>\n",
       "      <td>0.320254</td>\n",
       "      <td>0.48</td>\n",
       "      <td>...</td>\n",
       "      <td>0.0</td>\n",
       "      <td>1.0</td>\n",
       "      <td>0.0</td>\n",
       "      <td>0.0</td>\n",
       "      <td>1.0</td>\n",
       "      <td>1.0</td>\n",
       "      <td>0.0</td>\n",
       "      <td>0.0</td>\n",
       "      <td>0.0</td>\n",
       "      <td>0.0</td>\n",
       "    </tr>\n",
       "    <tr>\n",
       "      <th>259178</th>\n",
       "      <td>0.032877</td>\n",
       "      <td>0.120214</td>\n",
       "      <td>0.313933</td>\n",
       "      <td>0.306748</td>\n",
       "      <td>0.012073</td>\n",
       "      <td>0.249332</td>\n",
       "      <td>0.541284</td>\n",
       "      <td>0.61</td>\n",
       "      <td>0.132951</td>\n",
       "      <td>0.43</td>\n",
       "      <td>...</td>\n",
       "      <td>0.0</td>\n",
       "      <td>0.0</td>\n",
       "      <td>1.0</td>\n",
       "      <td>0.0</td>\n",
       "      <td>1.0</td>\n",
       "      <td>1.0</td>\n",
       "      <td>0.0</td>\n",
       "      <td>0.0</td>\n",
       "      <td>0.0</td>\n",
       "      <td>0.0</td>\n",
       "    </tr>\n",
       "    <tr>\n",
       "      <th>365838</th>\n",
       "      <td>0.071185</td>\n",
       "      <td>0.147779</td>\n",
       "      <td>0.287478</td>\n",
       "      <td>0.306748</td>\n",
       "      <td>0.010796</td>\n",
       "      <td>0.350474</td>\n",
       "      <td>0.541284</td>\n",
       "      <td>0.48</td>\n",
       "      <td>0.131885</td>\n",
       "      <td>0.42</td>\n",
       "      <td>...</td>\n",
       "      <td>0.0</td>\n",
       "      <td>0.0</td>\n",
       "      <td>1.0</td>\n",
       "      <td>0.0</td>\n",
       "      <td>1.0</td>\n",
       "      <td>0.0</td>\n",
       "      <td>1.0</td>\n",
       "      <td>0.0</td>\n",
       "      <td>0.0</td>\n",
       "      <td>0.0</td>\n",
       "    </tr>\n",
       "    <tr>\n",
       "      <th>131932</th>\n",
       "      <td>0.019468</td>\n",
       "      <td>0.169219</td>\n",
       "      <td>0.370370</td>\n",
       "      <td>0.368098</td>\n",
       "      <td>0.008734</td>\n",
       "      <td>0.493383</td>\n",
       "      <td>1.000000</td>\n",
       "      <td>0.16</td>\n",
       "      <td>0.390181</td>\n",
       "      <td>0.64</td>\n",
       "      <td>...</td>\n",
       "      <td>0.0</td>\n",
       "      <td>1.0</td>\n",
       "      <td>0.0</td>\n",
       "      <td>1.0</td>\n",
       "      <td>0.0</td>\n",
       "      <td>1.0</td>\n",
       "      <td>0.0</td>\n",
       "      <td>0.0</td>\n",
       "      <td>0.0</td>\n",
       "      <td>0.0</td>\n",
       "    </tr>\n",
       "    <tr>\n",
       "      <th>121958</th>\n",
       "      <td>0.002140</td>\n",
       "      <td>0.359112</td>\n",
       "      <td>0.550265</td>\n",
       "      <td>1.000000</td>\n",
       "      <td>0.005075</td>\n",
       "      <td>0.085201</td>\n",
       "      <td>0.000000</td>\n",
       "      <td>0.59</td>\n",
       "      <td>0.141210</td>\n",
       "      <td>0.89</td>\n",
       "      <td>...</td>\n",
       "      <td>1.0</td>\n",
       "      <td>0.0</td>\n",
       "      <td>0.0</td>\n",
       "      <td>0.0</td>\n",
       "      <td>1.0</td>\n",
       "      <td>1.0</td>\n",
       "      <td>0.0</td>\n",
       "      <td>0.0</td>\n",
       "      <td>0.0</td>\n",
       "      <td>0.0</td>\n",
       "    </tr>\n",
       "  </tbody>\n",
       "</table>\n",
       "<p>500880 rows × 30 columns</p>\n",
       "</div>"
      ],
      "text/plain": [
       "        student_count  awards_per_value  awards_per_state_value  \\\n",
       "534394       0.005308          0.189127                0.331570   \n",
       "509858       0.032959          0.150842                0.283951   \n",
       "529050       0.012127          0.148545                0.305115   \n",
       "162719       0.009323          0.261103                0.365079   \n",
       "100686       0.012450          0.141654                0.326279   \n",
       "...               ...               ...                     ...   \n",
       "110268       0.012379          0.143185                0.326279   \n",
       "259178       0.032877          0.120214                0.313933   \n",
       "365838       0.071185          0.147779                0.287478   \n",
       "131932       0.019468          0.169219                0.370370   \n",
       "121958       0.002140          0.359112                0.550265   \n",
       "\n",
       "        awards_per_natl_value  exp_award_value  exp_award_state_value  \\\n",
       "534394               0.368098         0.010277               0.344576   \n",
       "509858               0.000000         0.005264               0.102643   \n",
       "529050               0.000000         0.005114               0.116902   \n",
       "162719               0.368098         0.006318               0.231340   \n",
       "100686               0.368098         0.026803               0.547393   \n",
       "...                       ...              ...                    ...   \n",
       "110268               0.368098         0.026663               0.547393   \n",
       "259178               0.306748         0.012073               0.249332   \n",
       "365838               0.306748         0.010796               0.350474   \n",
       "131932               0.368098         0.008734               0.493383   \n",
       "121958               1.000000         0.005075               0.085201   \n",
       "\n",
       "        exp_award_natl_value  exp_award_percentile  aid_value  aid_percentile  \\\n",
       "534394              1.000000                  0.26   0.308192            0.45   \n",
       "509858              0.168790                  0.22   0.034709            0.01   \n",
       "529050              0.168790                  0.21   0.119750            0.85   \n",
       "162719              1.000000                  0.07   0.244659            0.31   \n",
       "100686              1.000000                  0.85   0.428596            0.72   \n",
       "...                      ...                   ...        ...             ...   \n",
       "110268              1.000000                  0.85   0.320254            0.48   \n",
       "259178              0.541284                  0.61   0.132951            0.43   \n",
       "365838              0.541284                  0.48   0.131885            0.42   \n",
       "131932              1.000000                  0.16   0.390181            0.64   \n",
       "121958              0.000000                  0.59   0.141210            0.89   \n",
       "\n",
       "        ...  control_Private for-profit  control_Private not-for-profit  \\\n",
       "534394  ...                         0.0                             1.0   \n",
       "509858  ...                         0.0                             0.0   \n",
       "529050  ...                         0.0                             0.0   \n",
       "162719  ...                         0.0                             1.0   \n",
       "100686  ...                         0.0                             1.0   \n",
       "...     ...                         ...                             ...   \n",
       "110268  ...                         0.0                             1.0   \n",
       "259178  ...                         0.0                             0.0   \n",
       "365838  ...                         0.0                             0.0   \n",
       "131932  ...                         0.0                             1.0   \n",
       "121958  ...                         1.0                             0.0   \n",
       "\n",
       "        control_Public  gender_F  gender_M  race_A  race_Ai  race_B  race_H  \\\n",
       "534394             0.0       0.0       1.0     0.0      0.0     0.0     0.0   \n",
       "509858             1.0       0.0       1.0     0.0      0.0     0.0     0.0   \n",
       "529050             1.0       0.0       1.0     0.0      0.0     0.0     1.0   \n",
       "162719             0.0       1.0       0.0     1.0      0.0     0.0     0.0   \n",
       "100686             0.0       0.0       1.0     0.0      1.0     0.0     0.0   \n",
       "...                ...       ...       ...     ...      ...     ...     ...   \n",
       "110268             0.0       0.0       1.0     1.0      0.0     0.0     0.0   \n",
       "259178             1.0       0.0       1.0     1.0      0.0     0.0     0.0   \n",
       "365838             1.0       0.0       1.0     0.0      1.0     0.0     0.0   \n",
       "131932             0.0       1.0       0.0     1.0      0.0     0.0     0.0   \n",
       "121958             0.0       0.0       1.0     1.0      0.0     0.0     0.0   \n",
       "\n",
       "        race_W  \n",
       "534394     1.0  \n",
       "509858     1.0  \n",
       "529050     0.0  \n",
       "162719     0.0  \n",
       "100686     0.0  \n",
       "...        ...  \n",
       "110268     0.0  \n",
       "259178     0.0  \n",
       "365838     0.0  \n",
       "131932     0.0  \n",
       "121958     0.0  \n",
       "\n",
       "[500880 rows x 30 columns]"
      ]
     },
     "execution_count": 68,
     "metadata": {},
     "output_type": "execute_result"
    }
   ],
   "source": [
    "train_x"
   ]
  },
  {
   "cell_type": "code",
   "execution_count": 69,
   "metadata": {
    "colab": {
     "base_uri": "https://localhost:8080/"
    },
    "id": "EUkNfBunloCE",
    "outputId": "4939d24f-5b2e-4ed3-cf30-2d14de4acfcb"
   },
   "outputs": [
    {
     "name": "stdout",
     "output_type": "stream",
     "text": [
      "<class 'pandas.core.frame.DataFrame'>\n",
      "RangeIndex: 626100 entries, 0 to 626099\n",
      "Data columns (total 30 columns):\n",
      " #   Column                          Non-Null Count   Dtype  \n",
      "---  ------                          --------------   -----  \n",
      " 0   student_count                   626100 non-null  float64\n",
      " 1   awards_per_value                626100 non-null  float64\n",
      " 2   awards_per_state_value          626100 non-null  float64\n",
      " 3   awards_per_natl_value           626100 non-null  float64\n",
      " 4   exp_award_value                 626100 non-null  float64\n",
      " 5   exp_award_state_value           626100 non-null  float64\n",
      " 6   exp_award_natl_value            626100 non-null  float64\n",
      " 7   exp_award_percentile            626100 non-null  float64\n",
      " 8   aid_value                       626100 non-null  float64\n",
      " 9   aid_percentile                  626100 non-null  float64\n",
      " 10  grad_100_percentile             626100 non-null  float64\n",
      " 11  grad_150_value                  626100 non-null  float64\n",
      " 12  grad_150_percentile             626100 non-null  float64\n",
      " 13  pell_value                      626100 non-null  float64\n",
      " 14  pell_percentile                 626100 non-null  float64\n",
      " 15  retain_value                    626100 non-null  float64\n",
      " 16  retain_percentile               626100 non-null  float64\n",
      " 17  cohort_size                     626100 non-null  float64\n",
      " 18  level_2-year                    626100 non-null  float64\n",
      " 19  level_4-year                    626100 non-null  float64\n",
      " 20  control_Private for-profit      626100 non-null  float64\n",
      " 21  control_Private not-for-profit  626100 non-null  float64\n",
      " 22  control_Public                  626100 non-null  float64\n",
      " 23  gender_F                        626100 non-null  float64\n",
      " 24  gender_M                        626100 non-null  float64\n",
      " 25  race_A                          626100 non-null  float64\n",
      " 26  race_Ai                         626100 non-null  float64\n",
      " 27  race_B                          626100 non-null  float64\n",
      " 28  race_H                          626100 non-null  float64\n",
      " 29  race_W                          626100 non-null  float64\n",
      "dtypes: float64(30)\n",
      "memory usage: 143.3 MB\n"
     ]
    }
   ],
   "source": [
    "x_values.info()"
   ]
  },
  {
   "cell_type": "markdown",
   "metadata": {
    "id": "GnObSDcw6ziQ"
   },
   "source": [
    "### Creating, Training and Fitting the Model"
   ]
  },
  {
   "cell_type": "code",
   "execution_count": 70,
   "metadata": {
    "id": "Tr-TxeY6loCE"
   },
   "outputs": [],
   "source": [
    "# fit your linear regression model\n",
    "regression = LinearRegression().fit(train_x, train_y)"
   ]
  },
  {
   "cell_type": "code",
   "execution_count": 71,
   "metadata": {
    "colab": {
     "base_uri": "https://localhost:8080/"
    },
    "id": "SGoC1l42JzCC",
    "outputId": "5e3ef6bb-37f9-4bd4-a667-b0675a1fdab7"
   },
   "outputs": [
    {
     "data": {
      "text/plain": [
       "0.9571040627584863"
      ]
     },
     "execution_count": 71,
     "metadata": {},
     "output_type": "execute_result"
    }
   ],
   "source": [
    "# Check the performance of the training sets\n",
    "regression.score(train_x, train_y)"
   ]
  },
  {
   "cell_type": "markdown",
   "metadata": {
    "id": "3h8Yegp46-oB"
   },
   "source": [
    "### Model Evaluation"
   ]
  },
  {
   "cell_type": "code",
   "execution_count": 72,
   "metadata": {
    "colab": {
     "base_uri": "https://localhost:8080/"
    },
    "id": "5BPI2RmPloCF",
    "outputId": "cd7e6412-cfd5-42c0-9fc2-1d99a668fe65"
   },
   "outputs": [
    {
     "name": "stdout",
     "output_type": "stream",
     "text": [
      "Mean absolute error = 0.03\n",
      "Mean squared error = 0.0\n",
      "Median absolute error = 0.03\n",
      "Explain variance score = 0.96\n",
      "R2 score = 0.96\n",
      "Score of Our Linear Regression Model is :  95.70654001350616\n",
      "\n",
      "\n",
      "Description: \n",
      "\n",
      "Now our data is working accuratly and giving 95.71 percent accurate result and \n",
      "\n",
      "Model Accuracy which is measured by R2 score is also approx 0.96 percent which is best\n"
     ]
    }
   ],
   "source": [
    "# Now we have cleaned the data and successfully fitted the data in our Model\n",
    "# Now predicting the test data\n",
    "\n",
    "y_test_pred = regression.predict(test_x)\n",
    "\n",
    "import sklearn.metrics as sm\n",
    "\n",
    "\n",
    "print(\"Mean absolute error =\", round(sm.mean_absolute_error(test_y, y_test_pred), 2)) \n",
    "print(\"Mean squared error =\", round(sm.mean_squared_error(test_y, y_test_pred), 2)) \n",
    "print(\"Median absolute error =\", round(sm.median_absolute_error(test_y, y_test_pred), 2)) \n",
    "print(\"Explain variance score =\", round(sm.explained_variance_score(test_y, y_test_pred), 2)) \n",
    "print(\"R2 score =\", round(sm.r2_score(test_y, y_test_pred), 2))\n",
    "\n",
    "print(\"Score of Our Linear Regression Model is : \",regression.score(x_values,y_value)*100)\n",
    "\n",
    "print(f\"\\n\\nDescription: \\n\\nNow our data is working accuratly and giving {round(regression.score(x_values,y_value)*100,2)} percent accurate result and \\n\\nModel Accuracy which is measured by R2 score is also approx {round(sm.r2_score(test_y, y_test_pred),2)} percent which is best\")"
   ]
  },
  {
   "cell_type": "markdown",
   "metadata": {
    "id": "G39TyM3mclRf"
   },
   "source": [
    "### Additional metric"
   ]
  },
  {
   "cell_type": "markdown",
   "metadata": {
    "id": "yKzYk6b0smAM"
   },
   "source": [
    "#### - Root Mean Squared Error (RMSE)"
   ]
  },
  {
   "cell_type": "code",
   "execution_count": 73,
   "metadata": {
    "colab": {
     "base_uri": "https://localhost:8080/"
    },
    "id": "LkdHZ_IFb51r",
    "outputId": "2000f7fd-b2e5-4cec-b9fe-9ebc9004c754"
   },
   "outputs": [
    {
     "name": "stdout",
     "output_type": "stream",
     "text": [
      "Root Mean Squared Error (RMSE) =  0.05\n"
     ]
    }
   ],
   "source": [
    "# Calculate RMSE\n",
    "rmse = sm.mean_squared_error(test_y, y_test_pred, squared=False)\n",
    "print(\"Root Mean Squared Error (RMSE) = \", round(rmse, 2))"
   ]
  },
  {
   "cell_type": "markdown",
   "metadata": {
    "id": "9wCqADyGdn5w"
   },
   "source": [
    "### Model Performance"
   ]
  },
  {
   "cell_type": "code",
   "execution_count": 74,
   "metadata": {
    "colab": {
     "base_uri": "https://localhost:8080/",
     "height": 265
    },
    "id": "F5dNkDtv7TSl",
    "outputId": "420a24af-ff24-4f6f-debe-f86864d44d29"
   },
   "outputs": [
    {
     "data": {
      "image/png": "[encoded data removed]",
      "text/plain": [
       "<Figure size 640x480 with 1 Axes>"
      ]
     },
     "metadata": {},
     "output_type": "display_data"
    }
   ],
   "source": [
    "# Checking how well our model performs\n",
    "plt.scatter(test_y, y_test_pred);"
   ]
  },
  {
   "cell_type": "code",
   "execution_count": 75,
   "metadata": {
    "colab": {
     "base_uri": "https://localhost:8080/",
     "height": 280
    },
    "id": "dIH-owH-7zJt",
    "outputId": "77df335f-422b-4b8b-8e02-d5ab5205ee32"
   },
   "outputs": [
    {
     "data": {
      "image/png": "[encoded data removed]",
      "text/plain": [
       "<Figure size 640x480 with 1 Axes>"
      ]
     },
     "metadata": {},
     "output_type": "display_data"
    }
   ],
   "source": [
    "# Residual Histogram \n",
    "\n",
    "sns.distplot((test_y-y_test_pred),bins=50);"
   ]
  },
  {
   "cell_type": "markdown",
   "metadata": {
    "id": "nHnbirmKM9qL"
   },
   "source": [
    "From the two plots above, our model perform very well on the test dataset."
   ]
  },
  {
   "cell_type": "markdown",
   "metadata": {
    "id": "8o2fbwnsxyBk"
   },
   "source": [
    "### Feature Importance\n",
    "Let's look at the weights assigned to different columns, to figure out which columns in the dataset are the most important."
   ]
  },
  {
   "cell_type": "code",
   "execution_count": 76,
   "metadata": {
    "id": "D-SkezF6yfQj"
   },
   "outputs": [],
   "source": [
    "# Define the regression coefficient\n",
    "weights = regression.coef_"
   ]
  },
  {
   "cell_type": "code",
   "execution_count": 77,
   "metadata": {
    "id": "veRm7LW1OmgQ"
   },
   "outputs": [],
   "source": [
    "# create a dataframe to view the weight assigned to each column.\n",
    "\n",
    "weights_df = pd.DataFrame({\n",
    "    'columns': train_x.columns,\n",
    "    'weight': weights\n",
    "}).sort_values('weight', ascending=False)"
   ]
  },
  {
   "cell_type": "code",
   "execution_count": 78,
   "metadata": {
    "colab": {
     "base_uri": "https://localhost:8080/",
     "height": 959
    },
    "id": "Ymiusy1qy8eV",
    "outputId": "19241ec3-833e-4be5-d348-4decdb176832"
   },
   "outputs": [
    {
     "data": {
      "text/html": [
       "<div>\n",
       "<style scoped>\n",
       "    .dataframe tbody tr th:only-of-type {\n",
       "        vertical-align: middle;\n",
       "    }\n",
       "\n",
       "    .dataframe tbody tr th {\n",
       "        vertical-align: top;\n",
       "    }\n",
       "\n",
       "    .dataframe thead th {\n",
       "        text-align: right;\n",
       "    }\n",
       "</style>\n",
       "<table border=\"1\" class=\"dataframe\">\n",
       "  <thead>\n",
       "    <tr style=\"text-align: right;\">\n",
       "      <th></th>\n",
       "      <th>columns</th>\n",
       "      <th>weight</th>\n",
       "    </tr>\n",
       "  </thead>\n",
       "  <tbody>\n",
       "    <tr>\n",
       "      <th>26</th>\n",
       "      <td>race_Ai</td>\n",
       "      <td>2.718156e+10</td>\n",
       "    </tr>\n",
       "    <tr>\n",
       "      <th>29</th>\n",
       "      <td>race_W</td>\n",
       "      <td>2.718156e+10</td>\n",
       "    </tr>\n",
       "    <tr>\n",
       "      <th>27</th>\n",
       "      <td>race_B</td>\n",
       "      <td>2.718156e+10</td>\n",
       "    </tr>\n",
       "    <tr>\n",
       "      <th>28</th>\n",
       "      <td>race_H</td>\n",
       "      <td>2.718156e+10</td>\n",
       "    </tr>\n",
       "    <tr>\n",
       "      <th>25</th>\n",
       "      <td>race_A</td>\n",
       "      <td>2.718156e+10</td>\n",
       "    </tr>\n",
       "    <tr>\n",
       "      <th>11</th>\n",
       "      <td>grad_150_value</td>\n",
       "      <td>8.007619e-01</td>\n",
       "    </tr>\n",
       "    <tr>\n",
       "      <th>10</th>\n",
       "      <td>grad_100_percentile</td>\n",
       "      <td>5.952518e-01</td>\n",
       "    </tr>\n",
       "    <tr>\n",
       "      <th>0</th>\n",
       "      <td>student_count</td>\n",
       "      <td>1.136953e-01</td>\n",
       "    </tr>\n",
       "    <tr>\n",
       "      <th>8</th>\n",
       "      <td>aid_value</td>\n",
       "      <td>1.056083e-01</td>\n",
       "    </tr>\n",
       "    <tr>\n",
       "      <th>4</th>\n",
       "      <td>exp_award_value</td>\n",
       "      <td>8.316023e-02</td>\n",
       "    </tr>\n",
       "    <tr>\n",
       "      <th>16</th>\n",
       "      <td>retain_percentile</td>\n",
       "      <td>5.582587e-02</td>\n",
       "    </tr>\n",
       "    <tr>\n",
       "      <th>1</th>\n",
       "      <td>awards_per_value</td>\n",
       "      <td>4.447680e-02</td>\n",
       "    </tr>\n",
       "    <tr>\n",
       "      <th>7</th>\n",
       "      <td>exp_award_percentile</td>\n",
       "      <td>2.202700e-02</td>\n",
       "    </tr>\n",
       "    <tr>\n",
       "      <th>5</th>\n",
       "      <td>exp_award_state_value</td>\n",
       "      <td>3.266749e-03</td>\n",
       "    </tr>\n",
       "    <tr>\n",
       "      <th>14</th>\n",
       "      <td>pell_percentile</td>\n",
       "      <td>1.741277e-03</td>\n",
       "    </tr>\n",
       "    <tr>\n",
       "      <th>13</th>\n",
       "      <td>pell_value</td>\n",
       "      <td>-1.783195e-02</td>\n",
       "    </tr>\n",
       "    <tr>\n",
       "      <th>9</th>\n",
       "      <td>aid_percentile</td>\n",
       "      <td>-2.353399e-02</td>\n",
       "    </tr>\n",
       "    <tr>\n",
       "      <th>2</th>\n",
       "      <td>awards_per_state_value</td>\n",
       "      <td>-5.109967e-02</td>\n",
       "    </tr>\n",
       "    <tr>\n",
       "      <th>15</th>\n",
       "      <td>retain_value</td>\n",
       "      <td>-6.633015e-02</td>\n",
       "    </tr>\n",
       "    <tr>\n",
       "      <th>17</th>\n",
       "      <td>cohort_size</td>\n",
       "      <td>-8.688183e-02</td>\n",
       "    </tr>\n",
       "    <tr>\n",
       "      <th>3</th>\n",
       "      <td>awards_per_natl_value</td>\n",
       "      <td>-1.249171e-01</td>\n",
       "    </tr>\n",
       "    <tr>\n",
       "      <th>6</th>\n",
       "      <td>exp_award_natl_value</td>\n",
       "      <td>-1.410885e-01</td>\n",
       "    </tr>\n",
       "    <tr>\n",
       "      <th>12</th>\n",
       "      <td>grad_150_percentile</td>\n",
       "      <td>-4.888457e-01</td>\n",
       "    </tr>\n",
       "    <tr>\n",
       "      <th>23</th>\n",
       "      <td>gender_F</td>\n",
       "      <td>-1.398289e+09</td>\n",
       "    </tr>\n",
       "    <tr>\n",
       "      <th>24</th>\n",
       "      <td>gender_M</td>\n",
       "      <td>-1.398289e+09</td>\n",
       "    </tr>\n",
       "    <tr>\n",
       "      <th>19</th>\n",
       "      <td>level_4-year</td>\n",
       "      <td>-6.292664e+09</td>\n",
       "    </tr>\n",
       "    <tr>\n",
       "      <th>18</th>\n",
       "      <td>level_2-year</td>\n",
       "      <td>-6.292664e+09</td>\n",
       "    </tr>\n",
       "    <tr>\n",
       "      <th>21</th>\n",
       "      <td>control_Private not-for-profit</td>\n",
       "      <td>-2.041906e+11</td>\n",
       "    </tr>\n",
       "    <tr>\n",
       "      <th>20</th>\n",
       "      <td>control_Private for-profit</td>\n",
       "      <td>-2.041906e+11</td>\n",
       "    </tr>\n",
       "    <tr>\n",
       "      <th>22</th>\n",
       "      <td>control_Public</td>\n",
       "      <td>-2.041906e+11</td>\n",
       "    </tr>\n",
       "  </tbody>\n",
       "</table>\n",
       "</div>"
      ],
      "text/plain": [
       "                           columns        weight\n",
       "26                         race_Ai  2.718156e+10\n",
       "29                          race_W  2.718156e+10\n",
       "27                          race_B  2.718156e+10\n",
       "28                          race_H  2.718156e+10\n",
       "25                          race_A  2.718156e+10\n",
       "11                  grad_150_value  8.007619e-01\n",
       "10             grad_100_percentile  5.952518e-01\n",
       "0                    student_count  1.136953e-01\n",
       "8                        aid_value  1.056083e-01\n",
       "4                  exp_award_value  8.316023e-02\n",
       "16               retain_percentile  5.582587e-02\n",
       "1                 awards_per_value  4.447680e-02\n",
       "7             exp_award_percentile  2.202700e-02\n",
       "5            exp_award_state_value  3.266749e-03\n",
       "14                 pell_percentile  1.741277e-03\n",
       "13                      pell_value -1.783195e-02\n",
       "9                   aid_percentile -2.353399e-02\n",
       "2           awards_per_state_value -5.109967e-02\n",
       "15                    retain_value -6.633015e-02\n",
       "17                     cohort_size -8.688183e-02\n",
       "3            awards_per_natl_value -1.249171e-01\n",
       "6             exp_award_natl_value -1.410885e-01\n",
       "12             grad_150_percentile -4.888457e-01\n",
       "23                        gender_F -1.398289e+09\n",
       "24                        gender_M -1.398289e+09\n",
       "19                    level_4-year -6.292664e+09\n",
       "18                    level_2-year -6.292664e+09\n",
       "21  control_Private not-for-profit -2.041906e+11\n",
       "20      control_Private for-profit -2.041906e+11\n",
       "22                  control_Public -2.041906e+11"
      ]
     },
     "execution_count": 78,
     "metadata": {},
     "output_type": "execute_result"
    }
   ],
   "source": [
    "weights_df"
   ]
  },
  {
   "cell_type": "markdown",
   "metadata": {
    "id": "Y4PAwb6cz7IG"
   },
   "source": [
    "From the above, we can see that though race and gender does not have much significant in improving the model but the task requires us to use them. The feature grad_150_value has the highest coefficient and it good in predicting the grad_100_value. Let's exclude the last 5 features from the model and check how well the model performs."
   ]
  },
  {
   "cell_type": "code",
   "execution_count": 79,
   "metadata": {
    "id": "yCHAFeNq5vd8"
   },
   "outputs": [],
   "source": [
    "# Columns to exclude \n",
    "columns = ['awards_per_state_value', 'retain_value', 'control_Public',\n",
    "           'exp_award_natl_value', 'grad_150_percentile'\n",
    "]"
   ]
  },
  {
   "cell_type": "code",
   "execution_count": 80,
   "metadata": {
    "id": "Y-BRrBFG70Od"
   },
   "outputs": [],
   "source": [
    "#train_x, test_x, train_y, test_y = train_test_split(x_values, y_value)\n",
    "#train_x, test_x, train_y, test_y = train_test_split(x_values, y_value, test_size = 0.2, random_state=42)\n",
    "x2_values = x_values.drop(columns, axis = 1)"
   ]
  },
  {
   "cell_type": "code",
   "execution_count": 81,
   "metadata": {
    "colab": {
     "base_uri": "https://localhost:8080/",
     "height": 317
    },
    "id": "uwRFhctT5tpY",
    "outputId": "7436c358-14a5-4a02-8f90-59b7df82c2f3"
   },
   "outputs": [
    {
     "data": {
      "text/html": [
       "<div>\n",
       "<style scoped>\n",
       "    .dataframe tbody tr th:only-of-type {\n",
       "        vertical-align: middle;\n",
       "    }\n",
       "\n",
       "    .dataframe tbody tr th {\n",
       "        vertical-align: top;\n",
       "    }\n",
       "\n",
       "    .dataframe thead th {\n",
       "        text-align: right;\n",
       "    }\n",
       "</style>\n",
       "<table border=\"1\" class=\"dataframe\">\n",
       "  <thead>\n",
       "    <tr style=\"text-align: right;\">\n",
       "      <th></th>\n",
       "      <th>student_count</th>\n",
       "      <th>awards_per_value</th>\n",
       "      <th>awards_per_natl_value</th>\n",
       "      <th>exp_award_value</th>\n",
       "      <th>exp_award_state_value</th>\n",
       "      <th>exp_award_percentile</th>\n",
       "      <th>aid_value</th>\n",
       "      <th>aid_percentile</th>\n",
       "      <th>grad_100_percentile</th>\n",
       "      <th>grad_150_value</th>\n",
       "      <th>...</th>\n",
       "      <th>level_4-year</th>\n",
       "      <th>control_Private for-profit</th>\n",
       "      <th>control_Private not-for-profit</th>\n",
       "      <th>gender_F</th>\n",
       "      <th>gender_M</th>\n",
       "      <th>race_A</th>\n",
       "      <th>race_Ai</th>\n",
       "      <th>race_B</th>\n",
       "      <th>race_H</th>\n",
       "      <th>race_W</th>\n",
       "    </tr>\n",
       "  </thead>\n",
       "  <tbody>\n",
       "    <tr>\n",
       "      <th>0</th>\n",
       "      <td>0.023677</td>\n",
       "      <td>0.1049</td>\n",
       "      <td>0.306748</td>\n",
       "      <td>0.019941</td>\n",
       "      <td>0.359141</td>\n",
       "      <td>0.9</td>\n",
       "      <td>0.165867</td>\n",
       "      <td>0.72</td>\n",
       "      <td>0.15</td>\n",
       "      <td>0.291</td>\n",
       "      <td>...</td>\n",
       "      <td>1.0</td>\n",
       "      <td>0.0</td>\n",
       "      <td>0.0</td>\n",
       "      <td>0.0</td>\n",
       "      <td>1.0</td>\n",
       "      <td>0.0</td>\n",
       "      <td>0.0</td>\n",
       "      <td>0.0</td>\n",
       "      <td>0.0</td>\n",
       "      <td>1.0</td>\n",
       "    </tr>\n",
       "    <tr>\n",
       "      <th>1</th>\n",
       "      <td>0.023677</td>\n",
       "      <td>0.1049</td>\n",
       "      <td>0.306748</td>\n",
       "      <td>0.019941</td>\n",
       "      <td>0.359141</td>\n",
       "      <td>0.9</td>\n",
       "      <td>0.165867</td>\n",
       "      <td>0.72</td>\n",
       "      <td>0.15</td>\n",
       "      <td>0.291</td>\n",
       "      <td>...</td>\n",
       "      <td>1.0</td>\n",
       "      <td>0.0</td>\n",
       "      <td>0.0</td>\n",
       "      <td>1.0</td>\n",
       "      <td>0.0</td>\n",
       "      <td>0.0</td>\n",
       "      <td>0.0</td>\n",
       "      <td>0.0</td>\n",
       "      <td>0.0</td>\n",
       "      <td>1.0</td>\n",
       "    </tr>\n",
       "    <tr>\n",
       "      <th>2</th>\n",
       "      <td>0.023677</td>\n",
       "      <td>0.1049</td>\n",
       "      <td>0.306748</td>\n",
       "      <td>0.019941</td>\n",
       "      <td>0.359141</td>\n",
       "      <td>0.9</td>\n",
       "      <td>0.165867</td>\n",
       "      <td>0.72</td>\n",
       "      <td>0.15</td>\n",
       "      <td>0.291</td>\n",
       "      <td>...</td>\n",
       "      <td>1.0</td>\n",
       "      <td>0.0</td>\n",
       "      <td>0.0</td>\n",
       "      <td>0.0</td>\n",
       "      <td>1.0</td>\n",
       "      <td>0.0</td>\n",
       "      <td>0.0</td>\n",
       "      <td>1.0</td>\n",
       "      <td>0.0</td>\n",
       "      <td>0.0</td>\n",
       "    </tr>\n",
       "    <tr>\n",
       "      <th>3</th>\n",
       "      <td>0.023677</td>\n",
       "      <td>0.1049</td>\n",
       "      <td>0.306748</td>\n",
       "      <td>0.019941</td>\n",
       "      <td>0.359141</td>\n",
       "      <td>0.9</td>\n",
       "      <td>0.165867</td>\n",
       "      <td>0.72</td>\n",
       "      <td>0.15</td>\n",
       "      <td>0.291</td>\n",
       "      <td>...</td>\n",
       "      <td>1.0</td>\n",
       "      <td>0.0</td>\n",
       "      <td>0.0</td>\n",
       "      <td>1.0</td>\n",
       "      <td>0.0</td>\n",
       "      <td>0.0</td>\n",
       "      <td>0.0</td>\n",
       "      <td>1.0</td>\n",
       "      <td>0.0</td>\n",
       "      <td>0.0</td>\n",
       "    </tr>\n",
       "    <tr>\n",
       "      <th>4</th>\n",
       "      <td>0.023677</td>\n",
       "      <td>0.1049</td>\n",
       "      <td>0.306748</td>\n",
       "      <td>0.019941</td>\n",
       "      <td>0.359141</td>\n",
       "      <td>0.9</td>\n",
       "      <td>0.165867</td>\n",
       "      <td>0.72</td>\n",
       "      <td>0.15</td>\n",
       "      <td>0.291</td>\n",
       "      <td>...</td>\n",
       "      <td>1.0</td>\n",
       "      <td>0.0</td>\n",
       "      <td>0.0</td>\n",
       "      <td>0.0</td>\n",
       "      <td>1.0</td>\n",
       "      <td>0.0</td>\n",
       "      <td>0.0</td>\n",
       "      <td>0.0</td>\n",
       "      <td>1.0</td>\n",
       "      <td>0.0</td>\n",
       "    </tr>\n",
       "  </tbody>\n",
       "</table>\n",
       "<p>5 rows × 25 columns</p>\n",
       "</div>"
      ],
      "text/plain": [
       "   student_count  awards_per_value  awards_per_natl_value  exp_award_value  \\\n",
       "0       0.023677            0.1049               0.306748         0.019941   \n",
       "1       0.023677            0.1049               0.306748         0.019941   \n",
       "2       0.023677            0.1049               0.306748         0.019941   \n",
       "3       0.023677            0.1049               0.306748         0.019941   \n",
       "4       0.023677            0.1049               0.306748         0.019941   \n",
       "\n",
       "   exp_award_state_value  exp_award_percentile  aid_value  aid_percentile  \\\n",
       "0               0.359141                   0.9   0.165867            0.72   \n",
       "1               0.359141                   0.9   0.165867            0.72   \n",
       "2               0.359141                   0.9   0.165867            0.72   \n",
       "3               0.359141                   0.9   0.165867            0.72   \n",
       "4               0.359141                   0.9   0.165867            0.72   \n",
       "\n",
       "   grad_100_percentile  grad_150_value  ...  level_4-year  \\\n",
       "0                 0.15           0.291  ...           1.0   \n",
       "1                 0.15           0.291  ...           1.0   \n",
       "2                 0.15           0.291  ...           1.0   \n",
       "3                 0.15           0.291  ...           1.0   \n",
       "4                 0.15           0.291  ...           1.0   \n",
       "\n",
       "   control_Private for-profit  control_Private not-for-profit  gender_F  \\\n",
       "0                         0.0                             0.0       0.0   \n",
       "1                         0.0                             0.0       1.0   \n",
       "2                         0.0                             0.0       0.0   \n",
       "3                         0.0                             0.0       1.0   \n",
       "4                         0.0                             0.0       0.0   \n",
       "\n",
       "   gender_M  race_A  race_Ai  race_B  race_H  race_W  \n",
       "0       1.0     0.0      0.0     0.0     0.0     1.0  \n",
       "1       0.0     0.0      0.0     0.0     0.0     1.0  \n",
       "2       1.0     0.0      0.0     1.0     0.0     0.0  \n",
       "3       0.0     0.0      0.0     1.0     0.0     0.0  \n",
       "4       1.0     0.0      0.0     0.0     1.0     0.0  \n",
       "\n",
       "[5 rows x 25 columns]"
      ]
     },
     "execution_count": 81,
     "metadata": {},
     "output_type": "execute_result"
    }
   ],
   "source": [
    "x2_values.head()"
   ]
  },
  {
   "cell_type": "code",
   "execution_count": 82,
   "metadata": {
    "id": "L86bUsI--NK2"
   },
   "outputs": [],
   "source": [
    "#train_x, test_x, train_y, test_y = train_test_split(x2_values, y_value)\n",
    "train_x, test_x, train_y, test_y = train_test_split(x2_values, y_value, test_size = 0.2, random_state=42)"
   ]
  },
  {
   "cell_type": "code",
   "execution_count": 83,
   "metadata": {
    "id": "Rdbp4IYK5ts3"
   },
   "outputs": [],
   "source": [
    "# fit your linear regression model\n",
    "regression2 = LinearRegression().fit(train_x, train_y)"
   ]
  },
  {
   "cell_type": "code",
   "execution_count": 84,
   "metadata": {
    "colab": {
     "base_uri": "https://localhost:8080/"
    },
    "id": "-Y45nl1k5twf",
    "outputId": "363b4348-e01f-4472-b2d6-da74056ddd92"
   },
   "outputs": [
    {
     "data": {
      "text/plain": [
       "0.9281514572932307"
      ]
     },
     "execution_count": 84,
     "metadata": {},
     "output_type": "execute_result"
    }
   ],
   "source": [
    "# Check the performance of the training sets\n",
    "regression2.score(train_x, train_y)"
   ]
  },
  {
   "cell_type": "markdown",
   "metadata": {
    "id": "ptzJbwgw_UoW"
   },
   "source": [
    "Observation: Removing those 5 features decreases the accuracy of our model, this shows that they have a significant impact in the model. "
   ]
  },
  {
   "cell_type": "markdown",
   "metadata": {
    "id": "ZRMhoefQg4eU"
   },
   "source": [
    "### Test For Other Algorithm To Improve Performance"
   ]
  },
  {
   "cell_type": "markdown",
   "metadata": {
    "id": "qI3vpwjYhAn-"
   },
   "source": [
    "#### - Decision Tree Algorithm"
   ]
  },
  {
   "cell_type": "code",
   "execution_count": 85,
   "metadata": {
    "id": "PPM5RSRug_Qy"
   },
   "outputs": [],
   "source": [
    "# Decision Tree Regression\n",
    "from sklearn.tree import DecisionTreeRegressor"
   ]
  },
  {
   "cell_type": "code",
   "execution_count": 86,
   "metadata": {
    "id": "zGtVB_-WhWbV"
   },
   "outputs": [],
   "source": [
    "# Create the decision tree model and fit the model on the training data\n",
    "d_tree = DecisionTreeRegressor(max_depth=5).fit(train_x, train_y)"
   ]
  },
  {
   "cell_type": "code",
   "execution_count": 87,
   "metadata": {
    "colab": {
     "base_uri": "https://localhost:8080/"
    },
    "id": "WOCvr2qoig7z",
    "outputId": "f0946921-0647-4894-a0ee-196788f819c1"
   },
   "outputs": [
    {
     "data": {
      "text/plain": [
       "0.9612720434238822"
      ]
     },
     "execution_count": 87,
     "metadata": {},
     "output_type": "execute_result"
    }
   ],
   "source": [
    "# Check the performance of the training sets\n",
    "d_tree.score(train_x, train_y)"
   ]
  },
  {
   "cell_type": "code",
   "execution_count": 88,
   "metadata": {
    "id": "VEvY8boyjFgm"
   },
   "outputs": [],
   "source": [
    "# Make predictions on the test data\n",
    "y_test_pred1 = d_tree.predict(test_x)"
   ]
  },
  {
   "cell_type": "code",
   "execution_count": 89,
   "metadata": {
    "colab": {
     "base_uri": "https://localhost:8080/"
    },
    "id": "IHpEUgKujhFh",
    "outputId": "486b16fd-1054-429e-876b-a160c69ab028"
   },
   "outputs": [
    {
     "name": "stdout",
     "output_type": "stream",
     "text": [
      "Decision Tree Mean absolute error = 0.03\n",
      "Decision Tree Mean squared error = 0.0\n",
      "Decision Tree Median absolute error = 0.03\n",
      "Decision Tree Explain variance score = 0.96\n",
      "Decision Tree R2 score = 0.96\n",
      "Decision Tree Root Mean Squared Error (RMSE) =  0.05\n"
     ]
    }
   ],
   "source": [
    "# Check the model performance\n",
    "\n",
    "print(\"Decision Tree Mean absolute error =\", round(sm.mean_absolute_error(test_y, y_test_pred1), 2)) \n",
    "print(\"Decision Tree Mean squared error =\", round(sm.mean_squared_error(test_y, y_test_pred1), 2)) \n",
    "print(\"Decision Tree Median absolute error =\", round(sm.median_absolute_error(test_y, y_test_pred1), 2)) \n",
    "print(\"Decision Tree Explain variance score =\", round(sm.explained_variance_score(test_y, y_test_pred1), 2)) \n",
    "print(\"Decision Tree R2 score =\", round(sm.r2_score(test_y, y_test_pred1), 2))\n",
    "print(\"Decision Tree Root Mean Squared Error (RMSE) = \", round(sm.mean_squared_error(test_y, y_test_pred1, squared=False), 2))"
   ]
  },
  {
   "cell_type": "markdown",
   "metadata": {
    "id": "e_yjkdJSksz0"
   },
   "source": [
    "From above, our decision tree model performs better than the linear regression model."
   ]
  },
  {
   "cell_type": "markdown",
   "metadata": {
    "id": "nq_13OUSk8K7"
   },
   "source": [
    "#### - Random Forest Regression Model"
   ]
  },
  {
   "cell_type": "code",
   "execution_count": 90,
   "metadata": {
    "id": "G7mWfA_tkqMH"
   },
   "outputs": [],
   "source": [
    "# Random Forest Regression\n",
    "from sklearn.ensemble import RandomForestRegressor\n",
    "\n",
    "# Create the random forest model and fit the model\n",
    "r_forest = RandomForestRegressor(n_estimators=100, max_depth=5).fit(train_x, train_y)"
   ]
  },
  {
   "cell_type": "code",
   "execution_count": 91,
   "metadata": {
    "colab": {
     "base_uri": "https://localhost:8080/"
    },
    "id": "-WW7fJ-glhCB",
    "outputId": "88d793c5-cb58-4477-bb0e-fab3a4ca901a"
   },
   "outputs": [
    {
     "data": {
      "text/plain": [
       "0.9671671782474679"
      ]
     },
     "execution_count": 91,
     "metadata": {},
     "output_type": "execute_result"
    }
   ],
   "source": [
    "# Check the performance of the training sets\n",
    "r_forest.score(train_x, train_y)"
   ]
  },
  {
   "cell_type": "code",
   "execution_count": 92,
   "metadata": {
    "id": "Fbcus7fAlhM4"
   },
   "outputs": [],
   "source": [
    "# Make predictions on the test data\n",
    "y_test_pred2 = r_forest.predict(test_x)"
   ]
  },
  {
   "cell_type": "code",
   "execution_count": 93,
   "metadata": {
    "colab": {
     "base_uri": "https://localhost:8080/"
    },
    "id": "ub46_DHxl3Fv",
    "outputId": "68a20e13-8405-4f25-ae03-e3967b4bad46"
   },
   "outputs": [
    {
     "name": "stdout",
     "output_type": "stream",
     "text": [
      "Decision Tree Mean absolute error = 0.03\n",
      "Decision Tree Mean squared error = 0.0\n",
      "Decision Tree Median absolute error = 0.02\n",
      "Decision Tree Explain variance score = 0.97\n",
      "Decision Tree R2 score = 0.97\n",
      "Decision Tree Root Mean Squared Error (RMSE) =  0.04\n"
     ]
    }
   ],
   "source": [
    "# Check the model performance\n",
    "\n",
    "print(\"Decision Tree Mean absolute error =\", round(sm.mean_absolute_error(test_y, y_test_pred2), 2)) \n",
    "print(\"Decision Tree Mean squared error =\", round(sm.mean_squared_error(test_y, y_test_pred2), 2)) \n",
    "print(\"Decision Tree Median absolute error =\", round(sm.median_absolute_error(test_y, y_test_pred2), 2)) \n",
    "print(\"Decision Tree Explain variance score =\", round(sm.explained_variance_score(test_y, y_test_pred2), 2)) \n",
    "print(\"Decision Tree R2 score =\", round(sm.r2_score(test_y, y_test_pred2), 2))\n",
    "print(\"Decision Tree Root Mean Squared Error (RMSE) = \", round(sm.mean_squared_error(test_y, y_test_pred2, squared=False), 2))"
   ]
  },
  {
   "cell_type": "markdown",
   "metadata": {
    "id": "e_fJ7M0F_rd2"
   },
   "source": [
    "Finally, using Random Forest and Decision tree have a better performance than the linear regression model. "
   ]
  },
  {
   "cell_type": "markdown",
   "metadata": {
    "id": "3WuYjJ306uS2"
   },
   "source": []
  }
 ],
 "metadata": {
  "colab": {
   "provenance": []
  },
  "kernelspec": {
   "display_name": "Python 3 (ipykernel)",
   "language": "python",
   "name": "python3"
  },
  "language_info": {
   "codemirror_mode": {
    "name": "ipython",
    "version": 3
   },
   "file_extension": ".py",
   "mimetype": "text/x-python",
   "name": "python",
   "nbconvert_exporter": "python",
   "pygments_lexer": "ipython3",
   "version": "3.8.13"
  }
 },
 "nbformat": 4,
 "nbformat_minor": 1
}
